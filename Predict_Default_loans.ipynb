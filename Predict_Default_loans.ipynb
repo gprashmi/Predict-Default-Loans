{
 "cells": [
  {
   "cell_type": "markdown",
   "metadata": {
    "colab_type": "text",
    "id": "c5_uDcNL2Npv"
   },
   "source": [
    "## **Predict Default Loans**\n",
    "\n",
    "Credit Lending aims to determine the credit risk and the status of the loans approved. The dataset used for this project is taken from Lending Club and consists of 52 features and around 42K instances spaaning over 5 years from 2007-2011. The target feature is Loan Status which describes if the loan has been fully paid/current, charged off/defaulted.\n",
    "\n",
    "This notebook covers three different algorithms to predict which loans are the charged off or fully paid. The following sections are covered in this notebook:\n",
    "\n",
    "1. Import necessary libraries and study the data to drop unnecessary features.\n",
    "2. Data Preprocessing\n",
    "3. Data cleaning\n",
    "4. Convert categorical to numerical variables using Pandas get_dummies and LabelConder\n",
    "5. Normalize the features\n",
    "6. Feature selection using SelectFromModel \n",
    "7. Metric functions to evaluate the model performance for:\n",
    "      1. Random Forest\n",
    "      2. XGBoost with GPU and SMOTE\n",
    "      3. XGBoost with weighted model\n",
    "      4. Neural Network using Pytorch and CUDA \n",
    "8. OverSampling: Sampling to balance the data using SMOTE after train-test split\n",
    "9. Weighted Model: Apply the algorithms by defining weights to the target classes\n",
    "10. Undersampling: Perfor undersample on the data and model the algorithms\n",
    "11. Conclusion and Reference\n",
    "\n",
    "\n"
   ]
  },
  {
   "cell_type": "markdown",
   "metadata": {
    "colab_type": "text",
    "id": "9e6gwiA03wS9"
   },
   "source": [
    "**1. Import the libraries**"
   ]
  },
  {
   "cell_type": "code",
   "execution_count": 1,
   "metadata": {
    "colab": {
     "base_uri": "https://localhost:8080/",
     "height": 139
    },
    "colab_type": "code",
    "id": "abnsNYDFl0QW",
    "outputId": "1ec6e4a8-10b2-454a-c303-1869ca9067b2"
   },
   "outputs": [
    {
     "name": "stderr",
     "output_type": "stream",
     "text": [
      "Using TensorFlow backend.\n"
     ]
    }
   ],
   "source": [
    "import pandas as pd\n",
    "import numpy as np\n",
    "import matplotlib.pyplot as plt\n",
    "import seaborn as sns\n",
    "from sklearn.preprocessing import LabelEncoder, StandardScaler\n",
    "from sklearn.feature_selection import chi2, SelectFromModel\n",
    "from sklearn.model_selection import GridSearchCV\n",
    "from sklearn.utils import class_weight\n",
    "from sklearn.metrics import confusion_matrix, classification_report, accuracy_score, roc_curve, auc, roc_auc_score\n",
    "from sklearn.ensemble import RandomForestClassifier, ExtraTreesClassifier\n",
    "from sklearn.model_selection import train_test_split\n",
    "from imblearn.over_sampling import SMOTE\n",
    "from sklearn.utils import resample\n",
    "from xgboost import XGBClassifier\n",
    "import xgboost as xgb\n",
    "import torch\n",
    "from torch import nn, optim\n",
    "import torch.nn.functional as F\n",
    "from torchvision import transforms, utils\n",
    "from torch.utils.data import Dataset, DataLoader\n",
    "\n",
    "import warnings\n",
    "warnings.filterwarnings(\"ignore\")"
   ]
  },
  {
   "cell_type": "markdown",
   "metadata": {
    "colab_type": "text",
    "id": "0QU5pqEv3z_T"
   },
   "source": [
    "Read the data"
   ]
  },
  {
   "cell_type": "code",
   "execution_count": 2,
   "metadata": {
    "colab": {},
    "colab_type": "code",
    "id": "2IWPTphDl15W"
   },
   "outputs": [],
   "source": [
    "loan = pd.read_csv(\"loans_data.csv\", skipinitialspace = True)"
   ]
  },
  {
   "cell_type": "code",
   "execution_count": 3,
   "metadata": {
    "colab": {
     "base_uri": "https://localhost:8080/",
     "height": 360
    },
    "colab_type": "code",
    "id": "7ePdBz8drrkt",
    "outputId": "82ffe995-65a3-40e2-85bd-3e67e58fffc3"
   },
   "outputs": [
    {
     "data": {
      "text/html": [
       "<div>\n",
       "<style scoped>\n",
       "    .dataframe tbody tr th:only-of-type {\n",
       "        vertical-align: middle;\n",
       "    }\n",
       "\n",
       "    .dataframe tbody tr th {\n",
       "        vertical-align: top;\n",
       "    }\n",
       "\n",
       "    .dataframe thead th {\n",
       "        text-align: right;\n",
       "    }\n",
       "</style>\n",
       "<table border=\"1\" class=\"dataframe\">\n",
       "  <thead>\n",
       "    <tr style=\"text-align: right;\">\n",
       "      <th></th>\n",
       "      <th>id</th>\n",
       "      <th>member_id</th>\n",
       "      <th>loan_amnt</th>\n",
       "      <th>funded_amnt</th>\n",
       "      <th>funded_amnt_inv</th>\n",
       "      <th>term</th>\n",
       "      <th>int_rate</th>\n",
       "      <th>installment</th>\n",
       "      <th>grade</th>\n",
       "      <th>sub_grade</th>\n",
       "      <th>emp_title</th>\n",
       "      <th>emp_length</th>\n",
       "      <th>home_ownership</th>\n",
       "      <th>annual_inc</th>\n",
       "      <th>verification_status</th>\n",
       "      <th>issue_d</th>\n",
       "      <th>loan_status</th>\n",
       "      <th>pymnt_plan</th>\n",
       "      <th>purpose</th>\n",
       "      <th>title</th>\n",
       "      <th>zip_code</th>\n",
       "      <th>addr_state</th>\n",
       "      <th>dti</th>\n",
       "      <th>delinq_2yrs</th>\n",
       "      <th>earliest_cr_line</th>\n",
       "      <th>inq_last_6mths</th>\n",
       "      <th>open_acc</th>\n",
       "      <th>pub_rec</th>\n",
       "      <th>revol_bal</th>\n",
       "      <th>revol_util</th>\n",
       "      <th>total_acc</th>\n",
       "      <th>initial_list_status</th>\n",
       "      <th>out_prncp</th>\n",
       "      <th>out_prncp_inv</th>\n",
       "      <th>total_pymnt</th>\n",
       "      <th>total_pymnt_inv</th>\n",
       "      <th>total_rec_prncp</th>\n",
       "      <th>total_rec_int</th>\n",
       "      <th>total_rec_late_fee</th>\n",
       "      <th>recoveries</th>\n",
       "      <th>collection_recovery_fee</th>\n",
       "      <th>last_pymnt_d</th>\n",
       "      <th>last_pymnt_amnt</th>\n",
       "      <th>last_credit_pull_d</th>\n",
       "      <th>collections_12_mths_ex_med</th>\n",
       "      <th>policy_code</th>\n",
       "      <th>application_type</th>\n",
       "      <th>acc_now_delinq</th>\n",
       "      <th>chargeoff_within_12_mths</th>\n",
       "      <th>delinq_amnt</th>\n",
       "      <th>pub_rec_bankruptcies</th>\n",
       "      <th>tax_liens</th>\n",
       "    </tr>\n",
       "  </thead>\n",
       "  <tbody>\n",
       "    <tr>\n",
       "      <th>0</th>\n",
       "      <td>1077501</td>\n",
       "      <td>1296599.0</td>\n",
       "      <td>5000.0</td>\n",
       "      <td>5000.0</td>\n",
       "      <td>4975.0</td>\n",
       "      <td>36 months</td>\n",
       "      <td>10.65%</td>\n",
       "      <td>162.87</td>\n",
       "      <td>B</td>\n",
       "      <td>B2</td>\n",
       "      <td>NaN</td>\n",
       "      <td>10+ years</td>\n",
       "      <td>RENT</td>\n",
       "      <td>24000.0</td>\n",
       "      <td>Verified</td>\n",
       "      <td>Dec-2011</td>\n",
       "      <td>Fully Paid</td>\n",
       "      <td>n</td>\n",
       "      <td>credit_card</td>\n",
       "      <td>Computer</td>\n",
       "      <td>860xx</td>\n",
       "      <td>AZ</td>\n",
       "      <td>27.65</td>\n",
       "      <td>0.0</td>\n",
       "      <td>Jan-1985</td>\n",
       "      <td>1.0</td>\n",
       "      <td>3.0</td>\n",
       "      <td>0.0</td>\n",
       "      <td>13648.0</td>\n",
       "      <td>83.7%</td>\n",
       "      <td>9.0</td>\n",
       "      <td>f</td>\n",
       "      <td>0.00</td>\n",
       "      <td>0.00</td>\n",
       "      <td>5863.155187</td>\n",
       "      <td>5833.84</td>\n",
       "      <td>5000.00</td>\n",
       "      <td>863.16</td>\n",
       "      <td>0.00</td>\n",
       "      <td>0.00</td>\n",
       "      <td>0.00</td>\n",
       "      <td>Jan-2015</td>\n",
       "      <td>171.62</td>\n",
       "      <td>Jun-2016</td>\n",
       "      <td>0.0</td>\n",
       "      <td>1.0</td>\n",
       "      <td>INDIVIDUAL</td>\n",
       "      <td>0.0</td>\n",
       "      <td>0.0</td>\n",
       "      <td>0.0</td>\n",
       "      <td>0.0</td>\n",
       "      <td>0.0</td>\n",
       "    </tr>\n",
       "    <tr>\n",
       "      <th>1</th>\n",
       "      <td>1077430</td>\n",
       "      <td>1314167.0</td>\n",
       "      <td>2500.0</td>\n",
       "      <td>2500.0</td>\n",
       "      <td>2500.0</td>\n",
       "      <td>60 months</td>\n",
       "      <td>15.27%</td>\n",
       "      <td>59.83</td>\n",
       "      <td>C</td>\n",
       "      <td>C4</td>\n",
       "      <td>Ryder</td>\n",
       "      <td>&lt; 1 year</td>\n",
       "      <td>RENT</td>\n",
       "      <td>30000.0</td>\n",
       "      <td>Source Verified</td>\n",
       "      <td>Dec-2011</td>\n",
       "      <td>Charged Off</td>\n",
       "      <td>n</td>\n",
       "      <td>car</td>\n",
       "      <td>bike</td>\n",
       "      <td>309xx</td>\n",
       "      <td>GA</td>\n",
       "      <td>1.00</td>\n",
       "      <td>0.0</td>\n",
       "      <td>Apr-1999</td>\n",
       "      <td>5.0</td>\n",
       "      <td>3.0</td>\n",
       "      <td>0.0</td>\n",
       "      <td>1687.0</td>\n",
       "      <td>9.4%</td>\n",
       "      <td>4.0</td>\n",
       "      <td>f</td>\n",
       "      <td>0.00</td>\n",
       "      <td>0.00</td>\n",
       "      <td>1008.710000</td>\n",
       "      <td>1008.71</td>\n",
       "      <td>456.46</td>\n",
       "      <td>435.17</td>\n",
       "      <td>0.00</td>\n",
       "      <td>117.08</td>\n",
       "      <td>1.11</td>\n",
       "      <td>Apr-2013</td>\n",
       "      <td>119.66</td>\n",
       "      <td>Sep-2013</td>\n",
       "      <td>0.0</td>\n",
       "      <td>1.0</td>\n",
       "      <td>INDIVIDUAL</td>\n",
       "      <td>0.0</td>\n",
       "      <td>0.0</td>\n",
       "      <td>0.0</td>\n",
       "      <td>0.0</td>\n",
       "      <td>0.0</td>\n",
       "    </tr>\n",
       "    <tr>\n",
       "      <th>2</th>\n",
       "      <td>1077175</td>\n",
       "      <td>1313524.0</td>\n",
       "      <td>2400.0</td>\n",
       "      <td>2400.0</td>\n",
       "      <td>2400.0</td>\n",
       "      <td>36 months</td>\n",
       "      <td>15.96%</td>\n",
       "      <td>84.33</td>\n",
       "      <td>C</td>\n",
       "      <td>C5</td>\n",
       "      <td>NaN</td>\n",
       "      <td>10+ years</td>\n",
       "      <td>RENT</td>\n",
       "      <td>12252.0</td>\n",
       "      <td>Not Verified</td>\n",
       "      <td>Dec-2011</td>\n",
       "      <td>Fully Paid</td>\n",
       "      <td>n</td>\n",
       "      <td>small_business</td>\n",
       "      <td>real estate business</td>\n",
       "      <td>606xx</td>\n",
       "      <td>IL</td>\n",
       "      <td>8.72</td>\n",
       "      <td>0.0</td>\n",
       "      <td>Nov-2001</td>\n",
       "      <td>2.0</td>\n",
       "      <td>2.0</td>\n",
       "      <td>0.0</td>\n",
       "      <td>2956.0</td>\n",
       "      <td>98.5%</td>\n",
       "      <td>10.0</td>\n",
       "      <td>f</td>\n",
       "      <td>0.00</td>\n",
       "      <td>0.00</td>\n",
       "      <td>3005.666844</td>\n",
       "      <td>3005.67</td>\n",
       "      <td>2400.00</td>\n",
       "      <td>605.67</td>\n",
       "      <td>0.00</td>\n",
       "      <td>0.00</td>\n",
       "      <td>0.00</td>\n",
       "      <td>Jun-2014</td>\n",
       "      <td>649.91</td>\n",
       "      <td>Jun-2016</td>\n",
       "      <td>0.0</td>\n",
       "      <td>1.0</td>\n",
       "      <td>INDIVIDUAL</td>\n",
       "      <td>0.0</td>\n",
       "      <td>0.0</td>\n",
       "      <td>0.0</td>\n",
       "      <td>0.0</td>\n",
       "      <td>0.0</td>\n",
       "    </tr>\n",
       "    <tr>\n",
       "      <th>3</th>\n",
       "      <td>1076863</td>\n",
       "      <td>1277178.0</td>\n",
       "      <td>10000.0</td>\n",
       "      <td>10000.0</td>\n",
       "      <td>10000.0</td>\n",
       "      <td>36 months</td>\n",
       "      <td>13.49%</td>\n",
       "      <td>339.31</td>\n",
       "      <td>C</td>\n",
       "      <td>C1</td>\n",
       "      <td>AIR RESOURCES BOARD</td>\n",
       "      <td>10+ years</td>\n",
       "      <td>RENT</td>\n",
       "      <td>49200.0</td>\n",
       "      <td>Source Verified</td>\n",
       "      <td>Dec-2011</td>\n",
       "      <td>Fully Paid</td>\n",
       "      <td>n</td>\n",
       "      <td>other</td>\n",
       "      <td>personel</td>\n",
       "      <td>917xx</td>\n",
       "      <td>CA</td>\n",
       "      <td>20.00</td>\n",
       "      <td>0.0</td>\n",
       "      <td>Feb-1996</td>\n",
       "      <td>1.0</td>\n",
       "      <td>10.0</td>\n",
       "      <td>0.0</td>\n",
       "      <td>5598.0</td>\n",
       "      <td>21%</td>\n",
       "      <td>37.0</td>\n",
       "      <td>f</td>\n",
       "      <td>0.00</td>\n",
       "      <td>0.00</td>\n",
       "      <td>12231.890000</td>\n",
       "      <td>12231.89</td>\n",
       "      <td>10000.00</td>\n",
       "      <td>2214.92</td>\n",
       "      <td>16.97</td>\n",
       "      <td>0.00</td>\n",
       "      <td>0.00</td>\n",
       "      <td>Jan-2015</td>\n",
       "      <td>357.48</td>\n",
       "      <td>Apr-2016</td>\n",
       "      <td>0.0</td>\n",
       "      <td>1.0</td>\n",
       "      <td>INDIVIDUAL</td>\n",
       "      <td>0.0</td>\n",
       "      <td>0.0</td>\n",
       "      <td>0.0</td>\n",
       "      <td>0.0</td>\n",
       "      <td>0.0</td>\n",
       "    </tr>\n",
       "    <tr>\n",
       "      <th>4</th>\n",
       "      <td>1075358</td>\n",
       "      <td>1311748.0</td>\n",
       "      <td>3000.0</td>\n",
       "      <td>3000.0</td>\n",
       "      <td>3000.0</td>\n",
       "      <td>60 months</td>\n",
       "      <td>12.69%</td>\n",
       "      <td>67.79</td>\n",
       "      <td>B</td>\n",
       "      <td>B5</td>\n",
       "      <td>University Medical Group</td>\n",
       "      <td>1 year</td>\n",
       "      <td>RENT</td>\n",
       "      <td>80000.0</td>\n",
       "      <td>Source Verified</td>\n",
       "      <td>Dec-2011</td>\n",
       "      <td>Current</td>\n",
       "      <td>n</td>\n",
       "      <td>other</td>\n",
       "      <td>Personal</td>\n",
       "      <td>972xx</td>\n",
       "      <td>OR</td>\n",
       "      <td>17.94</td>\n",
       "      <td>0.0</td>\n",
       "      <td>Jan-1996</td>\n",
       "      <td>0.0</td>\n",
       "      <td>15.0</td>\n",
       "      <td>0.0</td>\n",
       "      <td>27783.0</td>\n",
       "      <td>53.9%</td>\n",
       "      <td>38.0</td>\n",
       "      <td>f</td>\n",
       "      <td>461.73</td>\n",
       "      <td>461.73</td>\n",
       "      <td>3581.120000</td>\n",
       "      <td>3581.12</td>\n",
       "      <td>2538.27</td>\n",
       "      <td>1042.85</td>\n",
       "      <td>0.00</td>\n",
       "      <td>0.00</td>\n",
       "      <td>0.00</td>\n",
       "      <td>Jun-2016</td>\n",
       "      <td>67.79</td>\n",
       "      <td>Jun-2016</td>\n",
       "      <td>0.0</td>\n",
       "      <td>1.0</td>\n",
       "      <td>INDIVIDUAL</td>\n",
       "      <td>0.0</td>\n",
       "      <td>0.0</td>\n",
       "      <td>0.0</td>\n",
       "      <td>0.0</td>\n",
       "      <td>0.0</td>\n",
       "    </tr>\n",
       "  </tbody>\n",
       "</table>\n",
       "</div>"
      ],
      "text/plain": [
       "        id  member_id  loan_amnt  ...  delinq_amnt  pub_rec_bankruptcies tax_liens\n",
       "0  1077501  1296599.0     5000.0  ...          0.0                   0.0       0.0\n",
       "1  1077430  1314167.0     2500.0  ...          0.0                   0.0       0.0\n",
       "2  1077175  1313524.0     2400.0  ...          0.0                   0.0       0.0\n",
       "3  1076863  1277178.0    10000.0  ...          0.0                   0.0       0.0\n",
       "4  1075358  1311748.0     3000.0  ...          0.0                   0.0       0.0\n",
       "\n",
       "[5 rows x 52 columns]"
      ]
     },
     "execution_count": 3,
     "metadata": {
      "tags": []
     },
     "output_type": "execute_result"
    }
   ],
   "source": [
    "#print the first 5 rows of the data\n",
    "loan.head()"
   ]
  },
  {
   "cell_type": "markdown",
   "metadata": {
    "colab_type": "text",
    "id": "u0W6R3xn37NL"
   },
   "source": [
    "**2. Data Preprocesing**\n",
    "\n",
    "This section focuses on:\n",
    "1. Removing unnecessary features\n",
    "2. Pre-processing the numerical features to interger form\n"
   ]
  },
  {
   "cell_type": "markdown",
   "metadata": {
    "colab_type": "text",
    "id": "VCZNMOpTOfVD"
   },
   "source": [
    "\n",
    "**2.1 Removing unnecessary features**\n",
    "\n",
    "The following feature values are printed to see if the feature is be dropped or retained:\n",
    "1. initial_list_status\n",
    "2. out_prncp\n",
    "3. total_pymnt_inv\n",
    "4. application_type \n",
    "5. acc_now_delinq\n",
    "6. delinq_amnt"
   ]
  },
  {
   "cell_type": "code",
   "execution_count": 4,
   "metadata": {
    "colab": {
     "base_uri": "https://localhost:8080/",
     "height": 255
    },
    "colab_type": "code",
    "id": "9-KAxEiqS5hC",
    "outputId": "965e3fe2-398e-4285-d654-814031352162"
   },
   "outputs": [
    {
     "data": {
      "text/plain": [
       "Index(['id', 'member_id', 'loan_amnt', 'funded_amnt', 'funded_amnt_inv',\n",
       "       'term', 'int_rate', 'installment', 'grade', 'sub_grade', 'emp_title',\n",
       "       'emp_length', 'home_ownership', 'annual_inc', 'verification_status',\n",
       "       'issue_d', 'loan_status', 'pymnt_plan', 'purpose', 'title', 'zip_code',\n",
       "       'addr_state', 'dti', 'delinq_2yrs', 'earliest_cr_line',\n",
       "       'inq_last_6mths', 'open_acc', 'pub_rec', 'revol_bal', 'revol_util',\n",
       "       'total_acc', 'initial_list_status', 'out_prncp', 'out_prncp_inv',\n",
       "       'total_pymnt', 'total_pymnt_inv', 'total_rec_prncp', 'total_rec_int',\n",
       "       'total_rec_late_fee', 'recoveries', 'collection_recovery_fee',\n",
       "       'last_pymnt_d', 'last_pymnt_amnt', 'last_credit_pull_d',\n",
       "       'collections_12_mths_ex_med', 'policy_code', 'application_type',\n",
       "       'acc_now_delinq', 'chargeoff_within_12_mths', 'delinq_amnt',\n",
       "       'pub_rec_bankruptcies', 'tax_liens'],\n",
       "      dtype='object')"
      ]
     },
     "execution_count": 4,
     "metadata": {
      "tags": []
     },
     "output_type": "execute_result"
    }
   ],
   "source": [
    "#check the columns of the data\n",
    "loan.columns"
   ]
  },
  {
   "cell_type": "markdown",
   "metadata": {
    "colab_type": "text",
    "id": "tsbDZmqH45Lw"
   },
   "source": [
    "From the above loan columns, the following columns are removed after examing their values and value_counts:\n",
    "1. id, member_id are ID specific and do not affect the loan status\n",
    "2. funded_amnt, funded_amnt_inv are columns whihc might not be avaliable at the time loan was approved/denied\n",
    "3. emp_title, zip_code, addr_state, issue_d, sub_grade,collection_recovery_fee,last_pymnt_d, title, acc_now_delinq, out_prncp,out_prncp_inv, total_pymnt_inv, chargeoff_within_12_mths, collections_12_mths_ex_med, pymnt_plan are dropped as  they does not affect the loan status\n",
    "4. application_type, initial_list_status, delinq_amnt, policy_code have a single value for all instances and these columns can be dropped too"
   ]
  },
  {
   "cell_type": "code",
   "execution_count": 5,
   "metadata": {
    "colab": {
     "base_uri": "https://localhost:8080/",
     "height": 221
    },
    "colab_type": "code",
    "id": "-ZMD2Y584jvT",
    "outputId": "0aaef061-3516-4745-b3f2-de0eb41f0ca2"
   },
   "outputs": [
    {
     "data": {
      "text/plain": [
       "0.00       41519\n",
       "385.49         2\n",
       "364.56         2\n",
       "3071.21        2\n",
       "1490.68        2\n",
       "           ...  \n",
       "584.28         1\n",
       "1799.30        1\n",
       "868.51         1\n",
       "1538.42        1\n",
       "537.63         1\n",
       "Name: out_prncp, Length: 1013, dtype: int64"
      ]
     },
     "execution_count": 5,
     "metadata": {
      "tags": []
     },
     "output_type": "execute_result"
    }
   ],
   "source": [
    "loan[\"out_prncp\"].value_counts() "
   ]
  },
  {
   "cell_type": "code",
   "execution_count": 6,
   "metadata": {
    "colab": {
     "base_uri": "https://localhost:8080/",
     "height": 221
    },
    "colab_type": "code",
    "id": "xDl8OfEP4p3g",
    "outputId": "31f2dd58-74a5-448d-b512-d75ba476b539"
   },
   "outputs": [
    {
     "data": {
      "text/plain": [
       "0.00        299\n",
       "6514.52      16\n",
       "5478.39      14\n",
       "13148.14     14\n",
       "6717.95      12\n",
       "           ... \n",
       "2533.78       1\n",
       "7479.87       1\n",
       "27434.77      1\n",
       "25429.23      1\n",
       "1953.78       1\n",
       "Name: total_pymnt_inv, Length: 40128, dtype: int64"
      ]
     },
     "execution_count": 6,
     "metadata": {
      "tags": []
     },
     "output_type": "execute_result"
    }
   ],
   "source": [
    "loan[\"total_pymnt_inv\"].value_counts()"
   ]
  },
  {
   "cell_type": "code",
   "execution_count": 7,
   "metadata": {
    "colab": {
     "base_uri": "https://localhost:8080/",
     "height": 51
    },
    "colab_type": "code",
    "id": "kXk5NKmq4sm4",
    "outputId": "8850d95a-275d-44b5-8940-ef965659bd26"
   },
   "outputs": [
    {
     "data": {
      "text/plain": [
       "INDIVIDUAL    42535\n",
       "Name: application_type, dtype: int64"
      ]
     },
     "execution_count": 7,
     "metadata": {
      "tags": []
     },
     "output_type": "execute_result"
    }
   ],
   "source": [
    "loan[\"application_type\"].value_counts()"
   ]
  },
  {
   "cell_type": "code",
   "execution_count": 8,
   "metadata": {
    "colab": {
     "base_uri": "https://localhost:8080/",
     "height": 68
    },
    "colab_type": "code",
    "id": "li6ouWjF4uyZ",
    "outputId": "e7b43ec1-6e33-437c-e0bf-f64d0130129f"
   },
   "outputs": [
    {
     "data": {
      "text/plain": [
       "0.0    42502\n",
       "1.0        4\n",
       "Name: acc_now_delinq, dtype: int64"
      ]
     },
     "execution_count": 8,
     "metadata": {
      "tags": []
     },
     "output_type": "execute_result"
    }
   ],
   "source": [
    "loan[\"acc_now_delinq\"].value_counts()"
   ]
  },
  {
   "cell_type": "code",
   "execution_count": 9,
   "metadata": {
    "colab": {
     "base_uri": "https://localhost:8080/",
     "height": 51
    },
    "colab_type": "code",
    "id": "jmoGJ2ajvqDJ",
    "outputId": "f12195f6-e0c1-4bab-e946-e12559c0584e"
   },
   "outputs": [
    {
     "data": {
      "text/plain": [
       "f    42535\n",
       "Name: initial_list_status, dtype: int64"
      ]
     },
     "execution_count": 9,
     "metadata": {
      "tags": []
     },
     "output_type": "execute_result"
    }
   ],
   "source": [
    "loan[\"initial_list_status\"].value_counts()"
   ]
  },
  {
   "cell_type": "code",
   "execution_count": 10,
   "metadata": {
    "colab": {
     "base_uri": "https://localhost:8080/",
     "height": 85
    },
    "colab_type": "code",
    "id": "DpDYnH_MUumq",
    "outputId": "acd6a77d-9073-4901-cce0-6d6bb9188cc7"
   },
   "outputs": [
    {
     "data": {
      "text/plain": [
       "0.0       42504\n",
       "6053.0        1\n",
       "27.0          1\n",
       "Name: delinq_amnt, dtype: int64"
      ]
     },
     "execution_count": 10,
     "metadata": {
      "tags": []
     },
     "output_type": "execute_result"
    }
   ],
   "source": [
    "loan[\"delinq_amnt\"].value_counts()"
   ]
  },
  {
   "cell_type": "code",
   "execution_count": 11,
   "metadata": {
    "colab": {
     "base_uri": "https://localhost:8080/",
     "height": 51
    },
    "colab_type": "code",
    "id": "q3iIyBCc54mq",
    "outputId": "72a025ec-ad4e-4550-83b7-64decb86c940"
   },
   "outputs": [
    {
     "data": {
      "text/plain": [
       "1.0    42535\n",
       "Name: policy_code, dtype: int64"
      ]
     },
     "execution_count": 11,
     "metadata": {
      "tags": []
     },
     "output_type": "execute_result"
    }
   ],
   "source": [
    "loan[\"policy_code\"].value_counts()"
   ]
  },
  {
   "cell_type": "code",
   "execution_count": 12,
   "metadata": {
    "colab": {
     "base_uri": "https://localhost:8080/",
     "height": 221
    },
    "colab_type": "code",
    "id": "brPFQ8Bz_xoq",
    "outputId": "d3af84fb-b146-4a72-b432-e5ff501afe3e"
   },
   "outputs": [
    {
     "data": {
      "text/plain": [
       "0.00       41519\n",
       "4494.07        2\n",
       "1490.68        2\n",
       "296.69         2\n",
       "1835.87        2\n",
       "           ...  \n",
       "914.57         1\n",
       "1271.40        1\n",
       "1096.27        1\n",
       "3146.78        1\n",
       "935.68         1\n",
       "Name: out_prncp_inv, Length: 1012, dtype: int64"
      ]
     },
     "execution_count": 12,
     "metadata": {
      "tags": []
     },
     "output_type": "execute_result"
    }
   ],
   "source": [
    "loan[\"out_prncp_inv\"].value_counts()"
   ]
  },
  {
   "cell_type": "code",
   "execution_count": 13,
   "metadata": {
    "colab": {
     "base_uri": "https://localhost:8080/",
     "height": 68
    },
    "colab_type": "code",
    "id": "4ST2F1xzFOPs",
    "outputId": "8bce9d23-bf2d-4d8f-dba1-600e8f582de4"
   },
   "outputs": [
    {
     "data": {
      "text/plain": [
       "n    42534\n",
       "y        1\n",
       "Name: pymnt_plan, dtype: int64"
      ]
     },
     "execution_count": 13,
     "metadata": {
      "tags": []
     },
     "output_type": "execute_result"
    }
   ],
   "source": [
    "loan[\"pymnt_plan\"].value_counts()"
   ]
  },
  {
   "cell_type": "code",
   "execution_count": 14,
   "metadata": {
    "colab": {},
    "colab_type": "code",
    "id": "78nNXnm0S_dS"
   },
   "outputs": [],
   "source": [
    "#drop the following columns\n",
    "loan = loan.drop(columns = [\"id\",\"member_id\",\"funded_amnt\",\"funded_amnt_inv\",\"emp_title\",\"sub_grade\",\"collection_recovery_fee\",\n",
    "                            \"last_pymnt_d\",\"issue_d\",\"collections_12_mths_ex_med\",\"policy_code\",\"title\",\"zip_code\",\"addr_state\",\n",
    "                            \"chargeoff_within_12_mths\",\"initial_list_status\",\"out_prncp_inv\",\"out_prncp\",\"total_pymnt_inv\",\n",
    "                            \"application_type\",\"acc_now_delinq\",\"delinq_amnt\", \"pymnt_plan\"], axis = 1)"
   ]
  },
  {
   "cell_type": "code",
   "execution_count": 15,
   "metadata": {
    "colab": {
     "base_uri": "https://localhost:8080/",
     "height": 213
    },
    "colab_type": "code",
    "id": "mGzsGtyhFEIW",
    "outputId": "a9529b3a-28e4-4092-e69e-7cb48f3c33b6"
   },
   "outputs": [
    {
     "data": {
      "text/html": [
       "<div>\n",
       "<style scoped>\n",
       "    .dataframe tbody tr th:only-of-type {\n",
       "        vertical-align: middle;\n",
       "    }\n",
       "\n",
       "    .dataframe tbody tr th {\n",
       "        vertical-align: top;\n",
       "    }\n",
       "\n",
       "    .dataframe thead th {\n",
       "        text-align: right;\n",
       "    }\n",
       "</style>\n",
       "<table border=\"1\" class=\"dataframe\">\n",
       "  <thead>\n",
       "    <tr style=\"text-align: right;\">\n",
       "      <th></th>\n",
       "      <th>loan_amnt</th>\n",
       "      <th>term</th>\n",
       "      <th>int_rate</th>\n",
       "      <th>installment</th>\n",
       "      <th>grade</th>\n",
       "      <th>emp_length</th>\n",
       "      <th>home_ownership</th>\n",
       "      <th>annual_inc</th>\n",
       "      <th>verification_status</th>\n",
       "      <th>loan_status</th>\n",
       "      <th>purpose</th>\n",
       "      <th>dti</th>\n",
       "      <th>delinq_2yrs</th>\n",
       "      <th>earliest_cr_line</th>\n",
       "      <th>inq_last_6mths</th>\n",
       "      <th>open_acc</th>\n",
       "      <th>pub_rec</th>\n",
       "      <th>revol_bal</th>\n",
       "      <th>revol_util</th>\n",
       "      <th>total_acc</th>\n",
       "      <th>total_pymnt</th>\n",
       "      <th>total_rec_prncp</th>\n",
       "      <th>total_rec_int</th>\n",
       "      <th>total_rec_late_fee</th>\n",
       "      <th>recoveries</th>\n",
       "      <th>last_pymnt_amnt</th>\n",
       "      <th>last_credit_pull_d</th>\n",
       "      <th>pub_rec_bankruptcies</th>\n",
       "      <th>tax_liens</th>\n",
       "    </tr>\n",
       "  </thead>\n",
       "  <tbody>\n",
       "    <tr>\n",
       "      <th>0</th>\n",
       "      <td>5000.0</td>\n",
       "      <td>36 months</td>\n",
       "      <td>10.65%</td>\n",
       "      <td>162.87</td>\n",
       "      <td>B</td>\n",
       "      <td>10+ years</td>\n",
       "      <td>RENT</td>\n",
       "      <td>24000.0</td>\n",
       "      <td>Verified</td>\n",
       "      <td>Fully Paid</td>\n",
       "      <td>credit_card</td>\n",
       "      <td>27.65</td>\n",
       "      <td>0.0</td>\n",
       "      <td>Jan-1985</td>\n",
       "      <td>1.0</td>\n",
       "      <td>3.0</td>\n",
       "      <td>0.0</td>\n",
       "      <td>13648.0</td>\n",
       "      <td>83.7%</td>\n",
       "      <td>9.0</td>\n",
       "      <td>5863.155187</td>\n",
       "      <td>5000.00</td>\n",
       "      <td>863.16</td>\n",
       "      <td>0.0</td>\n",
       "      <td>0.00</td>\n",
       "      <td>171.62</td>\n",
       "      <td>Jun-2016</td>\n",
       "      <td>0.0</td>\n",
       "      <td>0.0</td>\n",
       "    </tr>\n",
       "    <tr>\n",
       "      <th>1</th>\n",
       "      <td>2500.0</td>\n",
       "      <td>60 months</td>\n",
       "      <td>15.27%</td>\n",
       "      <td>59.83</td>\n",
       "      <td>C</td>\n",
       "      <td>&lt; 1 year</td>\n",
       "      <td>RENT</td>\n",
       "      <td>30000.0</td>\n",
       "      <td>Source Verified</td>\n",
       "      <td>Charged Off</td>\n",
       "      <td>car</td>\n",
       "      <td>1.00</td>\n",
       "      <td>0.0</td>\n",
       "      <td>Apr-1999</td>\n",
       "      <td>5.0</td>\n",
       "      <td>3.0</td>\n",
       "      <td>0.0</td>\n",
       "      <td>1687.0</td>\n",
       "      <td>9.4%</td>\n",
       "      <td>4.0</td>\n",
       "      <td>1008.710000</td>\n",
       "      <td>456.46</td>\n",
       "      <td>435.17</td>\n",
       "      <td>0.0</td>\n",
       "      <td>117.08</td>\n",
       "      <td>119.66</td>\n",
       "      <td>Sep-2013</td>\n",
       "      <td>0.0</td>\n",
       "      <td>0.0</td>\n",
       "    </tr>\n",
       "    <tr>\n",
       "      <th>2</th>\n",
       "      <td>2400.0</td>\n",
       "      <td>36 months</td>\n",
       "      <td>15.96%</td>\n",
       "      <td>84.33</td>\n",
       "      <td>C</td>\n",
       "      <td>10+ years</td>\n",
       "      <td>RENT</td>\n",
       "      <td>12252.0</td>\n",
       "      <td>Not Verified</td>\n",
       "      <td>Fully Paid</td>\n",
       "      <td>small_business</td>\n",
       "      <td>8.72</td>\n",
       "      <td>0.0</td>\n",
       "      <td>Nov-2001</td>\n",
       "      <td>2.0</td>\n",
       "      <td>2.0</td>\n",
       "      <td>0.0</td>\n",
       "      <td>2956.0</td>\n",
       "      <td>98.5%</td>\n",
       "      <td>10.0</td>\n",
       "      <td>3005.666844</td>\n",
       "      <td>2400.00</td>\n",
       "      <td>605.67</td>\n",
       "      <td>0.0</td>\n",
       "      <td>0.00</td>\n",
       "      <td>649.91</td>\n",
       "      <td>Jun-2016</td>\n",
       "      <td>0.0</td>\n",
       "      <td>0.0</td>\n",
       "    </tr>\n",
       "  </tbody>\n",
       "</table>\n",
       "</div>"
      ],
      "text/plain": [
       "   loan_amnt       term  ... pub_rec_bankruptcies  tax_liens\n",
       "0     5000.0  36 months  ...                  0.0        0.0\n",
       "1     2500.0  60 months  ...                  0.0        0.0\n",
       "2     2400.0  36 months  ...                  0.0        0.0\n",
       "\n",
       "[3 rows x 29 columns]"
      ]
     },
     "execution_count": 15,
     "metadata": {
      "tags": []
     },
     "output_type": "execute_result"
    }
   ],
   "source": [
    "loan.head(3)"
   ]
  },
  {
   "cell_type": "markdown",
   "metadata": {
    "colab_type": "text",
    "id": "71D9BaRgpEus"
   },
   "source": [
    "**2.2 Pre-processing the numerical features to interger form**\n",
    "\n",
    "1. emp_length : is converted to numerical by removing years. 10+ years is converted to 10 and less than 1 year to 0.\n",
    "2. term : remove months to retain only 36, 60\n",
    "3. loan_status : Since I am modelling the algorithm for a binary classification and lets combine different statuses close to charged off and fully to to their respective value. \n",
    "      1. The values Late (16-30 days)\",\"In Grace Period\",\"Late (31-120 days) are dropped. \n",
    "      2. Default and Does not meet the credit policy.Status:Charged Off\" are renamed as Charged Off.\n",
    "      3. Current, Does not meet the credit policy.Status:Fully Paid are renamed as Fully Paid.\n",
    "\n",
    "4. earliest_cr_line, last_credit_pull_d : The date features are converted to int type using pd.DatetimeIndex.\n",
    "\n",
    "5. int_rate, revol_util : The % sign is removed to convert the feature to float datatype."
   ]
  },
  {
   "cell_type": "code",
   "execution_count": 16,
   "metadata": {
    "colab": {},
    "colab_type": "code",
    "id": "MwTXPKF8C6U5"
   },
   "outputs": [],
   "source": [
    "#replace the emp_length with the interger values\n",
    "replace = [\"10+ years\",\"2 years\",\"< 1 year\",\"3 years\",\"1 year\",\"4 years\",\"5 years\",\"6 years\",\"7 years\",\"8 years\",\"9 years\"]\n",
    "val = [10,2,0,3,1,4,5,6,7,8,9]\n",
    "loan['emp_length'].replace(to_replace = replace, value = val, inplace=True)"
   ]
  },
  {
   "cell_type": "code",
   "execution_count": 17,
   "metadata": {
    "colab": {},
    "colab_type": "code",
    "id": "pmKvtKjWHDiv"
   },
   "outputs": [],
   "source": [
    "#replace the term with the interger values\n",
    "loan[\"term\"] = loan[\"term\"].map({\"36 months\" : 36, \"60 months\" : 60})"
   ]
  },
  {
   "cell_type": "markdown",
   "metadata": {
    "colab_type": "text",
    "id": "BkrcCIvo2Mec"
   },
   "source": [
    "The count of different loan status in the dataset shows a very high count for fully paid i.e; the data set is highly imbalanced."
   ]
  },
  {
   "cell_type": "code",
   "execution_count": 18,
   "metadata": {
    "colab": {
     "base_uri": "https://localhost:8080/",
     "height": 187
    },
    "colab_type": "code",
    "id": "reiA72rPqQh0",
    "outputId": "ed232f9e-ad77-433d-8cbf-d09174200383"
   },
   "outputs": [
    {
     "data": {
      "text/plain": [
       "Fully Paid                                             33136\n",
       "Charged Off                                             5634\n",
       "Does not meet the credit policy. Status:Fully Paid      1988\n",
       "Current                                                  961\n",
       "Does not meet the credit policy. Status:Charged Off      761\n",
       "Late (31-120 days)                                        24\n",
       "In Grace Period                                           20\n",
       "Late (16-30 days)                                          8\n",
       "Default                                                    3\n",
       "Name: loan_status, dtype: int64"
      ]
     },
     "execution_count": 18,
     "metadata": {
      "tags": []
     },
     "output_type": "execute_result"
    }
   ],
   "source": [
    "loan[\"loan_status\"].value_counts()"
   ]
  },
  {
   "cell_type": "code",
   "execution_count": 19,
   "metadata": {
    "colab": {},
    "colab_type": "code",
    "id": "Xf35LfC0q6zq"
   },
   "outputs": [],
   "source": [
    "#remove the three loan status from the data\n",
    "loan_stat = [\"Late (16-30 days)\",\"In Grace Period\",\"Late (31-120 days)\"]\n",
    "for stat in loan_stat:\n",
    "    loan.drop(loan[loan[\"loan_status\"] == stat].index,inplace = True)"
   ]
  },
  {
   "cell_type": "code",
   "execution_count": 20,
   "metadata": {
    "colab": {
     "base_uri": "https://localhost:8080/",
     "height": 136
    },
    "colab_type": "code",
    "id": "XY5ab1tYsklg",
    "outputId": "34d749a2-c927-479c-b605-5ef91628fe45"
   },
   "outputs": [
    {
     "data": {
      "text/plain": [
       "Fully Paid                                             33136\n",
       "Charged Off                                             5634\n",
       "Does not meet the credit policy. Status:Fully Paid      1988\n",
       "Current                                                  961\n",
       "Does not meet the credit policy. Status:Charged Off      761\n",
       "Default                                                    3\n",
       "Name: loan_status, dtype: int64"
      ]
     },
     "execution_count": 20,
     "metadata": {
      "tags": []
     },
     "output_type": "execute_result"
    }
   ],
   "source": [
    "loan[\"loan_status\"].value_counts()"
   ]
  },
  {
   "cell_type": "code",
   "execution_count": 21,
   "metadata": {
    "colab": {},
    "colab_type": "code",
    "id": "IHgrPwq9qNqE"
   },
   "outputs": [],
   "source": [
    "#map the differnt loan status to fully paid or charged off based on the defination\n",
    "loan[\"loan_status\"] = loan[\"loan_status\"].map({\"Default\":\"Charged Off\", \"Does not meet the credit policy. Status:Charged Off\": \n",
    "                                               \"Charged Off\", \"Current\":\"Fully Paid\",\"Does not meet the credit policy. Status:Fully Paid\"\n",
    "                                               :\"Fully Paid\", \"Fully Paid\":\"Fully Paid\",\"Charged Off\":\"Charged Off\" })"
   ]
  },
  {
   "cell_type": "markdown",
   "metadata": {
    "colab_type": "text",
    "id": "es0Jcw--vk8m"
   },
   "source": [
    "The final count of Fully paid and Charged off loans present in the dataset."
   ]
  },
  {
   "cell_type": "code",
   "execution_count": 22,
   "metadata": {
    "colab": {
     "base_uri": "https://localhost:8080/",
     "height": 68
    },
    "colab_type": "code",
    "id": "z0z2IgpTMjo8",
    "outputId": "78f8f27d-f7f8-4860-90c2-bff205303e1e"
   },
   "outputs": [
    {
     "data": {
      "text/plain": [
       "Fully Paid     36085\n",
       "Charged Off     6398\n",
       "Name: loan_status, dtype: int64"
      ]
     },
     "execution_count": 22,
     "metadata": {
      "tags": []
     },
     "output_type": "execute_result"
    }
   ],
   "source": [
    "loan[\"loan_status\"].value_counts()"
   ]
  },
  {
   "cell_type": "code",
   "execution_count": 23,
   "metadata": {
    "colab": {},
    "colab_type": "code",
    "id": "MhAk2qloE6h9"
   },
   "outputs": [],
   "source": [
    "#convert the date to interger value\n",
    "date = [\"earliest_cr_line\",\"last_credit_pull_d\"]\n",
    "\n",
    "for date_fea in loan.columns:\n",
    "    if date_fea in date:\n",
    "        loan[\"earliest_cr_line\"] = pd.DatetimeIndex(loan[\"earliest_cr_line\"]).astype(int)\n",
    "        loan[\"last_credit_pull_d\"] = pd.DatetimeIndex(loan[\"last_credit_pull_d\"]).astype(int)"
   ]
  },
  {
   "cell_type": "code",
   "execution_count": 24,
   "metadata": {
    "colab": {},
    "colab_type": "code",
    "id": "7AD2RPo8E-nD"
   },
   "outputs": [],
   "source": [
    "#remove % sign form int_rate and revol_util features\n",
    "loan['int_rate'] = loan['int_rate'].astype(str).map(lambda x: x.rstrip('%')).astype(float)\n",
    "loan['revol_util'] = loan['revol_util'].astype(str).map(lambda x: x.rstrip('%')).astype(float)"
   ]
  },
  {
   "cell_type": "code",
   "execution_count": 25,
   "metadata": {
    "colab": {
     "base_uri": "https://localhost:8080/",
     "height": 162
    },
    "colab_type": "code",
    "id": "r_m62zG6Fn4A",
    "outputId": "83fa21e8-163b-45a2-c086-914e3dbc623f"
   },
   "outputs": [
    {
     "data": {
      "text/html": [
       "<div>\n",
       "<style scoped>\n",
       "    .dataframe tbody tr th:only-of-type {\n",
       "        vertical-align: middle;\n",
       "    }\n",
       "\n",
       "    .dataframe tbody tr th {\n",
       "        vertical-align: top;\n",
       "    }\n",
       "\n",
       "    .dataframe thead th {\n",
       "        text-align: right;\n",
       "    }\n",
       "</style>\n",
       "<table border=\"1\" class=\"dataframe\">\n",
       "  <thead>\n",
       "    <tr style=\"text-align: right;\">\n",
       "      <th></th>\n",
       "      <th>loan_amnt</th>\n",
       "      <th>term</th>\n",
       "      <th>int_rate</th>\n",
       "      <th>installment</th>\n",
       "      <th>grade</th>\n",
       "      <th>emp_length</th>\n",
       "      <th>home_ownership</th>\n",
       "      <th>annual_inc</th>\n",
       "      <th>verification_status</th>\n",
       "      <th>loan_status</th>\n",
       "      <th>purpose</th>\n",
       "      <th>dti</th>\n",
       "      <th>delinq_2yrs</th>\n",
       "      <th>earliest_cr_line</th>\n",
       "      <th>inq_last_6mths</th>\n",
       "      <th>open_acc</th>\n",
       "      <th>pub_rec</th>\n",
       "      <th>revol_bal</th>\n",
       "      <th>revol_util</th>\n",
       "      <th>total_acc</th>\n",
       "      <th>total_pymnt</th>\n",
       "      <th>total_rec_prncp</th>\n",
       "      <th>total_rec_int</th>\n",
       "      <th>total_rec_late_fee</th>\n",
       "      <th>recoveries</th>\n",
       "      <th>last_pymnt_amnt</th>\n",
       "      <th>last_credit_pull_d</th>\n",
       "      <th>pub_rec_bankruptcies</th>\n",
       "      <th>tax_liens</th>\n",
       "    </tr>\n",
       "  </thead>\n",
       "  <tbody>\n",
       "    <tr>\n",
       "      <th>0</th>\n",
       "      <td>5000.0</td>\n",
       "      <td>36.0</td>\n",
       "      <td>10.65</td>\n",
       "      <td>162.87</td>\n",
       "      <td>B</td>\n",
       "      <td>10.0</td>\n",
       "      <td>RENT</td>\n",
       "      <td>24000.0</td>\n",
       "      <td>Verified</td>\n",
       "      <td>Fully Paid</td>\n",
       "      <td>credit_card</td>\n",
       "      <td>27.65</td>\n",
       "      <td>0.0</td>\n",
       "      <td>473385600000000000</td>\n",
       "      <td>1.0</td>\n",
       "      <td>3.0</td>\n",
       "      <td>0.0</td>\n",
       "      <td>13648.0</td>\n",
       "      <td>83.7</td>\n",
       "      <td>9.0</td>\n",
       "      <td>5863.155187</td>\n",
       "      <td>5000.00</td>\n",
       "      <td>863.16</td>\n",
       "      <td>0.0</td>\n",
       "      <td>0.00</td>\n",
       "      <td>171.62</td>\n",
       "      <td>1464739200000000000</td>\n",
       "      <td>0.0</td>\n",
       "      <td>0.0</td>\n",
       "    </tr>\n",
       "    <tr>\n",
       "      <th>1</th>\n",
       "      <td>2500.0</td>\n",
       "      <td>60.0</td>\n",
       "      <td>15.27</td>\n",
       "      <td>59.83</td>\n",
       "      <td>C</td>\n",
       "      <td>0.0</td>\n",
       "      <td>RENT</td>\n",
       "      <td>30000.0</td>\n",
       "      <td>Source Verified</td>\n",
       "      <td>Charged Off</td>\n",
       "      <td>car</td>\n",
       "      <td>1.00</td>\n",
       "      <td>0.0</td>\n",
       "      <td>922924800000000000</td>\n",
       "      <td>5.0</td>\n",
       "      <td>3.0</td>\n",
       "      <td>0.0</td>\n",
       "      <td>1687.0</td>\n",
       "      <td>9.4</td>\n",
       "      <td>4.0</td>\n",
       "      <td>1008.710000</td>\n",
       "      <td>456.46</td>\n",
       "      <td>435.17</td>\n",
       "      <td>0.0</td>\n",
       "      <td>117.08</td>\n",
       "      <td>119.66</td>\n",
       "      <td>1377993600000000000</td>\n",
       "      <td>0.0</td>\n",
       "      <td>0.0</td>\n",
       "    </tr>\n",
       "    <tr>\n",
       "      <th>2</th>\n",
       "      <td>2400.0</td>\n",
       "      <td>36.0</td>\n",
       "      <td>15.96</td>\n",
       "      <td>84.33</td>\n",
       "      <td>C</td>\n",
       "      <td>10.0</td>\n",
       "      <td>RENT</td>\n",
       "      <td>12252.0</td>\n",
       "      <td>Not Verified</td>\n",
       "      <td>Fully Paid</td>\n",
       "      <td>small_business</td>\n",
       "      <td>8.72</td>\n",
       "      <td>0.0</td>\n",
       "      <td>1004572800000000000</td>\n",
       "      <td>2.0</td>\n",
       "      <td>2.0</td>\n",
       "      <td>0.0</td>\n",
       "      <td>2956.0</td>\n",
       "      <td>98.5</td>\n",
       "      <td>10.0</td>\n",
       "      <td>3005.666844</td>\n",
       "      <td>2400.00</td>\n",
       "      <td>605.67</td>\n",
       "      <td>0.0</td>\n",
       "      <td>0.00</td>\n",
       "      <td>649.91</td>\n",
       "      <td>1464739200000000000</td>\n",
       "      <td>0.0</td>\n",
       "      <td>0.0</td>\n",
       "    </tr>\n",
       "  </tbody>\n",
       "</table>\n",
       "</div>"
      ],
      "text/plain": [
       "   loan_amnt  term  ...  pub_rec_bankruptcies  tax_liens\n",
       "0     5000.0  36.0  ...                   0.0        0.0\n",
       "1     2500.0  60.0  ...                   0.0        0.0\n",
       "2     2400.0  36.0  ...                   0.0        0.0\n",
       "\n",
       "[3 rows x 29 columns]"
      ]
     },
     "execution_count": 25,
     "metadata": {
      "tags": []
     },
     "output_type": "execute_result"
    }
   ],
   "source": [
    "loan.head(3)"
   ]
  },
  {
   "cell_type": "markdown",
   "metadata": {
    "colab_type": "text",
    "id": "8chwEqEBFC0a"
   },
   "source": [
    "**3. Data Cleaning**\n",
    "\n",
    "Check for the features that have null values and the percentage of null values. If percentage > 30%, the feature is dropped from the data.\n",
    "\n",
    "The steps followed for data cleaning:\n",
    "1. The features are divided into X:descriptive features and y:target feature(loan_status). \n",
    "2. Features are seperated into categorical and numerical features.\n",
    "3. Null values for categorical features are replaced with mode values and mean for numerical features."
   ]
  },
  {
   "cell_type": "code",
   "execution_count": 26,
   "metadata": {
    "colab": {
     "base_uri": "https://localhost:8080/",
     "height": 527
    },
    "colab_type": "code",
    "id": "H_IK8DgyFKLq",
    "outputId": "311b27bd-ba19-40b6-e685-587dff792b62"
   },
   "outputs": [
    {
     "data": {
      "text/plain": [
       "loan_amnt                  3\n",
       "term                       3\n",
       "int_rate                   3\n",
       "installment                3\n",
       "grade                      3\n",
       "emp_length              1112\n",
       "home_ownership             3\n",
       "annual_inc                 7\n",
       "verification_status        3\n",
       "loan_status                3\n",
       "purpose                    3\n",
       "dti                        3\n",
       "delinq_2yrs               32\n",
       "earliest_cr_line           0\n",
       "inq_last_6mths            32\n",
       "open_acc                  32\n",
       "pub_rec                   32\n",
       "revol_bal                  3\n",
       "revol_util                93\n",
       "total_acc                 32\n",
       "total_pymnt                3\n",
       "total_rec_prncp            3\n",
       "total_rec_int              3\n",
       "total_rec_late_fee         3\n",
       "recoveries                 3\n",
       "last_pymnt_amnt            3\n",
       "last_credit_pull_d         0\n",
       "pub_rec_bankruptcies    1368\n",
       "tax_liens                108\n",
       "dtype: int64"
      ]
     },
     "execution_count": 26,
     "metadata": {
      "tags": []
     },
     "output_type": "execute_result"
    }
   ],
   "source": [
    "#check for the null values\n",
    "loan.isnull().sum()"
   ]
  },
  {
   "cell_type": "code",
   "execution_count": 27,
   "metadata": {
    "colab": {},
    "colab_type": "code",
    "id": "emqOHjfjFMl3"
   },
   "outputs": [],
   "source": [
    "#check for the null values > 0\n",
    "col = [(fea,loan[fea].isnull().sum() *100/len(loan)) for fea in loan if (loan[fea].isnull().sum() * 100/len(loan)) > 0]"
   ]
  },
  {
   "cell_type": "markdown",
   "metadata": {
    "colab_type": "text",
    "id": "I7qkFcf5FUDl"
   },
   "source": [
    "None of the columns have null values more than 30%, so imputation process is applied to fill null values."
   ]
  },
  {
   "cell_type": "code",
   "execution_count": 28,
   "metadata": {
    "colab": {
     "base_uri": "https://localhost:8080/",
     "height": 476
    },
    "colab_type": "code",
    "id": "QufEfZzrFQRU",
    "outputId": "76cf8f6f-fe0b-4ae0-befc-d9382b8a8242"
   },
   "outputs": [
    {
     "data": {
      "text/plain": [
       "[('loan_amnt', 0.007061149555147578),\n",
       " ('term', 0.007061149555147578),\n",
       " ('int_rate', 0.007061149555147578),\n",
       " ('installment', 0.007061149555147578),\n",
       " ('grade', 0.007061149555147578),\n",
       " ('emp_length', 2.617332768441369),\n",
       " ('home_ownership', 0.007061149555147578),\n",
       " ('annual_inc', 0.016476015628677683),\n",
       " ('verification_status', 0.007061149555147578),\n",
       " ('loan_status', 0.007061149555147578),\n",
       " ('purpose', 0.007061149555147578),\n",
       " ('dti', 0.007061149555147578),\n",
       " ('delinq_2yrs', 0.07531892858824084),\n",
       " ('inq_last_6mths', 0.07531892858824084),\n",
       " ('open_acc', 0.07531892858824084),\n",
       " ('pub_rec', 0.07531892858824084),\n",
       " ('revol_bal', 0.007061149555147578),\n",
       " ('revol_util', 0.21889563620957492),\n",
       " ('total_acc', 0.07531892858824084),\n",
       " ('total_pymnt', 0.007061149555147578),\n",
       " ('total_rec_prncp', 0.007061149555147578),\n",
       " ('total_rec_int', 0.007061149555147578),\n",
       " ('total_rec_late_fee', 0.007061149555147578),\n",
       " ('recoveries', 0.007061149555147578),\n",
       " ('last_pymnt_amnt', 0.007061149555147578),\n",
       " ('pub_rec_bankruptcies', 3.219884197147296),\n",
       " ('tax_liens', 0.25420138398531283)]"
      ]
     },
     "execution_count": 28,
     "metadata": {
      "tags": []
     },
     "output_type": "execute_result"
    }
   ],
   "source": [
    "col"
   ]
  },
  {
   "cell_type": "markdown",
   "metadata": {
    "colab_type": "text",
    "id": "qwRhdDxEvTw9"
   },
   "source": [
    "There are 3 null values in target feature: loan status. Since we cannot replace with mode/forward fill methods, the 3 instances are dropped from the dataset."
   ]
  },
  {
   "cell_type": "code",
   "execution_count": 29,
   "metadata": {
    "colab": {
     "base_uri": "https://localhost:8080/",
     "height": 51
    },
    "colab_type": "code",
    "id": "o1Jlh_TNQPHu",
    "outputId": "070cbd72-e20c-44c4-a26e-98b91f09016d"
   },
   "outputs": [
    {
     "name": "stdout",
     "output_type": "stream",
     "text": [
      "3\n"
     ]
    },
    {
     "data": {
      "text/plain": [
       "0"
      ]
     },
     "execution_count": 29,
     "metadata": {
      "tags": []
     },
     "output_type": "execute_result"
    }
   ],
   "source": [
    "#drop the null values\n",
    "print(loan[\"loan_status\"].isnull().sum())\n",
    "loan.dropna(subset = [\"loan_status\"],axis = 0, inplace = True)\n",
    "loan[\"loan_status\"].isnull().sum()"
   ]
  },
  {
   "cell_type": "code",
   "execution_count": 30,
   "metadata": {
    "colab": {
     "base_uri": "https://localhost:8080/",
     "height": 34
    },
    "colab_type": "code",
    "id": "orvHGZx3wOyO",
    "outputId": "c07f3785-0b74-4d24-ad5d-c5d843a926b1"
   },
   "outputs": [
    {
     "data": {
      "text/plain": [
       "(42483, 29)"
      ]
     },
     "execution_count": 30,
     "metadata": {
      "tags": []
     },
     "output_type": "execute_result"
    }
   ],
   "source": [
    "loan.shape"
   ]
  },
  {
   "cell_type": "markdown",
   "metadata": {
    "colab_type": "text",
    "id": "dV1mR27kFsN2"
   },
   "source": [
    "The data is divided into X having descriptive features and y having the target feature:loan_status"
   ]
  },
  {
   "cell_type": "code",
   "execution_count": 31,
   "metadata": {
    "colab": {
     "base_uri": "https://localhost:8080/",
     "height": 51
    },
    "colab_type": "code",
    "id": "ZyrXyx9YS6aw",
    "outputId": "230cfdfd-074d-4a6d-d06c-463fe24b775f"
   },
   "outputs": [
    {
     "name": "stdout",
     "output_type": "stream",
     "text": [
      "(42483, 28)\n",
      "(42483,)\n"
     ]
    }
   ],
   "source": [
    "#descriptive features\n",
    "X = loan.drop(\"loan_status\", axis = 1)\n",
    "print(X.shape)\n",
    "#target feature\n",
    "y = loan[\"loan_status\"]\n",
    "print(y.shape)"
   ]
  },
  {
   "cell_type": "markdown",
   "metadata": {
    "colab_type": "text",
    "id": "NM3IvWTCF2x7"
   },
   "source": [
    "All categorical variables are assigned to cat_vab and numerical features to num_vab. The categorical features missing values are filled with mode and missing values in numerical are filled with their mean values."
   ]
  },
  {
   "cell_type": "code",
   "execution_count": 32,
   "metadata": {
    "colab": {
     "base_uri": "https://localhost:8080/",
     "height": 34
    },
    "colab_type": "code",
    "id": "C26kj4q-Egck",
    "outputId": "116a6084-eb94-4d6c-b7dd-c66c067f7c7b"
   },
   "outputs": [
    {
     "name": "stdout",
     "output_type": "stream",
     "text": [
      "The categorical features are: ['grade', 'home_ownership', 'verification_status', 'purpose']\n"
     ]
    }
   ],
   "source": [
    "#collect the categorical variables\n",
    "cat_vab = X.dtypes == object\n",
    "cat_vab = X.columns[cat_vab].tolist()\n",
    "\n",
    "#the categorical features in the dataset\n",
    "print(\"The categorical features are:\",cat_vab)"
   ]
  },
  {
   "cell_type": "code",
   "execution_count": 33,
   "metadata": {
    "colab": {},
    "colab_type": "code",
    "id": "wqCWinzzoyxo"
   },
   "outputs": [],
   "source": [
    "num_vab = []\n",
    "#iterate through the columns and append the num_vab list with numerical features\n",
    "for cat_feature in X.columns:\n",
    "    if cat_feature not in cat_vab:\n",
    "        num_vab.append(cat_feature)\n",
    "        #fill nan with mean for numerical features\n",
    "        X[cat_feature].fillna(X[cat_feature].mean(), inplace = True)\n",
    "    else:\n",
    "        #fill nan with mode for categorical features\n",
    "        X[cat_feature].fillna(X[cat_feature].mode()[0], inplace=True)"
   ]
  },
  {
   "cell_type": "code",
   "execution_count": 34,
   "metadata": {
    "colab": {
     "base_uri": "https://localhost:8080/",
     "height": 510
    },
    "colab_type": "code",
    "id": "1GXzWRK1PGyR",
    "outputId": "e24bb7f5-f4a5-41c7-d77d-3d20715e0e87"
   },
   "outputs": [
    {
     "data": {
      "text/plain": [
       "loan_amnt               0\n",
       "term                    0\n",
       "int_rate                0\n",
       "installment             0\n",
       "grade                   0\n",
       "emp_length              0\n",
       "home_ownership          0\n",
       "annual_inc              0\n",
       "verification_status     0\n",
       "purpose                 0\n",
       "dti                     0\n",
       "delinq_2yrs             0\n",
       "earliest_cr_line        0\n",
       "inq_last_6mths          0\n",
       "open_acc                0\n",
       "pub_rec                 0\n",
       "revol_bal               0\n",
       "revol_util              0\n",
       "total_acc               0\n",
       "total_pymnt             0\n",
       "total_rec_prncp         0\n",
       "total_rec_int           0\n",
       "total_rec_late_fee      0\n",
       "recoveries              0\n",
       "last_pymnt_amnt         0\n",
       "last_credit_pull_d      0\n",
       "pub_rec_bankruptcies    0\n",
       "tax_liens               0\n",
       "dtype: int64"
      ]
     },
     "execution_count": 34,
     "metadata": {
      "tags": []
     },
     "output_type": "execute_result"
    }
   ],
   "source": [
    "#check the missing values after imputation\n",
    "X.isnull().sum()"
   ]
  },
  {
   "cell_type": "markdown",
   "metadata": {
    "colab_type": "text",
    "id": "H0NrzhAxyG8L"
   },
   "source": [
    "**4. One hot encoding and LabelEncoder**\n",
    "\n",
    "**4.1 One Hot Encoding**\n",
    "\n",
    "The machine learning algorithms take in numerical input and it is necessary to transform categorical features to numerical. One hot encoding method is used for this tranformation for features: grade, home_ownership, verification_status, pymnt_plan, purpose. \n",
    "\n",
    "One-hot encoding will transform the categorical variable into a numerical variable for each category. If a category takes ten values, then that categorical variable will be transformed into 10 numerical variables."
   ]
  },
  {
   "cell_type": "code",
   "execution_count": 35,
   "metadata": {
    "colab": {
     "base_uri": "https://localhost:8080/",
     "height": 136
    },
    "colab_type": "code",
    "id": "IQF0dTFnONhT",
    "outputId": "dfeb140e-3eb9-4c15-b308-fc0ae04cef06"
   },
   "outputs": [
    {
     "name": "stdout",
     "output_type": "stream",
     "text": [
      "   grade_A  grade_B  ...  purpose_vacation  purpose_wedding\n",
      "0        0        1  ...                 0                0\n",
      "1        0        0  ...                 0                0\n",
      "2        0        0  ...                 0                0\n",
      "\n",
      "[3 rows x 29 columns]\n",
      "(42483, 29)\n"
     ]
    }
   ],
   "source": [
    "#create a data frame of categorical features after one hot encoding\n",
    "#pd.get_dummies() creates one hot encode for the different values present in each feature\n",
    "cat_df = pd.get_dummies(X[cat_vab])\n",
    "\n",
    "#the dataframe for the categorical features after one hot encoding\n",
    "print(cat_df.head(3))\n",
    "\n",
    "#the total number of features based on the values present in each categorical feature\n",
    "print(cat_df.shape)"
   ]
  },
  {
   "cell_type": "code",
   "execution_count": 36,
   "metadata": {
    "colab": {
     "base_uri": "https://localhost:8080/",
     "height": 34
    },
    "colab_type": "code",
    "id": "YTQntXlFOw__",
    "outputId": "96f14336-5485-4fc2-b0fd-ea3226912ac9"
   },
   "outputs": [
    {
     "name": "stdout",
     "output_type": "stream",
     "text": [
      "(42483, 24)\n"
     ]
    }
   ],
   "source": [
    "#create a dataframe of numerical features\n",
    "num_df = X[num_vab]\n",
    "\n",
    "#the total number of numerical features \n",
    "print(num_df.shape)"
   ]
  },
  {
   "cell_type": "markdown",
   "metadata": {
    "colab_type": "text",
    "id": "l8g9cXJCJh1d"
   },
   "source": [
    "**4.2 Label Encoder**\n",
    "\n",
    "Next I convert the target feature to integer using Label Encoder."
   ]
  },
  {
   "cell_type": "code",
   "execution_count": 37,
   "metadata": {
    "colab": {},
    "colab_type": "code",
    "id": "VrF129zHEmqV"
   },
   "outputs": [],
   "source": [
    "#y.fillna(y.mode()[0], inplace=True)\n",
    "\n",
    "#create a dataframe from the series:y with column name = loan_status\n",
    "label = pd.DataFrame(data = y, columns = [\"loan_status\"])\n",
    "\n",
    "#apply LabelEncoder on the label df to convert the values:fully paid and charged off into integers\n",
    "le = LabelEncoder()\n",
    "label = le.fit_transform(label)"
   ]
  },
  {
   "cell_type": "markdown",
   "metadata": {
    "colab_type": "text",
    "id": "hkk0LETMLccX"
   },
   "source": [
    "Concatanate the categorical and numerical dataframes into a single data to feed into the models. The combined DF has 54 features, the increase in features correspond to one hot encoding of the categorical features."
   ]
  },
  {
   "cell_type": "code",
   "execution_count": 38,
   "metadata": {
    "colab": {
     "base_uri": "https://localhost:8080/",
     "height": 34
    },
    "colab_type": "code",
    "id": "lO7EXwjSVYNh",
    "outputId": "67bbd560-9288-4f1a-b6d7-097ecaf6fc5e"
   },
   "outputs": [
    {
     "data": {
      "text/plain": [
       "(42483, 53)"
      ]
     },
     "execution_count": 38,
     "metadata": {
      "tags": []
     },
     "output_type": "execute_result"
    }
   ],
   "source": [
    "#concat cat_df and num_df along the columns\n",
    "data_df = pd.concat([num_df,cat_df], axis = 1)\n",
    "\n",
    "#check the shapr of the df\n",
    "data_df.shape"
   ]
  },
  {
   "cell_type": "code",
   "execution_count": 39,
   "metadata": {
    "colab": {
     "base_uri": "https://localhost:8080/",
     "height": 510
    },
    "colab_type": "code",
    "id": "Fn8TE9T3Ey2W",
    "outputId": "382d465e-0a20-45dd-e7af-eec51b4144d7"
   },
   "outputs": [
    {
     "data": {
      "text/plain": [
       "['loan_amnt',\n",
       " 'term',\n",
       " 'int_rate',\n",
       " 'installment',\n",
       " 'grade',\n",
       " 'emp_length',\n",
       " 'home_ownership',\n",
       " 'annual_inc',\n",
       " 'verification_status',\n",
       " 'loan_status',\n",
       " 'purpose',\n",
       " 'dti',\n",
       " 'delinq_2yrs',\n",
       " 'earliest_cr_line',\n",
       " 'inq_last_6mths',\n",
       " 'open_acc',\n",
       " 'pub_rec',\n",
       " 'revol_bal',\n",
       " 'revol_util',\n",
       " 'total_acc',\n",
       " 'total_pymnt',\n",
       " 'total_rec_prncp',\n",
       " 'total_rec_int',\n",
       " 'total_rec_late_fee',\n",
       " 'recoveries',\n",
       " 'last_pymnt_amnt',\n",
       " 'last_credit_pull_d',\n",
       " 'pub_rec_bankruptcies',\n",
       " 'tax_liens']"
      ]
     },
     "execution_count": 39,
     "metadata": {
      "tags": []
     },
     "output_type": "execute_result"
    }
   ],
   "source": [
    "loan.dtypes\n",
    "loan_cols = loan.columns.tolist()\n",
    "loan_cols"
   ]
  },
  {
   "cell_type": "markdown",
   "metadata": {
    "colab_type": "text",
    "id": "SVP3otC5L51q"
   },
   "source": [
    "**5. Normalize the data**\n",
    "\n",
    "The features have a numerical range varying differently for different features and it is important to normalize them over the same range before passing through the model. This normalization is done using StandardScaler for all the input features."
   ]
  },
  {
   "cell_type": "code",
   "execution_count": 40,
   "metadata": {
    "colab": {
     "base_uri": "https://localhost:8080/",
     "height": 179
    },
    "colab_type": "code",
    "id": "mqvEFFl6Qnhw",
    "outputId": "f579ab6b-7d94-4845-c452-4340f7d44004"
   },
   "outputs": [
    {
     "data": {
      "text/html": [
       "<div>\n",
       "<style scoped>\n",
       "    .dataframe tbody tr th:only-of-type {\n",
       "        vertical-align: middle;\n",
       "    }\n",
       "\n",
       "    .dataframe tbody tr th {\n",
       "        vertical-align: top;\n",
       "    }\n",
       "\n",
       "    .dataframe thead th {\n",
       "        text-align: right;\n",
       "    }\n",
       "</style>\n",
       "<table border=\"1\" class=\"dataframe\">\n",
       "  <thead>\n",
       "    <tr style=\"text-align: right;\">\n",
       "      <th></th>\n",
       "      <th>loan_amnt</th>\n",
       "      <th>term</th>\n",
       "      <th>int_rate</th>\n",
       "      <th>installment</th>\n",
       "      <th>emp_length</th>\n",
       "      <th>annual_inc</th>\n",
       "      <th>dti</th>\n",
       "      <th>delinq_2yrs</th>\n",
       "      <th>earliest_cr_line</th>\n",
       "      <th>inq_last_6mths</th>\n",
       "      <th>open_acc</th>\n",
       "      <th>pub_rec</th>\n",
       "      <th>revol_bal</th>\n",
       "      <th>revol_util</th>\n",
       "      <th>total_acc</th>\n",
       "      <th>total_pymnt</th>\n",
       "      <th>total_rec_prncp</th>\n",
       "      <th>total_rec_int</th>\n",
       "      <th>total_rec_late_fee</th>\n",
       "      <th>recoveries</th>\n",
       "      <th>last_pymnt_amnt</th>\n",
       "      <th>last_credit_pull_d</th>\n",
       "      <th>pub_rec_bankruptcies</th>\n",
       "      <th>tax_liens</th>\n",
       "      <th>grade_A</th>\n",
       "      <th>grade_B</th>\n",
       "      <th>grade_C</th>\n",
       "      <th>grade_D</th>\n",
       "      <th>grade_E</th>\n",
       "      <th>grade_F</th>\n",
       "      <th>grade_G</th>\n",
       "      <th>home_ownership_MORTGAGE</th>\n",
       "      <th>home_ownership_NONE</th>\n",
       "      <th>home_ownership_OTHER</th>\n",
       "      <th>home_ownership_OWN</th>\n",
       "      <th>home_ownership_RENT</th>\n",
       "      <th>verification_status_Not Verified</th>\n",
       "      <th>verification_status_Source Verified</th>\n",
       "      <th>verification_status_Verified</th>\n",
       "      <th>purpose_car</th>\n",
       "      <th>purpose_credit_card</th>\n",
       "      <th>purpose_debt_consolidation</th>\n",
       "      <th>purpose_educational</th>\n",
       "      <th>purpose_home_improvement</th>\n",
       "      <th>purpose_house</th>\n",
       "      <th>purpose_major_purchase</th>\n",
       "      <th>purpose_medical</th>\n",
       "      <th>purpose_moving</th>\n",
       "      <th>purpose_other</th>\n",
       "      <th>purpose_renewable_energy</th>\n",
       "      <th>purpose_small_business</th>\n",
       "      <th>purpose_vacation</th>\n",
       "      <th>purpose_wedding</th>\n",
       "    </tr>\n",
       "  </thead>\n",
       "  <tbody>\n",
       "    <tr>\n",
       "      <th>0</th>\n",
       "      <td>-0.821359</td>\n",
       "      <td>-0.589247</td>\n",
       "      <td>-0.407419</td>\n",
       "      <td>-0.764264</td>\n",
       "      <td>1.441980</td>\n",
       "      <td>-0.703870</td>\n",
       "      <td>2.123030</td>\n",
       "      <td>-0.297626</td>\n",
       "      <td>-1.098490</td>\n",
       "      <td>-0.053404</td>\n",
       "      <td>-1.411150</td>\n",
       "      <td>-0.236811</td>\n",
       "      <td>-0.029308</td>\n",
       "      <td>1.221280</td>\n",
       "      <td>-1.132251</td>\n",
       "      <td>-0.677934</td>\n",
       "      <td>-0.657341</td>\n",
       "      <td>-0.532942</td>\n",
       "      <td>-0.192826</td>\n",
       "      <td>-0.139376</td>\n",
       "      <td>-0.556526</td>\n",
       "      <td>0.475841</td>\n",
       "      <td>-0.22026</td>\n",
       "      <td>-0.004864</td>\n",
       "      <td>-0.561483</td>\n",
       "      <td>1.559353</td>\n",
       "      <td>-0.508570</td>\n",
       "      <td>-0.405734</td>\n",
       "      <td>-0.29391</td>\n",
       "      <td>-0.177458</td>\n",
       "      <td>-0.11023</td>\n",
       "      <td>-0.896547</td>\n",
       "      <td>-0.013724</td>\n",
       "      <td>-0.056671</td>\n",
       "      <td>-0.287721</td>\n",
       "      <td>1.052279</td>\n",
       "      <td>-0.888969</td>\n",
       "      <td>-0.565290</td>\n",
       "      <td>1.469853</td>\n",
       "      <td>-0.198790</td>\n",
       "      <td>2.60044</td>\n",
       "      <td>-0.931996</td>\n",
       "      <td>-0.100165</td>\n",
       "      <td>-0.285075</td>\n",
       "      <td>-0.100524</td>\n",
       "      <td>-0.239794</td>\n",
       "      <td>-0.134239</td>\n",
       "      <td>-0.122591</td>\n",
       "      <td>-0.340726</td>\n",
       "      <td>-0.050014</td>\n",
       "      <td>-0.221568</td>\n",
       "      <td>-0.097371</td>\n",
       "      <td>-0.15558</td>\n",
       "    </tr>\n",
       "    <tr>\n",
       "      <th>1</th>\n",
       "      <td>-1.159017</td>\n",
       "      <td>1.697080</td>\n",
       "      <td>0.839483</td>\n",
       "      <td>-1.257580</td>\n",
       "      <td>-1.397832</td>\n",
       "      <td>-0.610289</td>\n",
       "      <td>-1.839086</td>\n",
       "      <td>-0.297626</td>\n",
       "      <td>0.221663</td>\n",
       "      <td>2.565376</td>\n",
       "      <td>-1.411150</td>\n",
       "      <td>-0.236811</td>\n",
       "      <td>-0.572496</td>\n",
       "      <td>-1.401358</td>\n",
       "      <td>-1.563686</td>\n",
       "      <td>-1.217311</td>\n",
       "      <td>-1.302076</td>\n",
       "      <td>-0.699713</td>\n",
       "      <td>-0.192826</td>\n",
       "      <td>0.023997</td>\n",
       "      <td>-0.568369</td>\n",
       "      <td>-0.257323</td>\n",
       "      <td>-0.22026</td>\n",
       "      <td>-0.004864</td>\n",
       "      <td>-0.561483</td>\n",
       "      <td>-0.641291</td>\n",
       "      <td>1.966297</td>\n",
       "      <td>-0.405734</td>\n",
       "      <td>-0.29391</td>\n",
       "      <td>-0.177458</td>\n",
       "      <td>-0.11023</td>\n",
       "      <td>-0.896547</td>\n",
       "      <td>-0.013724</td>\n",
       "      <td>-0.056671</td>\n",
       "      <td>-0.287721</td>\n",
       "      <td>1.052279</td>\n",
       "      <td>-0.888969</td>\n",
       "      <td>1.769004</td>\n",
       "      <td>-0.680340</td>\n",
       "      <td>5.030434</td>\n",
       "      <td>-0.38455</td>\n",
       "      <td>-0.931996</td>\n",
       "      <td>-0.100165</td>\n",
       "      <td>-0.285075</td>\n",
       "      <td>-0.100524</td>\n",
       "      <td>-0.239794</td>\n",
       "      <td>-0.134239</td>\n",
       "      <td>-0.122591</td>\n",
       "      <td>-0.340726</td>\n",
       "      <td>-0.050014</td>\n",
       "      <td>-0.221568</td>\n",
       "      <td>-0.097371</td>\n",
       "      <td>-0.15558</td>\n",
       "    </tr>\n",
       "    <tr>\n",
       "      <th>2</th>\n",
       "      <td>-1.172523</td>\n",
       "      <td>-0.589247</td>\n",
       "      <td>1.025709</td>\n",
       "      <td>-1.140283</td>\n",
       "      <td>1.441980</td>\n",
       "      <td>-0.887101</td>\n",
       "      <td>-0.691336</td>\n",
       "      <td>-0.297626</td>\n",
       "      <td>0.461437</td>\n",
       "      <td>0.601291</td>\n",
       "      <td>-1.633601</td>\n",
       "      <td>-0.236811</td>\n",
       "      <td>-0.514867</td>\n",
       "      <td>1.743690</td>\n",
       "      <td>-1.045964</td>\n",
       "      <td>-0.995429</td>\n",
       "      <td>-1.026285</td>\n",
       "      <td>-0.633276</td>\n",
       "      <td>-0.192826</td>\n",
       "      <td>-0.139376</td>\n",
       "      <td>-0.447517</td>\n",
       "      <td>0.475841</td>\n",
       "      <td>-0.22026</td>\n",
       "      <td>-0.004864</td>\n",
       "      <td>-0.561483</td>\n",
       "      <td>-0.641291</td>\n",
       "      <td>1.966297</td>\n",
       "      <td>-0.405734</td>\n",
       "      <td>-0.29391</td>\n",
       "      <td>-0.177458</td>\n",
       "      <td>-0.11023</td>\n",
       "      <td>-0.896547</td>\n",
       "      <td>-0.013724</td>\n",
       "      <td>-0.056671</td>\n",
       "      <td>-0.287721</td>\n",
       "      <td>1.052279</td>\n",
       "      <td>1.124899</td>\n",
       "      <td>-0.565290</td>\n",
       "      <td>-0.680340</td>\n",
       "      <td>-0.198790</td>\n",
       "      <td>-0.38455</td>\n",
       "      <td>-0.931996</td>\n",
       "      <td>-0.100165</td>\n",
       "      <td>-0.285075</td>\n",
       "      <td>-0.100524</td>\n",
       "      <td>-0.239794</td>\n",
       "      <td>-0.134239</td>\n",
       "      <td>-0.122591</td>\n",
       "      <td>-0.340726</td>\n",
       "      <td>-0.050014</td>\n",
       "      <td>4.513282</td>\n",
       "      <td>-0.097371</td>\n",
       "      <td>-0.15558</td>\n",
       "    </tr>\n",
       "  </tbody>\n",
       "</table>\n",
       "</div>"
      ],
      "text/plain": [
       "   loan_amnt      term  ...  purpose_vacation  purpose_wedding\n",
       "0  -0.821359 -0.589247  ...         -0.097371         -0.15558\n",
       "1  -1.159017  1.697080  ...         -0.097371         -0.15558\n",
       "2  -1.172523 -0.589247  ...         -0.097371         -0.15558\n",
       "\n",
       "[3 rows x 53 columns]"
      ]
     },
     "execution_count": 40,
     "metadata": {
      "tags": []
     },
     "output_type": "execute_result"
    }
   ],
   "source": [
    "#create a list of columns of the data\n",
    "X_cols = data_df.columns.tolist()\n",
    "\n",
    "#normalize the data\n",
    "scale = StandardScaler()\n",
    "\n",
    "#convert the output a dataframe\n",
    "loan_data = pd.DataFrame(scale.fit_transform(data_df), columns = X_cols)\n",
    "\n",
    "#check the scaled data\n",
    "loan_data.head(3)"
   ]
  },
  {
   "cell_type": "code",
   "execution_count": 41,
   "metadata": {
    "colab": {
     "base_uri": "https://localhost:8080/",
     "height": 51
    },
    "colab_type": "code",
    "id": "9CfxngnbLmI6",
    "outputId": "d432252d-a39f-4c4a-f6c1-861639d6835b"
   },
   "outputs": [
    {
     "name": "stdout",
     "output_type": "stream",
     "text": [
      "(42483, 53)\n",
      "(42483,)\n"
     ]
    }
   ],
   "source": [
    "#assign input to X and target to y\n",
    "X = loan_data\n",
    "y = label\n",
    "\n",
    "#check the shape of the data\n",
    "print(X.shape)\n",
    "print(y.shape)"
   ]
  },
  {
   "cell_type": "markdown",
   "metadata": {
    "colab_type": "text",
    "id": "oDX6pZizU92B"
   },
   "source": [
    "**6. Feature Selection**\n",
    "\n",
    "The data has a total of 54 features and I perform feature selection to select important features that affect the target feature:loan status.\n",
    "\n",
    "SelectFromModel is used for feature selection with ExtraTreeClassifier. The feature selection has two steps:\n",
    "1. The data is trained on an estimator with all features and their feature importance is calculated. The estimator used in this project is ExtraTreeClassifier. The max_estimators is set to 50.\n",
    "1. SelectFromModel is a meta transformer that can be used with a classifier that has feature_importances attribute after fiiting. The estimator is passed as the argument to the SelectFromModel to select the features based on the feature importance threshold. The default threshold of mean is used. \n",
    "\n",
    "The final number of features selected are 11: loan_amnt, term, int_rate,\tinstallment, total_pymnt,\ttotal_rec_prncp, total_rec_int, recoveries,\tlast_pymnt_amnt,\tlast_credit_pull_d."
   ]
  },
  {
   "cell_type": "code",
   "execution_count": 42,
   "metadata": {
    "colab": {
     "base_uri": "https://localhost:8080/",
     "height": 34
    },
    "colab_type": "code",
    "id": "QJPtgJwwTBDK",
    "outputId": "f0c64f43-bd66-4b66-ecfc-6352fcb7cf48"
   },
   "outputs": [
    {
     "name": "stdout",
     "output_type": "stream",
     "text": [
      "(42483, 10)\n"
     ]
    }
   ],
   "source": [
    "#fit the ExtraTreesClassifier to the data\n",
    "tree_clf = ExtraTreesClassifier(n_estimators = 50)\n",
    "tree_clf = tree_clf.fit(X, y)\n",
    "\n",
    "#transform the estimated data using SelectFromModel for feature selection\n",
    "fea_model = SelectFromModel(tree_clf, prefit = True)\n",
    "X_new = fea_model.transform(X)\n",
    "\n",
    "#get the index of the features selected and convert to a list\n",
    "feature_idx = fea_model.get_support()\n",
    "feature_idx = feature_idx.tolist()\n",
    "\n",
    "#create a list of feature names using the feature index list\n",
    "feature_name = [X_cols[col] for col in range(len(feature_idx)) if feature_idx[col] == True]\n",
    "\n",
    "#create a new dataframe with the selected features from the model\n",
    "X_new = pd.DataFrame(X_new, columns = feature_name)\n",
    "\n",
    "#check the shape of the final data\n",
    "print(X_new.shape) "
   ]
  },
  {
   "cell_type": "markdown",
   "metadata": {
    "colab_type": "text",
    "id": "kNUMebEgkqdN"
   },
   "source": [
    " **Split the data**\n",
    "\n",
    "The data is split into train, validation and test in the ratio 70% ,20% ,10%. The train data is sampled using SMOTE technique to balance the class labels.  "
   ]
  },
  {
   "cell_type": "code",
   "execution_count": 43,
   "metadata": {
    "colab": {
     "base_uri": "https://localhost:8080/",
     "height": 119
    },
    "colab_type": "code",
    "id": "Imt_8vpLLbx0",
    "outputId": "4a396d2d-cbd2-4a61-fd6a-0f375db5b632"
   },
   "outputs": [
    {
     "name": "stdout",
     "output_type": "stream",
     "text": [
      "X_train:  (29738, 10)\n",
      "y_train:  (29738,)\n",
      "X_val:  (10196, 10)\n",
      "y_val:  (10196,)\n",
      "X_test:  (2549, 10)\n",
      "y_test:  (2549,)\n"
     ]
    }
   ],
   "source": [
    "#split to train, validation and test data\n",
    "X_train, X_val1, y_train, y_val1 = train_test_split(X_new, y, test_size = 0.3, random_state = 0)\n",
    "X_val, X_test, y_val, y_test = train_test_split(X_val1, y_val1, test_size = 0.2, random_state = 0)\n",
    "\n",
    "#creata a train dataset columns\n",
    "train_cols = X_train.columns.tolist()\n",
    "\n",
    "#check the shape of each split\n",
    "print(\"X_train: \",X_train.shape)\n",
    "print(\"y_train: \",y_train.shape)\n",
    "print(\"X_val: \",X_val.shape)\n",
    "print(\"y_val: \",y_val.shape)\n",
    "print(\"X_test: \",X_test.shape)\n",
    "print(\"y_test: \",y_test.shape)"
   ]
  },
  {
   "cell_type": "markdown",
   "metadata": {
    "colab_type": "text",
    "id": "t3YvY_pPpsh1"
   },
   "source": [
    "**7. Metric functions to evaluate the model performance** \n",
    "\n",
    "The different metrics used to evaluate the performance of the model are:\n",
    "1. Confusion matrix: The Confusion Matrix represents the quality of the output of a classifier on any dataset. The diagonal elements represent correct or true labels, whereas the off-diagonal elements represent the elements misclassified by the classification model. Therefore, the higher the values of the diagonal elements of the confusion matrix, the better and more accurate the classification model becomes.\n",
    "2. F1 score: F1 score is the harmonic mean of precision and recall with best value of 1 and worst value of 0. \n",
    "3. Area under the curve (AUC): The area under the ROC curve is a great metric for determining how well your classification model is performing, even in the case of imbalanced classes. A score of 1 means your model is performing perfectly, while a score of .5 means that your model is the same as randomly guessing\n",
    "4. AUC-ROC curve: The AUC curve is a plot of the True Positive Rate (TPR) against the False Positive Rate (FPR). The TPR is a measure of how often the prediction is correct, when there is a positive value, and the FPR is how often the prediction is incorrect when the value is in fact negative. "
   ]
  },
  {
   "cell_type": "code",
   "execution_count": 44,
   "metadata": {
    "colab": {},
    "colab_type": "code",
    "id": "mx8iP2moOEdZ"
   },
   "outputs": [],
   "source": [
    "#function for confusion matrix\n",
    "def plot_confusion_matrix(cm, target_names, title='Confusion Matrix', cmap=plt.cm.Blues):\n",
    "    plt.imshow(cm, interpolation='nearest', cmap=cmap)\n",
    "    plt.title(title)\n",
    "    plt.colorbar()\n",
    "    tick_marks = np.arange(len(target_names))\n",
    "    plt.xticks(tick_marks, target_names)\n",
    "    plt.yticks(tick_marks, target_names)\n",
    "    plt.tight_layout()\n",
    "\n",
    "    width, height = cm.shape\n",
    "\n",
    "    for x in range(width):\n",
    "        for y in range(height):\n",
    "            plt.annotate(str(cm[x][y]), xy=(y, x), \n",
    "                        horizontalalignment='center',\n",
    "                        verticalalignment='center')\n",
    "            \n",
    "    plt.ylabel('True Label')\n",
    "    plt.xlabel('Predicted Label')"
   ]
  },
  {
   "cell_type": "code",
   "execution_count": 45,
   "metadata": {
    "colab": {},
    "colab_type": "code",
    "id": "_IyLN0u4r-SE"
   },
   "outputs": [],
   "source": [
    "#function for roc curve\n",
    "def roccurve_func(y_test, y_pred):\n",
    "    fpr, tpr, threshold = roc_curve(y_test, y_pred)\n",
    "\n",
    "    #area under the curve\n",
    "    roc_auc = roc_auc_score(y_test, y_pred)\n",
    "\n",
    "    #plot the curve\n",
    "    plt.figure()\n",
    "    plt.plot(fpr, tpr, color = 'darkorange', lw = 1, label = 'ROC curve (area = %0.2f)' % roc_auc)\n",
    "    plt.plot([0, 1], [0, 1], color = 'navy', linestyle = '--')\n",
    "    plt.xlim([0.0, 1.0])\n",
    "    plt.ylim([0.0, 1.05])\n",
    "    plt.xlabel('False Positive Rate')\n",
    "    plt.ylabel('True Positive Rate')\n",
    "    plt.title('Receiver operating characteristic')\n",
    "    plt.legend(loc = \"lower right\")\n",
    "    plt.show()"
   ]
  },
  {
   "cell_type": "code",
   "execution_count": 46,
   "metadata": {
    "colab": {},
    "colab_type": "code",
    "id": "OTUIfsVRzoDB"
   },
   "outputs": [],
   "source": [
    "#function to plot feature importance for random forest classifier\n",
    "def plot_feature_importances(model,X_train):\n",
    "    \n",
    "    xaxes=list(X_train.columns.values)\n",
    "    yaxes=list(model.feature_importances_)\n",
    "    \n",
    "    h=dict(zip(xaxes,yaxes))\n",
    "    s = [(k, h[k]) for k in sorted(h, key=h.get, reverse=False)]\n",
    "    s=dict(s)\n",
    "    xaxes=list(s.keys())\n",
    "    yaxes=list(s.values())\n",
    "    \n",
    "    n_features = X_train.shape[1]\n",
    "    plt.figure(figsize=(8,8))\n",
    "    plt.barh(range(n_features), yaxes, align='center') \n",
    "    plt.yticks(np.arange(n_features), xaxes) \n",
    "    plt.xlabel(\"Feature importance\")\n",
    "    plt.ylabel(\"Feature\")"
   ]
  },
  {
   "cell_type": "markdown",
   "metadata": {
    "colab_type": "text",
    "id": "PxGuTKVglfuN"
   },
   "source": [
    "**8. Over Sampling**\n",
    "\n",
    "**SMOTE: Synthetic Minority Over-sampling Technique**\n",
    "\n",
    "SMOTE is an statistical technique for over sampling by increasing the number of minority classes. This method does not change the number of majority classes. SMOTE works its way to create synthetic minority classes by observing the existing minority samples. For each minority class observation, SMOTE calculates the K nearest neighbors and based on the oversampling percentage the nearest neighbors are selected at random. The next step is then to randomly create synthetic examples along the line connecting the observation under investigation (minority class instance) with the two random nearest neighbors. "
   ]
  },
  {
   "cell_type": "code",
   "execution_count": 47,
   "metadata": {
    "colab": {
     "base_uri": "https://localhost:8080/",
     "height": 102
    },
    "colab_type": "code",
    "id": "Hw36SfyTMI2q",
    "outputId": "12390a1a-9378-4b41-fde1-bc9a99d3323b"
   },
   "outputs": [
    {
     "name": "stdout",
     "output_type": "stream",
     "text": [
      "1    25212\n",
      "0    25212\n",
      "dtype: int64\n",
      "(50424, 10)\n",
      "(50424,)\n"
     ]
    }
   ],
   "source": [
    "#over sampling using SMOTE only on train data\n",
    "oversample = SMOTE()\n",
    "X_train_resample, y_train_resample = oversample.fit_sample(X_train,y_train)\n",
    "\n",
    "#convert input data to df and target data to series\n",
    "X_train_resample = pd.DataFrame(X_train_resample, columns = train_cols)\n",
    "y_train_resample = pd.Series(y_train_resample)\n",
    "\n",
    "#check the count of the target labels\n",
    "print(y_train_resample.value_counts())\n",
    "\n",
    "#check the shape of the data\n",
    "print(X_train_resample.shape)\n",
    "print(y_train_resample.shape)"
   ]
  },
  {
   "cell_type": "markdown",
   "metadata": {
    "colab_type": "text",
    "id": "K_JaCkKJxzDx"
   },
   "source": [
    "This project is done using three ML models: Random Forest, XGBoost, Neural Network. \n",
    "\n",
    "**8.1 Random Forest Classifier**\n",
    "\n",
    "A random forest is a meta estimator that fits a number of decision tree classifiers on various sub-samples of the dataset and uses averaging to improve the predictive accuracy and control over-fitting. The parameters are tuned by running the RFC for a set of parameter values and plotting the accuracy of train and validation set. The parameters considered for tuning are:\n",
    "\n",
    "1. n_estimators: The number of trees in the forest.\n",
    "2. criterion: The function to measure the quality of a split.\n",
    "3. max_depth: The maximum depth of the tree.\n",
    "4. max_features: The number of features to consider when looking for the best split\n",
    "5. min_samples_split: The minimum number of samples required to split an internal node\n",
    "6. min_samples_leaf: The minimum number of samples required to be at a leaf node\n"
   ]
  },
  {
   "cell_type": "code",
   "execution_count": 48,
   "metadata": {
    "colab": {},
    "colab_type": "code",
    "id": "NiwZBZFn3L2l"
   },
   "outputs": [],
   "source": [
    "def rfc_parameters(X_train,y_train,X_test,y_test):\n",
    "\n",
    "    #max_depth\n",
    "    max_depths = np.linspace(1, 32, 32, endpoint=True)\n",
    "    max_depth_train = []\n",
    "    max_depth_val = []\n",
    "    #iterate through the max_depths\n",
    "    for max_depth in max_depths:\n",
    "        #define RFC\n",
    "        rf = RandomForestClassifier(max_depth = max_depth, n_jobs = -1)\n",
    "        rf.fit(X_train, y_train)\n",
    "        #train error\n",
    "        train_md_pred = rf.predict(X_train)\n",
    "        max_depth_train.append((accuracy_score(train_md_pred,y_train)))\n",
    "        #validation error\n",
    "        val_md_pred = rf.predict(X_val)\n",
    "        max_depth_val.append((accuracy_score(val_md_pred,y_val)))\n",
    "\n",
    "    #n_estimators\n",
    "    n_estimators = [1,2,4,8,16,32, 50, 64,96, 100, 150, 200]\n",
    "    estimators_train = []\n",
    "    estimators_val = []\n",
    "    #iterate through the n_estimators\n",
    "    for estimator in n_estimators:\n",
    "        #define RFC\n",
    "        rf = RandomForestClassifier(n_estimators = estimator, n_jobs = -1)\n",
    "        rf.fit(X_train, y_train)\n",
    "        #train error\n",
    "        train_est_pred = rf.predict(X_train)\n",
    "        estimators_train.append((accuracy_score(train_est_pred,y_train)))\n",
    "        #validation error\n",
    "        val_est_pred = rf.predict(X_val)\n",
    "        estimators_val.append((accuracy_score(val_est_pred,y_val)))\n",
    "\n",
    "    #min_samples_split\n",
    "    min_samples_split = np.linspace(0.1, 1.0, 10, endpoint=True)\n",
    "    spilt_train = []\n",
    "    spilt_val = []\n",
    "    #iterate through the min_samples_split\n",
    "    for split in min_samples_split:\n",
    "        #define RFC\n",
    "        rf = RandomForestClassifier(min_samples_split = split, n_jobs = -1)\n",
    "        rf.fit(X_train, y_train)\n",
    "        #train error\n",
    "        train_mss_pred = rf.predict(X_train)\n",
    "        spilt_train.append((accuracy_score(train_mss_pred,y_train)))\n",
    "        #validation error\n",
    "        val_mss_pred = rf.predict(X_val)\n",
    "        spilt_val.append((accuracy_score(val_mss_pred,y_val)))\n",
    "\n",
    "    #min_samples_leaf\n",
    "    min_samples_leaf = np.linspace(0.1, 0.5, 5, endpoint=True)\n",
    "    leaf_train = []\n",
    "    leaf_val = []\n",
    "    #iterate through the min_samples_leaf\n",
    "    for leaf in min_samples_leaf:\n",
    "        #define RFC\n",
    "        rf = RandomForestClassifier(min_samples_leaf = leaf, n_jobs = -1)\n",
    "        rf.fit(X_train, y_train)\n",
    "        #train error\n",
    "        train_msl_pred = rf.predict(X_train)\n",
    "        leaf_train.append((accuracy_score(train_msl_pred,y_train)))\n",
    "        #validation error\n",
    "        val_msl_pred = rf.predict(X_val)\n",
    "        leaf_val.append((accuracy_score(val_msl_pred,y_val)))\n",
    "\n",
    "    #create subplots\n",
    "    fig,(axs) = plt.subplots(2,2,figsize=(8,8))\n",
    "  \n",
    "    #plot max_depth\n",
    "    axs[0,0].plot(max_depths,max_depth_train)\n",
    "    axs[0,0].plot(max_depths,max_depth_val)\n",
    "    axs[0,0].set_title('Max depth')\n",
    "    axs[0,0].xaxis.set_label_text('max_depth')\n",
    "\n",
    "    #plot n_estimators\n",
    "    axs[0,1].plot(n_estimators,estimators_train)\n",
    "    axs[0,1].plot(n_estimators,estimators_val)\n",
    "    axs[0,1].set_title('N estimators')\n",
    "    axs[0,1].xaxis.set_label_text('n_estimators')\n",
    "\n",
    "    #plot min_samples_split\n",
    "    axs[1,0].plot(min_samples_split,spilt_train)\n",
    "    axs[1,0].plot(min_samples_split,spilt_val)\n",
    "    axs[1,0].set_title('Min samples split')\n",
    "    axs[1,0].xaxis.set_label_text('min_samples_split')\n",
    "\n",
    "    #plot min_samples_leaf\n",
    "    axs[1,1].plot(min_samples_leaf,leaf_train)\n",
    "    axs[1,1].plot(min_samples_leaf,leaf_val)\n",
    "    axs[1,1].set_title('Min samples leaf')\n",
    "    axs[1,1].xaxis.set_label_text('min_samples_leaf')\n",
    "\n",
    "    #set the legend and y_label\n",
    "    for ax in axs.flat:\n",
    "        ax.yaxis.set_label_text('accuracy')\n",
    "        ax.legend(['train','validation'])\n",
    "\n",
    "    plt.show()"
   ]
  },
  {
   "cell_type": "code",
   "execution_count": 49,
   "metadata": {
    "colab": {
     "base_uri": "https://localhost:8080/",
     "height": 514
    },
    "colab_type": "code",
    "id": "IjTgcBIO7g7v",
    "outputId": "c03cbc1b-1a9d-4022-f78e-1336a2930a8c"
   },
   "outputs": [
    {
     "data": {
      "image/png": "[encoded data removed]",
      "text/plain": [
       "<Figure size 576x576 with 4 Axes>"
      ]
     },
     "metadata": {
      "needs_background": "light",
      "tags": []
     },
     "output_type": "display_data"
    }
   ],
   "source": [
    "rfc_parameters(X_train_resample,y_train_resample,X_val,y_val)"
   ]
  },
  {
   "cell_type": "markdown",
   "metadata": {
    "colab_type": "text",
    "id": "0oukiVS4wspK"
   },
   "source": [
    "From the above four graphs:\n",
    "\n",
    "  1. max_depth: The higher values of max depth tend to overfit the data and the max_depth of 4 is chosen as the parameter value.\n",
    "  2. n_estimators: The graph shows the train accuracy reaches 100% after a first few iterations and the validation accuracy is highest at 99.6% and stays between 99.4%-99.6% for n of estimators which shows the model is accurate. The estimators choosen for this project correspond to highest accuracy i.e; 25 estimators.\n",
    "  3. min_samples_split: The accuracy decreases for both train and validation data with increase in samples. Also higher values will have more general leafes and effect the model performance. So a value of 4 is choosen.\n",
    "  4. min_samples_leaf: For this again the accuracy decreases like min_samples_split and thus a low value of 1 is choosen."
   ]
  },
  {
   "cell_type": "code",
   "execution_count": 50,
   "metadata": {
    "colab": {},
    "colab_type": "code",
    "id": "AvLzSljSVGpb"
   },
   "outputs": [],
   "source": [
    "#run the actual RFC estimator with the best parameters from GridSearchCV\n",
    "rfc = RandomForestClassifier(random_state = 0, max_features = 'auto', n_estimators = 20, max_depth = 4, criterion = 'entropy',\n",
    "                             min_samples_leaf = 1, min_samples_split = 4, oob_score = True)\n",
    "rfc.fit(X_train_resample, y_train_resample)\n",
    "\n",
    "#predict the target on test data\n",
    "rfc_pred = rfc.predict(X_test)"
   ]
  },
  {
   "cell_type": "code",
   "execution_count": 51,
   "metadata": {
    "colab": {
     "base_uri": "https://localhost:8080/",
     "height": 464
    },
    "colab_type": "code",
    "id": "bbF7BgYI0yRF",
    "outputId": "5038e498-1f6d-4be3-e7d9-10be29b6bf4b"
   },
   "outputs": [
    {
     "name": "stdout",
     "output_type": "stream",
     "text": [
      "              precision    recall  f1-score   support\n",
      "\n",
      "           0       0.92      0.95      0.93       369\n",
      "           1       0.99      0.99      0.99      2180\n",
      "\n",
      "    accuracy                           0.98      2549\n",
      "   macro avg       0.96      0.97      0.96      2549\n",
      "weighted avg       0.98      0.98      0.98      2549\n",
      "\n"
     ]
    },
    {
     "data": {
      "image/png": "[encoded data removed]",
      "text/plain": [
       "<Figure size 432x288 with 2 Axes>"
      ]
     },
     "metadata": {
      "needs_background": "light",
      "tags": []
     },
     "output_type": "display_data"
    }
   ],
   "source": [
    "#print the classification report\n",
    "print(classification_report(rfc_pred, y_test))\n",
    "\n",
    "#plot the confusion matrix\n",
    "rfc_conf = confusion_matrix(rfc_pred, y_test)\n",
    "plot_confusion_matrix(rfc_conf,[\"Charged Off\",\"Fully Paid\"])"
   ]
  },
  {
   "cell_type": "code",
   "execution_count": 52,
   "metadata": {
    "colab": {
     "base_uri": "https://localhost:8080/",
     "height": 34
    },
    "colab_type": "code",
    "id": "fnRjGGzhCJsb",
    "outputId": "6adbca0e-7699-4080-9cc0-36c10c9bc4de"
   },
   "outputs": [
    {
     "name": "stdout",
     "output_type": "stream",
     "text": [
      "349 20 30 2150\n"
     ]
    }
   ],
   "source": [
    "tn, fp, fn, tp = confusion_matrix(rfc_pred, y_test).ravel()\n",
    "print(tn, fp, fn, tp)"
   ]
  },
  {
   "cell_type": "code",
   "execution_count": 53,
   "metadata": {
    "colab": {
     "base_uri": "https://localhost:8080/",
     "height": 295
    },
    "colab_type": "code",
    "id": "956Ia6tp07Bw",
    "outputId": "1cf134f5-4aa9-4820-96a8-f314119d49af"
   },
   "outputs": [
    {
     "data": {
      "image/png": "[encoded data removed]",
      "text/plain": [
       "<Figure size 432x288 with 1 Axes>"
      ]
     },
     "metadata": {
      "needs_background": "light",
      "tags": []
     },
     "output_type": "display_data"
    }
   ],
   "source": [
    "#plot the roc curve\n",
    "roccurve_func(y_test, rfc_pred)"
   ]
  },
  {
   "cell_type": "code",
   "execution_count": 54,
   "metadata": {
    "colab": {
     "base_uri": "https://localhost:8080/",
     "height": 497
    },
    "colab_type": "code",
    "id": "crTS4oksvkYe",
    "outputId": "a72a1c89-a560-4893-ed5a-a582f7984ced"
   },
   "outputs": [
    {
     "data": {
      "image/png": "[encoded data removed]",
      "text/plain": [
       "<Figure size 576x576 with 1 Axes>"
      ]
     },
     "metadata": {
      "needs_background": "light",
      "tags": []
     },
     "output_type": "display_data"
    }
   ],
   "source": [
    "#plot the feature importance\n",
    "plot_feature_importances(rfc,X_train)"
   ]
  },
  {
   "cell_type": "markdown",
   "metadata": {
    "colab_type": "text",
    "id": "8u9aEk9Qzb5H"
   },
   "source": [
    "From the above graph, the recovries and last_payment_amnt features have the highest importance indicating the loan_status depends highly on recoveries and last amount paid."
   ]
  },
  {
   "cell_type": "markdown",
   "metadata": {
    "colab_type": "text",
    "id": "aIHw6cIS1LVA"
   },
   "source": [
    "**8.2 XGBoost Classifier using SMOTE**\n",
    "\n",
    "XGBoost is an optimized distributed gradient boosting library designed to be highly efficient, flexible and portable. It implements machine learning algorithms under the Gradient Boosting framework. XGBoost provides a parallel tree boosting. GridSearchCV is performed using 5-fold CV on XGBoost as well for hyperparameter tuning: The parameters tuned are:\n",
    "1. gamma: Minimum loss reduction required to make a further partition on a leaf node of the tree\n",
    "2. learning_rate: Step size shrinkage used in update to prevents overfitting \n",
    "3. max_depth: Maximum depth of a tree\n",
    "4. min_child_weight:Minimum sum of instance weight needed in a child. If the tree partition step results in a leaf node with the sum of instance weight less than min_child_weight, then the building process will give up further partitioning\n",
    "5. n_rounds: The number of rounds for boosting\n",
    "6. subsample: Subsample ratio of the training instances\n",
    "\n",
    "The other parameters set are:\n",
    "1. tree_method: The tree construction algorithm used in XGBoost. It is set to  gpu_hist (GPU implementation of hist algorithm)\n",
    "2. objective: binary:logistic: logistic regression for binary classification, output probability\n",
    "3. eval_metric: Evaluation metrics for validation, training data\n"
   ]
  },
  {
   "cell_type": "code",
   "execution_count": 56,
   "metadata": {
    "colab": {
     "base_uri": "https://localhost:8080/",
     "height": 170
    },
    "colab_type": "code",
    "id": "2MAigp_YyR2w",
    "outputId": "e7082c80-6141-404e-a607-4d68a4fe1be4"
   },
   "outputs": [
    {
     "name": "stdout",
     "output_type": "stream",
     "text": [
      "Fitting 5 folds for each of 648 candidates, totalling 3240 fits\n",
      "[Parallel(n_jobs=1)]: Using backend SequentialBackend with 1 concurrent workers.\n",
      "[Parallel(n_jobs=1)]: Done 3240 out of 3240 | elapsed: 24.8min finished\n",
      "{'gamma': 0.1,\n",
      "'learning_rate': 0.01,\n",
      "'max_depth': 8, \n",
      "'min_child_weight': 1,\n",
      "'n_rounds': 50,\n",
      "'subsample': 0.5}\n"
     ]
    }
   ],
   "source": [
    "#define the parameters to be used in grid search\n",
    "xg_param_grid = {\"gamma\" : [0.1,0.5,1,10],\n",
    "                 \"learning_rate\" : [0.01, 0.001],\n",
    "                 \"max_depth\" : [4,6,8],\n",
    "                 \"min_child_weight\" : [1,3,5],\n",
    "                 \"n_rounds\" : [50,100,150],\n",
    "                 \"subsample\" : [0.5,0.7,0.8]\n",
    "                 }\n",
    "\n",
    "xg_model = XGBClassifier(random_state = 2, tree_method = \"gpu_hist\", objective = \"binary:logistic\")\n",
    "xg_cv = GridSearchCV(estimator = xg_model, param_grid = xg_param_grid, cv = 5, verbose = 1)\n",
    "\n",
    "#run the search on sampled data\n",
    "xg_cv.fit(X_train_resample, y_train_resample)\n",
    "\n",
    "#get the best parameters after the search\n",
    "xg_cv.best_params_"
   ]
  },
  {
   "cell_type": "code",
   "execution_count": 57,
   "metadata": {
    "colab": {},
    "colab_type": "code",
    "id": "-vzqAtasAdSj"
   },
   "outputs": [],
   "source": [
    "#dense matrix(DMatrix): data structure used by xgboost and convergence is faster and better is the performance\n",
    "#create dmatrix for train, val and test data\n",
    "dtrain = xgb.DMatrix(X_train_resample, y_train_resample)\n",
    "dval = xgb.DMatrix(X_val, y_val)\n",
    "dtest = xgb.DMatrix(X_test, y_test)\n",
    "\n",
    "#create and evaluation set\n",
    "evals = [(dval,\"validation\"),(dtrain,\"train\")]"
   ]
  },
  {
   "cell_type": "code",
   "execution_count": 58,
   "metadata": {
    "colab": {},
    "colab_type": "code",
    "id": "05WPfrvbA_-e"
   },
   "outputs": [],
   "source": [
    "#set parameters for xgboost model from gridsearchcv\n",
    "xg_params = {\"gamma\" : 1,\n",
    "             \"learning_rate\" : 0.01,\n",
    "             \"max_depth\" : 4,\n",
    "             \"min_child_weight\" : 1,\n",
    "             \"n_rounds\" : 50,\n",
    "             \"subsample\" : 0.5,\n",
    "             \"max_leaves\" : 2**8,\n",
    "             \"tree_method\" : \"gpu_hist\",\n",
    "             \"objective\" : \"binary:logistic\",\n",
    "             \"verbose\" : True,\n",
    "             \"eval_metric\": \"error\"\n",
    "            }"
   ]
  },
  {
   "cell_type": "code",
   "execution_count": 59,
   "metadata": {
    "colab": {
     "base_uri": "https://localhost:8080/",
     "height": 867
    },
    "colab_type": "code",
    "id": "Nk8vV2-OA2JV",
    "outputId": "f929e369-44e0-4ce4-e0b1-36e301650ab2"
   },
   "outputs": [
    {
     "name": "stdout",
     "output_type": "stream",
     "text": [
      "[0]\tvalidation-error:0.014123\ttrain-error:0.034428\n",
      "[1]\tvalidation-error:0.014123\ttrain-error:0.034408\n",
      "[2]\tvalidation-error:0.014123\ttrain-error:0.034388\n",
      "[3]\tvalidation-error:0.014221\ttrain-error:0.034408\n",
      "[4]\tvalidation-error:0.014221\ttrain-error:0.034408\n",
      "[5]\tvalidation-error:0.014221\ttrain-error:0.034408\n",
      "[6]\tvalidation-error:0.014221\ttrain-error:0.034408\n",
      "[7]\tvalidation-error:0.014221\ttrain-error:0.034408\n",
      "[8]\tvalidation-error:0.014221\ttrain-error:0.034408\n",
      "[9]\tvalidation-error:0.014221\ttrain-error:0.034408\n",
      "[10]\tvalidation-error:0.014221\ttrain-error:0.034408\n",
      "[11]\tvalidation-error:0.014221\ttrain-error:0.034408\n",
      "[12]\tvalidation-error:0.014221\ttrain-error:0.034408\n",
      "[13]\tvalidation-error:0.014221\ttrain-error:0.034408\n",
      "[14]\tvalidation-error:0.014221\ttrain-error:0.034408\n",
      "[15]\tvalidation-error:0.014221\ttrain-error:0.034408\n",
      "[16]\tvalidation-error:0.014221\ttrain-error:0.034408\n",
      "[17]\tvalidation-error:0.014221\ttrain-error:0.034408\n",
      "[18]\tvalidation-error:0.014614\ttrain-error:0.032167\n",
      "[19]\tvalidation-error:0.014515\ttrain-error:0.032128\n",
      "[20]\tvalidation-error:0.014417\ttrain-error:0.032286\n",
      "[21]\tvalidation-error:0.014221\ttrain-error:0.034408\n",
      "[22]\tvalidation-error:0.014025\ttrain-error:0.032306\n",
      "[23]\tvalidation-error:0.014025\ttrain-error:0.032306\n",
      "[24]\tvalidation-error:0.014025\ttrain-error:0.032306\n",
      "[25]\tvalidation-error:0.014221\ttrain-error:0.032227\n",
      "[26]\tvalidation-error:0.014025\ttrain-error:0.032227\n",
      "[27]\tvalidation-error:0.014123\ttrain-error:0.032187\n",
      "[28]\tvalidation-error:0.013927\ttrain-error:0.032266\n",
      "[29]\tvalidation-error:0.014123\ttrain-error:0.032187\n",
      "[30]\tvalidation-error:0.014123\ttrain-error:0.032187\n",
      "[31]\tvalidation-error:0.013927\ttrain-error:0.032266\n",
      "[32]\tvalidation-error:0.013927\ttrain-error:0.032266\n",
      "[33]\tvalidation-error:0.014123\ttrain-error:0.032187\n",
      "[34]\tvalidation-error:0.014123\ttrain-error:0.032187\n",
      "[35]\tvalidation-error:0.014123\ttrain-error:0.032187\n",
      "[36]\tvalidation-error:0.013927\ttrain-error:0.032266\n",
      "[37]\tvalidation-error:0.013731\ttrain-error:0.031929\n",
      "[38]\tvalidation-error:0.013731\ttrain-error:0.031909\n",
      "[39]\tvalidation-error:0.014319\ttrain-error:0.032128\n",
      "[40]\tvalidation-error:0.013731\ttrain-error:0.031909\n",
      "[41]\tvalidation-error:0.013731\ttrain-error:0.031909\n",
      "[42]\tvalidation-error:0.014319\ttrain-error:0.032128\n",
      "[43]\tvalidation-error:0.013731\ttrain-error:0.031909\n",
      "[44]\tvalidation-error:0.012946\ttrain-error:0.031969\n",
      "[45]\tvalidation-error:0.01275\ttrain-error:0.032048\n",
      "[46]\tvalidation-error:0.012946\ttrain-error:0.031969\n",
      "[47]\tvalidation-error:0.01275\ttrain-error:0.032048\n",
      "[48]\tvalidation-error:0.01275\ttrain-error:0.032048\n",
      "[49]\tvalidation-error:0.012946\ttrain-error:0.032048\n"
     ]
    }
   ],
   "source": [
    "num_rounds = xg_params[\"n_rounds\"]\n",
    "xgb_model = xgb.train(xg_params, dtrain, num_rounds, evals = evals)"
   ]
  },
  {
   "cell_type": "code",
   "execution_count": 60,
   "metadata": {
    "colab": {
     "base_uri": "https://localhost:8080/",
     "height": 34
    },
    "colab_type": "code",
    "id": "5_Oa1StdBoNe",
    "outputId": "cc9c261b-97dc-4edb-b421-9d392d689865"
   },
   "outputs": [
    {
     "name": "stdout",
     "output_type": "stream",
     "text": [
      "[0.63280255 0.69513845 0.63743997 ... 0.63280255 0.6956973  0.63743997]\n"
     ]
    }
   ],
   "source": [
    "#predict the test data\n",
    "pred = xgb_model.predict(dtest)\n",
    "\n",
    "#check the predictions\n",
    "print(pred)"
   ]
  },
  {
   "cell_type": "markdown",
   "metadata": {
    "colab_type": "text",
    "id": "VSzzNhUu5NQS"
   },
   "source": [
    "Since the predictions are logistic in nature, we need to convert them to bianry to evalute the model This is done by setting a threshold of 0.5 meaning all probability scores >= 0.5 will be assigned 1 (Fully Paid) and those with scores < 0.5 will be assigned 0 (Charged Off)."
   ]
  },
  {
   "cell_type": "code",
   "execution_count": 61,
   "metadata": {
    "colab": {
     "base_uri": "https://localhost:8080/",
     "height": 34
    },
    "colab_type": "code",
    "id": "2RrbGggp5LpK",
    "outputId": "9e134c18-44a5-4302-9810-98a285ef9098"
   },
   "outputs": [
    {
     "name": "stdout",
     "output_type": "stream",
     "text": [
      "[1 1 1 ... 1 1 1]\n"
     ]
    }
   ],
   "source": [
    "#set threshold and check the predictions\n",
    "threshold = 0.5\n",
    "pred = (pred > threshold).astype(\"int\")\n",
    "print(pred)"
   ]
  },
  {
   "cell_type": "code",
   "execution_count": 62,
   "metadata": {
    "colab": {
     "base_uri": "https://localhost:8080/",
     "height": 464
    },
    "colab_type": "code",
    "id": "-EASEL215mjv",
    "outputId": "e387d038-9f2b-4c79-8d39-c3fc1018a4f1"
   },
   "outputs": [
    {
     "name": "stdout",
     "output_type": "stream",
     "text": [
      "              precision    recall  f1-score   support\n",
      "\n",
      "           0       0.91      0.98      0.95       351\n",
      "           1       1.00      0.98      0.99      2198\n",
      "\n",
      "    accuracy                           0.98      2549\n",
      "   macro avg       0.95      0.98      0.97      2549\n",
      "weighted avg       0.99      0.98      0.98      2549\n",
      "\n"
     ]
    },
    {
     "data": {
      "image/png": "[encoded data removed]",
      "text/plain": [
       "<Figure size 432x288 with 2 Axes>"
      ]
     },
     "metadata": {
      "needs_background": "light",
      "tags": []
     },
     "output_type": "display_data"
    }
   ],
   "source": [
    "#print the classification report\n",
    "print(classification_report(pred, y_test))\n",
    "\n",
    "#plot the confusion matrix\n",
    "xg_conf = confusion_matrix(pred, y_test)\n",
    "plot_confusion_matrix(xg_conf,[\"Charged Off\",\"Fully Paid\"])"
   ]
  },
  {
   "cell_type": "code",
   "execution_count": 63,
   "metadata": {
    "colab": {
     "base_uri": "https://localhost:8080/",
     "height": 295
    },
    "colab_type": "code",
    "id": "R4JfVAUYCUxk",
    "outputId": "548dedf5-05e9-48f5-c516-f15a90ab75b9"
   },
   "outputs": [
    {
     "data": {
      "image/png": "[encoded data removed]",
      "text/plain": [
       "<Figure size 432x288 with 1 Axes>"
      ]
     },
     "metadata": {
      "needs_background": "light",
      "tags": []
     },
     "output_type": "display_data"
    }
   ],
   "source": [
    "#plot the roc curve\n",
    "roccurve_func(y_test, pred)"
   ]
  },
  {
   "cell_type": "code",
   "execution_count": 64,
   "metadata": {
    "colab": {
     "base_uri": "https://localhost:8080/",
     "height": 621
    },
    "colab_type": "code",
    "id": "7XVBEjkfCrRo",
    "outputId": "d98f677d-7277-4c2a-8436-e8c88b02dd60"
   },
   "outputs": [
    {
     "data": {
      "image/png": "[encoded data removed]",
      "text/plain": [
       "<Figure size 720x720 with 1 Axes>"
      ]
     },
     "metadata": {
      "needs_background": "light",
      "tags": []
     },
     "output_type": "display_data"
    }
   ],
   "source": [
    "#plot the feature importance\n",
    "ax = xgb.plot_importance(xgb_model)\n",
    "fig = ax.figure\n",
    "fig.set_size_inches(10,10)"
   ]
  },
  {
   "cell_type": "markdown",
   "metadata": {
    "colab_type": "text",
    "id": "h8jc_f_96D3u"
   },
   "source": [
    "**8.3 Neural Network using Pytorch and CUDA**\n",
    "\n",
    "A neural netowrk is created and trained on GPU using Pytorch and CUDA. The neural network consists of one input layer, 3 hidden layers and an output layer. All layers are fully-connected layers and the Activation function used is \"Relu\" for input and hidden layers and \"Sigmoid\" for output layer. Dropout layers are used to prevent from overfitting. The layers are defined in the __init__ function of the model and the feedforward connection of the layers is defined in forward function. "
   ]
  },
  {
   "cell_type": "code",
   "execution_count": 65,
   "metadata": {
    "colab": {},
    "colab_type": "code",
    "id": "0tVrQvkX_zAC"
   },
   "outputs": [],
   "source": [
    "#function to convert data to tensor\n",
    "def convert_torch(X_train,y_train,X_val, y_val, X_test,y_test):\n",
    "    #convert the data to tensors using torch.from_numpy\n",
    "    #convert dataframes to numpy\n",
    "    X_train_numpy = X_train.to_numpy()\n",
    "    X_test_numpy = X_test.to_numpy()\n",
    "    X_val_numpy = X_val.to_numpy()\n",
    "    #y_val_numpy = y_val.to_numpy()\n",
    "    #y_train_numpy = y_train.to_numpy()\n",
    "    #y_test_numpy = y_test.to_numpy()\n",
    "\n",
    "    #convert to torch variables\n",
    "    Xtrain = torch.from_numpy(X_train_numpy).float()\n",
    "    ytrain = torch.squeeze(torch.from_numpy(y_train).float())\n",
    "    Xval = torch.from_numpy(X_val_numpy).float()\n",
    "    yval = torch.squeeze(torch.from_numpy(y_val).float())\n",
    "    Xtest = torch.from_numpy(X_test_numpy).float()\n",
    "    ytest = torch.squeeze(torch.from_numpy(y_test).float())\n",
    "\n",
    "    return Xtrain, ytrain, Xval, yval, Xtest, ytest"
   ]
  },
  {
   "cell_type": "markdown",
   "metadata": {
    "colab_type": "text",
    "id": "NWtONkR5UxqE"
   },
   "source": [
    "Define the neural network model using nn.Module from Pytorch. nn.Module is a container that is a base class for all other neural network modules. The different layers defined are subclass of this nn.Module class."
   ]
  },
  {
   "cell_type": "code",
   "execution_count": 66,
   "metadata": {
    "colab": {},
    "colab_type": "code",
    "id": "xhJWlSpwFeif"
   },
   "outputs": [],
   "source": [
    "class Net(nn.Module):\n",
    "    def __init__(self, n_features):\n",
    "        super(Net, self).__init__()\n",
    "        self.fc1 = nn.Linear(n_features, 256)\n",
    "        self.fc2 = nn.Linear(256, 128)\n",
    "        self.dropout1 = nn.Dropout(p=0.1)\n",
    "        self.fc3 = nn.Linear(128, 64)\n",
    "        self.dropout2 = nn.Dropout(p=0.1)\n",
    "        self.fc4 = nn.Linear(64, 16)\n",
    "        #self.fc5 = nn.Linear(16, 8)\n",
    "        self.fc6 = nn.Linear(16, 1)\n",
    "    def forward(self, x):\n",
    "        x = F.relu(self.fc1(x))\n",
    "        x = self.dropout1(x) \n",
    "        x = F.relu(self.fc2(x))\n",
    "        x = F.relu(self.fc3(x))\n",
    "        x = self.dropout2(x) \n",
    "        x = F.relu(self.fc4(x))\n",
    "        #x = F.relu(self.fc5(x))\n",
    "    return torch.sigmoid(self.fc6(x))"
   ]
  },
  {
   "cell_type": "markdown",
   "metadata": {
    "colab_type": "text",
    "id": "cKMj_ITmbK94"
   },
   "source": [
    "Create a an instance of the Net class and define the loss function an doptimizer for the network.\n",
    "\n",
    "The next step is to check for available GPU and to assign the data and model to the GPU. This is done using torch.device. It is an object representing the device on which a torch.Tensor is or will be allocated and contains a device type ('cpu' or 'cuda')."
   ]
  },
  {
   "cell_type": "code",
   "execution_count": 66,
   "metadata": {
    "colab": {},
    "colab_type": "code",
    "id": "8bChXtjPvVvh"
   },
   "outputs": [],
   "source": [
    "#use binary cross entropy loss funciton\n",
    "criterion = nn.BCELoss()\n",
    "\n",
    "#create a device instance to check if GPU is available. If available, assign the current GPU device to device parameter.\n",
    "#the tensors, network and loss function are then allocated to this device and the model is run on GPU \n",
    "device = torch.device(\"cuda\" if torch.cuda.is_available() else \"cpu\")\n",
    "#device = torch.device(\"cuda:0\" if torch.cuda.is_available() else \"cpu\")\n",
    "\n",
    "#function to allocate resources to cuda\n",
    "def params_to_cuda(Xtrain,ytrain,Xval,yval,Xtest,ytest,net,criterion):\n",
    "    #allocate all the data to cuda device\n",
    "    Xtrain = Xtrain.to(device)\n",
    "    ytrain = ytrain.to(device)\n",
    "    Xtest = Xtest.to(device)\n",
    "    ytest = ytest.to(device)\n",
    "    Xval = Xtest.to(device)\n",
    "    yval = ytest.to(device)\n",
    "\n",
    "    #allocate the network and the loss functions to cuda device\n",
    "    net = net.to(device)\n",
    "    criterion = criterion.to(device)\n",
    "\n",
    "    return Xtrain,ytrain,Xval,yval,Xtest,ytest,net,criterion"
   ]
  },
  {
   "cell_type": "code",
   "execution_count": 67,
   "metadata": {
    "colab": {},
    "colab_type": "code",
    "id": "cd_wGCxQCsR5"
   },
   "outputs": [],
   "source": [
    "def net_train(n_epochs,optimizer,net,Xtrain,ytrain,X_val,y_val):\n",
    "\n",
    "    #collect train and validation loss\n",
    "    train_loss = []\n",
    "    val_loss = []\n",
    "\n",
    "    #train the model for 15 epochs\n",
    "    for epoch in range(n_epochs):\n",
    "        #set initial loss to 0\n",
    "        running_loss = 0.0\n",
    "        val_data_loss = 0.0\n",
    "\n",
    "        #forward pass to get outputs\n",
    "        y_pred = net(Xtrain)\n",
    "        y_pred = torch.squeeze(y_pred)\n",
    "\n",
    "        #calculate the loss between predicted and target keypoints\n",
    "        loss = criterion(y_pred, ytrain)\n",
    "\n",
    "        #zero the parameter (weight) gradients\n",
    "        optimizer.zero_grad()\n",
    "\n",
    "        #backward pass to calculate the weight gradients\n",
    "        loss.backward()\n",
    "\n",
    "        #update the weights\n",
    "        optimizer.step()\n",
    "\n",
    "        #print loss statistics\n",
    "        running_loss = loss.item()\n",
    "        train_loss.append(running_loss)\n",
    "\n",
    "        #get the validation statistics\n",
    "        val_pred = net(X_val)\n",
    "        val_pred = torch.squeeze(val_pred)\n",
    "        validation_loss = criterion(val_pred, y_val)\n",
    "        val_data_loss = validation_loss.item()\n",
    "        val_loss.append(val_data_loss)\n",
    "\n",
    "        #print every 2 epochs\n",
    "        if epoch % 2 == 0:\n",
    "            print('Epoch: {}, Avg. Loss: {}, Avg. Val Loss: {}'.format(epoch + 1, running_loss/10,val_data_loss/10))\n",
    "\n",
    "    print(\"Finished Training\")\n",
    "    return train_loss, val_loss"
   ]
  },
  {
   "cell_type": "markdown",
   "metadata": {
    "colab_type": "text",
    "id": "jrjW3b63E78i"
   },
   "source": [
    "Train the neural network model using the over sampled data."
   ]
  },
  {
   "cell_type": "code",
   "execution_count": 140,
   "metadata": {
    "colab": {},
    "colab_type": "code",
    "id": "gMytRVnVFEs6"
   },
   "outputs": [],
   "source": [
    "class Net(nn.Module):\n",
    "    def __init__(self, n_features):\n",
    "        super(Net, self).__init__()\n",
    "        self.fc1 = nn.Linear(n_features, 256)\n",
    "        self.fc2 = nn.Linear(256, 128)\n",
    "        self.dropout1 = nn.Dropout(p=0.1)\n",
    "        self.fc3 = nn.Linear(128, 64)\n",
    "        self.dropout2 = nn.Dropout(p=0.1)\n",
    "        self.fc4 = nn.Linear(64, 16)\n",
    "        self.fc6 = nn.Linear(16, 1)\n",
    "    def forward(self, x):\n",
    "        x = F.relu(self.fc1(x))\n",
    "        x = self.dropout1(x) \n",
    "        x = F.relu(self.fc2(x))\n",
    "        x = F.relu(self.fc3(x))\n",
    "        x = self.dropout2(x) \n",
    "        x = F.relu(self.fc4(x))\n",
    "    return torch.sigmoid(self.fc6(x))"
   ]
  },
  {
   "cell_type": "code",
   "execution_count": 141,
   "metadata": {
    "colab": {
     "base_uri": "https://localhost:8080/",
     "height": 969
    },
    "colab_type": "code",
    "id": "yfLUzY6rAI0u",
    "outputId": "214da933-7f2d-42b4-f3b2-7af597a78424"
   },
   "outputs": [
    {
     "name": "stdout",
     "output_type": "stream",
     "text": [
      "Train data shape, X_train : torch.Size([50424, 10]),y_train : torch.Size([50424])\n",
      "Validation data shape, X_val : torch.Size([10196, 10]),y_val : torch.Size([10196])\n",
      "Test data shape, X_test : torch.Size([2549, 10]),y_test : torch.Size([2549])\n",
      "\n",
      "\n",
      "Epoch: 1, Avg. Loss: 0.06935278177261353, Avg. Val Loss: 0.070032799243927\n",
      "Epoch: 3, Avg. Loss: 0.06874247193336487, Avg. Val Loss: 0.06962535977363586\n",
      "Epoch: 5, Avg. Loss: 0.06803467869758606, Avg. Val Loss: 0.06888006329536438\n",
      "Epoch: 7, Avg. Loss: 0.06696204543113708, Avg. Val Loss: 0.06764866709709168\n",
      "Epoch: 9, Avg. Loss: 0.06539908051490784, Avg. Val Loss: 0.06584013700485229\n",
      "Epoch: 11, Avg. Loss: 0.06316642761230469, Avg. Val Loss: 0.06333234906196594\n",
      "Epoch: 13, Avg. Loss: 0.060214847326278687, Avg. Val Loss: 0.06028120517730713\n",
      "Epoch: 15, Avg. Loss: 0.056617969274520875, Avg. Val Loss: 0.0568203330039978\n",
      "Epoch: 17, Avg. Loss: 0.052412223815917966, Avg. Val Loss: 0.05275429487228393\n",
      "Epoch: 19, Avg. Loss: 0.04776535630226135, Avg. Val Loss: 0.047968947887420656\n",
      "Epoch: 21, Avg. Loss: 0.04278492033481598, Avg. Val Loss: 0.04265543222427368\n",
      "Epoch: 23, Avg. Loss: 0.037801298499107364, Avg. Val Loss: 0.03726920485496521\n",
      "Epoch: 25, Avg. Loss: 0.03295435905456543, Avg. Val Loss: 0.03260369598865509\n",
      "Epoch: 27, Avg. Loss: 0.028436735272407532, Avg. Val Loss: 0.028043478727340698\n",
      "Epoch: 29, Avg. Loss: 0.024307997524738313, Avg. Val Loss: 0.023451656103134155\n",
      "Epoch: 31, Avg. Loss: 0.02045261561870575, Avg. Val Loss: 0.019536224007606507\n",
      "Epoch: 33, Avg. Loss: 0.017200371623039244, Avg. Val Loss: 0.01651863902807236\n",
      "Epoch: 35, Avg. Loss: 0.014628680050373077, Avg. Val Loss: 0.014379252493381501\n",
      "Epoch: 37, Avg. Loss: 0.012543454766273499, Avg. Val Loss: 0.012529994547367095\n",
      "Epoch: 39, Avg. Loss: 0.011068984866142273, Avg. Val Loss: 0.011368720978498458\n",
      "Epoch: 41, Avg. Loss: 0.010116290301084518, Avg. Val Loss: 0.009367013722658158\n",
      "Epoch: 43, Avg. Loss: 0.009300609678030014, Avg. Val Loss: 0.009567149728536607\n",
      "Epoch: 45, Avg. Loss: 0.008803809434175492, Avg. Val Loss: 0.008722857385873795\n",
      "Epoch: 47, Avg. Loss: 0.007964804023504257, Avg. Val Loss: 0.008245708793401718\n",
      "Epoch: 49, Avg. Loss: 0.007749980688095093, Avg. Val Loss: 0.008137205988168717\n",
      "Epoch: 51, Avg. Loss: 0.007151307910680771, Avg. Val Loss: 0.007939963787794112\n",
      "Epoch: 53, Avg. Loss: 0.006825878471136093, Avg. Val Loss: 0.007698869705200196\n",
      "Epoch: 55, Avg. Loss: 0.006731585413217544, Avg. Val Loss: 0.007357316464185715\n",
      "Epoch: 57, Avg. Loss: 0.006819910556077957, Avg. Val Loss: 0.007486709952354431\n",
      "Epoch: 59, Avg. Loss: 0.006283918768167496, Avg. Val Loss: 0.007330349832773209\n",
      "Epoch: 61, Avg. Loss: 0.00626494362950325, Avg. Val Loss: 0.006980004906654358\n",
      "Epoch: 63, Avg. Loss: 0.005872179567813873, Avg. Val Loss: 0.006572640687227249\n",
      "Epoch: 65, Avg. Loss: 0.006045497208833695, Avg. Val Loss: 0.0064128987491130825\n",
      "Epoch: 67, Avg. Loss: 0.0055497042834758755, Avg. Val Loss: 0.006993374973535538\n",
      "Epoch: 69, Avg. Loss: 0.005205092579126358, Avg. Val Loss: 0.006149862334132195\n",
      "Epoch: 71, Avg. Loss: 0.005107399448752404, Avg. Val Loss: 0.005691007897257805\n",
      "Epoch: 73, Avg. Loss: 0.0054860256612300875, Avg. Val Loss: 0.005330457165837288\n",
      "Epoch: 75, Avg. Loss: 0.005084589868783951, Avg. Val Loss: 0.0055645696818828584\n",
      "Epoch: 77, Avg. Loss: 0.005410776287317276, Avg. Val Loss: 0.0056909237056970595\n",
      "Epoch: 79, Avg. Loss: 0.004990882426500321, Avg. Val Loss: 0.00507703647017479\n",
      "Epoch: 81, Avg. Loss: 0.0048330027610063555, Avg. Val Loss: 0.005209417641162872\n",
      "Epoch: 83, Avg. Loss: 0.004551145806908607, Avg. Val Loss: 0.0051887016743421555\n",
      "Epoch: 85, Avg. Loss: 0.004398240149021149, Avg. Val Loss: 0.004977499321103096\n",
      "Epoch: 87, Avg. Loss: 0.00463143102824688, Avg. Val Loss: 0.005521192401647568\n",
      "Epoch: 89, Avg. Loss: 0.004330231994390488, Avg. Val Loss: 0.005222731828689575\n",
      "Epoch: 91, Avg. Loss: 0.004597554728388786, Avg. Val Loss: 0.004378139600157737\n",
      "Epoch: 93, Avg. Loss: 0.004001889377832413, Avg. Val Loss: 0.004438116028904915\n",
      "Epoch: 95, Avg. Loss: 0.004170077294111252, Avg. Val Loss: 0.0038761574774980544\n",
      "Epoch: 97, Avg. Loss: 0.004201257228851318, Avg. Val Loss: 0.005017808079719544\n",
      "Epoch: 99, Avg. Loss: 0.004030025377869606, Avg. Val Loss: 0.004426651820540428\n",
      "Finished Training\n"
     ]
    }
   ],
   "source": [
    "#convert over sample data to tensor\n",
    "Xtrain_resample, ytrain_resample, Xval, yval, Xtest, ytest = convert_torch(X_train_resample,y_train_resample.to_numpy(),X_val,y_val,X_test,y_test)\n",
    "\n",
    "#check the shape of the train and test data\n",
    "print(\"Train data shape, X_train : {0},y_train : {1}\".format(Xtrain_resample.shape, ytrain_resample.shape))\n",
    "print(\"Validation data shape, X_val : {0},y_val : {1}\".format(Xval.shape, yval.shape))\n",
    "print(\"Test data shape, X_test : {0},y_test : {1}\".format(Xtest.shape, ytest.shape))\n",
    "print(\"\\n\")\n",
    "#network class instance\n",
    "net = Net(Xtrain_resample.shape[1])\n",
    "\n",
    "#def Adam optimizer with lr = 0.01\n",
    "optimizer = optim.Adam(net.parameters(), lr = 0.001)\n",
    "\n",
    "#allocate the variables to cuda\n",
    "Xtrain_resample,ytrain_resample,Xval,yval,Xtest,ytest,net,criterion = params_to_cuda(Xtrain_resample,ytrain_resample,Xval,yval,\n",
    "                                                                                     Xtest,ytest,net,criterion)\n",
    "\n",
    "#run for 100 epochs and see the loss curve to decide the number of epochs\n",
    "epochs = 100\n",
    "train_loss, val_loss = net_train(epochs,optimizer,net,Xtrain_resample,ytrain_resample,Xval,yval)"
   ]
  },
  {
   "cell_type": "code",
   "execution_count": 142,
   "metadata": {
    "colab": {
     "base_uri": "https://localhost:8080/",
     "height": 514
    },
    "colab_type": "code",
    "id": "LMMu9G7NKGNZ",
    "outputId": "9b5d6b31-e0aa-42eb-e26c-5d8cab8c672f"
   },
   "outputs": [
    {
     "data": {
      "text/plain": [
       "<matplotlib.legend.Legend at 0x7fecd21a60b8>"
      ]
     },
     "execution_count": 142,
     "metadata": {
      "tags": []
     },
     "output_type": "execute_result"
    },
    {
     "data": {
      "image/png": "[encoded data removed]",
      "text/plain": [
       "<Figure size 576x576 with 1 Axes>"
      ]
     },
     "metadata": {
      "needs_background": "light",
      "tags": []
     },
     "output_type": "display_data"
    }
   ],
   "source": [
    "#plot the train and validation loss\n",
    "fig,axs = plt.subplots(figsize=(8,8))\n",
    "n1_epochs = list(range(1,101))\n",
    "axs.plot(n1_epochs,train_loss)\n",
    "axs.plot(n1_epochs,val_loss)\n",
    "axs.xaxis.set_label_text('epochs')\n",
    "axs.yaxis.set_label_text('loss')\n",
    "axs.legend(['train','validation'])"
   ]
  },
  {
   "cell_type": "markdown",
   "metadata": {
    "colab_type": "text",
    "id": "fQl9O3igFTze"
   },
   "source": [
    "From the above graph, the validation loss decreases compared to train loss. However, after 40, the validation loss varies up and down and is more than train and the model seems to overfit. Thus the epochs are set to 30."
   ]
  },
  {
   "cell_type": "code",
   "execution_count": 143,
   "metadata": {
    "colab": {
     "base_uri": "https://localhost:8080/",
     "height": 374
    },
    "colab_type": "code",
    "id": "W-IQ6WIzLGbq",
    "outputId": "0bb8e965-877e-4a16-bece-423d2ce52b98"
   },
   "outputs": [
    {
     "name": "stdout",
     "output_type": "stream",
     "text": [
      "Epoch: 1, Avg. Loss: 0.0036493126302957536, Avg. Val Loss: 0.004721217602491379\n",
      "Epoch: 3, Avg. Loss: 0.003908145800232887, Avg. Val Loss: 0.004371466860175133\n",
      "Epoch: 5, Avg. Loss: 0.0036940544843673704, Avg. Val Loss: 0.004380039125680924\n",
      "Epoch: 7, Avg. Loss: 0.0036584950983524324, Avg. Val Loss: 0.0041391409933567045\n",
      "Epoch: 9, Avg. Loss: 0.0035013265907764433, Avg. Val Loss: 0.0036985404789447785\n",
      "Epoch: 11, Avg. Loss: 0.0036102037876844404, Avg. Val Loss: 0.0037919048219919203\n",
      "Epoch: 13, Avg. Loss: 0.0037243936210870745, Avg. Val Loss: 0.004183313995599747\n",
      "Epoch: 15, Avg. Loss: 0.0035979263484477997, Avg. Val Loss: 0.0034827690571546553\n",
      "Epoch: 17, Avg. Loss: 0.003598199412226677, Avg. Val Loss: 0.0035299982875585554\n",
      "Epoch: 19, Avg. Loss: 0.0033301942050457, Avg. Val Loss: 0.003454570844769478\n",
      "Epoch: 21, Avg. Loss: 0.0037198465317487715, Avg. Val Loss: 0.003757709264755249\n",
      "Epoch: 23, Avg. Loss: 0.003729504719376564, Avg. Val Loss: 0.0035533662885427475\n",
      "Epoch: 25, Avg. Loss: 0.003425664454698563, Avg. Val Loss: 0.0031543806195259093\n",
      "Epoch: 27, Avg. Loss: 0.0035983748733997346, Avg. Val Loss: 0.0036598619073629378\n",
      "Epoch: 29, Avg. Loss: 0.003645743802189827, Avg. Val Loss: 0.003246251866221428\n",
      "Epoch: 31, Avg. Loss: 0.003248593583703041, Avg. Val Loss: 0.0026845112442970276\n",
      "Epoch: 33, Avg. Loss: 0.0032522611320018767, Avg. Val Loss: 0.003190957009792328\n",
      "Epoch: 35, Avg. Loss: 0.0033533651381731032, Avg. Val Loss: 0.0035447608679533005\n",
      "Epoch: 37, Avg. Loss: 0.003138161823153496, Avg. Val Loss: 0.0027541302144527434\n",
      "Epoch: 39, Avg. Loss: 0.0029446810483932497, Avg. Val Loss: 0.003032832406461239\n",
      "Finished Training\n"
     ]
    }
   ],
   "source": [
    "n_epochs = 40\n",
    "train_loss, val_loss = net_train(n_epochs,optimizer,net,Xtrain_resample,ytrain_resample,Xval,yval)"
   ]
  },
  {
   "cell_type": "code",
   "execution_count": 144,
   "metadata": {
    "colab": {
     "base_uri": "https://localhost:8080/",
     "height": 170
    },
    "colab_type": "code",
    "id": "9v2YavvcDYtC",
    "outputId": "624c8472-2ad9-41e3-f4cf-6928bd21174c"
   },
   "outputs": [
    {
     "name": "stdout",
     "output_type": "stream",
     "text": [
      "              precision    recall  f1-score   support\n",
      "\n",
      "         0.0       0.97      0.98      0.97       379\n",
      "         1.0       1.00      0.99      1.00      2170\n",
      "\n",
      "    accuracy                           0.99      2549\n",
      "   macro avg       0.98      0.99      0.98      2549\n",
      "weighted avg       0.99      0.99      0.99      2549\n",
      "\n"
     ]
    }
   ],
   "source": [
    "#predict on test data and calculate the metrics\n",
    "y_pred = net(Xtest)\n",
    "\n",
    "#reallocate test and predicted data to cpu\n",
    "y_pred = y_pred.ge(.5).view(-1).cpu()\n",
    "ytest = ytest.cpu()\n",
    "\n",
    "#classification report\n",
    "print(classification_report(ytest, y_pred))"
   ]
  },
  {
   "cell_type": "code",
   "execution_count": 145,
   "metadata": {
    "colab": {
     "base_uri": "https://localhost:8080/",
     "height": 311
    },
    "colab_type": "code",
    "id": "bCj3b1R-DdeB",
    "outputId": "7031f3d9-7124-460b-a1da-f7a77df25362"
   },
   "outputs": [
    {
     "data": {
      "image/png": "[encoded data removed]",
      "text/plain": [
       "<Figure size 432x288 with 2 Axes>"
      ]
     },
     "metadata": {
      "needs_background": "light",
      "tags": []
     },
     "output_type": "display_data"
    }
   ],
   "source": [
    "#confusion matrix\n",
    "nn_conf = confusion_matrix(y_pred, ytest)\n",
    "plot_confusion_matrix(nn_conf,[\"Charged Off\",\"Fully Paid\"])"
   ]
  },
  {
   "cell_type": "code",
   "execution_count": 146,
   "metadata": {
    "colab": {
     "base_uri": "https://localhost:8080/",
     "height": 295
    },
    "colab_type": "code",
    "id": "wVHAvXHZDgoX",
    "outputId": "fd68e83d-255f-4f68-809e-310bf9d2d267"
   },
   "outputs": [
    {
     "data": {
      "image/png": "[encoded data removed]",
      "text/plain": [
       "<Figure size 432x288 with 1 Axes>"
      ]
     },
     "metadata": {
      "needs_background": "light",
      "tags": []
     },
     "output_type": "display_data"
    }
   ],
   "source": [
    "#roc curve\n",
    "roccurve_func(ytest, y_pred)"
   ]
  },
  {
   "cell_type": "markdown",
   "metadata": {
    "colab_type": "text",
    "id": "9gm4VF5lGM0f"
   },
   "source": [
    "**9. Weighted Model**\n",
    "\n",
    "This section deals with assigning weights to the target class and then modelling the algorithms. The class weights are calculated using class_weight function from sklearn."
   ]
  },
  {
   "cell_type": "code",
   "execution_count": 68,
   "metadata": {
    "colab": {
     "base_uri": "https://localhost:8080/",
     "height": 34
    },
    "colab_type": "code",
    "id": "o3-wRyAVEL6Z",
    "outputId": "67a9dd42-ada2-4c0e-f32b-01f1aaba446a"
   },
   "outputs": [
    {
     "data": {
      "text/plain": [
       "{0: 3.285240830755634, 1: 0.5897588449944471}"
      ]
     },
     "execution_count": 68,
     "metadata": {
      "tags": []
     },
     "output_type": "execute_result"
    }
   ],
   "source": [
    "#calculate class weights\n",
    "class_wts = class_weight.compute_class_weight(\"balanced\", np.unique(y_train),y_train)\n",
    "class_wts = dict(enumerate(class_wts))\n",
    "class_wts"
   ]
  },
  {
   "cell_type": "markdown",
   "metadata": {
    "colab_type": "text",
    "id": "mn90_RCLidpU"
   },
   "source": [
    "**9.1 Random Forest**\n",
    "\n",
    "Perform random forest classifier with class weights. The parameter values are set after running the rfc parameters function."
   ]
  },
  {
   "cell_type": "code",
   "execution_count": 69,
   "metadata": {
    "colab": {
     "base_uri": "https://localhost:8080/",
     "height": 514
    },
    "colab_type": "code",
    "id": "nrAHKqGxG7e4",
    "outputId": "65fa30e9-884f-4b1c-c764-cf05fdc08b29"
   },
   "outputs": [
    {
     "data": {
      "image/png": "[encoded data removed]",
      "text/plain": [
       "<Figure size 576x576 with 4 Axes>"
      ]
     },
     "metadata": {
      "needs_background": "light",
      "tags": []
     },
     "output_type": "display_data"
    }
   ],
   "source": [
    "#decide the parameter values\n",
    "rfc_parameters(X_train,y_train,X_val,y_val)"
   ]
  },
  {
   "cell_type": "markdown",
   "metadata": {},
   "source": [
    "From the above four graphs:\n",
    "\n",
    "1. max_depth: The higher values of max depth tend to overfit the data and the max_depth of 4 is chosen as the parameter value.\n",
    "2. n_estimators: The graph shows the train accuracy reaches 100% after a first few iterations and the validation accuracy is highest at 99.6% and stays between 99.4%-99.6% for n of estimators which shows the model is accurate. The estimators choosen for this project correspond to highest accuracy i.e; 20 estimators.\n",
    "3. min_samples_split: The accuracy decreases for both train and validation data with increase in samples. Also higher values will have more general leaves and effect the model performance. So a value of 4 is choosen.\n",
    "4. min_samples_leaf: For this again the accuracy decreases like min_samples_split and thus a low value of 1 is choosen."
   ]
  },
  {
   "cell_type": "code",
   "execution_count": 70,
   "metadata": {
    "colab": {},
    "colab_type": "code",
    "id": "GBfi3PtxiTw_"
   },
   "outputs": [],
   "source": [
    "#run the actual RFC estimator with the best parameters from GridSearchCV\n",
    "rfc_wm = RandomForestClassifier(random_state = 9, max_features = 'auto', n_estimators = 20, max_depth = 4, \n",
    "                                criterion = 'entropy',min_samples_leaf = 1, min_samples_split = 4, \n",
    "                                oob_score = True,class_weight = class_wts)\n",
    "rfc_wm.fit(X_train, y_train)\n",
    "\n",
    "#predict the target on test data\n",
    "rfc_pred_wm = rfc_wm.predict(X_test)"
   ]
  },
  {
   "cell_type": "code",
   "execution_count": 71,
   "metadata": {
    "colab": {
     "base_uri": "https://localhost:8080/",
     "height": 464
    },
    "colab_type": "code",
    "id": "kpKszBq7iulB",
    "outputId": "2a6d275d-da56-4df6-c743-443ab5985a1a"
   },
   "outputs": [
    {
     "name": "stdout",
     "output_type": "stream",
     "text": [
      "              precision    recall  f1-score   support\n",
      "\n",
      "           0       0.92      0.96      0.94       365\n",
      "           1       0.99      0.99      0.99      2184\n",
      "\n",
      "    accuracy                           0.98      2549\n",
      "   macro avg       0.96      0.97      0.96      2549\n",
      "weighted avg       0.98      0.98      0.98      2549\n",
      "\n"
     ]
    },
    {
     "data": {
      "image/png": "[encoded data removed]",
      "text/plain": [
       "<Figure size 432x288 with 2 Axes>"
      ]
     },
     "metadata": {
      "needs_background": "light",
      "tags": []
     },
     "output_type": "display_data"
    }
   ],
   "source": [
    "#print the classification report\n",
    "print(classification_report(rfc_pred_wm, y_test))\n",
    "\n",
    "#plot the confusion matrix\n",
    "rfc_conf_wm = confusion_matrix(rfc_pred_wm, y_test)\n",
    "plot_confusion_matrix(rfc_conf_wm,[\"Charged Off\",\"Fully Paid\"])"
   ]
  },
  {
   "cell_type": "code",
   "execution_count": 72,
   "metadata": {
    "colab": {
     "base_uri": "https://localhost:8080/",
     "height": 295
    },
    "colab_type": "code",
    "id": "7F1UDdggi4q0",
    "outputId": "86293288-8306-471c-cbc9-24b5f87bc63e"
   },
   "outputs": [
    {
     "data": {
      "image/png": "[encoded data removed]",
      "text/plain": [
       "<Figure size 432x288 with 1 Axes>"
      ]
     },
     "metadata": {
      "needs_background": "light",
      "tags": []
     },
     "output_type": "display_data"
    }
   ],
   "source": [
    "#plot the roc curve\n",
    "roccurve_func(y_test, rfc_pred_wm)"
   ]
  },
  {
   "cell_type": "markdown",
   "metadata": {
    "colab_type": "text",
    "id": "1gqw5k8d50xv"
   },
   "source": [
    "**9.2 XGBoost Classifier**\n",
    "\n",
    "XGBoost has its own capability of handling imbalance dataset with a parameter called scale_pos_weight. The weights of the classes are assigned to scale_pos_weight parameter and the eval metric is set to \"auc\" to evaluate the training process. GridSearchCV is performed again on the original data to set the parameter values. The same prameters same as XGBoost with SMOTE are used for GridSeacrhCV and for model training along with two parameters: \n",
    "1. scale_pos_weight: len(negative_class)/len(positive_class)\n",
    "2. eval_metric: set to error"
   ]
  },
  {
   "cell_type": "code",
   "execution_count": 73,
   "metadata": {
    "colab": {
     "base_uri": "https://localhost:8080/",
     "height": 34
    },
    "colab_type": "code",
    "id": "Ve24bm5QHZGU",
    "outputId": "e513c6af-dcf2-4dbc-e24d-b7eb63cae582"
   },
   "outputs": [
    {
     "name": "stdout",
     "output_type": "stream",
     "text": [
      "0.17730358874878757\n"
     ]
    }
   ],
   "source": [
    "#calculate scale_pos_weight using formula len(negative class)/len(positive class)\n",
    "pos_class = len(loan[loan.loan_status == \"Fully Paid\"])\n",
    "neg_class = len(loan[loan.loan_status == \"Charged Off\"])\n",
    "class_wt_xgb = neg_class/pos_class\n",
    "\n",
    "#check the class weight\n",
    "print(class_wt_xgb)"
   ]
  },
  {
   "cell_type": "code",
   "execution_count": 75,
   "metadata": {
    "colab": {
     "base_uri": "https://localhost:8080/",
     "height": 170
    },
    "colab_type": "code",
    "id": "3YDPm1C4_na3",
    "outputId": "c3e37fb9-dc31-4635-e3cf-2301f96dd8f7"
   },
   "outputs": [
    {
     "name": "stdout",
     "output_type": "stream",
     "text": [
      "Fitting 3 folds for each of 3240 candidates, totalling 9720 fits\n",
      "[Parallel(n_jobs=1)]: Using backend SequentialBackend with 1concurrent workers.\n",
      "[Parallel(n_jobs=1)]: Done 9720 out of 9720 | elapsed: 102.4min finished\n",
      "{'gamma': 0.1,\n",
      "'learning_rate': 0.01,\n",
      "'max_depth': 8,\n",
      "'min_child_weight': 1,\n",
      "'n_rounds': 50,\n",
      "'subsample': 0.7}\n"
     ]
    }
   ],
   "source": [
    "#define the parameters to be used in grid search\n",
    "xg_param_grid_wm = {\"gamma\" : [0.1,0.5,1,10],\n",
    "                 \"learning_rate\" : [0.01, 0.001],\n",
    "                 \"max_depth\" : [4,6,8],\n",
    "                 \"min_child_weight\" : [1,3,5],\n",
    "                 \"n_rounds\" : [50,100,150],\n",
    "                 \"subsample\" : [0.5,0.7,0.8]\n",
    "                 }\n",
    "\n",
    "xg_model_wm = XGBClassifier(random_state = 2, tree_method = \"gpu_hist\", objective = \"binary:logistic\")\n",
    "xg_cv_wm = GridSearchCV(estimator = xg_model_wm, param_grid = xg_param_grid_wm, cv = 5, verbose = 1)\n",
    "\n",
    "#run the search on sampled data\n",
    "xg_cv_wm.fit(X_train_resample, y_train_resample)\n",
    "\n",
    "#get the best parameters after the search\n",
    "xg_cv_wm.best_params_"
   ]
  },
  {
   "cell_type": "code",
   "execution_count": 76,
   "metadata": {
    "colab": {},
    "colab_type": "code",
    "id": "Igz8C6m9C6js"
   },
   "outputs": [],
   "source": [
    "#create d_train for X_train data\n",
    "d_train = xgb.DMatrix(X_train, y_train)\n",
    "\n",
    "#create and evaluation set\n",
    "evals_spw = [(dval,\"validation\"),(d_train,\"train\")]"
   ]
  },
  {
   "cell_type": "code",
   "execution_count": 77,
   "metadata": {
    "colab": {},
    "colab_type": "code",
    "id": "_Gci3EphDKWs"
   },
   "outputs": [],
   "source": [
    "#set parameters for xgboost model\n",
    "xgb_params = {\"gamma\" : 0.1,\n",
    "             \"learning_rate\" : 0.01,\n",
    "             \"max_depth\" : 8,\n",
    "             \"min_child_weight\" : 1,\n",
    "             \"n_rounds\" : 50,\n",
    "             \"subsample\" : 0.7,\n",
    "             \"max_leaves\" : 2**8,\n",
    "             \"tree_method\" : \"gpu_hist\",\n",
    "             \"objective\" : \"binary:logistic\",\n",
    "             \"scale_pos_weight\" : class_wt_xgb,\n",
    "             \"verbose\" : True,\n",
    "             \"eval_metric\": \"error\"\n",
    "              }"
   ]
  },
  {
   "cell_type": "code",
   "execution_count": 78,
   "metadata": {
    "colab": {
     "base_uri": "https://localhost:8080/",
     "height": 867
    },
    "colab_type": "code",
    "id": "FXR02GHBDaWs",
    "outputId": "e776a40f-71b4-4069-f632-4cbd6767c7f7"
   },
   "outputs": [
    {
     "name": "stdout",
     "output_type": "stream",
     "text": [
      "[0]\tvalidation-error:0.007258\ttrain-error:0.005448\n",
      "[1]\tvalidation-error:0.007944\ttrain-error:0.006591\n",
      "[2]\tvalidation-error:0.008631\ttrain-error:0.007364\n",
      "[3]\tvalidation-error:0.007454\ttrain-error:0.006288\n",
      "[4]\tvalidation-error:0.008435\ttrain-error:0.006759\n",
      "[5]\tvalidation-error:0.008337\ttrain-error:0.006692\n",
      "[6]\tvalidation-error:0.008239\ttrain-error:0.006456\n",
      "[7]\tvalidation-error:0.008435\ttrain-error:0.006994\n",
      "[8]\tvalidation-error:0.008239\ttrain-error:0.006625\n",
      "[9]\tvalidation-error:0.008239\ttrain-error:0.006389\n",
      "[10]\tvalidation-error:0.007748\ttrain-error:0.006356\n",
      "[11]\tvalidation-error:0.007748\ttrain-error:0.006389\n",
      "[12]\tvalidation-error:0.007748\ttrain-error:0.006389\n",
      "[13]\tvalidation-error:0.008042\ttrain-error:0.00649\n",
      "[14]\tvalidation-error:0.007944\ttrain-error:0.006423\n",
      "[15]\tvalidation-error:0.007454\ttrain-error:0.006053\n",
      "[16]\tvalidation-error:0.00765\ttrain-error:0.006086\n",
      "[17]\tvalidation-error:0.007748\ttrain-error:0.006221\n",
      "[18]\tvalidation-error:0.007748\ttrain-error:0.006221\n",
      "[19]\tvalidation-error:0.007748\ttrain-error:0.006221\n",
      "[20]\tvalidation-error:0.00765\ttrain-error:0.006154\n",
      "[21]\tvalidation-error:0.00765\ttrain-error:0.006019\n",
      "[22]\tvalidation-error:0.007454\ttrain-error:0.005986\n",
      "[23]\tvalidation-error:0.007454\ttrain-error:0.006019\n",
      "[24]\tvalidation-error:0.00716\ttrain-error:0.005918\n",
      "[25]\tvalidation-error:0.006964\ttrain-error:0.005717\n",
      "[26]\tvalidation-error:0.006669\ttrain-error:0.005548\n",
      "[27]\tvalidation-error:0.006669\ttrain-error:0.005717\n",
      "[28]\tvalidation-error:0.006865\ttrain-error:0.005683\n",
      "[29]\tvalidation-error:0.006865\ttrain-error:0.005717\n",
      "[30]\tvalidation-error:0.006964\ttrain-error:0.005851\n",
      "[31]\tvalidation-error:0.006865\ttrain-error:0.005582\n",
      "[32]\tvalidation-error:0.006865\ttrain-error:0.005548\n",
      "[33]\tvalidation-error:0.006767\ttrain-error:0.005616\n",
      "[34]\tvalidation-error:0.006865\ttrain-error:0.005616\n",
      "[35]\tvalidation-error:0.006865\ttrain-error:0.005548\n",
      "[36]\tvalidation-error:0.007258\ttrain-error:0.005616\n",
      "[37]\tvalidation-error:0.006865\ttrain-error:0.005548\n",
      "[38]\tvalidation-error:0.006767\ttrain-error:0.005548\n",
      "[39]\tvalidation-error:0.006767\ttrain-error:0.005481\n",
      "[40]\tvalidation-error:0.006767\ttrain-error:0.005582\n",
      "[41]\tvalidation-error:0.006767\ttrain-error:0.005582\n",
      "[42]\tvalidation-error:0.006767\ttrain-error:0.005616\n",
      "[43]\tvalidation-error:0.006865\ttrain-error:0.005616\n",
      "[44]\tvalidation-error:0.006865\ttrain-error:0.005616\n",
      "[45]\tvalidation-error:0.006767\ttrain-error:0.005548\n",
      "[46]\tvalidation-error:0.006865\ttrain-error:0.005616\n",
      "[47]\tvalidation-error:0.006767\ttrain-error:0.005582\n",
      "[48]\tvalidation-error:0.006865\ttrain-error:0.005582\n",
      "[49]\tvalidation-error:0.006865\ttrain-error:0.005649\n"
     ]
    }
   ],
   "source": [
    "num_rounds = xgb_params[\"n_rounds\"]\n",
    "xgb_model_spw = xgb.train(xgb_params, d_train, num_rounds, evals = evals_spw)"
   ]
  },
  {
   "cell_type": "code",
   "execution_count": 79,
   "metadata": {
    "colab": {
     "base_uri": "https://localhost:8080/",
     "height": 51
    },
    "colab_type": "code",
    "id": "w-bgSso_Dl1j",
    "outputId": "378794ef-fe9a-4eee-8681-0807719fbb86"
   },
   "outputs": [
    {
     "name": "stdout",
     "output_type": "stream",
     "text": [
      "[0.670442   0.6923886  0.67581505 ... 0.67761135 0.6937645  0.6411658 ]\n",
      "[1 1 1 ... 1 1 1]\n"
     ]
    }
   ],
   "source": [
    "#predict the test data\n",
    "xgb_pred_spw = xgb_model_spw.predict(dtest)\n",
    "#check the predictions\n",
    "print(xgb_pred_spw)\n",
    "\n",
    "#convert predictions based on the 0.5 threshold\n",
    "xgb_pred_spw = (xgb_pred_spw > threshold).astype(\"int\")\n",
    "print(xgb_pred_spw)"
   ]
  },
  {
   "cell_type": "code",
   "execution_count": 80,
   "metadata": {
    "colab": {
     "base_uri": "https://localhost:8080/",
     "height": 464
    },
    "colab_type": "code",
    "id": "zkATOEe5_geS",
    "outputId": "d1c412c2-d50a-403a-81e8-7d6dd89899fb"
   },
   "outputs": [
    {
     "name": "stdout",
     "output_type": "stream",
     "text": [
      "              precision    recall  f1-score   support\n",
      "\n",
      "           0       0.96      0.96      0.96       379\n",
      "           1       0.99      0.99      0.99      2170\n",
      "\n",
      "    accuracy                           0.99      2549\n",
      "   macro avg       0.98      0.98      0.98      2549\n",
      "weighted avg       0.99      0.99      0.99      2549\n",
      "\n"
     ]
    },
    {
     "data": {
      "image/png": "[encoded data removed]",
      "text/plain": [
       "<Figure size 432x288 with 2 Axes>"
      ]
     },
     "metadata": {
      "needs_background": "light",
      "tags": []
     },
     "output_type": "display_data"
    }
   ],
   "source": [
    "#print the classification report\n",
    "print(classification_report(xgb_pred_spw, y_test))\n",
    "\n",
    "#plot the confusion matrix\n",
    "xgb_conf_spw = confusion_matrix(xgb_pred_spw, y_test)\n",
    "plot_confusion_matrix(xgb_conf_spw,[\"Charged Off\",\"Fully Paid\"])"
   ]
  },
  {
   "cell_type": "code",
   "execution_count": 81,
   "metadata": {
    "colab": {
     "base_uri": "https://localhost:8080/",
     "height": 295
    },
    "colab_type": "code",
    "id": "eMlTTUtC_nJn",
    "outputId": "30543e48-b30c-4f09-c0ab-79faec802562"
   },
   "outputs": [
    {
     "data": {
      "image/png": "[encoded data removed]",
      "text/plain": [
       "<Figure size 432x288 with 1 Axes>"
      ]
     },
     "metadata": {
      "needs_background": "light",
      "tags": []
     },
     "output_type": "display_data"
    }
   ],
   "source": [
    "#plot the roc curve\n",
    "roccurve_func(y_test, xgb_pred_spw)"
   ]
  },
  {
   "cell_type": "code",
   "execution_count": 82,
   "metadata": {
    "colab": {
     "base_uri": "https://localhost:8080/",
     "height": 621
    },
    "colab_type": "code",
    "id": "x_epbu_kEFpE",
    "outputId": "a0b48e55-2e59-4608-cfd2-cea11f178a54"
   },
   "outputs": [
    {
     "data": {
      "image/png": "[encoded data removed]",
      "text/plain": [
       "<Figure size 720x720 with 1 Axes>"
      ]
     },
     "metadata": {
      "needs_background": "light",
      "tags": []
     },
     "output_type": "display_data"
    }
   ],
   "source": [
    "#plot the feature importance\n",
    "ax = xgb.plot_importance(xgb_model_spw)\n",
    "fig = ax.figure\n",
    "fig.set_size_inches(10,10)"
   ]
  },
  {
   "cell_type": "markdown",
   "metadata": {
    "colab_type": "text",
    "id": "Z9UPGw_eu6pe"
   },
   "source": [
    "**9.3 Neural network weighted model**\n",
    "\n",
    "The class weights obtained using sklearn are allocated to cuda and set to weights in the BCEloss function."
   ]
  },
  {
   "cell_type": "code",
   "execution_count": 109,
   "metadata": {
    "colab": {},
    "colab_type": "code",
    "id": "9znkOFmLu98v"
   },
   "outputs": [],
   "source": [
    "#define the neural network for weighted modelling\n",
    "class Net(nn.Module):\n",
    "    def __init__(self, n_features):\n",
    "        super(Net, self).__init__()\n",
    "        self.fc1 = nn.Linear(n_features, 1024)\n",
    "        self.fc2 = nn.Linear(1024, 512)\n",
    "        self.dropout1 = nn.Dropout(p=0.1)\n",
    "        self.fc3 = nn.Linear(512, 256)\n",
    "        self.dropout2 = nn.Dropout(p=0.1)\n",
    "        self.fc4 = nn.Linear(256, 128)\n",
    "        self.dropout3 = nn.Dropout(p=0.1)\n",
    "        self.fc5 = nn.Linear(128, 64)\n",
    "        self.dropout4 = nn.Dropout(p=0.1)\n",
    "        self.fc6 = nn.Linear(64, 1)\n",
    "    def forward(self, x):\n",
    "        x = F.relu(self.fc1(x))\n",
    "        x = self.dropout1(x) \n",
    "        x = F.relu(self.fc2(x))\n",
    "        x = F.relu(self.fc3(x))\n",
    "        x = self.dropout2(x) \n",
    "        x = F.relu(self.fc4(x))\n",
    "        x = self.dropout3(x)\n",
    "        x = F.relu(self.fc5(x))\n",
    "        x = self.dropout4(x)\n",
    "    return torch.sigmoid(self.fc6(x))"
   ]
  },
  {
   "cell_type": "code",
   "execution_count": 110,
   "metadata": {
    "colab": {
     "base_uri": "https://localhost:8080/",
     "height": 969
    },
    "colab_type": "code",
    "id": "_DY98Ww_tG8J",
    "outputId": "be08481a-9933-4939-b808-a4143e49434d"
   },
   "outputs": [
    {
     "name": "stdout",
     "output_type": "stream",
     "text": [
      "Train data shape, X_train : torch.Size([29738, 10]),y_train : torch.Size([29738])\n",
      "Validation data shape, X_val : torch.Size([10196, 10]),y_val : torch.Size([10196])\n",
      "Test data shape, X_test : torch.Size([2549, 10]),y_test : torch.Size([2549])\n",
      "\n",
      "\n",
      "Epoch: 1, Avg. Loss: 0.0728510558605194, Avg. Val Loss: 0.07066097855567932\n",
      "Epoch: 3, Avg. Loss: 0.06758777499198913, Avg. Val Loss: 0.062483972311019896\n",
      "Epoch: 5, Avg. Loss: 0.056083297729492186, Avg. Val Loss: 0.04776355922222138\n",
      "Epoch: 7, Avg. Loss: 0.04499291777610779, Avg. Val Loss: 0.0423036128282547\n",
      "Epoch: 9, Avg. Loss: 0.04293986856937408, Avg. Val Loss: 0.0364759624004364\n",
      "Epoch: 11, Avg. Loss: 0.03404848873615265, Avg. Val Loss: 0.030614015460014344\n",
      "Epoch: 13, Avg. Loss: 0.030767333507537842, Avg. Val Loss: 0.028770598769187927\n",
      "Epoch: 15, Avg. Loss: 0.02719886600971222, Avg. Val Loss: 0.02449610084295273\n",
      "Epoch: 17, Avg. Loss: 0.023275558650493623, Avg. Val Loss: 0.021861246228218077\n",
      "Epoch: 19, Avg. Loss: 0.02100808322429657, Avg. Val Loss: 0.01953372359275818\n",
      "Epoch: 21, Avg. Loss: 0.017383949458599092, Avg. Val Loss: 0.017174507677555084\n",
      "Epoch: 23, Avg. Loss: 0.01495954990386963, Avg. Val Loss: 0.014181655645370484\n",
      "Epoch: 25, Avg. Loss: 0.011522793769836425, Avg. Val Loss: 0.011766499280929566\n",
      "Epoch: 27, Avg. Loss: 0.009414196759462357, Avg. Val Loss: 0.010536976158618927\n",
      "Epoch: 29, Avg. Loss: 0.008151152729988098, Avg. Val Loss: 0.009185800701379776\n",
      "Epoch: 31, Avg. Loss: 0.006447702646255493, Avg. Val Loss: 0.008535123616456985\n",
      "Epoch: 33, Avg. Loss: 0.005933965370059013, Avg. Val Loss: 0.007764530926942825\n",
      "Epoch: 35, Avg. Loss: 0.00597408264875412, Avg. Val Loss: 0.011191737651824952\n",
      "Epoch: 37, Avg. Loss: 0.005353619530797005, Avg. Val Loss: 0.010078439116477966\n",
      "Epoch: 39, Avg. Loss: 0.005177735164761543, Avg. Val Loss: 0.009830547124147415\n",
      "Epoch: 41, Avg. Loss: 0.005032482370734215, Avg. Val Loss: 0.009948387742042542\n",
      "Epoch: 43, Avg. Loss: 0.004838617518544197, Avg. Val Loss: 0.006507659703493119\n",
      "Epoch: 45, Avg. Loss: 0.004576974362134933, Avg. Val Loss: 0.00847976952791214\n",
      "Epoch: 47, Avg. Loss: 0.00468556098639965, Avg. Val Loss: 0.004377231001853943\n",
      "Epoch: 49, Avg. Loss: 0.003923261165618896, Avg. Val Loss: 0.004953909665346146\n",
      "Epoch: 51, Avg. Loss: 0.0037465587258338926, Avg. Val Loss: 0.00813564881682396\n",
      "Epoch: 53, Avg. Loss: 0.0038012921810150146, Avg. Val Loss: 0.004458919167518616\n",
      "Epoch: 55, Avg. Loss: 0.00371255986392498, Avg. Val Loss: 0.007668884843587876\n",
      "Epoch: 57, Avg. Loss: 0.0032155942171812057, Avg. Val Loss: 0.004062829539179802\n",
      "Epoch: 59, Avg. Loss: 0.0031699132174253463, Avg. Val Loss: 0.004148785024881363\n",
      "Epoch: 61, Avg. Loss: 0.0031532220542430877, Avg. Val Loss: 0.00456278957426548\n",
      "Epoch: 63, Avg. Loss: 0.0030719324946403503, Avg. Val Loss: 0.0037742506712675093\n",
      "Epoch: 65, Avg. Loss: 0.0030257975682616233, Avg. Val Loss: 0.007651998847723007\n",
      "Epoch: 67, Avg. Loss: 0.0029690712690353394, Avg. Val Loss: 0.004047827422618866\n",
      "Epoch: 69, Avg. Loss: 0.0031210193410515785, Avg. Val Loss: 0.004046029224991798\n",
      "Epoch: 71, Avg. Loss: 0.0029469920322299004, Avg. Val Loss: 0.0038689687848091126\n",
      "Epoch: 73, Avg. Loss: 0.003176869824528694, Avg. Val Loss: 0.004020875692367554\n",
      "Epoch: 75, Avg. Loss: 0.0028063485398888586, Avg. Val Loss: 0.0034859314560890197\n",
      "Epoch: 77, Avg. Loss: 0.0026622196659445764, Avg. Val Loss: 0.003024100884795189\n",
      "Epoch: 79, Avg. Loss: 0.002579422481358051, Avg. Val Loss: 0.003017337806522846\n",
      "Epoch: 81, Avg. Loss: 0.0026584601029753683, Avg. Val Loss: 0.0031104978173971177\n",
      "Epoch: 83, Avg. Loss: 0.0025723112747073175, Avg. Val Loss: 0.003127668797969818\n",
      "Epoch: 85, Avg. Loss: 0.002520642802119255, Avg. Val Loss: 0.0033369310200214385\n",
      "Epoch: 87, Avg. Loss: 0.0024826280772686006, Avg. Val Loss: 0.0034258577972650526\n",
      "Epoch: 89, Avg. Loss: 0.0026939248666167257, Avg. Val Loss: 0.003030064143240452\n",
      "Epoch: 91, Avg. Loss: 0.002786151319742203, Avg. Val Loss: 0.003103874437510967\n",
      "Epoch: 93, Avg. Loss: 0.0027592504397034646, Avg. Val Loss: 0.0029156962409615517\n",
      "Epoch: 95, Avg. Loss: 0.0029861835762858393, Avg. Val Loss: 0.003831758350133896\n",
      "Epoch: 97, Avg. Loss: 0.0035837356001138685, Avg. Val Loss: 0.0026841916143894194\n",
      "Epoch: 99, Avg. Loss: 0.0040997516363859175, Avg. Val Loss: 0.004124921932816506\n",
      "Finished Training\n"
     ]
    }
   ],
   "source": [
    "#convert data to tensor\n",
    "Xtrain_wm, ytrain_wm, Xval_wm, yval_wm, Xtest_wm, ytest_wm = convert_torch(X_train,y_train,X_val,y_val,X_test,y_test)\n",
    "\n",
    "#check the shape of the train and test data\n",
    "print(\"Train data shape, X_train : {0},y_train : {1}\".format(Xtrain_wm.shape, ytrain_wm.shape))\n",
    "print(\"Validation data shape, X_val : {0},y_val : {1}\".format(Xval_wm.shape, yval_wm.shape))\n",
    "print(\"Test data shape, X_test : {0},y_test : {1}\".format(Xtest_wm.shape, ytest_wm.shape))\n",
    "print(\"\\n\")\n",
    "#network class instance\n",
    "net_wm = Net(Xtrain_wm.shape[1])\n",
    "wts = [3.2, 0.58]\n",
    "class_weights = torch.FloatTensor(wts).to(device)\n",
    "criterion_wm = nn.BCELoss(weight = class_weights)\n",
    "\n",
    "#def Adam optimizer with lr = 0.01\n",
    "optimizer = optim.Adam(net_wm.parameters(), lr = 0.001)\n",
    "\n",
    "#allocate the variables to cuda\n",
    "Xtrain_wm, ytrain_wm, Xval_wm, yval_wm, Xtest_wm,ytest_wm,net_wm,criterion_wm = params_to_cuda(Xtrain_wm, ytrain_wm, Xval_wm, yval_wm, Xtest_wm,ytest_wm,\n",
    "                                                                                net_wm,criterion_wm)\n",
    "\n",
    "epochs = 100\n",
    "train_loss_wm, val_loss_wm = net_train(epochs,optimizer,net_wm,Xtrain_wm, ytrain_wm, Xval_wm, yval_wm)"
   ]
  },
  {
   "cell_type": "code",
   "execution_count": 111,
   "metadata": {
    "colab": {
     "base_uri": "https://localhost:8080/",
     "height": 514
    },
    "colab_type": "code",
    "id": "inCZmN3guV5y",
    "outputId": "937129fb-79f7-4df8-bb03-021870e8e01b"
   },
   "outputs": [
    {
     "data": {
      "text/plain": [
       "<matplotlib.legend.Legend at 0x7fecf9c05a20>"
      ]
     },
     "execution_count": 111,
     "metadata": {
      "tags": []
     },
     "output_type": "execute_result"
    },
    {
     "data": {
      "image/png": "[encoded data removed]",
      "text/plain": [
       "<Figure size 576x576 with 1 Axes>"
      ]
     },
     "metadata": {
      "needs_background": "light",
      "tags": []
     },
     "output_type": "display_data"
    }
   ],
   "source": [
    "#plot train and validation loss for weighted model\n",
    "fig,axs = plt.subplots(figsize=(8,8))\n",
    "n_epochs1_wm = list(range(1,101))\n",
    "axs.plot(n_epochs1_wm,train_loss_wm)\n",
    "axs.plot(n_epochs1_wm,val_loss_wm)\n",
    "axs.xaxis.set_label_text('epochs')\n",
    "axs.yaxis.set_label_text('loss')\n",
    "axs.legend(['train','validation'])"
   ]
  },
  {
   "cell_type": "markdown",
   "metadata": {},
   "source": [
    "The validation loss increases more and its more than training loss after 30 epochs. Therefore the model is trained only for 20 epochs."
   ]
  },
  {
   "cell_type": "code",
   "execution_count": 105,
   "metadata": {
    "colab": {
     "base_uri": "https://localhost:8080/",
     "height": 204
    },
    "colab_type": "code",
    "id": "QtVL_CS7uhFe",
    "outputId": "f09e1153-b076-43d3-f81a-6725425e7b86"
   },
   "outputs": [
    {
     "name": "stdout",
     "output_type": "stream",
     "text": [
      "Epoch: 1, Avg. Loss: 0.003097083233296871, Avg. Val Loss: 0.003490905091166496\n",
      "Epoch: 3, Avg. Loss: 0.0029251612722873688, Avg. Val Loss: 0.003463306650519371\n",
      "Epoch: 5, Avg. Loss: 0.00275044534355402, Avg. Val Loss: 0.0034396689385175704\n",
      "Epoch: 7, Avg. Loss: 0.0028237739577889444, Avg. Val Loss: 0.003544124588370323\n",
      "Epoch: 9, Avg. Loss: 0.002586173824965954, Avg. Val Loss: 0.003812345117330551\n",
      "Epoch: 11, Avg. Loss: 0.002727910317480564, Avg. Val Loss: 0.0033319734036922457\n",
      "Epoch: 13, Avg. Loss: 0.002684987150132656, Avg. Val Loss: 0.003463902696967125\n",
      "Epoch: 15, Avg. Loss: 0.003043252043426037, Avg. Val Loss: 0.003310065343976021\n",
      "Epoch: 17, Avg. Loss: 0.00290355309844017, Avg. Val Loss: 0.003211233764886856\n",
      "Epoch: 19, Avg. Loss: 0.002651352994143963, Avg. Val Loss: 0.0033237971365451813\n",
      "Finished Training\n"
     ]
    }
   ],
   "source": [
    "n_epochs_wm = 20\n",
    "train_loss_wm1, val_loss_wm1 = net_train(n_epochs_wm,optimizer,net_wm,Xtrain_wm,ytrain_wm,Xval_wm,yval_wm)"
   ]
  },
  {
   "cell_type": "code",
   "execution_count": 106,
   "metadata": {
    "colab": {
     "base_uri": "https://localhost:8080/",
     "height": 170
    },
    "colab_type": "code",
    "id": "kjqr5x1ouqvS",
    "outputId": "70082be3-eba4-40d6-f672-26f580b0d91d"
   },
   "outputs": [
    {
     "name": "stdout",
     "output_type": "stream",
     "text": [
      "              precision    recall  f1-score   support\n",
      "\n",
      "         0.0       0.98      0.94      0.96       379\n",
      "         1.0       0.99      1.00      0.99      2170\n",
      "\n",
      "    accuracy                           0.99      2549\n",
      "   macro avg       0.99      0.97      0.98      2549\n",
      "weighted avg       0.99      0.99      0.99      2549\n",
      "\n"
     ]
    }
   ],
   "source": [
    "#predict on test data\n",
    "y_pred_wm = net_wm(Xtest_wm)\n",
    "\n",
    "#reallocate test and predicted data to cpu\n",
    "y_pred_wm = y_pred_wm.ge(.5).view(-1).cpu()\n",
    "ytest_wm = ytest_wm.cpu()\n",
    "\n",
    "#classification report\n",
    "print(classification_report(ytest_wm, y_pred_wm))"
   ]
  },
  {
   "cell_type": "code",
   "execution_count": 107,
   "metadata": {
    "colab": {
     "base_uri": "https://localhost:8080/",
     "height": 311
    },
    "colab_type": "code",
    "id": "6B6glINUkWOa",
    "outputId": "ab41f2ff-0132-4685-c161-83677359cd00"
   },
   "outputs": [
    {
     "data": {
      "image/png": "[encoded data removed]",
      "text/plain": [
       "<Figure size 432x288 with 2 Axes>"
      ]
     },
     "metadata": {
      "needs_background": "light",
      "tags": []
     },
     "output_type": "display_data"
    }
   ],
   "source": [
    "#confurion matrix\n",
    "nn_conf_wm = confusion_matrix(y_pred_wm, ytest_wm)\n",
    "plot_confusion_matrix(nn_conf_wm,[\"Charged Off\",\"Fully Paid\"])"
   ]
  },
  {
   "cell_type": "code",
   "execution_count": 108,
   "metadata": {
    "colab": {
     "base_uri": "https://localhost:8080/",
     "height": 295
    },
    "colab_type": "code",
    "id": "i81QspK_kYx_",
    "outputId": "299b8da9-ba87-4b55-f8e9-83746cc1e0bb"
   },
   "outputs": [
    {
     "data": {
      "image/png": "[encoded data removed]",
      "text/plain": [
       "<Figure size 432x288 with 1 Axes>"
      ]
     },
     "metadata": {
      "needs_background": "light",
      "tags": []
     },
     "output_type": "display_data"
    }
   ],
   "source": [
    "#roc curve\n",
    "roccurve_func(ytest_wm, y_pred_wm)"
   ]
  },
  {
   "cell_type": "markdown",
   "metadata": {
    "colab_type": "text",
    "id": "ffGPyimBYfAt"
   },
   "source": [
    "**10. Undersampling**\n",
    "\n",
    "This section performs under sampling using resample function from sklearn. Undersampling is done by removing the majority class instances to make the length equal to minority class instances. The sampling is done without replacement."
   ]
  },
  {
   "cell_type": "code",
   "execution_count": 112,
   "metadata": {
    "colab": {
     "base_uri": "https://localhost:8080/",
     "height": 162
    },
    "colab_type": "code",
    "id": "l9seyeNwgToc",
    "outputId": "f4e8fd60-541c-4db3-8c6d-5cf4d6168cd5"
   },
   "outputs": [
    {
     "data": {
      "text/html": [
       "<div>\n",
       "<style scoped>\n",
       "    .dataframe tbody tr th:only-of-type {\n",
       "        vertical-align: middle;\n",
       "    }\n",
       "\n",
       "    .dataframe tbody tr th {\n",
       "        vertical-align: top;\n",
       "    }\n",
       "\n",
       "    .dataframe thead th {\n",
       "        text-align: right;\n",
       "    }\n",
       "</style>\n",
       "<table border=\"1\" class=\"dataframe\">\n",
       "  <thead>\n",
       "    <tr style=\"text-align: right;\">\n",
       "      <th></th>\n",
       "      <th>loan_amnt</th>\n",
       "      <th>term</th>\n",
       "      <th>int_rate</th>\n",
       "      <th>installment</th>\n",
       "      <th>total_pymnt</th>\n",
       "      <th>total_rec_prncp</th>\n",
       "      <th>total_rec_int</th>\n",
       "      <th>recoveries</th>\n",
       "      <th>last_pymnt_amnt</th>\n",
       "      <th>last_credit_pull_d</th>\n",
       "      <th>loan_status</th>\n",
       "    </tr>\n",
       "  </thead>\n",
       "  <tbody>\n",
       "    <tr>\n",
       "      <th>0</th>\n",
       "      <td>-0.821359</td>\n",
       "      <td>-0.589247</td>\n",
       "      <td>-0.407419</td>\n",
       "      <td>-0.764264</td>\n",
       "      <td>-0.677934</td>\n",
       "      <td>-0.657341</td>\n",
       "      <td>-0.532942</td>\n",
       "      <td>-0.139376</td>\n",
       "      <td>-0.556526</td>\n",
       "      <td>0.475841</td>\n",
       "      <td>1</td>\n",
       "    </tr>\n",
       "    <tr>\n",
       "      <th>1</th>\n",
       "      <td>-1.159017</td>\n",
       "      <td>1.697080</td>\n",
       "      <td>0.839483</td>\n",
       "      <td>-1.257580</td>\n",
       "      <td>-1.217311</td>\n",
       "      <td>-1.302076</td>\n",
       "      <td>-0.699713</td>\n",
       "      <td>0.023997</td>\n",
       "      <td>-0.568369</td>\n",
       "      <td>-0.257323</td>\n",
       "      <td>0</td>\n",
       "    </tr>\n",
       "    <tr>\n",
       "      <th>2</th>\n",
       "      <td>-1.172523</td>\n",
       "      <td>-0.589247</td>\n",
       "      <td>1.025709</td>\n",
       "      <td>-1.140283</td>\n",
       "      <td>-0.995429</td>\n",
       "      <td>-1.026285</td>\n",
       "      <td>-0.633276</td>\n",
       "      <td>-0.139376</td>\n",
       "      <td>-0.447517</td>\n",
       "      <td>0.475841</td>\n",
       "      <td>1</td>\n",
       "    </tr>\n",
       "  </tbody>\n",
       "</table>\n",
       "</div>"
      ],
      "text/plain": [
       "   loan_amnt      term  ...  last_credit_pull_d  loan_status\n",
       "0  -0.821359 -0.589247  ...            0.475841            1\n",
       "1  -1.159017  1.697080  ...           -0.257323            0\n",
       "2  -1.172523 -0.589247  ...            0.475841            1\n",
       "\n",
       "[3 rows x 11 columns]"
      ]
     },
     "execution_count": 112,
     "metadata": {
      "tags": []
     },
     "output_type": "execute_result"
    }
   ],
   "source": [
    "#create a DF from the X_new and y_new to perform undersample\n",
    "y_new = pd.DataFrame(data = y, columns = [\"loan_status\"])\n",
    "\n",
    "data_undersample = pd.concat([X_new,y_new], axis = 1)\n",
    "data_undersample.head(3)"
   ]
  },
  {
   "cell_type": "code",
   "execution_count": 113,
   "metadata": {
    "colab": {
     "base_uri": "https://localhost:8080/",
     "height": 34
    },
    "colab_type": "code",
    "id": "0-uN3s_4gt8l",
    "outputId": "54cbef5e-cd1d-417c-ccd8-2a02b2f406e9"
   },
   "outputs": [
    {
     "data": {
      "text/plain": [
       "(42483, 11)"
      ]
     },
     "execution_count": 113,
     "metadata": {
      "tags": []
     },
     "output_type": "execute_result"
    }
   ],
   "source": [
    "#check the length of data\n",
    "data_undersample.shape"
   ]
  },
  {
   "cell_type": "code",
   "execution_count": 114,
   "metadata": {
    "colab": {
     "base_uri": "https://localhost:8080/",
     "height": 51
    },
    "colab_type": "code",
    "id": "N_GqMNsAg3lk",
    "outputId": "8ca043fe-5bef-43c0-fbcf-e51cb9c9704f"
   },
   "outputs": [
    {
     "name": "stdout",
     "output_type": "stream",
     "text": [
      "Fully Paid:  36085\n",
      "Charged Off:  6398\n"
     ]
    }
   ],
   "source": [
    "#get the length of fully paid and charged off instances\n",
    "fully_paid = data_undersample[data_undersample.loan_status == 1]\n",
    "charged_off = data_undersample[data_undersample.loan_status == 0]\n",
    "print(\"Fully Paid: \",len(fully_paid))\n",
    "print(\"Charged Off: \",len(charged_off))"
   ]
  },
  {
   "cell_type": "code",
   "execution_count": 115,
   "metadata": {
    "colab": {},
    "colab_type": "code",
    "id": "Vg1OIt-bmGgh"
   },
   "outputs": [],
   "source": [
    "#perform undersample using resample function with no replacement\n",
    "full_paid_undersample = resample(fully_paid,\n",
    "                            replace = False,    \n",
    "                            n_samples = len(charged_off),\n",
    "                            random_state = 8)"
   ]
  },
  {
   "cell_type": "code",
   "execution_count": 116,
   "metadata": {
    "colab": {
     "base_uri": "https://localhost:8080/",
     "height": 34
    },
    "colab_type": "code",
    "id": "gOqmHcI5hecZ",
    "outputId": "7cf78e35-a420-4f45-d358-a1d0e4d385a4"
   },
   "outputs": [
    {
     "data": {
      "text/plain": [
       "(12796, 11)"
      ]
     },
     "execution_count": 116,
     "metadata": {
      "tags": []
     },
     "output_type": "execute_result"
    }
   ],
   "source": [
    "#concatanate the underasmple data with charged off data\n",
    "undersample_data = pd.concat([full_paid_undersample,charged_off])\n",
    "undersample_data.shape"
   ]
  },
  {
   "cell_type": "code",
   "execution_count": 117,
   "metadata": {
    "colab": {
     "base_uri": "https://localhost:8080/",
     "height": 162
    },
    "colab_type": "code",
    "id": "E6JV_z85hnFa",
    "outputId": "aaee45b0-a461-4b8f-c9f7-56b56755b5ff"
   },
   "outputs": [
    {
     "data": {
      "text/html": [
       "<div>\n",
       "<style scoped>\n",
       "    .dataframe tbody tr th:only-of-type {\n",
       "        vertical-align: middle;\n",
       "    }\n",
       "\n",
       "    .dataframe tbody tr th {\n",
       "        vertical-align: top;\n",
       "    }\n",
       "\n",
       "    .dataframe thead th {\n",
       "        text-align: right;\n",
       "    }\n",
       "</style>\n",
       "<table border=\"1\" class=\"dataframe\">\n",
       "  <thead>\n",
       "    <tr style=\"text-align: right;\">\n",
       "      <th></th>\n",
       "      <th>loan_amnt</th>\n",
       "      <th>term</th>\n",
       "      <th>int_rate</th>\n",
       "      <th>installment</th>\n",
       "      <th>total_pymnt</th>\n",
       "      <th>total_rec_prncp</th>\n",
       "      <th>total_rec_int</th>\n",
       "      <th>recoveries</th>\n",
       "      <th>last_pymnt_amnt</th>\n",
       "      <th>last_credit_pull_d</th>\n",
       "      <th>loan_status</th>\n",
       "    </tr>\n",
       "  </thead>\n",
       "  <tbody>\n",
       "    <tr>\n",
       "      <th>8950</th>\n",
       "      <td>2.285099</td>\n",
       "      <td>1.697080</td>\n",
       "      <td>1.573590</td>\n",
       "      <td>1.859351</td>\n",
       "      <td>2.878250</td>\n",
       "      <td>2.606394</td>\n",
       "      <td>2.976340</td>\n",
       "      <td>-0.139376</td>\n",
       "      <td>3.666020</td>\n",
       "      <td>0.475841</td>\n",
       "      <td>1</td>\n",
       "    </tr>\n",
       "    <tr>\n",
       "      <th>18649</th>\n",
       "      <td>-0.416169</td>\n",
       "      <td>1.697080</td>\n",
       "      <td>1.041902</td>\n",
       "      <td>-0.612209</td>\n",
       "      <td>-0.296920</td>\n",
       "      <td>-0.231636</td>\n",
       "      <td>-0.365719</td>\n",
       "      <td>-0.139376</td>\n",
       "      <td>0.992236</td>\n",
       "      <td>-0.613682</td>\n",
       "      <td>1</td>\n",
       "    </tr>\n",
       "    <tr>\n",
       "      <th>24084</th>\n",
       "      <td>0.866933</td>\n",
       "      <td>-0.589247</td>\n",
       "      <td>-1.516677</td>\n",
       "      <td>0.078405</td>\n",
       "      <td>-0.007761</td>\n",
       "      <td>0.201164</td>\n",
       "      <td>-0.540104</td>\n",
       "      <td>-0.139376</td>\n",
       "      <td>0.804197</td>\n",
       "      <td>-0.212779</td>\n",
       "      <td>1</td>\n",
       "    </tr>\n",
       "  </tbody>\n",
       "</table>\n",
       "</div>"
      ],
      "text/plain": [
       "       loan_amnt      term  ...  last_credit_pull_d  loan_status\n",
       "8950    2.285099  1.697080  ...            0.475841            1\n",
       "18649  -0.416169  1.697080  ...           -0.613682            1\n",
       "24084   0.866933 -0.589247  ...           -0.212779            1\n",
       "\n",
       "[3 rows x 11 columns]"
      ]
     },
     "execution_count": 117,
     "metadata": {
      "tags": []
     },
     "output_type": "execute_result"
    }
   ],
   "source": [
    "undersample_data.head(3)"
   ]
  },
  {
   "cell_type": "code",
   "execution_count": 118,
   "metadata": {
    "colab": {
     "base_uri": "https://localhost:8080/",
     "height": 68
    },
    "colab_type": "code",
    "id": "VF7BW-ZDhu8I",
    "outputId": "7595335b-c29a-44cd-f9ec-0daf62745e70"
   },
   "outputs": [
    {
     "data": {
      "text/plain": [
       "1    6398\n",
       "0    6398\n",
       "Name: loan_status, dtype: int64"
      ]
     },
     "execution_count": 118,
     "metadata": {
      "tags": []
     },
     "output_type": "execute_result"
    }
   ],
   "source": [
    "#check the count of target class\n",
    "undersample_data[\"loan_status\"].value_counts()"
   ]
  },
  {
   "cell_type": "code",
   "execution_count": 119,
   "metadata": {
    "colab": {},
    "colab_type": "code",
    "id": "oC9ioxuzhzYc"
   },
   "outputs": [],
   "source": [
    "#get the X and y data\n",
    "X_undersample = undersample_data.drop(\"loan_status\", axis = 1)\n",
    "y_undersample = undersample_data[\"loan_status\"]"
   ]
  },
  {
   "cell_type": "code",
   "execution_count": 120,
   "metadata": {
    "colab": {
     "base_uri": "https://localhost:8080/",
     "height": 119
    },
    "colab_type": "code",
    "id": "ukO8EQvuiGag",
    "outputId": "835b3f40-1cdc-41cb-c8d7-930149512022"
   },
   "outputs": [
    {
     "name": "stdout",
     "output_type": "stream",
     "text": [
      "Xu_train: (10236, 10)\n",
      "yu_train: (10236,)\n",
      "Xu_val: (2304, 10)\n",
      "yu_val: (2304,)\n",
      "Xu_test: (256, 10)\n",
      "yu_test: (256,)\n"
     ]
    }
   ],
   "source": [
    "#split the data to train, validation and test\n",
    "Xu_train, Xu_val1, yu_train, yu_val1 = train_test_split(X_undersample, y_undersample, test_size = 0.2, random_state = 0)\n",
    "Xu_val, Xu_test, yu_val, yu_test = train_test_split(Xu_val1, yu_val1, test_size = 0.1, random_state = 0)\n",
    "\n",
    "print(\"Xu_train:\",Xu_train.shape)\n",
    "print(\"yu_train:\",yu_train.shape)\n",
    "print(\"Xu_val:\",Xu_val.shape)\n",
    "print(\"yu_val:\",yu_val.shape)\n",
    "print(\"Xu_test:\",Xu_test.shape)\n",
    "print(\"yu_test:\",yu_test.shape)"
   ]
  },
  {
   "cell_type": "markdown",
   "metadata": {
    "colab_type": "text",
    "id": "USIzoy1jTn3b"
   },
   "source": [
    "**10.1 Random forest**\n",
    "\n",
    "Perform RFC on undersampled data"
   ]
  },
  {
   "cell_type": "code",
   "execution_count": 121,
   "metadata": {
    "colab": {
     "base_uri": "https://localhost:8080/",
     "height": 514
    },
    "colab_type": "code",
    "id": "NojhFq1UTqC5",
    "outputId": "1faf208f-c2a8-45e6-8179-03ffc91ab9db"
   },
   "outputs": [
    {
     "data": {
      "image/png": "[encoded data removed]",
      "text/plain": [
       "<Figure size 576x576 with 4 Axes>"
      ]
     },
     "metadata": {
      "needs_background": "light",
      "tags": []
     },
     "output_type": "display_data"
    }
   ],
   "source": [
    "#get the parameters values\n",
    "rfc_parameters(Xu_train,yu_train,Xu_val,yu_val)"
   ]
  },
  {
   "cell_type": "markdown",
   "metadata": {},
   "source": [
    "From the above four graphs:\n",
    "\n",
    "1. max_depth: The higher values of max depth tend to overfit the data and the max_depth of 5 is chosen as the parameter value.\n",
    "2. n_estimators: The graph shows the train accuracy reaches 100% after a first few iterations and the validation accuracy is highest at 99.6% and stays between 99.4%-99.6% for n of estimators which shows the model is accurate. The estimators choosen for this project correspond to highest accuracy i.e; 40 estimators.\n",
    "3. min_samples_split: The accuracy decreases for both train and validation data with increase in samples. Also higher values will have more general leaves and effect the model performance. So a value of 6 is choosen.\n",
    "4. min_samples_leaf: For this again the accuracy decreases like min_samples_split and thus a low value of 1 is choosen."
   ]
  },
  {
   "cell_type": "code",
   "execution_count": 122,
   "metadata": {
    "colab": {},
    "colab_type": "code",
    "id": "MgZuAV7YiPA_"
   },
   "outputs": [],
   "source": [
    "#run the actual RFC estimator with the best parameters\n",
    "rfc_us = RandomForestClassifier(random_state = 50, max_features = 'auto', n_estimators = 40, max_depth = 5, criterion = 'gini',\n",
    "                             min_samples_leaf = 1, min_samples_split = 6, oob_score = True)\n",
    "rfc_us.fit(Xu_train, yu_train)\n",
    "\n",
    "#predict the target on test data\n",
    "rfc_pred_us = rfc_us.predict(Xu_test)"
   ]
  },
  {
   "cell_type": "code",
   "execution_count": 123,
   "metadata": {
    "colab": {
     "base_uri": "https://localhost:8080/",
     "height": 464
    },
    "colab_type": "code",
    "id": "V4LQwzx0ilZT",
    "outputId": "a431ee66-4354-46ae-a39f-fad764b7155e"
   },
   "outputs": [
    {
     "name": "stdout",
     "output_type": "stream",
     "text": [
      "              precision    recall  f1-score   support\n",
      "\n",
      "           0       0.93      1.00      0.97       126\n",
      "           1       1.00      0.93      0.96       130\n",
      "\n",
      "    accuracy                           0.96       256\n",
      "   macro avg       0.97      0.97      0.96       256\n",
      "weighted avg       0.97      0.96      0.96       256\n",
      "\n"
     ]
    },
    {
     "data": {
      "image/png": "[encoded data removed]",
      "text/plain": [
       "<Figure size 432x288 with 2 Axes>"
      ]
     },
     "metadata": {
      "needs_background": "light",
      "tags": []
     },
     "output_type": "display_data"
    }
   ],
   "source": [
    "#print the classification report\n",
    "print(classification_report(rfc_pred_us, yu_test))\n",
    "\n",
    "#plot the confusion matrix\n",
    "rfc_conf_us = confusion_matrix(rfc_pred_us, yu_test)\n",
    "plot_confusion_matrix(rfc_conf_us,[\"Charged Off\",\"Fully Paid\"])"
   ]
  },
  {
   "cell_type": "code",
   "execution_count": 124,
   "metadata": {
    "colab": {
     "base_uri": "https://localhost:8080/",
     "height": 295
    },
    "colab_type": "code",
    "id": "pckSZn7iiuUM",
    "outputId": "e3413eb1-1721-4b97-8ea9-508175d09867"
   },
   "outputs": [
    {
     "data": {
      "image/png": "[encoded data removed]",
      "text/plain": [
       "<Figure size 432x288 with 1 Axes>"
      ]
     },
     "metadata": {
      "needs_background": "light",
      "tags": []
     },
     "output_type": "display_data"
    }
   ],
   "source": [
    "#roc curve\n",
    "roccurve_func(yu_test, rfc_pred_us)"
   ]
  },
  {
   "cell_type": "markdown",
   "metadata": {
    "colab_type": "text",
    "id": "LyOt4KmwVjP-"
   },
   "source": [
    "**10.2 XGBoost**\n",
    "\n",
    "The parameter values are calculated by performing GridSearchCV with 3-fold CV."
   ]
  },
  {
   "cell_type": "code",
   "execution_count": 126,
   "metadata": {
    "colab": {
     "base_uri": "https://localhost:8080/",
     "height": 170
    },
    "colab_type": "code",
    "id": "aK45uEp293bR",
    "outputId": "7a6a0ecb-2569-4be0-b2d6-11e27984aa35"
   },
   "outputs": [
    {
     "name": "stdout",
     "output_type": "stream",
     "text": [
      "Fitting 3 folds for each of 3240 candidates, totalling 9720 fits\n",
      "[Parallel(n_jobs=1)]: Using backend SequentialBackend with 1concurrent workers.\n",
      "[Parallel(n_jobs=1)]: Done 9720 out of 9720 | elapsed: 102.4min finished\n",
      "{'gamma': 1,\n",
      "'learning_rate': 0.001,\n",
      "'max_depth': 8,\n",
      "'min_child_weight': 1,\n",
      "'n_rounds': 50,\n",
      "'subsample': 0.8}\n"
     ]
    }
   ],
   "source": [
    "#define the parameters to be used in grid search\n",
    "xg_param_grid = {\"gamma\" : [0.1,0.5,1,10],\n",
    "                 \"learning_rate\" : [0.01, 0.001],\n",
    "                 \"max_depth\" : [4,6,8],\n",
    "                 \"min_child_weight\" : [1,3,5],\n",
    "                 \"n_rounds\" : [50,100,150],\n",
    "                 \"subsample\" : [0.5,0.7,0.8]\n",
    "                 }\n",
    "\n",
    "xg_model = XGBClassifier(random_state = 2, tree_method = \"gpu_hist\", objective = \"binary:logistic\")\n",
    "xg_cv = GridSearchCV(estimator = xg_model, param_grid = xg_param_grid, cv = 3, verbose = 1)\n",
    "\n",
    "#run the search on sampled data\n",
    "xg_cv.fit(X_train_resample, y_train_resample)\n",
    "\n",
    "#get the best parameters after the search\n",
    "xg_cv.best_params_"
   ]
  },
  {
   "cell_type": "code",
   "execution_count": 127,
   "metadata": {
    "colab": {},
    "colab_type": "code",
    "id": "5LkM9u3ei6Bd"
   },
   "outputs": [],
   "source": [
    "#create d__matrices XGB\n",
    "d_train_us = xgb.DMatrix(Xu_train, yu_train)\n",
    "d_val_us = xgb.DMatrix(Xu_val, yu_val)\n",
    "dtest_us = xgb.DMatrix(Xu_test, yu_test)\n",
    "\n",
    "#create and evaluation set\n",
    "evals_us = [(d_val_us,\"validation\"),(d_train_us,\"train\")]"
   ]
  },
  {
   "cell_type": "code",
   "execution_count": 128,
   "metadata": {
    "colab": {},
    "colab_type": "code",
    "id": "l_Bwc9G2V2Qe"
   },
   "outputs": [],
   "source": [
    "#set parameters for xgboost model\n",
    "xgb_us_params = {\"gamma\" : 1,\n",
    "                \"learning_rate\" : 0.001,\n",
    "                \"max_depth\" : 8,\n",
    "                \"min_child_weight\" : 1,\n",
    "                \"n_rounds\" : 50,\n",
    "                \"subsample\" : 0.8,\n",
    "                \"max_leaves\" : 2**8,\n",
    "                \"tree_method\" : \"gpu_hist\",\n",
    "                \"objective\" : \"binary:logistic\",\n",
    "                \"verbose\" : True,\n",
    "                \"eval_metric\": \"error\"\n",
    "                }"
   ]
  },
  {
   "cell_type": "code",
   "execution_count": 129,
   "metadata": {
    "colab": {
     "base_uri": "https://localhost:8080/",
     "height": 867
    },
    "colab_type": "code",
    "id": "6fvzjsKrWA_w",
    "outputId": "19215bbe-de96-4743-9f7b-c22a852b8724"
   },
   "outputs": [
    {
     "name": "stdout",
     "output_type": "stream",
     "text": [
      "[0]\tvalidation-error:0.018229\ttrain-error:0.012896\n",
      "[1]\tvalidation-error:0.014323\ttrain-error:0.009965\n",
      "[2]\tvalidation-error:0.016493\ttrain-error:0.010551\n",
      "[3]\tvalidation-error:0.016059\ttrain-error:0.010649\n",
      "[4]\tvalidation-error:0.015191\ttrain-error:0.010844\n",
      "[5]\tvalidation-error:0.015625\ttrain-error:0.010551\n",
      "[6]\tvalidation-error:0.016059\ttrain-error:0.010746\n",
      "[7]\tvalidation-error:0.016493\ttrain-error:0.010356\n",
      "[8]\tvalidation-error:0.016493\ttrain-error:0.010356\n",
      "[9]\tvalidation-error:0.016059\ttrain-error:0.010063\n",
      "[10]\tvalidation-error:0.016059\ttrain-error:0.010063\n",
      "[11]\tvalidation-error:0.015625\ttrain-error:0.010063\n",
      "[12]\tvalidation-error:0.015191\ttrain-error:0.010258\n",
      "[13]\tvalidation-error:0.015625\ttrain-error:0.010258\n",
      "[14]\tvalidation-error:0.015625\ttrain-error:0.010551\n",
      "[15]\tvalidation-error:0.015191\ttrain-error:0.010551\n",
      "[16]\tvalidation-error:0.015191\ttrain-error:0.010551\n",
      "[17]\tvalidation-error:0.015191\ttrain-error:0.010551\n",
      "[18]\tvalidation-error:0.015191\ttrain-error:0.010551\n",
      "[19]\tvalidation-error:0.015191\ttrain-error:0.010551\n",
      "[20]\tvalidation-error:0.014323\ttrain-error:0.010551\n",
      "[21]\tvalidation-error:0.014323\ttrain-error:0.010551\n",
      "[22]\tvalidation-error:0.014323\ttrain-error:0.010746\n",
      "[23]\tvalidation-error:0.014323\ttrain-error:0.010453\n",
      "[24]\tvalidation-error:0.014323\ttrain-error:0.010551\n",
      "[25]\tvalidation-error:0.014323\ttrain-error:0.010551\n",
      "[26]\tvalidation-error:0.014323\ttrain-error:0.010551\n",
      "[27]\tvalidation-error:0.013889\ttrain-error:0.010258\n",
      "[28]\tvalidation-error:0.014323\ttrain-error:0.010258\n",
      "[29]\tvalidation-error:0.013889\ttrain-error:0.010258\n",
      "[30]\tvalidation-error:0.013889\ttrain-error:0.010063\n",
      "[31]\tvalidation-error:0.013889\ttrain-error:0.010258\n",
      "[32]\tvalidation-error:0.013889\ttrain-error:0.010063\n",
      "[33]\tvalidation-error:0.013889\ttrain-error:0.010063\n",
      "[34]\tvalidation-error:0.013889\ttrain-error:0.010258\n",
      "[35]\tvalidation-error:0.013889\ttrain-error:0.010258\n",
      "[36]\tvalidation-error:0.013889\ttrain-error:0.01016\n",
      "[37]\tvalidation-error:0.013889\ttrain-error:0.01016\n",
      "[38]\tvalidation-error:0.013889\ttrain-error:0.010258\n",
      "[39]\tvalidation-error:0.013889\ttrain-error:0.010356\n",
      "[40]\tvalidation-error:0.013455\ttrain-error:0.010356\n",
      "[41]\tvalidation-error:0.013889\ttrain-error:0.010258\n",
      "[42]\tvalidation-error:0.014323\ttrain-error:0.010551\n",
      "[43]\tvalidation-error:0.013889\ttrain-error:0.01016\n",
      "[44]\tvalidation-error:0.013455\ttrain-error:0.010258\n",
      "[45]\tvalidation-error:0.013889\ttrain-error:0.010258\n",
      "[46]\tvalidation-error:0.013889\ttrain-error:0.010258\n",
      "[47]\tvalidation-error:0.013889\ttrain-error:0.010356\n",
      "[48]\tvalidation-error:0.013889\ttrain-error:0.010453\n",
      "[49]\tvalidation-error:0.013889\ttrain-error:0.010356\n"
     ]
    }
   ],
   "source": [
    "num_rounds_us = xgb_us_params[\"n_rounds\"]\n",
    "xgb_model_us = xgb.train(xgb_us_params, d_train_us, num_rounds_us, evals = evals_us)"
   ]
  },
  {
   "cell_type": "code",
   "execution_count": 130,
   "metadata": {
    "colab": {
     "base_uri": "https://localhost:8080/",
     "height": 34
    },
    "colab_type": "code",
    "id": "Z6OtifA4WIRN",
    "outputId": "16453cd3-efb4-4464-ead9-37aad89b8d07"
   },
   "outputs": [
    {
     "name": "stdout",
     "output_type": "stream",
     "text": [
      "[0 1 1 0 1]\n"
     ]
    }
   ],
   "source": [
    "#predict the test data\n",
    "xgb_pred_us = xgb_model_us.predict(dtest_us)\n",
    "\n",
    "#convert predictions based on the 0.5 threshold\n",
    "xgb_pred_us = (xgb_pred_us > threshold).astype(\"int\")\n",
    "print(xgb_pred_us[:5])"
   ]
  },
  {
   "cell_type": "code",
   "execution_count": 131,
   "metadata": {
    "colab": {
     "base_uri": "https://localhost:8080/",
     "height": 464
    },
    "colab_type": "code",
    "id": "PZz5Eu8NWdBK",
    "outputId": "57e9e0d8-3e5c-4b51-95cf-1dfeaaacdb89"
   },
   "outputs": [
    {
     "name": "stdout",
     "output_type": "stream",
     "text": [
      "              precision    recall  f1-score   support\n",
      "\n",
      "           0       0.96      0.99      0.98       131\n",
      "           1       0.99      0.96      0.98       125\n",
      "\n",
      "    accuracy                           0.98       256\n",
      "   macro avg       0.98      0.98      0.98       256\n",
      "weighted avg       0.98      0.98      0.98       256\n",
      "\n"
     ]
    },
    {
     "data": {
      "image/png": "[encoded data removed]",
      "text/plain": [
       "<Figure size 432x288 with 2 Axes>"
      ]
     },
     "metadata": {
      "needs_background": "light",
      "tags": []
     },
     "output_type": "display_data"
    }
   ],
   "source": [
    "#print the classification report\n",
    "print(classification_report(xgb_pred_us, yu_test))\n",
    "\n",
    "#plot the confusion matrix\n",
    "xgb_conf_us = confusion_matrix(xgb_pred_us, yu_test)\n",
    "plot_confusion_matrix(xgb_conf_us,[\"Charged Off\",\"Fully Paid\"])"
   ]
  },
  {
   "cell_type": "code",
   "execution_count": 132,
   "metadata": {
    "colab": {
     "base_uri": "https://localhost:8080/",
     "height": 295
    },
    "colab_type": "code",
    "id": "qRWvTDT2Wj60",
    "outputId": "2a71608a-fcb0-4ecb-8dbe-c06cdeceaa25"
   },
   "outputs": [
    {
     "data": {
      "image/png": "[encoded data removed]",
      "text/plain": [
       "<Figure size 432x288 with 1 Axes>"
      ]
     },
     "metadata": {
      "needs_background": "light",
      "tags": []
     },
     "output_type": "display_data"
    }
   ],
   "source": [
    "#plot the roc curve\n",
    "roccurve_func(yu_test, xgb_pred_us)"
   ]
  },
  {
   "cell_type": "markdown",
   "metadata": {
    "colab_type": "text",
    "id": "oZ-MItTrXiM0"
   },
   "source": [
    "**10.3 Neural network**\n",
    "\n",
    "Train neural network on the undersample data."
   ]
  },
  {
   "cell_type": "code",
   "execution_count": 133,
   "metadata": {
    "colab": {},
    "colab_type": "code",
    "id": "kcOL8BiArlva"
   },
   "outputs": [],
   "source": [
    "#define the network\n",
    "class Net(nn.Module):\n",
    "    def __init__(self, n_features):\n",
    "        super(Net, self).__init__()\n",
    "        self.fc1 = nn.Linear(n_features, 64)\n",
    "        self.fc2 = nn.Linear(64, 32)\n",
    "        self.dropout1 = nn.Dropout(p=0.1)\n",
    "        self.fc3 = nn.Linear(32, 16)\n",
    "        self.dropout2 = nn.Dropout(p=0.1)\n",
    "        self.fc4 = nn.Linear(16, 4)\n",
    "        self.fc6 = nn.Linear(4, 1)\n",
    "    def forward(self, x):\n",
    "        x = F.relu(self.fc1(x))\n",
    "        x = self.dropout1(x) \n",
    "        x = F.relu(self.fc2(x))\n",
    "        x = F.relu(self.fc3(x))\n",
    "        x = self.dropout2(x) \n",
    "        x = F.relu(self.fc4(x))\n",
    "    return torch.sigmoid(self.fc6(x))"
   ]
  },
  {
   "cell_type": "code",
   "execution_count": 134,
   "metadata": {
    "colab": {
     "base_uri": "https://localhost:8080/",
     "height": 969
    },
    "colab_type": "code",
    "id": "eLW8vpQdWtbN",
    "outputId": "ceb64345-0af4-4322-ce6e-342623b550a2"
   },
   "outputs": [
    {
     "name": "stdout",
     "output_type": "stream",
     "text": [
      "Train data shape, X_train : torch.Size([10236, 10]),y_train : torch.Size([10236])\n",
      "Validation data shape, X_val : torch.Size([2304, 10]),y_val : torch.Size([2304])\n",
      "Test data shape, X_test : torch.Size([256, 10]),y_test : torch.Size([256])\n",
      "\n",
      "\n",
      "Epoch: 1, Avg. Loss: 0.0716487467288971, Avg. Val Loss: 0.07287032604217529\n",
      "Epoch: 3, Avg. Loss: 0.07143293023109436, Avg. Val Loss: 0.07263197302818299\n",
      "Epoch: 5, Avg. Loss: 0.07124589085578918, Avg. Val Loss: 0.07242237329483033\n",
      "Epoch: 7, Avg. Loss: 0.0710802972316742, Avg. Val Loss: 0.07230010032653808\n",
      "Epoch: 9, Avg. Loss: 0.07093926072120667, Avg. Val Loss: 0.07206234931945801\n",
      "Epoch: 11, Avg. Loss: 0.07078644633293152, Avg. Val Loss: 0.07198768854141235\n",
      "Epoch: 13, Avg. Loss: 0.07060940265655517, Avg. Val Loss: 0.07173089385032654\n",
      "Epoch: 15, Avg. Loss: 0.07042453289031983, Avg. Val Loss: 0.07145661115646362\n",
      "Epoch: 17, Avg. Loss: 0.07019519209861755, Avg. Val Loss: 0.0711978554725647\n",
      "Epoch: 19, Avg. Loss: 0.06995032429695129, Avg. Val Loss: 0.07087751626968383\n",
      "Epoch: 21, Avg. Loss: 0.06965146064758301, Avg. Val Loss: 0.07058464884757995\n",
      "Epoch: 23, Avg. Loss: 0.06930282115936279, Avg. Val Loss: 0.07014228701591492\n",
      "Epoch: 25, Avg. Loss: 0.06891892552375793, Avg. Val Loss: 0.06960300207138062\n",
      "Epoch: 27, Avg. Loss: 0.06846874356269836, Avg. Val Loss: 0.0691357672214508\n",
      "Epoch: 29, Avg. Loss: 0.0679597556591034, Avg. Val Loss: 0.06815971732139588\n",
      "Epoch: 31, Avg. Loss: 0.06732518076896668, Avg. Val Loss: 0.06740750670433045\n",
      "Epoch: 33, Avg. Loss: 0.06662341952323914, Avg. Val Loss: 0.06682514548301696\n",
      "Epoch: 35, Avg. Loss: 0.06580824255943299, Avg. Val Loss: 0.06584511995315552\n",
      "Epoch: 37, Avg. Loss: 0.06487876772880555, Avg. Val Loss: 0.06467264890670776\n",
      "Epoch: 39, Avg. Loss: 0.06388925313949585, Avg. Val Loss: 0.06335760354995727\n",
      "Epoch: 41, Avg. Loss: 0.06283297538757324, Avg. Val Loss: 0.06240825653076172\n",
      "Epoch: 43, Avg. Loss: 0.06165449619293213, Avg. Val Loss: 0.06039278507232666\n",
      "Epoch: 45, Avg. Loss: 0.060358065366745, Avg. Val Loss: 0.05907966494560242\n",
      "Epoch: 47, Avg. Loss: 0.059041714668273924, Avg. Val Loss: 0.057806205749511716\n",
      "Epoch: 49, Avg. Loss: 0.05766226053237915, Avg. Val Loss: 0.055846428871154784\n",
      "Epoch: 51, Avg. Loss: 0.05641973614692688, Avg. Val Loss: 0.05470035076141357\n",
      "Epoch: 53, Avg. Loss: 0.05497735142707825, Avg. Val Loss: 0.05262178182601929\n",
      "Epoch: 55, Avg. Loss: 0.05354323387145996, Avg. Val Loss: 0.05097337365150452\n",
      "Epoch: 57, Avg. Loss: 0.05212461352348328, Avg. Val Loss: 0.04908211231231689\n",
      "Epoch: 59, Avg. Loss: 0.05086691975593567, Avg. Val Loss: 0.048451364040374756\n",
      "Epoch: 61, Avg. Loss: 0.04960584938526154, Avg. Val Loss: 0.04738759398460388\n",
      "Epoch: 63, Avg. Loss: 0.048518145084381105, Avg. Val Loss: 0.04626636207103729\n",
      "Epoch: 65, Avg. Loss: 0.047102993726730345, Avg. Val Loss: 0.0449174165725708\n",
      "Epoch: 67, Avg. Loss: 0.04601951539516449, Avg. Val Loss: 0.04332222938537598\n",
      "Epoch: 69, Avg. Loss: 0.04495707154273987, Avg. Val Loss: 0.04213882088661194\n",
      "Epoch: 71, Avg. Loss: 0.04386683404445648, Avg. Val Loss: 0.04063563048839569\n",
      "Epoch: 73, Avg. Loss: 0.042719924449920656, Avg. Val Loss: 0.03983496427536011\n",
      "Epoch: 75, Avg. Loss: 0.04171709716320038, Avg. Val Loss: 0.03938456177711487\n",
      "Epoch: 77, Avg. Loss: 0.040684056282043454, Avg. Val Loss: 0.037996089458465575\n",
      "Epoch: 79, Avg. Loss: 0.03968898355960846, Avg. Val Loss: 0.03736633062362671\n",
      "Epoch: 81, Avg. Loss: 0.03872571587562561, Avg. Val Loss: 0.03555560708045959\n",
      "Epoch: 83, Avg. Loss: 0.037705129384994505, Avg. Val Loss: 0.03567187488079071\n",
      "Epoch: 85, Avg. Loss: 0.03671063184738159, Avg. Val Loss: 0.03498574495315552\n",
      "Epoch: 87, Avg. Loss: 0.036092936992645264, Avg. Val Loss: 0.0340786874294281\n",
      "Epoch: 89, Avg. Loss: 0.035104623436927794, Avg. Val Loss: 0.03379952311515808\n",
      "Epoch: 91, Avg. Loss: 0.03459705114364624, Avg. Val Loss: 0.031979572772979734\n",
      "Epoch: 93, Avg. Loss: 0.033934345841407774, Avg. Val Loss: 0.03266292512416839\n",
      "Epoch: 95, Avg. Loss: 0.0332476407289505, Avg. Val Loss: 0.032179790735244754\n",
      "Epoch: 97, Avg. Loss: 0.032955598831176755, Avg. Val Loss: 0.03107954263687134\n",
      "Epoch: 99, Avg. Loss: 0.032233905792236325, Avg. Val Loss: 0.030660706758499145\n",
      "Finished Training\n"
     ]
    }
   ],
   "source": [
    "#convert over sample data to tensor\n",
    "Xtrain_us, ytrain_us, Xval_us, yval_us, Xtest_us, ytest_us = convert_torch(Xu_train,yu_train.to_numpy(),Xu_val,yu_val.to_numpy(),Xu_test,\n",
    "                                                                           yu_test.to_numpy())\n",
    "\n",
    "#check the shape of the train and test data\n",
    "print(\"Train data shape, X_train : {0},y_train : {1}\".format(Xtrain_us.shape, ytrain_us.shape))\n",
    "print(\"Validation data shape, X_val : {0},y_val : {1}\".format(Xval_us.shape, yval_us.shape))\n",
    "print(\"Test data shape, X_test : {0},y_test : {1}\".format(Xtest_us.shape, ytest_us.shape))\n",
    "print(\"\\n\")\n",
    "\n",
    "#network class instance\n",
    "net = Net(Xtrain_us.shape[1])\n",
    "#criterion = nn.BCELoss()\n",
    "\n",
    "#def Adam optimizer with lr = 0.001\n",
    "optimizer = optim.Adam(net.parameters(), lr = 0.001)\n",
    "\n",
    "#allocate the variables to cuda\n",
    "Xtrain_us, ytrain_us, Xval_us, yval_us, Xtest_us,ytest_us,net,criterion = params_to_cuda(Xtrain_us, ytrain_us, Xval_us, yval_us, Xtest_us,ytest_us,\n",
    "                                                                                net,criterion)\n",
    "\n",
    "epochs_us = 100\n",
    "train_loss_us, val_loss_us = net_train(epochs_us,optimizer,net,Xtrain_us, ytrain_us, Xval_us, yval_us)"
   ]
  },
  {
   "cell_type": "code",
   "execution_count": 135,
   "metadata": {
    "colab": {
     "base_uri": "https://localhost:8080/",
     "height": 514
    },
    "colab_type": "code",
    "id": "iasvGLvmYHPO",
    "outputId": "5b517e85-6f96-4318-fa74-95670b8f5f05"
   },
   "outputs": [
    {
     "data": {
      "text/plain": [
       "<matplotlib.legend.Legend at 0x7fecd1fa7f28>"
      ]
     },
     "execution_count": 135,
     "metadata": {
      "tags": []
     },
     "output_type": "execute_result"
    },
    {
     "data": {
      "image/png": "[encoded data removed]",
      "text/plain": [
       "<Figure size 576x576 with 1 Axes>"
      ]
     },
     "metadata": {
      "needs_background": "light",
      "tags": []
     },
     "output_type": "display_data"
    }
   ],
   "source": [
    "#create subplots\n",
    "fig,axs = plt.subplots(figsize=(8,8))\n",
    "n1_epochs_us = list(range(1,101))\n",
    "axs.plot(n1_epochs_us,train_loss_us)\n",
    "axs.plot(n1_epochs_us,val_loss_us)\n",
    "axs.xaxis.set_label_text('epochs')\n",
    "axs.yaxis.set_label_text('loss')\n",
    "axs.legend(['train','validation'])"
   ]
  },
  {
   "cell_type": "markdown",
   "metadata": {},
   "source": [
    "The validation loss decreases as number of epochs increases and theres fluctuation in the graph after50. So the model is trained for 40 epochs."
   ]
  },
  {
   "cell_type": "code",
   "execution_count": 136,
   "metadata": {
    "colab": {
     "base_uri": "https://localhost:8080/",
     "height": 374
    },
    "colab_type": "code",
    "id": "SsXkyr7JZUQB",
    "outputId": "52618c10-4aed-42f1-c158-09f44599720f"
   },
   "outputs": [
    {
     "name": "stdout",
     "output_type": "stream",
     "text": [
      "Epoch: 1, Avg. Loss: 0.031679800152778624, Avg. Val Loss: 0.03009033203125\n",
      "Epoch: 3, Avg. Loss: 0.031316766142845155, Avg. Val Loss: 0.030242031812667845\n",
      "Epoch: 5, Avg. Loss: 0.030889084935188292, Avg. Val Loss: 0.029674962162971497\n",
      "Epoch: 7, Avg. Loss: 0.030593600869178773, Avg. Val Loss: 0.028460219502449036\n",
      "Epoch: 9, Avg. Loss: 0.030259004235267638, Avg. Val Loss: 0.02851194143295288\n",
      "Epoch: 11, Avg. Loss: 0.03003837466239929, Avg. Val Loss: 0.027857381105422973\n",
      "Epoch: 13, Avg. Loss: 0.029585713148117067, Avg. Val Loss: 0.02824845016002655\n",
      "Epoch: 15, Avg. Loss: 0.029355767369270324, Avg. Val Loss: 0.027625542879104615\n",
      "Epoch: 17, Avg. Loss: 0.02927965223789215, Avg. Val Loss: 0.028233560919761657\n",
      "Epoch: 19, Avg. Loss: 0.02884540557861328, Avg. Val Loss: 0.02837880253791809\n",
      "Epoch: 21, Avg. Loss: 0.028609511256217957, Avg. Val Loss: 0.02732565999031067\n",
      "Epoch: 23, Avg. Loss: 0.028434747457504274, Avg. Val Loss: 0.02730659246444702\n",
      "Epoch: 25, Avg. Loss: 0.0282784104347229, Avg. Val Loss: 0.027247044444084167\n",
      "Epoch: 27, Avg. Loss: 0.028153544664382933, Avg. Val Loss: 0.026562708616256713\n",
      "Epoch: 29, Avg. Loss: 0.0277815580368042, Avg. Val Loss: 0.02668224275112152\n",
      "Epoch: 31, Avg. Loss: 0.027824944257736205, Avg. Val Loss: 0.02612040638923645\n",
      "Epoch: 33, Avg. Loss: 0.027413657307624816, Avg. Val Loss: 0.0263327419757843\n",
      "Epoch: 35, Avg. Loss: 0.02753905951976776, Avg. Val Loss: 0.02609306573867798\n",
      "Epoch: 37, Avg. Loss: 0.027200818061828613, Avg. Val Loss: 0.025804609060287476\n",
      "Epoch: 39, Avg. Loss: 0.027116659283638, Avg. Val Loss: 0.02581123411655426\n",
      "Finished Training\n"
     ]
    }
   ],
   "source": [
    "n_epochs_us = 40\n",
    "train_loss_us, val_loss_us = net_train(n_epochs_us,optimizer,net,Xtrain_us,ytrain_us,Xval_us,yval_us)"
   ]
  },
  {
   "cell_type": "code",
   "execution_count": 137,
   "metadata": {
    "colab": {
     "base_uri": "https://localhost:8080/",
     "height": 187
    },
    "colab_type": "code",
    "id": "5_hTSlpEZki-",
    "outputId": "f852a374-48dc-4d12-8a99-7e8f3ce0bda9"
   },
   "outputs": [
    {
     "name": "stdout",
     "output_type": "stream",
     "text": [
      "256\n",
      "              precision    recall  f1-score   support\n",
      "\n",
      "         0.0       0.97      0.97      0.97       135\n",
      "         1.0       0.97      0.97      0.97       121\n",
      "\n",
      "    accuracy                           0.97       256\n",
      "   macro avg       0.97      0.97      0.97       256\n",
      "weighted avg       0.97      0.97      0.97       256\n",
      "\n"
     ]
    }
   ],
   "source": [
    "#predict on test data\n",
    "y_pred_us = net(Xtest_us)\n",
    "\n",
    "#reallocate to cpu\n",
    "y_pred_us = y_pred_us.ge(.5).view(-1).cpu()\n",
    "print(len(y_pred_us))\n",
    "ytest_us = ytest_us.cpu()\n",
    "\n",
    "#classification report\n",
    "print(classification_report(ytest_us, y_pred_us))"
   ]
  },
  {
   "cell_type": "code",
   "execution_count": 138,
   "metadata": {
    "colab": {
     "base_uri": "https://localhost:8080/",
     "height": 311
    },
    "colab_type": "code",
    "id": "Jk0VNyvgZx8r",
    "outputId": "3edc8377-bbe5-4d63-d0ec-e38dec720ebd"
   },
   "outputs": [
    {
     "data": {
      "image/png": "[encoded data removed]",
      "text/plain": [
       "<Figure size 432x288 with 2 Axes>"
      ]
     },
     "metadata": {
      "needs_background": "light",
      "tags": []
     },
     "output_type": "display_data"
    }
   ],
   "source": [
    "#confusion matrix\n",
    "nn_conf_us = confusion_matrix(y_pred_us, ytest_us)\n",
    "plot_confusion_matrix(nn_conf_us,[\"Charged Off\",\"Fully Paid\"])"
   ]
  },
  {
   "cell_type": "code",
   "execution_count": 139,
   "metadata": {
    "colab": {
     "base_uri": "https://localhost:8080/",
     "height": 295
    },
    "colab_type": "code",
    "id": "dyUJZEA7Z5Wc",
    "outputId": "eafb3e66-2e92-4644-a78f-b9943b98b350"
   },
   "outputs": [
    {
     "data": {
      "image/png": "[encoded data removed]",
      "text/plain": [
       "<Figure size 432x288 with 1 Axes>"
      ]
     },
     "metadata": {
      "needs_background": "light",
      "tags": []
     },
     "output_type": "display_data"
    }
   ],
   "source": [
    "#plot the roc curve\n",
    "roccurve_func(ytest_us, y_pred_us)"
   ]
  },
  {
   "cell_type": "markdown",
   "metadata": {
    "colab_type": "text",
    "id": "yqwVLG7_-OAW"
   },
   "source": [
    "**11. Conclusion and Reference**\n",
    "\n",
    "**Conclusion**\n",
    "\n",
    "1. The dataset used for predicting default loans was an imbalanced data with 85% positive cases:Fully paid loans and 15% negative cases: charged off/default loans.\n",
    "2. The imbalanced data was handled using three approches: Under sampling, Over sampling and using weighted model.\n",
    "3. Prediction of Default/charged off loans was performed using 3 algorithms: Random forest, XGBoost and Neural network. GPU was used for training XGboost and Neural network.\n",
    "4. Based on the AUC, F1 score and the confusion matrix of the models, the beat model for the three approches are:\n",
    "       1. Undersampling Technique: XGBoost Classifier\n",
    "       2. Oversampling Techinque: Neural Network\n",
    "       3. Weighted Model: XGBoost classifier\n"
   ]
  },
  {
   "cell_type": "markdown",
   "metadata": {},
   "source": [
    "**Reference**\n",
    "\n",
    "http://www.dataminingapps.com/2016/11/what-is-smote-in-an-imbalanced-class-setting-e-g-fraud-detection/#:~:text=Rather%20than%20replicating%20the%20minority,et%20al.%2C%202002)\n",
    ".&text=For%20each%20minority%20class%20observation%2C%20SMOTE%20calculates%20the%20k%20nearest%20neighbors\n",
    "\n",
    "https://towardsdatascience.com/optimizing-hyperparameters-in-random-forest-classification-ec7741f9d3f6\n",
    "\n",
    "https://www.curiousily.com/posts/build-your-first-neural-network-with-pytorch/\n",
    "\n"
   ]
  },
  {
   "cell_type": "code",
   "execution_count": null,
   "metadata": {},
   "outputs": [],
   "source": []
  }
 ],
 "metadata": {
  "accelerator": "GPU",
  "colab": {
   "collapsed_sections": [],
   "name": "Credit_lending_loan.ipynb",
   "provenance": []
  },
  "kernelspec": {
   "display_name": "Python 3",
   "language": "python",
   "name": "python3"
  },
  "language_info": {
   "codemirror_mode": {
    "name": "ipython",
    "version": 3
   },
   "file_extension": ".py",
   "mimetype": "text/x-python",
   "name": "python",
   "nbconvert_exporter": "python",
   "pygments_lexer": "ipython3",
   "version": "3.7.2"
  }
 },
 "nbformat": 4,
 "nbformat_minor": 1
}
