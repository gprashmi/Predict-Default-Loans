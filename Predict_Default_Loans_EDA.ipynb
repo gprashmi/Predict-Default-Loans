{
 "cells": [
  {
   "cell_type": "markdown",
   "metadata": {
    "colab_type": "text",
    "id": "iSgpq05VqQ1p"
   },
   "source": [
    "# **Predict Default Loans Data Exploration**\n",
    "\n",
    "Credit Lending aims to determine the credit risk and the status of the loans approved. The dataset used for this project is taken from Lending Club. It consists of 52 features and around 42K instances spaaning over 5 years from 2007-2011. The target feature is Loan Status which describes if the loan has been fully paid/current, charged off/defaulted.\n",
    "\n",
    "This notebook aims to explore and understand the dataset by generating visuals between the features and the target label. The following questions are answered in this EDA notebook.\n",
    "\n",
    "1.   Check the distribution of the descriptive features: Loan amount, funded amount, interest rate and DTI\n",
    "2.   What is the average loan amount approved and the recoveries made per year based on term?\n",
    "3.   How does grad, emp_length, purpose, home ownership, term affect the loan amount and interest rate and to study the recoveries collected every year.\n",
    "4.   How does grade, sub grade, term, verification status affect if the loans are fully paid or charged off?\n",
    "5.   Determine the ratio of fully paid to charged off loans with loan amount and interest rates in different states in the USA.\n",
    "\n",
    "\n",
    "\n",
    "\n"
   ]
  },
  {
   "cell_type": "markdown",
   "metadata": {
    "colab_type": "text",
    "id": "6EBKbj3EqqOV"
   },
   "source": [
    "**Import all the libraries**"
   ]
  },
  {
   "cell_type": "code",
   "execution_count": 1,
   "metadata": {
    "colab": {},
    "colab_type": "code",
    "id": "abnsNYDFl0QW"
   },
   "outputs": [],
   "source": [
    "import pandas as pd\n",
    "import numpy as np\n",
    "import matplotlib.pyplot as plt\n",
    "import seaborn as sns\n",
    "import warnings\n",
    "\n",
    "warnings.filterwarnings(\"ignore\")"
   ]
  },
  {
   "cell_type": "markdown",
   "metadata": {
    "colab_type": "text",
    "id": "LswG_EXIqz3q"
   },
   "source": [
    "**Load the data**"
   ]
  },
  {
   "cell_type": "code",
   "execution_count": 2,
   "metadata": {
    "colab": {},
    "colab_type": "code",
    "id": "2IWPTphDl15W"
   },
   "outputs": [],
   "source": [
    "loan = pd.read_csv(\"loans_data.csv\")"
   ]
  },
  {
   "cell_type": "markdown",
   "metadata": {
    "colab_type": "text",
    "id": "35eGvWv2q_aa"
   },
   "source": [
    "**Print the dataset to analyse the columns and their data types**\n",
    "\n",
    "It is seen the dataset has 52 features and more 42K instances. There are 7 categorical features, 42 numerical features, and 3 datetime features."
   ]
  },
  {
   "cell_type": "code",
   "execution_count": 3,
   "metadata": {
    "colab": {
     "base_uri": "https://localhost:8080/",
     "height": 892
    },
    "colab_type": "code",
    "id": "7ePdBz8drrkt",
    "outputId": "07b22d52-fa4c-4fc8-ec8b-9b5cb6b539dd"
   },
   "outputs": [
    {
     "data": {
      "text/html": [
       "<div>\n",
       "<style scoped>\n",
       "    .dataframe tbody tr th:only-of-type {\n",
       "        vertical-align: middle;\n",
       "    }\n",
       "\n",
       "    .dataframe tbody tr th {\n",
       "        vertical-align: top;\n",
       "    }\n",
       "\n",
       "    .dataframe thead th {\n",
       "        text-align: right;\n",
       "    }\n",
       "</style>\n",
       "<table border=\"1\" class=\"dataframe\">\n",
       "  <thead>\n",
       "    <tr style=\"text-align: right;\">\n",
       "      <th></th>\n",
       "      <th>id</th>\n",
       "      <th>member_id</th>\n",
       "      <th>loan_amnt</th>\n",
       "      <th>funded_amnt</th>\n",
       "      <th>funded_amnt_inv</th>\n",
       "      <th>term</th>\n",
       "      <th>int_rate</th>\n",
       "      <th>installment</th>\n",
       "      <th>grade</th>\n",
       "      <th>sub_grade</th>\n",
       "      <th>...</th>\n",
       "      <th>last_pymnt_amnt</th>\n",
       "      <th>last_credit_pull_d</th>\n",
       "      <th>collections_12_mths_ex_med</th>\n",
       "      <th>policy_code</th>\n",
       "      <th>application_type</th>\n",
       "      <th>acc_now_delinq</th>\n",
       "      <th>chargeoff_within_12_mths</th>\n",
       "      <th>delinq_amnt</th>\n",
       "      <th>pub_rec_bankruptcies</th>\n",
       "      <th>tax_liens</th>\n",
       "    </tr>\n",
       "  </thead>\n",
       "  <tbody>\n",
       "    <tr>\n",
       "      <th>0</th>\n",
       "      <td>1077501</td>\n",
       "      <td>1296599.0</td>\n",
       "      <td>5000.0</td>\n",
       "      <td>5000.0</td>\n",
       "      <td>4975.0</td>\n",
       "      <td>36 months</td>\n",
       "      <td>10.65%</td>\n",
       "      <td>162.87</td>\n",
       "      <td>B</td>\n",
       "      <td>B2</td>\n",
       "      <td>...</td>\n",
       "      <td>171.62</td>\n",
       "      <td>Jun-2016</td>\n",
       "      <td>0.0</td>\n",
       "      <td>1.0</td>\n",
       "      <td>INDIVIDUAL</td>\n",
       "      <td>0.0</td>\n",
       "      <td>0.0</td>\n",
       "      <td>0.0</td>\n",
       "      <td>0.0</td>\n",
       "      <td>0.0</td>\n",
       "    </tr>\n",
       "    <tr>\n",
       "      <th>1</th>\n",
       "      <td>1077430</td>\n",
       "      <td>1314167.0</td>\n",
       "      <td>2500.0</td>\n",
       "      <td>2500.0</td>\n",
       "      <td>2500.0</td>\n",
       "      <td>60 months</td>\n",
       "      <td>15.27%</td>\n",
       "      <td>59.83</td>\n",
       "      <td>C</td>\n",
       "      <td>C4</td>\n",
       "      <td>...</td>\n",
       "      <td>119.66</td>\n",
       "      <td>Sep-2013</td>\n",
       "      <td>0.0</td>\n",
       "      <td>1.0</td>\n",
       "      <td>INDIVIDUAL</td>\n",
       "      <td>0.0</td>\n",
       "      <td>0.0</td>\n",
       "      <td>0.0</td>\n",
       "      <td>0.0</td>\n",
       "      <td>0.0</td>\n",
       "    </tr>\n",
       "    <tr>\n",
       "      <th>2</th>\n",
       "      <td>1077175</td>\n",
       "      <td>1313524.0</td>\n",
       "      <td>2400.0</td>\n",
       "      <td>2400.0</td>\n",
       "      <td>2400.0</td>\n",
       "      <td>36 months</td>\n",
       "      <td>15.96%</td>\n",
       "      <td>84.33</td>\n",
       "      <td>C</td>\n",
       "      <td>C5</td>\n",
       "      <td>...</td>\n",
       "      <td>649.91</td>\n",
       "      <td>Jun-2016</td>\n",
       "      <td>0.0</td>\n",
       "      <td>1.0</td>\n",
       "      <td>INDIVIDUAL</td>\n",
       "      <td>0.0</td>\n",
       "      <td>0.0</td>\n",
       "      <td>0.0</td>\n",
       "      <td>0.0</td>\n",
       "      <td>0.0</td>\n",
       "    </tr>\n",
       "    <tr>\n",
       "      <th>3</th>\n",
       "      <td>1076863</td>\n",
       "      <td>1277178.0</td>\n",
       "      <td>10000.0</td>\n",
       "      <td>10000.0</td>\n",
       "      <td>10000.0</td>\n",
       "      <td>36 months</td>\n",
       "      <td>13.49%</td>\n",
       "      <td>339.31</td>\n",
       "      <td>C</td>\n",
       "      <td>C1</td>\n",
       "      <td>...</td>\n",
       "      <td>357.48</td>\n",
       "      <td>Apr-2016</td>\n",
       "      <td>0.0</td>\n",
       "      <td>1.0</td>\n",
       "      <td>INDIVIDUAL</td>\n",
       "      <td>0.0</td>\n",
       "      <td>0.0</td>\n",
       "      <td>0.0</td>\n",
       "      <td>0.0</td>\n",
       "      <td>0.0</td>\n",
       "    </tr>\n",
       "    <tr>\n",
       "      <th>4</th>\n",
       "      <td>1075358</td>\n",
       "      <td>1311748.0</td>\n",
       "      <td>3000.0</td>\n",
       "      <td>3000.0</td>\n",
       "      <td>3000.0</td>\n",
       "      <td>60 months</td>\n",
       "      <td>12.69%</td>\n",
       "      <td>67.79</td>\n",
       "      <td>B</td>\n",
       "      <td>B5</td>\n",
       "      <td>...</td>\n",
       "      <td>67.79</td>\n",
       "      <td>Jun-2016</td>\n",
       "      <td>0.0</td>\n",
       "      <td>1.0</td>\n",
       "      <td>INDIVIDUAL</td>\n",
       "      <td>0.0</td>\n",
       "      <td>0.0</td>\n",
       "      <td>0.0</td>\n",
       "      <td>0.0</td>\n",
       "      <td>0.0</td>\n",
       "    </tr>\n",
       "  </tbody>\n",
       "</table>\n",
       "<p>5 rows × 52 columns</p>\n",
       "</div>"
      ],
      "text/plain": [
       "        id  member_id  loan_amnt  funded_amnt  funded_amnt_inv       term  \\\n",
       "0  1077501  1296599.0     5000.0       5000.0           4975.0  36 months   \n",
       "1  1077430  1314167.0     2500.0       2500.0           2500.0  60 months   \n",
       "2  1077175  1313524.0     2400.0       2400.0           2400.0  36 months   \n",
       "3  1076863  1277178.0    10000.0      10000.0          10000.0  36 months   \n",
       "4  1075358  1311748.0     3000.0       3000.0           3000.0  60 months   \n",
       "\n",
       "  int_rate  installment grade sub_grade  ... last_pymnt_amnt  \\\n",
       "0   10.65%       162.87     B        B2  ...          171.62   \n",
       "1   15.27%        59.83     C        C4  ...          119.66   \n",
       "2   15.96%        84.33     C        C5  ...          649.91   \n",
       "3   13.49%       339.31     C        C1  ...          357.48   \n",
       "4   12.69%        67.79     B        B5  ...           67.79   \n",
       "\n",
       "  last_credit_pull_d collections_12_mths_ex_med  policy_code application_type  \\\n",
       "0           Jun-2016                        0.0          1.0       INDIVIDUAL   \n",
       "1           Sep-2013                        0.0          1.0       INDIVIDUAL   \n",
       "2           Jun-2016                        0.0          1.0       INDIVIDUAL   \n",
       "3           Apr-2016                        0.0          1.0       INDIVIDUAL   \n",
       "4           Jun-2016                        0.0          1.0       INDIVIDUAL   \n",
       "\n",
       "  acc_now_delinq chargeoff_within_12_mths delinq_amnt pub_rec_bankruptcies  \\\n",
       "0            0.0                      0.0         0.0                  0.0   \n",
       "1            0.0                      0.0         0.0                  0.0   \n",
       "2            0.0                      0.0         0.0                  0.0   \n",
       "3            0.0                      0.0         0.0                  0.0   \n",
       "4            0.0                      0.0         0.0                  0.0   \n",
       "\n",
       "  tax_liens  \n",
       "0       0.0  \n",
       "1       0.0  \n",
       "2       0.0  \n",
       "3       0.0  \n",
       "4       0.0  \n",
       "\n",
       "[5 rows x 52 columns]"
      ]
     },
     "execution_count": 3,
     "metadata": {},
     "output_type": "execute_result"
    }
   ],
   "source": [
    "#display the data\n",
    "loan.head()"
   ]
  },
  {
   "cell_type": "code",
   "execution_count": 4,
   "metadata": {
    "colab": {
     "base_uri": "https://localhost:8080/",
     "height": 34
    },
    "colab_type": "code",
    "id": "lcnFk21mxCa2",
    "outputId": "29a7c361-3202-4f13-90ab-03d53327ed93"
   },
   "outputs": [
    {
     "name": "stdout",
     "output_type": "stream",
     "text": [
      "The lenght of the data: 42538\n"
     ]
    }
   ],
   "source": [
    "#check the size of the data\n",
    "print(\"The lenght of the data:\",len(loan))"
   ]
  },
  {
   "cell_type": "code",
   "execution_count": 5,
   "metadata": {
    "colab": {
     "base_uri": "https://localhost:8080/",
     "height": 252
    },
    "colab_type": "code",
    "id": "9-KAxEiqS5hC",
    "outputId": "e6e78243-2d8f-47fa-ce11-15a18acb4c20"
   },
   "outputs": [
    {
     "data": {
      "text/plain": [
       "Index(['id', 'member_id', 'loan_amnt', 'funded_amnt', 'funded_amnt_inv',\n",
       "       'term', 'int_rate', 'installment', 'grade', 'sub_grade', 'emp_title',\n",
       "       'emp_length', 'home_ownership', 'annual_inc', 'verification_status',\n",
       "       'issue_d', 'loan_status', 'pymnt_plan', 'purpose', 'title', 'zip_code',\n",
       "       'addr_state', 'dti', 'delinq_2yrs', 'earliest_cr_line',\n",
       "       'inq_last_6mths', 'open_acc', 'pub_rec', 'revol_bal', 'revol_util',\n",
       "       'total_acc', 'initial_list_status', 'out_prncp', 'out_prncp_inv',\n",
       "       'total_pymnt', 'total_pymnt_inv', 'total_rec_prncp', 'total_rec_int',\n",
       "       'total_rec_late_fee', 'recoveries', 'collection_recovery_fee',\n",
       "       'last_pymnt_d', 'last_pymnt_amnt', 'last_credit_pull_d',\n",
       "       'collections_12_mths_ex_med', 'policy_code', 'application_type',\n",
       "       'acc_now_delinq', 'chargeoff_within_12_mths', 'delinq_amnt',\n",
       "       'pub_rec_bankruptcies', 'tax_liens'],\n",
       "      dtype='object')"
      ]
     },
     "execution_count": 5,
     "metadata": {},
     "output_type": "execute_result"
    }
   ],
   "source": [
    "#columns present in the data\n",
    "loan.columns"
   ]
  },
  {
   "cell_type": "code",
   "execution_count": 6,
   "metadata": {
    "colab": {
     "base_uri": "https://localhost:8080/",
     "height": 304
    },
    "colab_type": "code",
    "id": "K3q4_n9eBcYT",
    "outputId": "4bf27658-c8c7-4074-db4f-348f81eb0ade"
   },
   "outputs": [
    {
     "data": {
      "text/html": [
       "<div>\n",
       "<style scoped>\n",
       "    .dataframe tbody tr th:only-of-type {\n",
       "        vertical-align: middle;\n",
       "    }\n",
       "\n",
       "    .dataframe tbody tr th {\n",
       "        vertical-align: top;\n",
       "    }\n",
       "\n",
       "    .dataframe thead th {\n",
       "        text-align: right;\n",
       "    }\n",
       "</style>\n",
       "<table border=\"1\" class=\"dataframe\">\n",
       "  <thead>\n",
       "    <tr style=\"text-align: right;\">\n",
       "      <th></th>\n",
       "      <th>member_id</th>\n",
       "      <th>loan_amnt</th>\n",
       "      <th>funded_amnt</th>\n",
       "      <th>funded_amnt_inv</th>\n",
       "      <th>installment</th>\n",
       "      <th>annual_inc</th>\n",
       "      <th>dti</th>\n",
       "      <th>delinq_2yrs</th>\n",
       "      <th>inq_last_6mths</th>\n",
       "      <th>open_acc</th>\n",
       "      <th>...</th>\n",
       "      <th>recoveries</th>\n",
       "      <th>collection_recovery_fee</th>\n",
       "      <th>last_pymnt_amnt</th>\n",
       "      <th>collections_12_mths_ex_med</th>\n",
       "      <th>policy_code</th>\n",
       "      <th>acc_now_delinq</th>\n",
       "      <th>chargeoff_within_12_mths</th>\n",
       "      <th>delinq_amnt</th>\n",
       "      <th>pub_rec_bankruptcies</th>\n",
       "      <th>tax_liens</th>\n",
       "    </tr>\n",
       "  </thead>\n",
       "  <tbody>\n",
       "    <tr>\n",
       "      <th>count</th>\n",
       "      <td>4.253500e+04</td>\n",
       "      <td>42535.000000</td>\n",
       "      <td>42535.000000</td>\n",
       "      <td>42535.000000</td>\n",
       "      <td>42535.000000</td>\n",
       "      <td>4.253100e+04</td>\n",
       "      <td>42535.000000</td>\n",
       "      <td>42506.000000</td>\n",
       "      <td>42506.000000</td>\n",
       "      <td>42506.000000</td>\n",
       "      <td>...</td>\n",
       "      <td>42535.000000</td>\n",
       "      <td>42535.000000</td>\n",
       "      <td>42535.000000</td>\n",
       "      <td>42390.0</td>\n",
       "      <td>42535.0</td>\n",
       "      <td>42506.000000</td>\n",
       "      <td>42390.0</td>\n",
       "      <td>42506.000000</td>\n",
       "      <td>41170.000000</td>\n",
       "      <td>42430.000000</td>\n",
       "    </tr>\n",
       "    <tr>\n",
       "      <th>mean</th>\n",
       "      <td>8.257026e+05</td>\n",
       "      <td>11089.722581</td>\n",
       "      <td>10821.585753</td>\n",
       "      <td>10139.830603</td>\n",
       "      <td>322.623063</td>\n",
       "      <td>6.913656e+04</td>\n",
       "      <td>13.373043</td>\n",
       "      <td>0.152449</td>\n",
       "      <td>1.081424</td>\n",
       "      <td>9.343951</td>\n",
       "      <td>...</td>\n",
       "      <td>99.760718</td>\n",
       "      <td>13.858267</td>\n",
       "      <td>2610.756511</td>\n",
       "      <td>0.0</td>\n",
       "      <td>1.0</td>\n",
       "      <td>0.000094</td>\n",
       "      <td>0.0</td>\n",
       "      <td>0.143039</td>\n",
       "      <td>0.045227</td>\n",
       "      <td>0.000024</td>\n",
       "    </tr>\n",
       "    <tr>\n",
       "      <th>std</th>\n",
       "      <td>2.795409e+05</td>\n",
       "      <td>7410.938391</td>\n",
       "      <td>7146.914675</td>\n",
       "      <td>7131.686446</td>\n",
       "      <td>208.927216</td>\n",
       "      <td>6.409635e+04</td>\n",
       "      <td>6.726315</td>\n",
       "      <td>0.512406</td>\n",
       "      <td>1.527455</td>\n",
       "      <td>4.496274</td>\n",
       "      <td>...</td>\n",
       "      <td>716.220266</td>\n",
       "      <td>159.360372</td>\n",
       "      <td>4385.636417</td>\n",
       "      <td>0.0</td>\n",
       "      <td>0.0</td>\n",
       "      <td>0.009700</td>\n",
       "      <td>0.0</td>\n",
       "      <td>29.359579</td>\n",
       "      <td>0.208737</td>\n",
       "      <td>0.004855</td>\n",
       "    </tr>\n",
       "    <tr>\n",
       "      <th>min</th>\n",
       "      <td>7.047300e+04</td>\n",
       "      <td>500.000000</td>\n",
       "      <td>500.000000</td>\n",
       "      <td>0.000000</td>\n",
       "      <td>15.670000</td>\n",
       "      <td>1.896000e+03</td>\n",
       "      <td>0.000000</td>\n",
       "      <td>0.000000</td>\n",
       "      <td>0.000000</td>\n",
       "      <td>1.000000</td>\n",
       "      <td>...</td>\n",
       "      <td>0.000000</td>\n",
       "      <td>0.000000</td>\n",
       "      <td>0.000000</td>\n",
       "      <td>0.0</td>\n",
       "      <td>1.0</td>\n",
       "      <td>0.000000</td>\n",
       "      <td>0.0</td>\n",
       "      <td>0.000000</td>\n",
       "      <td>0.000000</td>\n",
       "      <td>0.000000</td>\n",
       "    </tr>\n",
       "    <tr>\n",
       "      <th>25%</th>\n",
       "      <td>6.384795e+05</td>\n",
       "      <td>5200.000000</td>\n",
       "      <td>5000.000000</td>\n",
       "      <td>4950.000000</td>\n",
       "      <td>165.520000</td>\n",
       "      <td>4.000000e+04</td>\n",
       "      <td>8.200000</td>\n",
       "      <td>0.000000</td>\n",
       "      <td>0.000000</td>\n",
       "      <td>6.000000</td>\n",
       "      <td>...</td>\n",
       "      <td>0.000000</td>\n",
       "      <td>0.000000</td>\n",
       "      <td>211.460000</td>\n",
       "      <td>0.0</td>\n",
       "      <td>1.0</td>\n",
       "      <td>0.000000</td>\n",
       "      <td>0.0</td>\n",
       "      <td>0.000000</td>\n",
       "      <td>0.000000</td>\n",
       "      <td>0.000000</td>\n",
       "    </tr>\n",
       "    <tr>\n",
       "      <th>50%</th>\n",
       "      <td>8.241780e+05</td>\n",
       "      <td>9700.000000</td>\n",
       "      <td>9600.000000</td>\n",
       "      <td>8500.000000</td>\n",
       "      <td>277.690000</td>\n",
       "      <td>5.900000e+04</td>\n",
       "      <td>13.470000</td>\n",
       "      <td>0.000000</td>\n",
       "      <td>1.000000</td>\n",
       "      <td>9.000000</td>\n",
       "      <td>...</td>\n",
       "      <td>0.000000</td>\n",
       "      <td>0.000000</td>\n",
       "      <td>526.150000</td>\n",
       "      <td>0.0</td>\n",
       "      <td>1.0</td>\n",
       "      <td>0.000000</td>\n",
       "      <td>0.0</td>\n",
       "      <td>0.000000</td>\n",
       "      <td>0.000000</td>\n",
       "      <td>0.000000</td>\n",
       "    </tr>\n",
       "    <tr>\n",
       "      <th>75%</th>\n",
       "      <td>1.033946e+06</td>\n",
       "      <td>15000.000000</td>\n",
       "      <td>15000.000000</td>\n",
       "      <td>14000.000000</td>\n",
       "      <td>428.180000</td>\n",
       "      <td>8.250000e+04</td>\n",
       "      <td>18.680000</td>\n",
       "      <td>0.000000</td>\n",
       "      <td>2.000000</td>\n",
       "      <td>12.000000</td>\n",
       "      <td>...</td>\n",
       "      <td>0.000000</td>\n",
       "      <td>0.000000</td>\n",
       "      <td>3165.450000</td>\n",
       "      <td>0.0</td>\n",
       "      <td>1.0</td>\n",
       "      <td>0.000000</td>\n",
       "      <td>0.0</td>\n",
       "      <td>0.000000</td>\n",
       "      <td>0.000000</td>\n",
       "      <td>0.000000</td>\n",
       "    </tr>\n",
       "    <tr>\n",
       "      <th>max</th>\n",
       "      <td>1.314167e+06</td>\n",
       "      <td>35000.000000</td>\n",
       "      <td>35000.000000</td>\n",
       "      <td>35000.000000</td>\n",
       "      <td>1305.190000</td>\n",
       "      <td>6.000000e+06</td>\n",
       "      <td>29.990000</td>\n",
       "      <td>13.000000</td>\n",
       "      <td>33.000000</td>\n",
       "      <td>47.000000</td>\n",
       "      <td>...</td>\n",
       "      <td>29623.350000</td>\n",
       "      <td>7002.190000</td>\n",
       "      <td>36115.200000</td>\n",
       "      <td>0.0</td>\n",
       "      <td>1.0</td>\n",
       "      <td>1.000000</td>\n",
       "      <td>0.0</td>\n",
       "      <td>6053.000000</td>\n",
       "      <td>2.000000</td>\n",
       "      <td>1.000000</td>\n",
       "    </tr>\n",
       "  </tbody>\n",
       "</table>\n",
       "<p>8 rows × 30 columns</p>\n",
       "</div>"
      ],
      "text/plain": [
       "          member_id     loan_amnt   funded_amnt  funded_amnt_inv  \\\n",
       "count  4.253500e+04  42535.000000  42535.000000     42535.000000   \n",
       "mean   8.257026e+05  11089.722581  10821.585753     10139.830603   \n",
       "std    2.795409e+05   7410.938391   7146.914675      7131.686446   \n",
       "min    7.047300e+04    500.000000    500.000000         0.000000   \n",
       "25%    6.384795e+05   5200.000000   5000.000000      4950.000000   \n",
       "50%    8.241780e+05   9700.000000   9600.000000      8500.000000   \n",
       "75%    1.033946e+06  15000.000000  15000.000000     14000.000000   \n",
       "max    1.314167e+06  35000.000000  35000.000000     35000.000000   \n",
       "\n",
       "        installment    annual_inc           dti   delinq_2yrs  inq_last_6mths  \\\n",
       "count  42535.000000  4.253100e+04  42535.000000  42506.000000    42506.000000   \n",
       "mean     322.623063  6.913656e+04     13.373043      0.152449        1.081424   \n",
       "std      208.927216  6.409635e+04      6.726315      0.512406        1.527455   \n",
       "min       15.670000  1.896000e+03      0.000000      0.000000        0.000000   \n",
       "25%      165.520000  4.000000e+04      8.200000      0.000000        0.000000   \n",
       "50%      277.690000  5.900000e+04     13.470000      0.000000        1.000000   \n",
       "75%      428.180000  8.250000e+04     18.680000      0.000000        2.000000   \n",
       "max     1305.190000  6.000000e+06     29.990000     13.000000       33.000000   \n",
       "\n",
       "           open_acc  ...    recoveries  collection_recovery_fee  \\\n",
       "count  42506.000000  ...  42535.000000             42535.000000   \n",
       "mean       9.343951  ...     99.760718                13.858267   \n",
       "std        4.496274  ...    716.220266               159.360372   \n",
       "min        1.000000  ...      0.000000                 0.000000   \n",
       "25%        6.000000  ...      0.000000                 0.000000   \n",
       "50%        9.000000  ...      0.000000                 0.000000   \n",
       "75%       12.000000  ...      0.000000                 0.000000   \n",
       "max       47.000000  ...  29623.350000              7002.190000   \n",
       "\n",
       "       last_pymnt_amnt  collections_12_mths_ex_med  policy_code  \\\n",
       "count     42535.000000                     42390.0      42535.0   \n",
       "mean       2610.756511                         0.0          1.0   \n",
       "std        4385.636417                         0.0          0.0   \n",
       "min           0.000000                         0.0          1.0   \n",
       "25%         211.460000                         0.0          1.0   \n",
       "50%         526.150000                         0.0          1.0   \n",
       "75%        3165.450000                         0.0          1.0   \n",
       "max       36115.200000                         0.0          1.0   \n",
       "\n",
       "       acc_now_delinq  chargeoff_within_12_mths   delinq_amnt  \\\n",
       "count    42506.000000                   42390.0  42506.000000   \n",
       "mean         0.000094                       0.0      0.143039   \n",
       "std          0.009700                       0.0     29.359579   \n",
       "min          0.000000                       0.0      0.000000   \n",
       "25%          0.000000                       0.0      0.000000   \n",
       "50%          0.000000                       0.0      0.000000   \n",
       "75%          0.000000                       0.0      0.000000   \n",
       "max          1.000000                       0.0   6053.000000   \n",
       "\n",
       "       pub_rec_bankruptcies     tax_liens  \n",
       "count          41170.000000  42430.000000  \n",
       "mean               0.045227      0.000024  \n",
       "std                0.208737      0.004855  \n",
       "min                0.000000      0.000000  \n",
       "25%                0.000000      0.000000  \n",
       "50%                0.000000      0.000000  \n",
       "75%                0.000000      0.000000  \n",
       "max                2.000000      1.000000  \n",
       "\n",
       "[8 rows x 30 columns]"
      ]
     },
     "execution_count": 6,
     "metadata": {},
     "output_type": "execute_result"
    }
   ],
   "source": [
    "#statistics of numerical data\n",
    "loan.describe()"
   ]
  },
  {
   "cell_type": "markdown",
   "metadata": {},
   "source": [
    "**Data Preprocessing**"
   ]
  },
  {
   "cell_type": "code",
   "execution_count": 7,
   "metadata": {
    "colab": {},
    "colab_type": "code",
    "id": "SrXs_xb3_zi4"
   },
   "outputs": [],
   "source": [
    "#Remove the % from the interest rate column to convert it to numerical data type.\n",
    "loan['int_rate'] = loan['int_rate'].astype(str).map(lambda x: x.rstrip('%')).astype(float)\n",
    "\n",
    "#Remove months from the term column to make it an int data type.\n",
    "loan[\"term\"] = loan[\"term\"].map({\"36 months\" : 36, \"60 months\" : 60}).astype(\"Int64\")"
   ]
  },
  {
   "cell_type": "code",
   "execution_count": 8,
   "metadata": {},
   "outputs": [
    {
     "data": {
      "text/html": [
       "<div>\n",
       "<style scoped>\n",
       "    .dataframe tbody tr th:only-of-type {\n",
       "        vertical-align: middle;\n",
       "    }\n",
       "\n",
       "    .dataframe tbody tr th {\n",
       "        vertical-align: top;\n",
       "    }\n",
       "\n",
       "    .dataframe thead th {\n",
       "        text-align: right;\n",
       "    }\n",
       "</style>\n",
       "<table border=\"1\" class=\"dataframe\">\n",
       "  <thead>\n",
       "    <tr style=\"text-align: right;\">\n",
       "      <th></th>\n",
       "      <th>id</th>\n",
       "      <th>member_id</th>\n",
       "      <th>loan_amnt</th>\n",
       "      <th>funded_amnt</th>\n",
       "      <th>funded_amnt_inv</th>\n",
       "      <th>term</th>\n",
       "      <th>int_rate</th>\n",
       "      <th>installment</th>\n",
       "      <th>grade</th>\n",
       "      <th>sub_grade</th>\n",
       "      <th>...</th>\n",
       "      <th>last_pymnt_amnt</th>\n",
       "      <th>last_credit_pull_d</th>\n",
       "      <th>collections_12_mths_ex_med</th>\n",
       "      <th>policy_code</th>\n",
       "      <th>application_type</th>\n",
       "      <th>acc_now_delinq</th>\n",
       "      <th>chargeoff_within_12_mths</th>\n",
       "      <th>delinq_amnt</th>\n",
       "      <th>pub_rec_bankruptcies</th>\n",
       "      <th>tax_liens</th>\n",
       "    </tr>\n",
       "  </thead>\n",
       "  <tbody>\n",
       "    <tr>\n",
       "      <th>0</th>\n",
       "      <td>1077501</td>\n",
       "      <td>1296599.0</td>\n",
       "      <td>5000.0</td>\n",
       "      <td>5000.0</td>\n",
       "      <td>4975.0</td>\n",
       "      <td>36</td>\n",
       "      <td>10.65</td>\n",
       "      <td>162.87</td>\n",
       "      <td>B</td>\n",
       "      <td>B2</td>\n",
       "      <td>...</td>\n",
       "      <td>171.62</td>\n",
       "      <td>Jun-2016</td>\n",
       "      <td>0.0</td>\n",
       "      <td>1.0</td>\n",
       "      <td>INDIVIDUAL</td>\n",
       "      <td>0.0</td>\n",
       "      <td>0.0</td>\n",
       "      <td>0.0</td>\n",
       "      <td>0.0</td>\n",
       "      <td>0.0</td>\n",
       "    </tr>\n",
       "    <tr>\n",
       "      <th>1</th>\n",
       "      <td>1077430</td>\n",
       "      <td>1314167.0</td>\n",
       "      <td>2500.0</td>\n",
       "      <td>2500.0</td>\n",
       "      <td>2500.0</td>\n",
       "      <td>60</td>\n",
       "      <td>15.27</td>\n",
       "      <td>59.83</td>\n",
       "      <td>C</td>\n",
       "      <td>C4</td>\n",
       "      <td>...</td>\n",
       "      <td>119.66</td>\n",
       "      <td>Sep-2013</td>\n",
       "      <td>0.0</td>\n",
       "      <td>1.0</td>\n",
       "      <td>INDIVIDUAL</td>\n",
       "      <td>0.0</td>\n",
       "      <td>0.0</td>\n",
       "      <td>0.0</td>\n",
       "      <td>0.0</td>\n",
       "      <td>0.0</td>\n",
       "    </tr>\n",
       "    <tr>\n",
       "      <th>2</th>\n",
       "      <td>1077175</td>\n",
       "      <td>1313524.0</td>\n",
       "      <td>2400.0</td>\n",
       "      <td>2400.0</td>\n",
       "      <td>2400.0</td>\n",
       "      <td>36</td>\n",
       "      <td>15.96</td>\n",
       "      <td>84.33</td>\n",
       "      <td>C</td>\n",
       "      <td>C5</td>\n",
       "      <td>...</td>\n",
       "      <td>649.91</td>\n",
       "      <td>Jun-2016</td>\n",
       "      <td>0.0</td>\n",
       "      <td>1.0</td>\n",
       "      <td>INDIVIDUAL</td>\n",
       "      <td>0.0</td>\n",
       "      <td>0.0</td>\n",
       "      <td>0.0</td>\n",
       "      <td>0.0</td>\n",
       "      <td>0.0</td>\n",
       "    </tr>\n",
       "    <tr>\n",
       "      <th>3</th>\n",
       "      <td>1076863</td>\n",
       "      <td>1277178.0</td>\n",
       "      <td>10000.0</td>\n",
       "      <td>10000.0</td>\n",
       "      <td>10000.0</td>\n",
       "      <td>36</td>\n",
       "      <td>13.49</td>\n",
       "      <td>339.31</td>\n",
       "      <td>C</td>\n",
       "      <td>C1</td>\n",
       "      <td>...</td>\n",
       "      <td>357.48</td>\n",
       "      <td>Apr-2016</td>\n",
       "      <td>0.0</td>\n",
       "      <td>1.0</td>\n",
       "      <td>INDIVIDUAL</td>\n",
       "      <td>0.0</td>\n",
       "      <td>0.0</td>\n",
       "      <td>0.0</td>\n",
       "      <td>0.0</td>\n",
       "      <td>0.0</td>\n",
       "    </tr>\n",
       "    <tr>\n",
       "      <th>4</th>\n",
       "      <td>1075358</td>\n",
       "      <td>1311748.0</td>\n",
       "      <td>3000.0</td>\n",
       "      <td>3000.0</td>\n",
       "      <td>3000.0</td>\n",
       "      <td>60</td>\n",
       "      <td>12.69</td>\n",
       "      <td>67.79</td>\n",
       "      <td>B</td>\n",
       "      <td>B5</td>\n",
       "      <td>...</td>\n",
       "      <td>67.79</td>\n",
       "      <td>Jun-2016</td>\n",
       "      <td>0.0</td>\n",
       "      <td>1.0</td>\n",
       "      <td>INDIVIDUAL</td>\n",
       "      <td>0.0</td>\n",
       "      <td>0.0</td>\n",
       "      <td>0.0</td>\n",
       "      <td>0.0</td>\n",
       "      <td>0.0</td>\n",
       "    </tr>\n",
       "  </tbody>\n",
       "</table>\n",
       "<p>5 rows × 52 columns</p>\n",
       "</div>"
      ],
      "text/plain": [
       "        id  member_id  loan_amnt  funded_amnt  funded_amnt_inv  term  \\\n",
       "0  1077501  1296599.0     5000.0       5000.0           4975.0    36   \n",
       "1  1077430  1314167.0     2500.0       2500.0           2500.0    60   \n",
       "2  1077175  1313524.0     2400.0       2400.0           2400.0    36   \n",
       "3  1076863  1277178.0    10000.0      10000.0          10000.0    36   \n",
       "4  1075358  1311748.0     3000.0       3000.0           3000.0    60   \n",
       "\n",
       "   int_rate  installment grade sub_grade  ... last_pymnt_amnt  \\\n",
       "0     10.65       162.87     B        B2  ...          171.62   \n",
       "1     15.27        59.83     C        C4  ...          119.66   \n",
       "2     15.96        84.33     C        C5  ...          649.91   \n",
       "3     13.49       339.31     C        C1  ...          357.48   \n",
       "4     12.69        67.79     B        B5  ...           67.79   \n",
       "\n",
       "  last_credit_pull_d collections_12_mths_ex_med  policy_code application_type  \\\n",
       "0           Jun-2016                        0.0          1.0       INDIVIDUAL   \n",
       "1           Sep-2013                        0.0          1.0       INDIVIDUAL   \n",
       "2           Jun-2016                        0.0          1.0       INDIVIDUAL   \n",
       "3           Apr-2016                        0.0          1.0       INDIVIDUAL   \n",
       "4           Jun-2016                        0.0          1.0       INDIVIDUAL   \n",
       "\n",
       "  acc_now_delinq chargeoff_within_12_mths delinq_amnt pub_rec_bankruptcies  \\\n",
       "0            0.0                      0.0         0.0                  0.0   \n",
       "1            0.0                      0.0         0.0                  0.0   \n",
       "2            0.0                      0.0         0.0                  0.0   \n",
       "3            0.0                      0.0         0.0                  0.0   \n",
       "4            0.0                      0.0         0.0                  0.0   \n",
       "\n",
       "  tax_liens  \n",
       "0       0.0  \n",
       "1       0.0  \n",
       "2       0.0  \n",
       "3       0.0  \n",
       "4       0.0  \n",
       "\n",
       "[5 rows x 52 columns]"
      ]
     },
     "execution_count": 8,
     "metadata": {},
     "output_type": "execute_result"
    }
   ],
   "source": [
    "loan.head()"
   ]
  },
  {
   "cell_type": "code",
   "execution_count": 9,
   "metadata": {
    "colab": {
     "base_uri": "https://localhost:8080/",
     "height": 185
    },
    "colab_type": "code",
    "id": "EqlHRckyTT0S",
    "outputId": "c155b1a1-4051-4b85-b223-d668272c741e"
   },
   "outputs": [
    {
     "data": {
      "text/plain": [
       "Fully Paid                                             33136\n",
       "Charged Off                                             5634\n",
       "Does not meet the credit policy. Status:Fully Paid      1988\n",
       "Current                                                  961\n",
       "Does not meet the credit policy. Status:Charged Off      761\n",
       "Late (31-120 days)                                        24\n",
       "In Grace Period                                           20\n",
       "Late (16-30 days)                                          8\n",
       "Default                                                    3\n",
       "Name: loan_status, dtype: int64"
      ]
     },
     "execution_count": 9,
     "metadata": {},
     "output_type": "execute_result"
    }
   ],
   "source": [
    "#Check the different loan status available in the dataset\n",
    "loan[\"loan_status\"].value_counts()"
   ]
  },
  {
   "cell_type": "markdown",
   "metadata": {
    "colab_type": "text",
    "id": "9tMPeF6tZCWs"
   },
   "source": [
    "I am concentrating on predicting loans that are either fully paid/current and charged off/default. Also, the loan statuses with Late (16-30 days), In Grace Period, Late (31-120 days) have less instances and the values have been dropped from the dataset. Rest of the values are Current and Does not meet the credit policy. Status:Fully Paid are combined to Fully Paid and Default and Does not meet the credit policy. Status:Charged off are combined to Charged off."
   ]
  },
  {
   "cell_type": "code",
   "execution_count": 10,
   "metadata": {
    "colab": {},
    "colab_type": "code",
    "id": "X-BI8TvpTVRF"
   },
   "outputs": [],
   "source": [
    "#drop rows with Late (16-30 days), In Grace Period, Late (31-120 days) status\n",
    "loan_stat = [\"Late (16-30 days)\",\"In Grace Period\",\"Late (31-120 days)\"]\n",
    "for stat in loan_stat:\n",
    "    loan.drop(loan[loan[\"loan_status\"] == stat].index,inplace = True)"
   ]
  },
  {
   "cell_type": "code",
   "execution_count": 11,
   "metadata": {
    "colab": {},
    "colab_type": "code",
    "id": "4Svs8T6zTVVC"
   },
   "outputs": [],
   "source": [
    "#map the status to fully paid and charged off\n",
    "loan[\"loan_status\"] = loan[\"loan_status\"].map({\"Default\":\"Charged Off\", \"Does not meet the credit policy. Status:Charged Off\": \n",
    "                                               \"Charged Off\", \"Current\":\"Fully Paid\",\"Does not meet the credit policy. Status:Fully Paid\"\n",
    "                                               :\"Fully Paid\", \"Fully Paid\":\"Fully Paid\",\"Charged Off\":\"Charged Off\" })"
   ]
  },
  {
   "cell_type": "markdown",
   "metadata": {
    "colab_type": "text",
    "id": "YTFVJ1K8rM-k"
   },
   "source": [
    "**Distribution for the features**\n",
    "\n",
    "Lets check the distribution of the features: Loan amount, funded amount, interest rate and DTI"
   ]
  },
  {
   "cell_type": "code",
   "execution_count": 12,
   "metadata": {
    "colab": {
     "base_uri": "https://localhost:8080/",
     "height": 295
    },
    "colab_type": "code",
    "id": "HvqZvXrZ1w6h",
    "outputId": "b39f78dd-e7d3-4fc9-fcb4-6b4dee632039"
   },
   "outputs": [
    {
     "data": {
      "image/png": "[encoded data removed]",
      "text/plain": [
       "<Figure size 936x288 with 4 Axes>"
      ]
     },
     "metadata": {
      "needs_background": "light"
     },
     "output_type": "display_data"
    }
   ],
   "source": [
    "#distribution of loan amount\n",
    "fig, axs = plt.subplots(ncols = 4)\n",
    "loan_amnt_ax = sns.distplot(loan[\"loan_amnt\"].dropna(), ax = axs[0], color = \"red\")\n",
    "loan_amnt_ax.set_title('Loan amount distribution', fontsize = 12, color = \"black\", alpha = 0.9)\n",
    "loan_amnt_ax.set(xlabel = 'Loan amount')\n",
    "loan_amnt_ax.figure.set_size_inches(10,4)\n",
    "\n",
    "#distribution of funded amount\n",
    "int_rate_ax = sns.distplot(loan[\"funded_amnt\"].dropna(), ax = axs[1], color = \"red\")\n",
    "int_rate_ax.set_title('Funded Amount distribution', fontsize = 12, color = \"black\", alpha = 0.9)\n",
    "int_rate_ax.set(xlabel = 'Funded Amount')\n",
    "int_rate_ax.figure.set_size_inches(13,4)\n",
    "\n",
    "#distribution of interest rate\n",
    "int_rate_ax = sns.distplot(loan[\"int_rate\"].dropna(), ax = axs[2], color = \"green\")\n",
    "int_rate_ax.set_title('Interest Rate distribution', fontsize = 12, color = \"black\", alpha = 0.9)\n",
    "int_rate_ax.set(xlabel = 'Interest Rate')\n",
    "int_rate_ax.figure.set_size_inches(13,4)\n",
    "\n",
    "#distribution of DTI\n",
    "annual_inc_ax = sns.distplot(loan[\"dti\"].dropna(), ax = axs[3], color = \"green\")\n",
    "annual_inc_ax.set_title('Debt to income ratio distribution', fontsize = 12, color = \"black\", alpha = 0.9)\n",
    "annual_inc_ax.set(xlabel = 'dti')\n",
    "annual_inc_ax.figure.set_size_inches(13,4)"
   ]
  },
  {
   "cell_type": "markdown",
   "metadata": {},
   "source": [
    "From the above distribution:\n",
    "\n",
    "1. The loan amount is ranged between 5,000 - 20,000 dollars.\n",
    "2. The loan amount and funded amount distribution are similar concluding that most of the borrowers who are qualified recieve the applied loan amount.\n",
    "3. The interest rates for the loans is mainly from 5-15%."
   ]
  },
  {
   "cell_type": "markdown",
   "metadata": {
    "colab_type": "text",
    "id": "Y7OkXJYRcovO"
   },
   "source": [
    "**Loans approved and Recoveries made per year based on term**\n",
    "\n",
    "1. An interesting point to note is from 2007-2009 all loans approved were for 36 months only. \n",
    "2. The graph shows the loans approved for 36 months are higher compared to 60 months from 2010 onwards. \n",
    "3. However the number of loans approved has increased about two times every year compared to its previous year.\n",
    "4. The recoveries made during 2007 was the highest which reduced greatly for 36 months term over the years where as for 60months the recoveries increased from 2010 to 2011."
   ]
  },
  {
   "cell_type": "code",
   "execution_count": 13,
   "metadata": {
    "colab": {
     "base_uri": "https://localhost:8080/",
     "height": 276
    },
    "colab_type": "code",
    "id": "0b1aozg8yBOE",
    "outputId": "ddf11062-20dd-4153-e3b8-25a985fead01"
   },
   "outputs": [
    {
     "name": "stdout",
     "output_type": "stream",
     "text": [
      "        id  member_id  loan_amnt  funded_amnt  funded_amnt_inv  term  \\\n",
      "0  1077501  1296599.0     5000.0       5000.0           4975.0    36   \n",
      "1  1077430  1314167.0     2500.0       2500.0           2500.0    60   \n",
      "2  1077175  1313524.0     2400.0       2400.0           2400.0    36   \n",
      "3  1076863  1277178.0    10000.0      10000.0          10000.0    36   \n",
      "4  1075358  1311748.0     3000.0       3000.0           3000.0    60   \n",
      "\n",
      "   int_rate  installment grade sub_grade  ... last_credit_pull_d  \\\n",
      "0     10.65       162.87     B        B2  ...           Jun-2016   \n",
      "1     15.27        59.83     C        C4  ...           Sep-2013   \n",
      "2     15.96        84.33     C        C5  ...           Jun-2016   \n",
      "3     13.49       339.31     C        C1  ...           Apr-2016   \n",
      "4     12.69        67.79     B        B5  ...           Jun-2016   \n",
      "\n",
      "  collections_12_mths_ex_med policy_code  application_type acc_now_delinq  \\\n",
      "0                        0.0         1.0        INDIVIDUAL            0.0   \n",
      "1                        0.0         1.0        INDIVIDUAL            0.0   \n",
      "2                        0.0         1.0        INDIVIDUAL            0.0   \n",
      "3                        0.0         1.0        INDIVIDUAL            0.0   \n",
      "4                        0.0         1.0        INDIVIDUAL            0.0   \n",
      "\n",
      "  chargeoff_within_12_mths delinq_amnt pub_rec_bankruptcies tax_liens  year  \n",
      "0                      0.0         0.0                  0.0       0.0  2011  \n",
      "1                      0.0         0.0                  0.0       0.0  2011  \n",
      "2                      0.0         0.0                  0.0       0.0  2011  \n",
      "3                      0.0         0.0                  0.0       0.0  2011  \n",
      "4                      0.0         0.0                  0.0       0.0  2011  \n",
      "\n",
      "[5 rows x 53 columns]\n"
     ]
    },
    {
     "data": {
      "image/png": "[encoded data removed]",
      "text/plain": [
       "<Figure size 1440x576 with 2 Axes>"
      ]
     },
     "metadata": {
      "needs_background": "light"
     },
     "output_type": "display_data"
    }
   ],
   "source": [
    "#extract year from date\n",
    "loan[\"year\"] = pd.to_datetime(loan[\"issue_d\"]).dt.year.astype(\"Int64\")\n",
    "print(loan.head())\n",
    "#groupby year and term\n",
    "term_per_year = loan.groupby(['year',\"term\"]).size()\n",
    "\n",
    "#calculate the mean recoveries per year and term\n",
    "recovery_by_year = loan.groupby(['year',\"term\"])[\"recoveries\"].mean()\n",
    "\n",
    "#plot the graph\n",
    "fig = plt.figure()\n",
    "ax1 = fig.add_subplot(221)\n",
    "ax2 = fig.add_subplot(222)\n",
    "\n",
    "#year/term v/s average loan amount\n",
    "ax_loan = term_per_year.unstack().plot(kind = \"bar\",stacked = True, rot = 0, ax = ax1, legend = True, figsize = (20,8))\n",
    "ax1.title.set_text(\"Loan terms count per year\")\n",
    "ax1.set_xlabel('Year')\n",
    "ax1.set_ylabel('Count of Loans')\n",
    "\n",
    "#bar toppers\n",
    "for p in ax_loan.patches:\n",
    "    width, height = p.get_width(), p.get_height()\n",
    "    x, y = p.get_xy() \n",
    "    ax_loan.text(x + width/2, \n",
    "                 y + height/2, \n",
    "                 '{:.0f}'.format(height), \n",
    "                 horizontalalignment = 'center',\n",
    "                 verticalalignment = 'bottom')\n",
    "\n",
    "#year/term v/s recoveries\n",
    "ax_recovry = recovery_by_year.unstack().plot(kind = \"bar\",stacked = True, rot = 0, ax = ax2, legend = True, figsize = (20,8))\n",
    "ax2.title.set_text(\"Average Recovery for the Loans\")\n",
    "ax2.set_xlabel('Year')\n",
    "ax2.set_ylabel('Average Recoveries in $')\n",
    "\n",
    "#bar toppers\n",
    "for p in ax_recovry.patches:\n",
    "    width, height = p.get_width(), p.get_height()\n",
    "    x, y = p.get_xy() \n",
    "    ax_recovry.text(x + width/2, \n",
    "                    y + height/2, \n",
    "                    '{:.0f}'.format(height), \n",
    "                    horizontalalignment = 'center',\n",
    "                    verticalalignment = 'bottom')\n",
    "\n",
    "plt.show()"
   ]
  },
  {
   "cell_type": "markdown",
   "metadata": {
    "colab_type": "text",
    "id": "l3MAHI_SdzXr"
   },
   "source": [
    "**Loans approved and Interest rates per grade**\n",
    "\n",
    "LendingClub assigns a grades (A–C) and sub-grades (1-5) to each member, which reflects LendingClub’s assessment of the credit risk of the corresponding loan. For example, if the borrower has a weaker credit profile they would get a lower grade and sub-grade, like C5. If the borrower has a stronger credit history, they’d get a higher grade and sub-grade, like A1 or B1. \n",
    "\n",
    "The interest rate varies depending on the credit risk of the corresponding loan. So higher grades (higher credit quality) come with lower interest rates. Lower grades come with higher interest rates.\n",
    "\n",
    "Lets plot the loan amount and interest rate for grades and subgrades to see if the above points holds good for the given data."
   ]
  },
  {
   "cell_type": "code",
   "execution_count": 14,
   "metadata": {
    "colab": {
     "base_uri": "https://localhost:8080/",
     "height": 674
    },
    "colab_type": "code",
    "id": "O757HJHh4LJv",
    "outputId": "2a11f63e-9a98-4400-cd24-e39fe3ab4290"
   },
   "outputs": [
    {
     "data": {
      "image/png": "[encoded data removed]",
      "text/plain": [
       "<Figure size 720x792 with 2 Axes>"
      ]
     },
     "metadata": {
      "needs_background": "light"
     },
     "output_type": "display_data"
    }
   ],
   "source": [
    "#group grade and loan amount\n",
    "grade_loan_amt = loan.groupby(['grade'])[[\"loan_amnt\"]].mean()\n",
    "\n",
    "#group grade and interest rate\n",
    "grade_int_rate = loan.groupby(['grade'])[[\"int_rate\"]].mean()\n",
    "\n",
    "#plot the figure\n",
    "fig = plt.figure()\n",
    "ax1 = fig.add_subplot(111)\n",
    "width = 0.2\n",
    "\n",
    "plt.title(\"Loan Amount and Interest Rate by Grade\")\n",
    "\n",
    "x_color = \"black\"\n",
    "ax1.set_xlabel('Grade', color = x_color)\n",
    "ax1.tick_params(axis = 'x', labelcolor = x_color)\n",
    "\n",
    "color = 'tab:brown'\n",
    "ax1.set_ylabel('Loan amount', color = color)\n",
    "grade_loan_amt.plot(kind = \"bar\", color = color,width = width, ax = ax1, position = 1, figsize = (10,11))\n",
    "ax1.tick_params(axis = 'y', labelcolor = color)\n",
    "ax1.legend(loc = 2)\n",
    "\n",
    "#create a twin axis\n",
    "ax2 = ax1.twinx() \n",
    "\n",
    "color1 = \"tab:blue\"\n",
    "ax2.set_ylabel('Interest Rate', color = color1) \n",
    "ax1.set_xlabel('Grade', color = x_color)\n",
    "grade_int_rate.plot(kind = \"bar\", color = color1, width = width, ax = ax2, position = 0,figsize = (10,11))\n",
    "ax2.tick_params(axis = 'y', labelcolor = color1)\n",
    "ax2.legend(loc = 1)\n",
    "\n",
    "plt.show()"
   ]
  },
  {
   "cell_type": "markdown",
   "metadata": {},
   "source": [
    "This above graph shows how grade affects the loan amount and interest rates for the approved loans. \n",
    "\n",
    "1. The average loan amount is highest for Grade F and lowest for Grade A.\n",
    "2. The interest rate is least at 7.5% for Grade A with highest of about 20% for the lowest grade G. The interest rate varies as given in the Lending Club website."
   ]
  },
  {
   "cell_type": "markdown",
   "metadata": {
    "colab_type": "text",
    "id": "aZk1i5B-exER"
   },
   "source": [
    "**Number of loans fully paid based on grade and sub grade**\n",
    "\n"
   ]
  },
  {
   "cell_type": "code",
   "execution_count": 15,
   "metadata": {
    "colab": {
     "base_uri": "https://localhost:8080/",
     "height": 297
    },
    "colab_type": "code",
    "id": "TFoZMic_64A5",
    "outputId": "739c0cdb-55a4-460c-8d8f-9525ed6a8065"
   },
   "outputs": [
    {
     "data": {
      "text/plain": [
       "Text(0, 0.5, 'Count')"
      ]
     },
     "execution_count": 15,
     "metadata": {},
     "output_type": "execute_result"
    },
    {
     "data": {
      "image/png": "[encoded data removed]",
      "text/plain": [
       "<Figure size 1440x576 with 2 Axes>"
      ]
     },
     "metadata": {
      "needs_background": "light"
     },
     "output_type": "display_data"
    }
   ],
   "source": [
    "#group grade and loan status\n",
    "loan_stat_grade = loan.groupby(['grade',\"loan_status\"]).size()\n",
    "\n",
    "#group sub grade and loan status\n",
    "loan_stat_sub_g = loan.groupby(['sub_grade',\"loan_status\"]).size()\n",
    "\n",
    "#plot the figure\n",
    "fig = plt.figure()\n",
    "ax1 = fig.add_subplot(221)\n",
    "ax2 = fig.add_subplot(222)\n",
    "\n",
    "#plot grade and loan status\n",
    "grade_plt = loan_stat_grade.unstack().plot(kind = \"bar\",stacked = True, rot = 0, ax = ax1,figsize = (20,8))\n",
    "ax1.title.set_text(\"Loan Status based on Grade\")\n",
    "ax1.set_xlabel('Grade')\n",
    "ax1.set_ylabel('Count')\n",
    "\n",
    "#bar toppers for grade and loan status\n",
    "for p in grade_plt.patches:\n",
    "    width, height = p.get_width(), p.get_height()\n",
    "    x, y = p.get_xy() \n",
    "    grade_plt.text(x + width/2, \n",
    "                  y + height/2, \n",
    "                  '{:.0f}'.format(height), \n",
    "                  horizontalalignment = 'center',\n",
    "                  verticalalignment = 'bottom')\n",
    "\n",
    "#plot sub grade and loan status\n",
    "loan_stat_sub_g.unstack().plot(kind = \"bar\",stacked = True,ax = ax2,figsize = (20,8))\n",
    "ax2.title.set_text(\"Loan Status based on sub grade\")\n",
    "ax2.set_xlabel('Sub grade')\n",
    "ax2.set_ylabel('Count')"
   ]
  },
  {
   "cell_type": "markdown",
   "metadata": {},
   "source": [
    "The graph shows the number of loans approved is high if the borrower has a good grade. From the grades graph the percentage of fully paid loans for each grade are: \n",
    "\n",
    "Grade A: 94%,\n",
    "Grade B: 87%,\n",
    "Grade C: 82%,\n",
    "Grade D: 78%,\n",
    "Grade E: 74%,\n",
    "Grade F: 68%,\n",
    "Grade G: 66%\n",
    "\n",
    "This shows the higher grade borrowers tend to pay their loans fully compared to low level grades. This shows that low level graders are subjected to risk when approving their loans."
   ]
  },
  {
   "cell_type": "markdown",
   "metadata": {
    "colab_type": "text",
    "id": "7vQruYmVgJ05"
   },
   "source": [
    "**Percentage of fully paid and charged off loans in the data set**\n",
    "\n",
    "The Fully paid loans are around 85% while the charged off loans are 15%. This make the dataset highly imbalanced with respect to the target feature."
   ]
  },
  {
   "cell_type": "code",
   "execution_count": 16,
   "metadata": {
    "colab": {
     "base_uri": "https://localhost:8080/",
     "height": 281
    },
    "colab_type": "code",
    "id": "MW_EvDK9rtj8",
    "outputId": "9370f0fa-d22e-4c3f-dd9f-1885ae642fc8"
   },
   "outputs": [
    {
     "data": {
      "text/plain": [
       "Text(0.5, 1.0, 'Loan Status percentage in the Lending Club Data')"
      ]
     },
     "execution_count": 16,
     "metadata": {},
     "output_type": "execute_result"
    },
    {
     "data": {
      "image/png": "[encoded data removed]",
      "text/plain": [
       "<Figure size 432x288 with 1 Axes>"
      ]
     },
     "metadata": {},
     "output_type": "display_data"
    }
   ],
   "source": [
    "#group loan status by id\n",
    "loan_stat = loan.groupby(['loan_status'])[\"id\"].count()\n",
    "\n",
    "#plot the percentage of loan status\n",
    "loan_stat.plot(kind = \"pie\", subplots= True, colors = [\"royalblue\",\"orange\"],autopct = '%1.1f%%', legend = False)\n",
    "plt.axis('off')\n",
    "plt.title(\"Loan Status percentage in the Lending Club Data\")"
   ]
  },
  {
   "cell_type": "markdown",
   "metadata": {
    "colab_type": "text",
    "id": "2NQTZlBggc12"
   },
   "source": [
    "**Loan status based on verification status**"
   ]
  },
  {
   "cell_type": "code",
   "execution_count": 17,
   "metadata": {
    "colab": {
     "base_uri": "https://localhost:8080/",
     "height": 295
    },
    "colab_type": "code",
    "id": "BiYpE6vJD926",
    "outputId": "0e9c874e-89df-4d32-f5d7-064b574cfcd2"
   },
   "outputs": [
    {
     "data": {
      "image/png": "[encoded data removed]",
      "text/plain": [
       "<Figure size 432x288 with 1 Axes>"
      ]
     },
     "metadata": {
      "needs_background": "light"
     },
     "output_type": "display_data"
    }
   ],
   "source": [
    "#group by verification status and loan status\n",
    "loan_stat_ver = loan.groupby(['verification_status',\"loan_status\"]).size()\n",
    "\n",
    "#plot the figure\n",
    "ver_plt = loan_stat_ver.unstack().plot(kind = \"bar\",stacked = True, rot = 0)\n",
    "plt.title(\"Loan Status based on verfication status\")\n",
    "plt.xlabel('Verfication Status')\n",
    "plt.ylabel('Count')\n",
    "\n",
    "#bar toppers\n",
    "for p in ver_plt.patches:\n",
    "    width, height = p.get_width(), p.get_height()\n",
    "    x, y = p.get_xy() \n",
    "    ver_plt.text(x + width/2, \n",
    "                  y + height/2, \n",
    "                  '{:.0f}'.format(height), \n",
    "                  horizontalalignment = 'center',\n",
    "                  verticalalignment = 'bottom')"
   ]
  },
  {
   "cell_type": "markdown",
   "metadata": {},
   "source": [
    "From the graph, suprisingly most of the loans approved are not verified and the number of charged off loans are more for non-verified status. "
   ]
  },
  {
   "cell_type": "markdown",
   "metadata": {
    "colab_type": "text",
    "id": "W8a-wgExh4J4"
   },
   "source": [
    "**Loan status based on term**\n",
    "\n",
    "Lending Club approves its loan in either of the to terms: 36 months or 60 months. "
   ]
  },
  {
   "cell_type": "code",
   "execution_count": 18,
   "metadata": {
    "colab": {
     "base_uri": "https://localhost:8080/",
     "height": 295
    },
    "colab_type": "code",
    "id": "dbbRU65y4vOx",
    "outputId": "83c769d8-3347-4b2c-bdd5-b266914b1322"
   },
   "outputs": [
    {
     "data": {
      "image/png": "[encoded data removed]",
      "text/plain": [
       "<Figure size 432x288 with 1 Axes>"
      ]
     },
     "metadata": {
      "needs_background": "light"
     },
     "output_type": "display_data"
    }
   ],
   "source": [
    "#group term and loan status\n",
    "loan_stat_ver = loan.groupby(['term',\"loan_status\"]).size()\n",
    "\n",
    "#plot the figure\n",
    "term_plt = loan_stat_ver.unstack().plot(kind = \"bar\",stacked = True, rot = 0)\n",
    "plt.title(\"Loan Status based on term\")\n",
    "plt.xlabel('Term')\n",
    "plt.ylabel('Count')\n",
    "\n",
    "#bar toppers\n",
    "for p in term_plt.patches:\n",
    "    width, height = p.get_width(), p.get_height()\n",
    "    x, y = p.get_xy() \n",
    "    term_plt.text(x + width/2, \n",
    "                  y + height/2, \n",
    "                  '{:.0f}'.format(height), \n",
    "                  horizontalalignment = 'center',\n",
    "                  verticalalignment = 'bottom')"
   ]
  },
  {
   "cell_type": "markdown",
   "metadata": {},
   "source": [
    "From the above graph:\n",
    "\n",
    "1. Most of the loans are 36months term compared to 60 months.\n",
    "2. The number of charged off loans are more in 36 months than 60 months term. "
   ]
  },
  {
   "cell_type": "markdown",
   "metadata": {
    "colab_type": "text",
    "id": "Jxdi1iPnifdi"
   },
   "source": [
    "**Loan status per year**\n",
    "\n",
    "The data used in this project has data from 2007-2011. Lets plot the loan statues for each year and study the graph."
   ]
  },
  {
   "cell_type": "code",
   "execution_count": 19,
   "metadata": {
    "colab": {
     "base_uri": "https://localhost:8080/",
     "height": 295
    },
    "colab_type": "code",
    "id": "3NCYr-ryvpNx",
    "outputId": "821cbd7e-cea0-457c-b5ee-9620e397142d"
   },
   "outputs": [
    {
     "data": {
      "image/png": "[encoded data removed]",
      "text/plain": [
       "<Figure size 432x288 with 1 Axes>"
      ]
     },
     "metadata": {
      "needs_background": "light"
     },
     "output_type": "display_data"
    }
   ],
   "source": [
    "#group year and loan status\n",
    "loan_stat_ver = loan.groupby(['year',\"loan_status\"]).size()\n",
    "\n",
    "#plot the figure\n",
    "year_plt = loan_stat_ver.unstack().plot(kind = \"bar\",stacked = True, rot = 0)\n",
    "plt.title(\"Loan Status every year\")\n",
    "plt.xlabel('Year')\n",
    "plt.ylabel('Count')\n",
    "\n",
    "#bar toppers\n",
    "for p in year_plt.patches:\n",
    "    width, height = p.get_width(), p.get_height()\n",
    "    x, y = p.get_xy() \n",
    "    year_plt.text(x + width/2, \n",
    "                  y + height/2, \n",
    "                  '{:.0f}'.format(height), \n",
    "                  horizontalalignment = 'center',\n",
    "                  verticalalignment = 'bottom')"
   ]
  },
  {
   "cell_type": "markdown",
   "metadata": {},
   "source": [
    "1. The number of loans that are fully paid and charged off increases year by year.\n",
    "2. From the graph,the percentage of loans charged off per year are: \n",
    "    2007: 26%, 2008: 20%, 2009: 13%, 2010: 14%, 2011: 15%.\n",
    "    This shows there is decrease in charged off loans though the number of loans has increased.\n",
    "3. As the year passes, the number of loans approved increases and it is seen that there is an increase in number of charged off loans."
   ]
  },
  {
   "cell_type": "markdown",
   "metadata": {
    "colab_type": "text",
    "id": "SvBoHSFRjNOa"
   },
   "source": [
    "**How does term affect loan amount and interest rate**"
   ]
  },
  {
   "cell_type": "code",
   "execution_count": 20,
   "metadata": {
    "colab": {
     "base_uri": "https://localhost:8080/",
     "height": 367
    },
    "colab_type": "code",
    "id": "WlargI6c4vSP",
    "outputId": "ed26df0e-e527-41a2-9d6f-cb7aaac271d5"
   },
   "outputs": [
    {
     "data": {
      "text/plain": [
       "Text(0, 0.5, 'Interest Rate')"
      ]
     },
     "execution_count": 20,
     "metadata": {},
     "output_type": "execute_result"
    },
    {
     "data": {
      "image/png": "[encoded data removed]",
      "text/plain": [
       "<Figure size 864x360 with 2 Axes>"
      ]
     },
     "metadata": {
      "needs_background": "light"
     },
     "output_type": "display_data"
    }
   ],
   "source": [
    "fig, axs = plt.subplots(ncols = 2)\n",
    "\n",
    "#box plot for loan amount and term\n",
    "boxplot = sns.boxplot(y = 'loan_amnt', x = 'term', data = loan, ax = axs[0])\n",
    "boxplot.figure.set_size_inches(12,5)\n",
    "boxplot.set_title('Loan amount given per term', fontsize = 12, color = \"black\", alpha = 0.9)\n",
    "boxplot.set_xlabel('Term')\n",
    "boxplot.set_ylabel('Loan amount')\n",
    "\n",
    "#box plot for interest rate and term\n",
    "boxplot1 = sns.boxplot(y = 'int_rate', x = 'term', data = loan, ax = axs[1])\n",
    "boxplot1.figure.set_size_inches(12,5)\n",
    "boxplot1.set_title('Interest Rate based on loan term', fontsize = 12, color = \"black\", alpha = 0.9)\n",
    "boxplot1.set_xlabel('Term')\n",
    "boxplot1.set_ylabel('Interest Rate')"
   ]
  },
  {
   "cell_type": "markdown",
   "metadata": {},
   "source": [
    "1. The 36 months term have a loan amount approved between 5,000 - 12,000 with average of about 7,000 where as 60 months term has 10,000 - 20,000 loan amount with 15,000 of average.\n",
    "2. The interest rates are less for 36 months with an average of 11% and 15% for 60 months term.\n",
    "2. This shows lower the term, lower is the loan amount approved and interest rates."
   ]
  },
  {
   "cell_type": "markdown",
   "metadata": {
    "colab_type": "text",
    "id": "VN-my-lLxRmd"
   },
   "source": [
    "**How does the loan approval process effect based on purpose of the loan?**"
   ]
  },
  {
   "cell_type": "code",
   "execution_count": 21,
   "metadata": {
    "colab": {
     "base_uri": "https://localhost:8080/",
     "height": 906
    },
    "colab_type": "code",
    "id": "6vPZHx_n1w11",
    "outputId": "62201182-1a8a-4152-c54a-ffb3514b7d22"
   },
   "outputs": [
    {
     "data": {
      "text/html": [
       "<div>\n",
       "<style scoped>\n",
       "    .dataframe tbody tr th:only-of-type {\n",
       "        vertical-align: middle;\n",
       "    }\n",
       "\n",
       "    .dataframe tbody tr th {\n",
       "        vertical-align: top;\n",
       "    }\n",
       "\n",
       "    .dataframe thead th {\n",
       "        text-align: right;\n",
       "    }\n",
       "</style>\n",
       "<table border=\"1\" class=\"dataframe\">\n",
       "  <thead>\n",
       "    <tr style=\"text-align: right;\">\n",
       "      <th></th>\n",
       "      <th></th>\n",
       "      <th>installment</th>\n",
       "      <th>int_rate</th>\n",
       "      <th>loan_amnt</th>\n",
       "    </tr>\n",
       "    <tr>\n",
       "      <th>purpose</th>\n",
       "      <th>loan_status</th>\n",
       "      <th></th>\n",
       "      <th></th>\n",
       "      <th></th>\n",
       "    </tr>\n",
       "  </thead>\n",
       "  <tbody>\n",
       "    <tr>\n",
       "      <th rowspan=\"2\" valign=\"top\">car</th>\n",
       "      <th>Charged Off</th>\n",
       "      <td>206.08</td>\n",
       "      <td>12.40</td>\n",
       "      <td>7361.71</td>\n",
       "    </tr>\n",
       "    <tr>\n",
       "      <th>Fully Paid</th>\n",
       "      <td>188.79</td>\n",
       "      <td>10.44</td>\n",
       "      <td>6688.18</td>\n",
       "    </tr>\n",
       "    <tr>\n",
       "      <th rowspan=\"2\" valign=\"top\">credit_card</th>\n",
       "      <th>Charged Off</th>\n",
       "      <td>357.06</td>\n",
       "      <td>13.51</td>\n",
       "      <td>12754.98</td>\n",
       "    </tr>\n",
       "    <tr>\n",
       "      <th>Fully Paid</th>\n",
       "      <td>344.06</td>\n",
       "      <td>11.63</td>\n",
       "      <td>11460.24</td>\n",
       "    </tr>\n",
       "    <tr>\n",
       "      <th rowspan=\"2\" valign=\"top\">debt_consolidation</th>\n",
       "      <th>Charged Off</th>\n",
       "      <td>366.59</td>\n",
       "      <td>14.33</td>\n",
       "      <td>13165.34</td>\n",
       "    </tr>\n",
       "    <tr>\n",
       "      <th>Fully Paid</th>\n",
       "      <td>363.57</td>\n",
       "      <td>12.28</td>\n",
       "      <td>12437.83</td>\n",
       "    </tr>\n",
       "    <tr>\n",
       "      <th rowspan=\"2\" valign=\"top\">educational</th>\n",
       "      <th>Charged Off</th>\n",
       "      <td>233.14</td>\n",
       "      <td>13.33</td>\n",
       "      <td>7337.78</td>\n",
       "    </tr>\n",
       "    <tr>\n",
       "      <th>Fully Paid</th>\n",
       "      <td>209.78</td>\n",
       "      <td>11.80</td>\n",
       "      <td>6439.15</td>\n",
       "    </tr>\n",
       "    <tr>\n",
       "      <th rowspan=\"2\" valign=\"top\">home_improvement</th>\n",
       "      <th>Charged Off</th>\n",
       "      <td>327.95</td>\n",
       "      <td>13.45</td>\n",
       "      <td>11505.02</td>\n",
       "    </tr>\n",
       "    <tr>\n",
       "      <th>Fully Paid</th>\n",
       "      <td>319.42</td>\n",
       "      <td>11.31</td>\n",
       "      <td>11359.51</td>\n",
       "    </tr>\n",
       "    <tr>\n",
       "      <th rowspan=\"2\" valign=\"top\">house</th>\n",
       "      <th>Charged Off</th>\n",
       "      <td>334.23</td>\n",
       "      <td>15.26</td>\n",
       "      <td>11910.00</td>\n",
       "    </tr>\n",
       "    <tr>\n",
       "      <th>Fully Paid</th>\n",
       "      <td>364.31</td>\n",
       "      <td>11.83</td>\n",
       "      <td>12653.31</td>\n",
       "    </tr>\n",
       "    <tr>\n",
       "      <th rowspan=\"2\" valign=\"top\">major_purchase</th>\n",
       "      <th>Charged Off</th>\n",
       "      <td>256.18</td>\n",
       "      <td>13.02</td>\n",
       "      <td>9059.18</td>\n",
       "    </tr>\n",
       "    <tr>\n",
       "      <th>Fully Paid</th>\n",
       "      <td>232.53</td>\n",
       "      <td>10.77</td>\n",
       "      <td>7964.47</td>\n",
       "    </tr>\n",
       "    <tr>\n",
       "      <th rowspan=\"2\" valign=\"top\">medical</th>\n",
       "      <th>Charged Off</th>\n",
       "      <td>236.00</td>\n",
       "      <td>13.42</td>\n",
       "      <td>8208.40</td>\n",
       "    </tr>\n",
       "    <tr>\n",
       "      <th>Fully Paid</th>\n",
       "      <td>233.96</td>\n",
       "      <td>11.32</td>\n",
       "      <td>8111.34</td>\n",
       "    </tr>\n",
       "    <tr>\n",
       "      <th rowspan=\"2\" valign=\"top\">moving</th>\n",
       "      <th>Charged Off</th>\n",
       "      <td>178.62</td>\n",
       "      <td>12.63</td>\n",
       "      <td>5969.16</td>\n",
       "    </tr>\n",
       "    <tr>\n",
       "      <th>Fully Paid</th>\n",
       "      <td>199.14</td>\n",
       "      <td>11.57</td>\n",
       "      <td>6723.18</td>\n",
       "    </tr>\n",
       "    <tr>\n",
       "      <th rowspan=\"2\" valign=\"top\">other</th>\n",
       "      <th>Charged Off</th>\n",
       "      <td>236.80</td>\n",
       "      <td>13.60</td>\n",
       "      <td>8184.75</td>\n",
       "    </tr>\n",
       "    <tr>\n",
       "      <th>Fully Paid</th>\n",
       "      <td>234.81</td>\n",
       "      <td>11.65</td>\n",
       "      <td>7893.53</td>\n",
       "    </tr>\n",
       "    <tr>\n",
       "      <th rowspan=\"2\" valign=\"top\">renewable_energy</th>\n",
       "      <th>Charged Off</th>\n",
       "      <td>248.97</td>\n",
       "      <td>12.39</td>\n",
       "      <td>8250.00</td>\n",
       "    </tr>\n",
       "    <tr>\n",
       "      <th>Fully Paid</th>\n",
       "      <td>248.13</td>\n",
       "      <td>11.33</td>\n",
       "      <td>8719.48</td>\n",
       "    </tr>\n",
       "    <tr>\n",
       "      <th rowspan=\"2\" valign=\"top\">small_business</th>\n",
       "      <th>Charged Off</th>\n",
       "      <td>419.50</td>\n",
       "      <td>14.34</td>\n",
       "      <td>14699.86</td>\n",
       "    </tr>\n",
       "    <tr>\n",
       "      <th>Fully Paid</th>\n",
       "      <td>383.60</td>\n",
       "      <td>12.70</td>\n",
       "      <td>13243.72</td>\n",
       "    </tr>\n",
       "    <tr>\n",
       "      <th rowspan=\"2\" valign=\"top\">vacation</th>\n",
       "      <th>Charged Off</th>\n",
       "      <td>161.60</td>\n",
       "      <td>11.70</td>\n",
       "      <td>5812.29</td>\n",
       "    </tr>\n",
       "    <tr>\n",
       "      <th>Fully Paid</th>\n",
       "      <td>161.68</td>\n",
       "      <td>10.79</td>\n",
       "      <td>5360.44</td>\n",
       "    </tr>\n",
       "    <tr>\n",
       "      <th rowspan=\"2\" valign=\"top\">wedding</th>\n",
       "      <th>Charged Off</th>\n",
       "      <td>309.62</td>\n",
       "      <td>13.62</td>\n",
       "      <td>10551.83</td>\n",
       "    </tr>\n",
       "    <tr>\n",
       "      <th>Fully Paid</th>\n",
       "      <td>288.22</td>\n",
       "      <td>11.84</td>\n",
       "      <td>9655.36</td>\n",
       "    </tr>\n",
       "  </tbody>\n",
       "</table>\n",
       "</div>"
      ],
      "text/plain": [
       "                                installment  int_rate  loan_amnt\n",
       "purpose            loan_status                                  \n",
       "car                Charged Off       206.08     12.40    7361.71\n",
       "                   Fully Paid        188.79     10.44    6688.18\n",
       "credit_card        Charged Off       357.06     13.51   12754.98\n",
       "                   Fully Paid        344.06     11.63   11460.24\n",
       "debt_consolidation Charged Off       366.59     14.33   13165.34\n",
       "                   Fully Paid        363.57     12.28   12437.83\n",
       "educational        Charged Off       233.14     13.33    7337.78\n",
       "                   Fully Paid        209.78     11.80    6439.15\n",
       "home_improvement   Charged Off       327.95     13.45   11505.02\n",
       "                   Fully Paid        319.42     11.31   11359.51\n",
       "house              Charged Off       334.23     15.26   11910.00\n",
       "                   Fully Paid        364.31     11.83   12653.31\n",
       "major_purchase     Charged Off       256.18     13.02    9059.18\n",
       "                   Fully Paid        232.53     10.77    7964.47\n",
       "medical            Charged Off       236.00     13.42    8208.40\n",
       "                   Fully Paid        233.96     11.32    8111.34\n",
       "moving             Charged Off       178.62     12.63    5969.16\n",
       "                   Fully Paid        199.14     11.57    6723.18\n",
       "other              Charged Off       236.80     13.60    8184.75\n",
       "                   Fully Paid        234.81     11.65    7893.53\n",
       "renewable_energy   Charged Off       248.97     12.39    8250.00\n",
       "                   Fully Paid        248.13     11.33    8719.48\n",
       "small_business     Charged Off       419.50     14.34   14699.86\n",
       "                   Fully Paid        383.60     12.70   13243.72\n",
       "vacation           Charged Off       161.60     11.70    5812.29\n",
       "                   Fully Paid        161.68     10.79    5360.44\n",
       "wedding            Charged Off       309.62     13.62   10551.83\n",
       "                   Fully Paid        288.22     11.84    9655.36"
      ]
     },
     "execution_count": 21,
     "metadata": {},
     "output_type": "execute_result"
    }
   ],
   "source": [
    "#pivot table for purpose/loan statues against installment/int_rate/loan_amnt\n",
    "purpose_loan_stat = np.round(pd.pivot_table(loan, values=[\"installment\",'int_rate',\"loan_amnt\"], index=['purpose', 'loan_status'],\n",
    "                       aggfunc = {\"installment\" : np.mean,\n",
    "                                  \"int_rate\" : np.mean,\n",
    "                                  \"loan_amnt\" : np.mean}),2)\n",
    "purp_loan_stat = pd.DataFrame(data = purpose_loan_stat)\n",
    "purp_loan_stat"
   ]
  },
  {
   "cell_type": "code",
   "execution_count": 22,
   "metadata": {
    "colab": {
     "base_uri": "https://localhost:8080/",
     "height": 106
    },
    "colab_type": "code",
    "id": "OXaj9RMyy3pA",
    "outputId": "ecd3f4bc-f2e0-42c8-8712-01096e2fd97f"
   },
   "outputs": [
    {
     "data": {
      "text/html": [
       "<div>\n",
       "<style scoped>\n",
       "    .dataframe tbody tr th:only-of-type {\n",
       "        vertical-align: middle;\n",
       "    }\n",
       "\n",
       "    .dataframe tbody tr th {\n",
       "        vertical-align: top;\n",
       "    }\n",
       "\n",
       "    .dataframe thead th {\n",
       "        text-align: right;\n",
       "    }\n",
       "</style>\n",
       "<table border=\"1\" class=\"dataframe\">\n",
       "  <thead>\n",
       "    <tr style=\"text-align: right;\">\n",
       "      <th></th>\n",
       "      <th>0</th>\n",
       "      <th>1</th>\n",
       "      <th>2</th>\n",
       "      <th>3</th>\n",
       "      <th>4</th>\n",
       "      <th>5</th>\n",
       "      <th>6</th>\n",
       "      <th>7</th>\n",
       "      <th>8</th>\n",
       "      <th>9</th>\n",
       "      <th>10</th>\n",
       "      <th>11</th>\n",
       "      <th>12</th>\n",
       "      <th>13</th>\n",
       "    </tr>\n",
       "  </thead>\n",
       "  <tbody>\n",
       "    <tr>\n",
       "      <th>purpose</th>\n",
       "      <td>debt_consolidation</td>\n",
       "      <td>credit_card</td>\n",
       "      <td>other</td>\n",
       "      <td>home_improvement</td>\n",
       "      <td>major_purchase</td>\n",
       "      <td>small_business</td>\n",
       "      <td>car</td>\n",
       "      <td>wedding</td>\n",
       "      <td>medical</td>\n",
       "      <td>moving</td>\n",
       "      <td>house</td>\n",
       "      <td>educational</td>\n",
       "      <td>vacation</td>\n",
       "      <td>renewable_energy</td>\n",
       "    </tr>\n",
       "    <tr>\n",
       "      <th>0</th>\n",
       "      <td>19748</td>\n",
       "      <td>5473</td>\n",
       "      <td>4419</td>\n",
       "      <td>3193</td>\n",
       "      <td>2310</td>\n",
       "      <td>1988</td>\n",
       "      <td>1615</td>\n",
       "      <td>1004</td>\n",
       "      <td>752</td>\n",
       "      <td>629</td>\n",
       "      <td>425</td>\n",
       "      <td>422</td>\n",
       "      <td>399</td>\n",
       "      <td>106</td>\n",
       "    </tr>\n",
       "  </tbody>\n",
       "</table>\n",
       "</div>"
      ],
      "text/plain": [
       "                         0            1      2                 3   \\\n",
       "purpose  debt_consolidation  credit_card  other  home_improvement   \n",
       "0                     19748         5473   4419              3193   \n",
       "\n",
       "                     4               5     6        7        8       9   \\\n",
       "purpose  major_purchase  small_business   car  wedding  medical  moving   \n",
       "0                  2310            1988  1615     1004      752     629   \n",
       "\n",
       "            10           11        12                13  \n",
       "purpose  house  educational  vacation  renewable_energy  \n",
       "0          425          422       399               106  "
      ]
     },
     "execution_count": 22,
     "metadata": {},
     "output_type": "execute_result"
    }
   ],
   "source": [
    "#count of loans based on purpose \n",
    "loan.groupby(['purpose']).size().sort_values(ascending = False).reset_index().T"
   ]
  },
  {
   "cell_type": "markdown",
   "metadata": {},
   "source": [
    "1. The highest amount of loan approved is for the small business and the least if for vacation. \n",
    "2. The highest interest rate is at 15% for house and least at 10.44% for car loans.\n",
    "3. The highest number of loans approved are for debt_consolidation and the least is for renewable energy.\n",
    "4. Majority of the charged off loans have higher installment, loan amount and interest rate compared to fully paid loans. This shows higher the amount,interest rate and installments higher are the changes that the loan is charged off."
   ]
  },
  {
   "cell_type": "markdown",
   "metadata": {
    "colab_type": "text",
    "id": "fCWQG25w08RD"
   },
   "source": [
    "**How does the loan approval process effect based on home ownership of the loan?**"
   ]
  },
  {
   "cell_type": "code",
   "execution_count": 23,
   "metadata": {
    "colab": {
     "base_uri": "https://localhost:8080/",
     "height": 373
    },
    "colab_type": "code",
    "id": "_sNLHkN973HE",
    "outputId": "3ae90d29-13ba-4baf-94c4-765551becc32"
   },
   "outputs": [
    {
     "data": {
      "text/html": [
       "<div>\n",
       "<style scoped>\n",
       "    .dataframe tbody tr th:only-of-type {\n",
       "        vertical-align: middle;\n",
       "    }\n",
       "\n",
       "    .dataframe tbody tr th {\n",
       "        vertical-align: top;\n",
       "    }\n",
       "\n",
       "    .dataframe thead th {\n",
       "        text-align: right;\n",
       "    }\n",
       "</style>\n",
       "<table border=\"1\" class=\"dataframe\">\n",
       "  <thead>\n",
       "    <tr style=\"text-align: right;\">\n",
       "      <th></th>\n",
       "      <th></th>\n",
       "      <th>installment</th>\n",
       "      <th>int_rate</th>\n",
       "      <th>loan_amnt</th>\n",
       "    </tr>\n",
       "    <tr>\n",
       "      <th>home_ownership</th>\n",
       "      <th>loan_status</th>\n",
       "      <th></th>\n",
       "      <th></th>\n",
       "      <th></th>\n",
       "    </tr>\n",
       "  </thead>\n",
       "  <tbody>\n",
       "    <tr>\n",
       "      <th rowspan=\"2\" valign=\"top\">MORTGAGE</th>\n",
       "      <th>Charged Off</th>\n",
       "      <td>377.91</td>\n",
       "      <td>13.91</td>\n",
       "      <td>13747.19</td>\n",
       "    </tr>\n",
       "    <tr>\n",
       "      <th>Fully Paid</th>\n",
       "      <td>352.49</td>\n",
       "      <td>11.61</td>\n",
       "      <td>12367.07</td>\n",
       "    </tr>\n",
       "    <tr>\n",
       "      <th rowspan=\"2\" valign=\"top\">NONE</th>\n",
       "      <th>Charged Off</th>\n",
       "      <td>524.77</td>\n",
       "      <td>15.65</td>\n",
       "      <td>15000.00</td>\n",
       "    </tr>\n",
       "    <tr>\n",
       "      <th>Fully Paid</th>\n",
       "      <td>188.18</td>\n",
       "      <td>8.20</td>\n",
       "      <td>6000.00</td>\n",
       "    </tr>\n",
       "    <tr>\n",
       "      <th rowspan=\"2\" valign=\"top\">OTHER</th>\n",
       "      <th>Charged Off</th>\n",
       "      <td>350.94</td>\n",
       "      <td>13.79</td>\n",
       "      <td>10735.34</td>\n",
       "    </tr>\n",
       "    <tr>\n",
       "      <th>Fully Paid</th>\n",
       "      <td>302.63</td>\n",
       "      <td>12.49</td>\n",
       "      <td>9472.90</td>\n",
       "    </tr>\n",
       "    <tr>\n",
       "      <th rowspan=\"2\" valign=\"top\">OWN</th>\n",
       "      <th>Charged Off</th>\n",
       "      <td>309.16</td>\n",
       "      <td>13.80</td>\n",
       "      <td>10958.96</td>\n",
       "    </tr>\n",
       "    <tr>\n",
       "      <th>Fully Paid</th>\n",
       "      <td>297.19</td>\n",
       "      <td>11.58</td>\n",
       "      <td>10042.37</td>\n",
       "    </tr>\n",
       "    <tr>\n",
       "      <th rowspan=\"2\" valign=\"top\">RENT</th>\n",
       "      <th>Charged Off</th>\n",
       "      <td>298.07</td>\n",
       "      <td>13.94</td>\n",
       "      <td>10318.43</td>\n",
       "    </tr>\n",
       "    <tr>\n",
       "      <th>Fully Paid</th>\n",
       "      <td>294.24</td>\n",
       "      <td>12.12</td>\n",
       "      <td>9756.98</td>\n",
       "    </tr>\n",
       "  </tbody>\n",
       "</table>\n",
       "</div>"
      ],
      "text/plain": [
       "                            installment  int_rate  loan_amnt\n",
       "home_ownership loan_status                                  \n",
       "MORTGAGE       Charged Off       377.91     13.91   13747.19\n",
       "               Fully Paid        352.49     11.61   12367.07\n",
       "NONE           Charged Off       524.77     15.65   15000.00\n",
       "               Fully Paid        188.18      8.20    6000.00\n",
       "OTHER          Charged Off       350.94     13.79   10735.34\n",
       "               Fully Paid        302.63     12.49    9472.90\n",
       "OWN            Charged Off       309.16     13.80   10958.96\n",
       "               Fully Paid        297.19     11.58   10042.37\n",
       "RENT           Charged Off       298.07     13.94   10318.43\n",
       "               Fully Paid        294.24     12.12    9756.98"
      ]
     },
     "execution_count": 23,
     "metadata": {},
     "output_type": "execute_result"
    }
   ],
   "source": [
    "#pivot table for home_onership/loan statues against installment/int_rate/loan_amnt\n",
    "home_loan_stat = np.round(pd.pivot_table(loan, values=[\"installment\",'int_rate',\"loan_amnt\"], index=['home_ownership', 'loan_status'],\n",
    "                       aggfunc = {\"installment\" : np.mean,\n",
    "                                  \"int_rate\" : np.mean,\n",
    "                                  \"loan_amnt\" : np.mean}),2)\n",
    "home_own_loan_stat = pd.DataFrame(data = home_loan_stat)\n",
    "home_own_loan_stat"
   ]
  },
  {
   "cell_type": "code",
   "execution_count": 24,
   "metadata": {
    "colab": {
     "base_uri": "https://localhost:8080/",
     "height": 106
    },
    "colab_type": "code",
    "id": "7DietS9J1Ab_",
    "outputId": "b4fb04c7-441e-41ca-eefd-ab4298ce07ce"
   },
   "outputs": [
    {
     "data": {
      "text/html": [
       "<div>\n",
       "<style scoped>\n",
       "    .dataframe tbody tr th:only-of-type {\n",
       "        vertical-align: middle;\n",
       "    }\n",
       "\n",
       "    .dataframe tbody tr th {\n",
       "        vertical-align: top;\n",
       "    }\n",
       "\n",
       "    .dataframe thead th {\n",
       "        text-align: right;\n",
       "    }\n",
       "</style>\n",
       "<table border=\"1\" class=\"dataframe\">\n",
       "  <thead>\n",
       "    <tr style=\"text-align: right;\">\n",
       "      <th></th>\n",
       "      <th>0</th>\n",
       "      <th>1</th>\n",
       "      <th>2</th>\n",
       "      <th>3</th>\n",
       "      <th>4</th>\n",
       "    </tr>\n",
       "  </thead>\n",
       "  <tbody>\n",
       "    <tr>\n",
       "      <th>home_ownership</th>\n",
       "      <td>RENT</td>\n",
       "      <td>MORTGAGE</td>\n",
       "      <td>OWN</td>\n",
       "      <td>OTHER</td>\n",
       "      <td>NONE</td>\n",
       "    </tr>\n",
       "    <tr>\n",
       "      <th>0</th>\n",
       "      <td>20160</td>\n",
       "      <td>18931</td>\n",
       "      <td>3248</td>\n",
       "      <td>136</td>\n",
       "      <td>8</td>\n",
       "    </tr>\n",
       "  </tbody>\n",
       "</table>\n",
       "</div>"
      ],
      "text/plain": [
       "                    0         1     2      3     4\n",
       "home_ownership   RENT  MORTGAGE   OWN  OTHER  NONE\n",
       "0               20160     18931  3248    136     8"
      ]
     },
     "execution_count": 24,
     "metadata": {},
     "output_type": "execute_result"
    }
   ],
   "source": [
    "#count of loans based on home ownership \n",
    "loan.groupby(['home_ownership']).size().sort_values(ascending = False).reset_index().T"
   ]
  },
  {
   "cell_type": "markdown",
   "metadata": {},
   "source": [
    "1. The loan amount, interest rate and installements are highest for home ownership = None.\n",
    "2. Just as observed in purpose feature, the higher the amount, interest rate and installment greater are the changes that the loans are charges off.\n",
    "3. The number of people with home ownership of Rent is highest with None having the least number of people."
   ]
  },
  {
   "cell_type": "markdown",
   "metadata": {
    "colab_type": "text",
    "id": "DyS-QPc7248o"
   },
   "source": [
    "**How does the loan approval process effect based on employement title and length of the loan?**"
   ]
  },
  {
   "cell_type": "code",
   "execution_count": 25,
   "metadata": {
    "colab": {
     "base_uri": "https://localhost:8080/",
     "height": 475
    },
    "colab_type": "code",
    "id": "0ULcmf1p8wO6",
    "outputId": "2b0b91cf-9c9a-4d22-bffa-844e4d333fb6"
   },
   "outputs": [
    {
     "data": {
      "text/plain": [
       "Text(0, 0.5, 'Loan amount in $')"
      ]
     },
     "execution_count": 25,
     "metadata": {},
     "output_type": "execute_result"
    },
    {
     "data": {
      "image/png": "[encoded data removed]",
      "text/plain": [
       "<Figure size 1008x504 with 1 Axes>"
      ]
     },
     "metadata": {
      "needs_background": "light"
     },
     "output_type": "display_data"
    }
   ],
   "source": [
    "#violinplot for loan amount and emp_length\n",
    "violinplot = sns.violinplot(y = 'loan_amnt', x = 'emp_length', data = loan)\n",
    "violinplot.figure.set_size_inches(14,7)\n",
    "violinplot.set_title('Loan amount given based on employement length', fontsize = 12, color = \"black\", alpha = 0.9)\n",
    "violinplot.set_xlabel('Employement length')\n",
    "violinplot.set_ylabel('Loan amount in $')"
   ]
  },
  {
   "cell_type": "markdown",
   "metadata": {},
   "source": [
    "1. The loans approved dont vary a lot with employment length as majority of amount is less than 10,000. \n",
    "2. However more borrowers with employment length of more than 10 years compared to others have loan amounts more than 30,000.\n",
    "3. The interest rate seems to be in the same range irrespective of the employment length."
   ]
  },
  {
   "cell_type": "markdown",
   "metadata": {},
   "source": [
    "**Determine the ratio of fully paid to charged off loans with loan amount and interest rates in different states in the USA.**"
   ]
  },
  {
   "cell_type": "code",
   "execution_count": 26,
   "metadata": {
    "colab": {
     "base_uri": "https://localhost:8080/",
     "height": 235
    },
    "colab_type": "code",
    "id": "rCoga7nEkLu1",
    "outputId": "e3fa4952-def2-429b-dde0-beb0a83bd2d6"
   },
   "outputs": [
    {
     "name": "stdout",
     "output_type": "stream",
     "text": [
      "Requirement already satisfied: chart_studio in /Library/Frameworks/Python.framework/Versions/3.7/lib/python3.7/site-packages (1.1.0)\n",
      "Requirement already satisfied: requests in /Library/Frameworks/Python.framework/Versions/3.7/lib/python3.7/site-packages (from chart_studio) (2.22.0)\n",
      "Requirement already satisfied: six in /Library/Frameworks/Python.framework/Versions/3.7/lib/python3.7/site-packages (from chart_studio) (1.12.0)\n",
      "Requirement already satisfied: retrying>=1.3.3 in /Library/Frameworks/Python.framework/Versions/3.7/lib/python3.7/site-packages (from chart_studio) (1.3.3)\n",
      "Requirement already satisfied: plotly in /Library/Frameworks/Python.framework/Versions/3.7/lib/python3.7/site-packages (from chart_studio) (4.1.1)\n",
      "Requirement already satisfied: chardet<3.1.0,>=3.0.2 in /Library/Frameworks/Python.framework/Versions/3.7/lib/python3.7/site-packages (from requests->chart_studio) (3.0.4)\n",
      "Requirement already satisfied: certifi>=2017.4.17 in /Library/Frameworks/Python.framework/Versions/3.7/lib/python3.7/site-packages (from requests->chart_studio) (2019.3.9)\n",
      "Requirement already satisfied: urllib3!=1.25.0,!=1.25.1,<1.26,>=1.21.1 in /Library/Frameworks/Python.framework/Versions/3.7/lib/python3.7/site-packages (from requests->chart_studio) (1.24.3)\n",
      "Requirement already satisfied: idna<2.9,>=2.5 in /Library/Frameworks/Python.framework/Versions/3.7/lib/python3.7/site-packages (from requests->chart_studio) (2.8)\n",
      "\u001b[33mWARNING: You are using pip version 19.1.1, however version 20.1.1 is available.\n",
      "You should consider upgrading via the 'pip install --upgrade pip' command.\u001b[0m\n"
     ]
    }
   ],
   "source": [
    "#install chart studio module\n",
    "!pip install chart_studio"
   ]
  },
  {
   "cell_type": "code",
   "execution_count": 27,
   "metadata": {
    "colab": {
     "base_uri": "https://localhost:8080/",
     "height": 17
    },
    "colab_type": "code",
    "id": "bvfb6CFB_SLZ",
    "outputId": "e720b2e1-c53a-4623-99a2-55dd9108afff"
   },
   "outputs": [
    {
     "data": {
      "text/html": [
       "        <script type=\"text/javascript\">\n",
       "        window.PlotlyConfig = {MathJaxConfig: 'local'};\n",
       "        if (window.MathJax) {MathJax.Hub.Config({SVG: {font: \"STIX-Web\"}});}\n",
       "        if (typeof require !== 'undefined') {\n",
       "        require.undef(\"plotly\");\n",
       "        requirejs.config({\n",
       "            paths: {\n",
       "                'plotly': ['https://cdn.plot.ly/plotly-latest.min']\n",
       "            }\n",
       "        });\n",
       "        require(['plotly'], function(Plotly) {\n",
       "            window._Plotly = Plotly;\n",
       "        });\n",
       "        }\n",
       "        </script>\n",
       "        "
      ]
     },
     "metadata": {},
     "output_type": "display_data"
    }
   ],
   "source": [
    "import chart_studio.plotly as py\n",
    "import plotly.graph_objs as go\n",
    "from plotly.offline import download_plotlyjs, init_notebook_mode, plot, iplot\n",
    "\n",
    "init_notebook_mode(connected=True)\n",
    "import pandas as pd"
   ]
  },
  {
   "cell_type": "markdown",
   "metadata": {},
   "source": [
    "**Plot a map for Fully paid loans**"
   ]
  },
  {
   "cell_type": "code",
   "execution_count": 28,
   "metadata": {
    "colab": {
     "base_uri": "https://localhost:8080/",
     "height": 136
    },
    "colab_type": "code",
    "id": "pH5jwIwMkif2",
    "outputId": "cb206340-f3c3-4e3f-efcb-ab032eb4027f"
   },
   "outputs": [
    {
     "data": {
      "text/html": [
       "<div>\n",
       "<style scoped>\n",
       "    .dataframe tbody tr th:only-of-type {\n",
       "        vertical-align: middle;\n",
       "    }\n",
       "\n",
       "    .dataframe tbody tr th {\n",
       "        vertical-align: top;\n",
       "    }\n",
       "\n",
       "    .dataframe thead th {\n",
       "        text-align: right;\n",
       "    }\n",
       "</style>\n",
       "<table border=\"1\" class=\"dataframe\">\n",
       "  <thead>\n",
       "    <tr style=\"text-align: right;\">\n",
       "      <th></th>\n",
       "      <th>addr_state</th>\n",
       "      <th>loan_amnt</th>\n",
       "      <th>int_rate</th>\n",
       "      <th>fully_paid</th>\n",
       "      <th>charged_off</th>\n",
       "      <th>fully_paid_text</th>\n",
       "      <th>charged_off_text</th>\n",
       "    </tr>\n",
       "  </thead>\n",
       "  <tbody>\n",
       "    <tr>\n",
       "      <th>0</th>\n",
       "      <td>AK</td>\n",
       "      <td>12913.95</td>\n",
       "      <td>12.86</td>\n",
       "      <td>80.23</td>\n",
       "      <td>19.77</td>\n",
       "      <td>State:AK&lt;br&gt;Average Loan amount:12913.95$&lt;br&gt;A...</td>\n",
       "      <td>State:AK&lt;br&gt;Average Loan amount:12913.95$&lt;br&gt;A...</td>\n",
       "    </tr>\n",
       "    <tr>\n",
       "      <th>1</th>\n",
       "      <td>AL</td>\n",
       "      <td>11173.30</td>\n",
       "      <td>11.96</td>\n",
       "      <td>87.19</td>\n",
       "      <td>12.81</td>\n",
       "      <td>State:AL&lt;br&gt;Average Loan amount:11173.3$&lt;br&gt;Av...</td>\n",
       "      <td>State:AL&lt;br&gt;Average Loan amount:11173.3$&lt;br&gt;Av...</td>\n",
       "    </tr>\n",
       "    <tr>\n",
       "      <th>2</th>\n",
       "      <td>AR</td>\n",
       "      <td>10369.83</td>\n",
       "      <td>11.75</td>\n",
       "      <td>86.97</td>\n",
       "      <td>13.03</td>\n",
       "      <td>State:AR&lt;br&gt;Average Loan amount:10369.83$&lt;br&gt;A...</td>\n",
       "      <td>State:AR&lt;br&gt;Average Loan amount:10369.83$&lt;br&gt;A...</td>\n",
       "    </tr>\n",
       "  </tbody>\n",
       "</table>\n",
       "</div>"
      ],
      "text/plain": [
       "  addr_state  loan_amnt  int_rate  fully_paid  charged_off  \\\n",
       "0         AK   12913.95     12.86       80.23        19.77   \n",
       "1         AL   11173.30     11.96       87.19        12.81   \n",
       "2         AR   10369.83     11.75       86.97        13.03   \n",
       "\n",
       "                                     fully_paid_text  \\\n",
       "0  State:AK<br>Average Loan amount:12913.95$<br>A...   \n",
       "1  State:AL<br>Average Loan amount:11173.3$<br>Av...   \n",
       "2  State:AR<br>Average Loan amount:10369.83$<br>A...   \n",
       "\n",
       "                                    charged_off_text  \n",
       "0  State:AK<br>Average Loan amount:12913.95$<br>A...  \n",
       "1  State:AL<br>Average Loan amount:11173.3$<br>Av...  \n",
       "2  State:AR<br>Average Loan amount:10369.83$<br>A...  "
      ]
     },
     "execution_count": 28,
     "metadata": {},
     "output_type": "execute_result"
    }
   ],
   "source": [
    "#find the average loan amount and interest rate per state \n",
    "loc_loan = loan.groupby([\"addr_state\"])[\"loan_amnt\",\"int_rate\"].apply(lambda x : round(x.mean(),2))\n",
    "\n",
    "#create a new loan_stat column to find percentage of fully paid loans \n",
    "loc_loan[\"fully_paid\"] =  loan.groupby('addr_state')['loan_status'].apply(lambda x : round(((x == 'Fully Paid').sum()/\n",
    "                                                                                    ((x == 'Fully Paid').sum() + \n",
    "                                                                                    (x == 'Charged Off').sum()))\n",
    "                                                                                   *100,2))\n",
    "\n",
    "#create a new loan_stat column to find percentage of charged off loans \n",
    "loc_loan[\"charged_off\"] =  loan.groupby('addr_state')['loan_status'].apply(lambda x : round(((x == 'Charged Off').sum()/\n",
    "                                                                                    ((x == 'Fully Paid').sum() + \n",
    "                                                                                    (x == 'Charged Off').sum()))\n",
    "                                                                                    *100,2))\n",
    "\n",
    "loc_loan = loc_loan.reset_index()\n",
    "\n",
    "#create a display_text column to display on the graph\n",
    "loc_loan[\"fully_paid_text\"] = \"State:\" + loc_loan[\"addr_state\"].astype(str) + \"<br>\" + 'Average Loan amount:' +\\\n",
    "                            loc_loan['loan_amnt'].apply(str) + \"$\" + \"<br>\" +'Average Interest Rate: ' +\\\n",
    "                            loc_loan['int_rate'].apply(str)\n",
    "\n",
    "#create a display_text column to display on the graph\n",
    "loc_loan[\"charged_off_text\"] = \"State:\" + loc_loan[\"addr_state\"].astype(str) + \"<br>\" + 'Average Loan amount:' +\\\n",
    "                            loc_loan['loan_amnt'].apply(str) + \"$\" + \"<br>\" +'Average Interest Rate: ' +\\\n",
    "                            loc_loan['int_rate'].apply(str)\n",
    "\n",
    "#check the newly created data\n",
    "loc_loan.head(3)\n"
   ]
  },
  {
   "cell_type": "code",
   "execution_count": 29,
   "metadata": {
    "colab": {},
    "colab_type": "code",
    "id": "K79lPT0VitjD"
   },
   "outputs": [],
   "source": [
    "#create a map dictionary\n",
    "map_data = dict(type = 'choropleth',\n",
    "            locations = loc_loan[\"addr_state\"],\n",
    "            locationmode = 'USA-states',\n",
    "            colorscale = 'Portland',\n",
    "            text = loc_loan[\"fully_paid_text\"],\n",
    "            z = loc_loan[\"fully_paid\"],\n",
    "            colorbar = dict(title = \"USA States\"),\n",
    "           )"
   ]
  },
  {
   "cell_type": "code",
   "execution_count": 30,
   "metadata": {
    "colab": {},
    "colab_type": "code",
    "id": "M0wgCCMwm5vA"
   },
   "outputs": [],
   "source": [
    "#set the map geography to USA\n",
    "map_layout = dict(geo = {'scope':'usa'})"
   ]
  },
  {
   "cell_type": "code",
   "execution_count": 31,
   "metadata": {
    "colab": {},
    "colab_type": "code",
    "id": "PIggCLplm8pY"
   },
   "outputs": [],
   "source": [
    "#set the Figure parameters with data and USA map layout\n",
    "map_actual = go.Figure(data = [map_data], layout = map_layout)"
   ]
  },
  {
   "cell_type": "code",
   "execution_count": 32,
   "metadata": {
    "colab": {
     "base_uri": "https://localhost:8080/",
     "height": 542
    },
    "colab_type": "code",
    "id": "iS3wOzDrm-yD",
    "outputId": "fc225f32-a3fa-4fe1-ad93-16c6d619a300"
   },
   "outputs": [
    {
     "data": {
      "application/vnd.plotly.v1+json": {
       "config": {
        "linkText": "Export to plot.ly",
        "plotlyServerURL": "https://plot.ly",
        "showLink": false
       },
       "data": [
        {
         "colorbar": {
          "title": {
           "text": "USA States"
          }
         },
         "colorscale": [
          [
           0,
           "rgb(12,51,131)"
          ],
          [
           0.25,
           "rgb(10,136,186)"
          ],
          [
           0.5,
           "rgb(242,211,56)"
          ],
          [
           0.75,
           "rgb(242,143,56)"
          ],
          [
           1,
           "rgb(217,30,30)"
          ]
         ],
         "locationmode": "USA-states",
         "locations": [
          "AK",
          "AL",
          "AR",
          "AZ",
          "CA",
          "CO",
          "CT",
          "DC",
          "DE",
          "FL",
          "GA",
          "HI",
          "IA",
          "ID",
          "IL",
          "IN",
          "KS",
          "KY",
          "LA",
          "MA",
          "MD",
          "ME",
          "MI",
          "MN",
          "MO",
          "MS",
          "MT",
          "NC",
          "NE",
          "NH",
          "NJ",
          "NM",
          "NV",
          "NY",
          "OH",
          "OK",
          "OR",
          "PA",
          "RI",
          "SC",
          "SD",
          "TN",
          "TX",
          "UT",
          "VA",
          "VT",
          "WA",
          "WI",
          "WV",
          "WY"
         ],
         "text": [
          "State:AK<br>Average Loan amount:12913.95$<br>Average Interest Rate: 12.86",
          "State:AL<br>Average Loan amount:11173.3$<br>Average Interest Rate: 11.96",
          "State:AR<br>Average Loan amount:10369.83$<br>Average Interest Rate: 11.75",
          "State:AZ<br>Average Loan amount:10865.17$<br>Average Interest Rate: 12.32",
          "State:CA<br>Average Loan amount:11275.51$<br>Average Interest Rate: 12.21",
          "State:CO<br>Average Loan amount:11190.99$<br>Average Interest Rate: 11.94",
          "State:CT<br>Average Loan amount:11312.15$<br>Average Interest Rate: 12.02",
          "State:DC<br>Average Loan amount:12329.58$<br>Average Interest Rate: 12.12",
          "State:DE<br>Average Loan amount:10181.8$<br>Average Interest Rate: 12.52",
          "State:FL<br>Average Loan amount:10596.09$<br>Average Interest Rate: 12.08",
          "State:GA<br>Average Loan amount:11180.39$<br>Average Interest Rate: 12.05",
          "State:HI<br>Average Loan amount:10817.27$<br>Average Interest Rate: 12.64",
          "State:IA<br>Average Loan amount:8345.83$<br>Average Interest Rate: 12.14",
          "State:ID<br>Average Loan amount:8038.89$<br>Average Interest Rate: 11.88",
          "State:IL<br>Average Loan amount:11380.12$<br>Average Interest Rate: 12.27",
          "State:IN<br>Average Loan amount:7582.89$<br>Average Interest Rate: 12.1",
          "State:KS<br>Average Loan amount:10584.85$<br>Average Interest Rate: 11.94",
          "State:KY<br>Average Loan amount:10810.75$<br>Average Interest Rate: 12.17",
          "State:LA<br>Average Loan amount:10380.59$<br>Average Interest Rate: 11.82",
          "State:MA<br>Average Loan amount:11227.25$<br>Average Interest Rate: 11.97",
          "State:MD<br>Average Loan amount:11355.1$<br>Average Interest Rate: 12.58",
          "State:ME<br>Average Loan amount:3066.67$<br>Average Interest Rate: 10.49",
          "State:MI<br>Average Loan amount:10967.26$<br>Average Interest Rate: 12.18",
          "State:MN<br>Average Loan amount:10384.92$<br>Average Interest Rate: 11.82",
          "State:MO<br>Average Loan amount:10413.27$<br>Average Interest Rate: 11.96",
          "State:MS<br>Average Loan amount:7325.0$<br>Average Interest Rate: 12.39",
          "State:MT<br>Average Loan amount:10496.09$<br>Average Interest Rate: 12.12",
          "State:NC<br>Average Loan amount:11271.26$<br>Average Interest Rate: 12.11",
          "State:NE<br>Average Loan amount:8086.36$<br>Average Interest Rate: 12.84",
          "State:NH<br>Average Loan amount:11615.69$<br>Average Interest Rate: 11.82",
          "State:NJ<br>Average Loan amount:11606.66$<br>Average Interest Rate: 12.37",
          "State:NM<br>Average Loan amount:10363.48$<br>Average Interest Rate: 11.84",
          "State:NV<br>Average Loan amount:10787.98$<br>Average Interest Rate: 12.63",
          "State:NY<br>Average Loan amount:11158.92$<br>Average Interest Rate: 12.2",
          "State:OH<br>Average Loan amount:10679.66$<br>Average Interest Rate: 12.22",
          "State:OK<br>Average Loan amount:11228.15$<br>Average Interest Rate: 12.04",
          "State:OR<br>Average Loan amount:10591.08$<br>Average Interest Rate: 12.02",
          "State:PA<br>Average Loan amount:10483.29$<br>Average Interest Rate: 11.91",
          "State:RI<br>Average Loan amount:9562.26$<br>Average Interest Rate: 12.03",
          "State:SC<br>Average Loan amount:10895.09$<br>Average Interest Rate: 11.94",
          "State:SD<br>Average Loan amount:9761.57$<br>Average Interest Rate: 11.54",
          "State:TN<br>Average Loan amount:7904.69$<br>Average Interest Rate: 11.9",
          "State:TX<br>Average Loan amount:11561.09$<br>Average Interest Rate: 12.18",
          "State:UT<br>Average Loan amount:11099.91$<br>Average Interest Rate: 12.17",
          "State:VA<br>Average Loan amount:11478.85$<br>Average Interest Rate: 12.27",
          "State:VT<br>Average Loan amount:9021.05$<br>Average Interest Rate: 11.3",
          "State:WA<br>Average Loan amount:10893.16$<br>Average Interest Rate: 12.32",
          "State:WI<br>Average Loan amount:11064.56$<br>Average Interest Rate: 12.17",
          "State:WV<br>Average Loan amount:10701.34$<br>Average Interest Rate: 11.87",
          "State:WY<br>Average Loan amount:11129.31$<br>Average Interest Rate: 12.62"
         ],
         "type": "choropleth",
         "z": [
          80.23,
          87.19,
          86.97,
          84.85,
          83.47,
          87.05,
          86.99,
          92.41,
          88.24,
          81.38,
          83.36,
          83.43,
          83.33,
          88.89,
          86.06,
          63.16,
          87.88,
          84.64,
          87.42,
          87.18,
          83.51,
          100,
          84.65,
          85.85,
          81.7,
          76.92,
          82.29,
          84.8,
          45.45,
          85.64,
          84.64,
          83.82,
          76.43,
          86.41,
          86.95,
          86.12,
          83.55,
          86.42,
          87.02,
          85.69,
          80.6,
          81.25,
          87.21,
          83.45,
          87.01,
          87.72,
          83.9,
          85.05,
          87.7,
          95.4
         ]
        }
       ],
       "layout": {
        "geo": {
         "scope": "usa"
        },
        "template": {
         "data": {
          "bar": [
           {
            "error_x": {
             "color": "#2a3f5f"
            },
            "error_y": {
             "color": "#2a3f5f"
            },
            "marker": {
             "line": {
              "color": "#E5ECF6",
              "width": 0.5
             }
            },
            "type": "bar"
           }
          ],
          "barpolar": [
           {
            "marker": {
             "line": {
              "color": "#E5ECF6",
              "width": 0.5
             }
            },
            "type": "barpolar"
           }
          ],
          "carpet": [
           {
            "aaxis": {
             "endlinecolor": "#2a3f5f",
             "gridcolor": "white",
             "linecolor": "white",
             "minorgridcolor": "white",
             "startlinecolor": "#2a3f5f"
            },
            "baxis": {
             "endlinecolor": "#2a3f5f",
             "gridcolor": "white",
             "linecolor": "white",
             "minorgridcolor": "white",
             "startlinecolor": "#2a3f5f"
            },
            "type": "carpet"
           }
          ],
          "choropleth": [
           {
            "colorbar": {
             "outlinewidth": 0,
             "ticks": ""
            },
            "type": "choropleth"
           }
          ],
          "contour": [
           {
            "colorbar": {
             "outlinewidth": 0,
             "ticks": ""
            },
            "colorscale": [
             [
              0,
              "#0d0887"
             ],
             [
              0.1111111111111111,
              "#46039f"
             ],
             [
              0.2222222222222222,
              "#7201a8"
             ],
             [
              0.3333333333333333,
              "#9c179e"
             ],
             [
              0.4444444444444444,
              "#bd3786"
             ],
             [
              0.5555555555555556,
              "#d8576b"
             ],
             [
              0.6666666666666666,
              "#ed7953"
             ],
             [
              0.7777777777777778,
              "#fb9f3a"
             ],
             [
              0.8888888888888888,
              "#fdca26"
             ],
             [
              1,
              "#f0f921"
             ]
            ],
            "type": "contour"
           }
          ],
          "contourcarpet": [
           {
            "colorbar": {
             "outlinewidth": 0,
             "ticks": ""
            },
            "type": "contourcarpet"
           }
          ],
          "heatmap": [
           {
            "colorbar": {
             "outlinewidth": 0,
             "ticks": ""
            },
            "colorscale": [
             [
              0,
              "#0d0887"
             ],
             [
              0.1111111111111111,
              "#46039f"
             ],
             [
              0.2222222222222222,
              "#7201a8"
             ],
             [
              0.3333333333333333,
              "#9c179e"
             ],
             [
              0.4444444444444444,
              "#bd3786"
             ],
             [
              0.5555555555555556,
              "#d8576b"
             ],
             [
              0.6666666666666666,
              "#ed7953"
             ],
             [
              0.7777777777777778,
              "#fb9f3a"
             ],
             [
              0.8888888888888888,
              "#fdca26"
             ],
             [
              1,
              "#f0f921"
             ]
            ],
            "type": "heatmap"
           }
          ],
          "heatmapgl": [
           {
            "colorbar": {
             "outlinewidth": 0,
             "ticks": ""
            },
            "colorscale": [
             [
              0,
              "#0d0887"
             ],
             [
              0.1111111111111111,
              "#46039f"
             ],
             [
              0.2222222222222222,
              "#7201a8"
             ],
             [
              0.3333333333333333,
              "#9c179e"
             ],
             [
              0.4444444444444444,
              "#bd3786"
             ],
             [
              0.5555555555555556,
              "#d8576b"
             ],
             [
              0.6666666666666666,
              "#ed7953"
             ],
             [
              0.7777777777777778,
              "#fb9f3a"
             ],
             [
              0.8888888888888888,
              "#fdca26"
             ],
             [
              1,
              "#f0f921"
             ]
            ],
            "type": "heatmapgl"
           }
          ],
          "histogram": [
           {
            "marker": {
             "colorbar": {
              "outlinewidth": 0,
              "ticks": ""
             }
            },
            "type": "histogram"
           }
          ],
          "histogram2d": [
           {
            "colorbar": {
             "outlinewidth": 0,
             "ticks": ""
            },
            "colorscale": [
             [
              0,
              "#0d0887"
             ],
             [
              0.1111111111111111,
              "#46039f"
             ],
             [
              0.2222222222222222,
              "#7201a8"
             ],
             [
              0.3333333333333333,
              "#9c179e"
             ],
             [
              0.4444444444444444,
              "#bd3786"
             ],
             [
              0.5555555555555556,
              "#d8576b"
             ],
             [
              0.6666666666666666,
              "#ed7953"
             ],
             [
              0.7777777777777778,
              "#fb9f3a"
             ],
             [
              0.8888888888888888,
              "#fdca26"
             ],
             [
              1,
              "#f0f921"
             ]
            ],
            "type": "histogram2d"
           }
          ],
          "histogram2dcontour": [
           {
            "colorbar": {
             "outlinewidth": 0,
             "ticks": ""
            },
            "colorscale": [
             [
              0,
              "#0d0887"
             ],
             [
              0.1111111111111111,
              "#46039f"
             ],
             [
              0.2222222222222222,
              "#7201a8"
             ],
             [
              0.3333333333333333,
              "#9c179e"
             ],
             [
              0.4444444444444444,
              "#bd3786"
             ],
             [
              0.5555555555555556,
              "#d8576b"
             ],
             [
              0.6666666666666666,
              "#ed7953"
             ],
             [
              0.7777777777777778,
              "#fb9f3a"
             ],
             [
              0.8888888888888888,
              "#fdca26"
             ],
             [
              1,
              "#f0f921"
             ]
            ],
            "type": "histogram2dcontour"
           }
          ],
          "mesh3d": [
           {
            "colorbar": {
             "outlinewidth": 0,
             "ticks": ""
            },
            "type": "mesh3d"
           }
          ],
          "parcoords": [
           {
            "line": {
             "colorbar": {
              "outlinewidth": 0,
              "ticks": ""
             }
            },
            "type": "parcoords"
           }
          ],
          "scatter": [
           {
            "marker": {
             "colorbar": {
              "outlinewidth": 0,
              "ticks": ""
             }
            },
            "type": "scatter"
           }
          ],
          "scatter3d": [
           {
            "line": {
             "colorbar": {
              "outlinewidth": 0,
              "ticks": ""
             }
            },
            "marker": {
             "colorbar": {
              "outlinewidth": 0,
              "ticks": ""
             }
            },
            "type": "scatter3d"
           }
          ],
          "scattercarpet": [
           {
            "marker": {
             "colorbar": {
              "outlinewidth": 0,
              "ticks": ""
             }
            },
            "type": "scattercarpet"
           }
          ],
          "scattergeo": [
           {
            "marker": {
             "colorbar": {
              "outlinewidth": 0,
              "ticks": ""
             }
            },
            "type": "scattergeo"
           }
          ],
          "scattergl": [
           {
            "marker": {
             "colorbar": {
              "outlinewidth": 0,
              "ticks": ""
             }
            },
            "type": "scattergl"
           }
          ],
          "scattermapbox": [
           {
            "marker": {
             "colorbar": {
              "outlinewidth": 0,
              "ticks": ""
             }
            },
            "type": "scattermapbox"
           }
          ],
          "scatterpolar": [
           {
            "marker": {
             "colorbar": {
              "outlinewidth": 0,
              "ticks": ""
             }
            },
            "type": "scatterpolar"
           }
          ],
          "scatterpolargl": [
           {
            "marker": {
             "colorbar": {
              "outlinewidth": 0,
              "ticks": ""
             }
            },
            "type": "scatterpolargl"
           }
          ],
          "scatterternary": [
           {
            "marker": {
             "colorbar": {
              "outlinewidth": 0,
              "ticks": ""
             }
            },
            "type": "scatterternary"
           }
          ],
          "surface": [
           {
            "colorbar": {
             "outlinewidth": 0,
             "ticks": ""
            },
            "colorscale": [
             [
              0,
              "#0d0887"
             ],
             [
              0.1111111111111111,
              "#46039f"
             ],
             [
              0.2222222222222222,
              "#7201a8"
             ],
             [
              0.3333333333333333,
              "#9c179e"
             ],
             [
              0.4444444444444444,
              "#bd3786"
             ],
             [
              0.5555555555555556,
              "#d8576b"
             ],
             [
              0.6666666666666666,
              "#ed7953"
             ],
             [
              0.7777777777777778,
              "#fb9f3a"
             ],
             [
              0.8888888888888888,
              "#fdca26"
             ],
             [
              1,
              "#f0f921"
             ]
            ],
            "type": "surface"
           }
          ],
          "table": [
           {
            "cells": {
             "fill": {
              "color": "#EBF0F8"
             },
             "line": {
              "color": "white"
             }
            },
            "header": {
             "fill": {
              "color": "#C8D4E3"
             },
             "line": {
              "color": "white"
             }
            },
            "type": "table"
           }
          ]
         },
         "layout": {
          "annotationdefaults": {
           "arrowcolor": "#2a3f5f",
           "arrowhead": 0,
           "arrowwidth": 1
          },
          "colorscale": {
           "diverging": [
            [
             0,
             "#8e0152"
            ],
            [
             0.1,
             "#c51b7d"
            ],
            [
             0.2,
             "#de77ae"
            ],
            [
             0.3,
             "#f1b6da"
            ],
            [
             0.4,
             "#fde0ef"
            ],
            [
             0.5,
             "#f7f7f7"
            ],
            [
             0.6,
             "#e6f5d0"
            ],
            [
             0.7,
             "#b8e186"
            ],
            [
             0.8,
             "#7fbc41"
            ],
            [
             0.9,
             "#4d9221"
            ],
            [
             1,
             "#276419"
            ]
           ],
           "sequential": [
            [
             0,
             "#0d0887"
            ],
            [
             0.1111111111111111,
             "#46039f"
            ],
            [
             0.2222222222222222,
             "#7201a8"
            ],
            [
             0.3333333333333333,
             "#9c179e"
            ],
            [
             0.4444444444444444,
             "#bd3786"
            ],
            [
             0.5555555555555556,
             "#d8576b"
            ],
            [
             0.6666666666666666,
             "#ed7953"
            ],
            [
             0.7777777777777778,
             "#fb9f3a"
            ],
            [
             0.8888888888888888,
             "#fdca26"
            ],
            [
             1,
             "#f0f921"
            ]
           ],
           "sequentialminus": [
            [
             0,
             "#0d0887"
            ],
            [
             0.1111111111111111,
             "#46039f"
            ],
            [
             0.2222222222222222,
             "#7201a8"
            ],
            [
             0.3333333333333333,
             "#9c179e"
            ],
            [
             0.4444444444444444,
             "#bd3786"
            ],
            [
             0.5555555555555556,
             "#d8576b"
            ],
            [
             0.6666666666666666,
             "#ed7953"
            ],
            [
             0.7777777777777778,
             "#fb9f3a"
            ],
            [
             0.8888888888888888,
             "#fdca26"
            ],
            [
             1,
             "#f0f921"
            ]
           ]
          },
          "colorway": [
           "#636efa",
           "#EF553B",
           "#00cc96",
           "#ab63fa",
           "#FFA15A",
           "#19d3f3",
           "#FF6692",
           "#B6E880",
           "#FF97FF",
           "#FECB52"
          ],
          "font": {
           "color": "#2a3f5f"
          },
          "geo": {
           "bgcolor": "white",
           "lakecolor": "white",
           "landcolor": "#E5ECF6",
           "showlakes": true,
           "showland": true,
           "subunitcolor": "white"
          },
          "hoverlabel": {
           "align": "left"
          },
          "hovermode": "closest",
          "mapbox": {
           "style": "light"
          },
          "paper_bgcolor": "white",
          "plot_bgcolor": "#E5ECF6",
          "polar": {
           "angularaxis": {
            "gridcolor": "white",
            "linecolor": "white",
            "ticks": ""
           },
           "bgcolor": "#E5ECF6",
           "radialaxis": {
            "gridcolor": "white",
            "linecolor": "white",
            "ticks": ""
           }
          },
          "scene": {
           "xaxis": {
            "backgroundcolor": "#E5ECF6",
            "gridcolor": "white",
            "gridwidth": 2,
            "linecolor": "white",
            "showbackground": true,
            "ticks": "",
            "zerolinecolor": "white"
           },
           "yaxis": {
            "backgroundcolor": "#E5ECF6",
            "gridcolor": "white",
            "gridwidth": 2,
            "linecolor": "white",
            "showbackground": true,
            "ticks": "",
            "zerolinecolor": "white"
           },
           "zaxis": {
            "backgroundcolor": "#E5ECF6",
            "gridcolor": "white",
            "gridwidth": 2,
            "linecolor": "white",
            "showbackground": true,
            "ticks": "",
            "zerolinecolor": "white"
           }
          },
          "shapedefaults": {
           "line": {
            "color": "#2a3f5f"
           }
          },
          "ternary": {
           "aaxis": {
            "gridcolor": "white",
            "linecolor": "white",
            "ticks": ""
           },
           "baxis": {
            "gridcolor": "white",
            "linecolor": "white",
            "ticks": ""
           },
           "bgcolor": "#E5ECF6",
           "caxis": {
            "gridcolor": "white",
            "linecolor": "white",
            "ticks": ""
           }
          },
          "title": {
           "x": 0.05
          },
          "xaxis": {
           "automargin": true,
           "gridcolor": "white",
           "linecolor": "white",
           "ticks": "",
           "zerolinecolor": "white",
           "zerolinewidth": 2
          },
          "yaxis": {
           "automargin": true,
           "gridcolor": "white",
           "linecolor": "white",
           "ticks": "",
           "zerolinecolor": "white",
           "zerolinewidth": 2
          }
         }
        }
       }
      },
      "text/html": [
       "<div>\n",
       "        \n",
       "        \n",
       "            <div id=\"df25107a-9000-468c-a471-f8e2091e8e9d\" class=\"plotly-graph-div\" style=\"height:525px; width:100%;\"></div>\n",
       "            <script type=\"text/javascript\">\n",
       "                require([\"plotly\"], function(Plotly) {\n",
       "                    window.PLOTLYENV=window.PLOTLYENV || {};\n",
       "                    \n",
       "                if (document.getElementById(\"df25107a-9000-468c-a471-f8e2091e8e9d\")) {\n",
       "                    Plotly.newPlot(\n",
       "                        'df25107a-9000-468c-a471-f8e2091e8e9d',\n",
       "                        [{\"colorbar\": {\"title\": {\"text\": \"USA States\"}}, \"colorscale\": [[0.0, \"rgb(12,51,131)\"], [0.25, \"rgb(10,136,186)\"], [0.5, \"rgb(242,211,56)\"], [0.75, \"rgb(242,143,56)\"], [1.0, \"rgb(217,30,30)\"]], \"locationmode\": \"USA-states\", \"locations\": [\"AK\", \"AL\", \"AR\", \"AZ\", \"CA\", \"CO\", \"CT\", \"DC\", \"DE\", \"FL\", \"GA\", \"HI\", \"IA\", \"ID\", \"IL\", \"IN\", \"KS\", \"KY\", \"LA\", \"MA\", \"MD\", \"ME\", \"MI\", \"MN\", \"MO\", \"MS\", \"MT\", \"NC\", \"NE\", \"NH\", \"NJ\", \"NM\", \"NV\", \"NY\", \"OH\", \"OK\", \"OR\", \"PA\", \"RI\", \"SC\", \"SD\", \"TN\", \"TX\", \"UT\", \"VA\", \"VT\", \"WA\", \"WI\", \"WV\", \"WY\"], \"text\": [\"State:AK<br>Average Loan amount:12913.95$<br>Average Interest Rate: 12.86\", \"State:AL<br>Average Loan amount:11173.3$<br>Average Interest Rate: 11.96\", \"State:AR<br>Average Loan amount:10369.83$<br>Average Interest Rate: 11.75\", \"State:AZ<br>Average Loan amount:10865.17$<br>Average Interest Rate: 12.32\", \"State:CA<br>Average Loan amount:11275.51$<br>Average Interest Rate: 12.21\", \"State:CO<br>Average Loan amount:11190.99$<br>Average Interest Rate: 11.94\", \"State:CT<br>Average Loan amount:11312.15$<br>Average Interest Rate: 12.02\", \"State:DC<br>Average Loan amount:12329.58$<br>Average Interest Rate: 12.12\", \"State:DE<br>Average Loan amount:10181.8$<br>Average Interest Rate: 12.52\", \"State:FL<br>Average Loan amount:10596.09$<br>Average Interest Rate: 12.08\", \"State:GA<br>Average Loan amount:11180.39$<br>Average Interest Rate: 12.05\", \"State:HI<br>Average Loan amount:10817.27$<br>Average Interest Rate: 12.64\", \"State:IA<br>Average Loan amount:8345.83$<br>Average Interest Rate: 12.14\", \"State:ID<br>Average Loan amount:8038.89$<br>Average Interest Rate: 11.88\", \"State:IL<br>Average Loan amount:11380.12$<br>Average Interest Rate: 12.27\", \"State:IN<br>Average Loan amount:7582.89$<br>Average Interest Rate: 12.1\", \"State:KS<br>Average Loan amount:10584.85$<br>Average Interest Rate: 11.94\", \"State:KY<br>Average Loan amount:10810.75$<br>Average Interest Rate: 12.17\", \"State:LA<br>Average Loan amount:10380.59$<br>Average Interest Rate: 11.82\", \"State:MA<br>Average Loan amount:11227.25$<br>Average Interest Rate: 11.97\", \"State:MD<br>Average Loan amount:11355.1$<br>Average Interest Rate: 12.58\", \"State:ME<br>Average Loan amount:3066.67$<br>Average Interest Rate: 10.49\", \"State:MI<br>Average Loan amount:10967.26$<br>Average Interest Rate: 12.18\", \"State:MN<br>Average Loan amount:10384.92$<br>Average Interest Rate: 11.82\", \"State:MO<br>Average Loan amount:10413.27$<br>Average Interest Rate: 11.96\", \"State:MS<br>Average Loan amount:7325.0$<br>Average Interest Rate: 12.39\", \"State:MT<br>Average Loan amount:10496.09$<br>Average Interest Rate: 12.12\", \"State:NC<br>Average Loan amount:11271.26$<br>Average Interest Rate: 12.11\", \"State:NE<br>Average Loan amount:8086.36$<br>Average Interest Rate: 12.84\", \"State:NH<br>Average Loan amount:11615.69$<br>Average Interest Rate: 11.82\", \"State:NJ<br>Average Loan amount:11606.66$<br>Average Interest Rate: 12.37\", \"State:NM<br>Average Loan amount:10363.48$<br>Average Interest Rate: 11.84\", \"State:NV<br>Average Loan amount:10787.98$<br>Average Interest Rate: 12.63\", \"State:NY<br>Average Loan amount:11158.92$<br>Average Interest Rate: 12.2\", \"State:OH<br>Average Loan amount:10679.66$<br>Average Interest Rate: 12.22\", \"State:OK<br>Average Loan amount:11228.15$<br>Average Interest Rate: 12.04\", \"State:OR<br>Average Loan amount:10591.08$<br>Average Interest Rate: 12.02\", \"State:PA<br>Average Loan amount:10483.29$<br>Average Interest Rate: 11.91\", \"State:RI<br>Average Loan amount:9562.26$<br>Average Interest Rate: 12.03\", \"State:SC<br>Average Loan amount:10895.09$<br>Average Interest Rate: 11.94\", \"State:SD<br>Average Loan amount:9761.57$<br>Average Interest Rate: 11.54\", \"State:TN<br>Average Loan amount:7904.69$<br>Average Interest Rate: 11.9\", \"State:TX<br>Average Loan amount:11561.09$<br>Average Interest Rate: 12.18\", \"State:UT<br>Average Loan amount:11099.91$<br>Average Interest Rate: 12.17\", \"State:VA<br>Average Loan amount:11478.85$<br>Average Interest Rate: 12.27\", \"State:VT<br>Average Loan amount:9021.05$<br>Average Interest Rate: 11.3\", \"State:WA<br>Average Loan amount:10893.16$<br>Average Interest Rate: 12.32\", \"State:WI<br>Average Loan amount:11064.56$<br>Average Interest Rate: 12.17\", \"State:WV<br>Average Loan amount:10701.34$<br>Average Interest Rate: 11.87\", \"State:WY<br>Average Loan amount:11129.31$<br>Average Interest Rate: 12.62\"], \"type\": \"choropleth\", \"z\": [80.23, 87.19, 86.97, 84.85, 83.47, 87.05, 86.99, 92.41, 88.24, 81.38, 83.36, 83.43, 83.33, 88.89, 86.06, 63.16, 87.88, 84.64, 87.42, 87.18, 83.51, 100.0, 84.65, 85.85, 81.7, 76.92, 82.29, 84.8, 45.45, 85.64, 84.64, 83.82, 76.43, 86.41, 86.95, 86.12, 83.55, 86.42, 87.02, 85.69, 80.6, 81.25, 87.21, 83.45, 87.01, 87.72, 83.9, 85.05, 87.7, 95.4]}],\n",
       "                        {\"geo\": {\"scope\": \"usa\"}, \"template\": {\"data\": {\"bar\": [{\"error_x\": {\"color\": \"#2a3f5f\"}, \"error_y\": {\"color\": \"#2a3f5f\"}, \"marker\": {\"line\": {\"color\": \"#E5ECF6\", \"width\": 0.5}}, \"type\": \"bar\"}], \"barpolar\": [{\"marker\": {\"line\": {\"color\": \"#E5ECF6\", \"width\": 0.5}}, \"type\": \"barpolar\"}], \"carpet\": [{\"aaxis\": {\"endlinecolor\": \"#2a3f5f\", \"gridcolor\": \"white\", \"linecolor\": \"white\", \"minorgridcolor\": \"white\", \"startlinecolor\": \"#2a3f5f\"}, \"baxis\": {\"endlinecolor\": \"#2a3f5f\", \"gridcolor\": \"white\", \"linecolor\": \"white\", \"minorgridcolor\": \"white\", \"startlinecolor\": \"#2a3f5f\"}, \"type\": \"carpet\"}], \"choropleth\": [{\"colorbar\": {\"outlinewidth\": 0, \"ticks\": \"\"}, \"type\": \"choropleth\"}], \"contour\": [{\"colorbar\": {\"outlinewidth\": 0, \"ticks\": \"\"}, \"colorscale\": [[0.0, \"#0d0887\"], [0.1111111111111111, \"#46039f\"], [0.2222222222222222, \"#7201a8\"], [0.3333333333333333, \"#9c179e\"], [0.4444444444444444, \"#bd3786\"], [0.5555555555555556, \"#d8576b\"], [0.6666666666666666, \"#ed7953\"], [0.7777777777777778, \"#fb9f3a\"], [0.8888888888888888, \"#fdca26\"], [1.0, \"#f0f921\"]], \"type\": \"contour\"}], \"contourcarpet\": [{\"colorbar\": {\"outlinewidth\": 0, \"ticks\": \"\"}, \"type\": \"contourcarpet\"}], \"heatmap\": [{\"colorbar\": {\"outlinewidth\": 0, \"ticks\": \"\"}, \"colorscale\": [[0.0, \"#0d0887\"], [0.1111111111111111, \"#46039f\"], [0.2222222222222222, \"#7201a8\"], [0.3333333333333333, \"#9c179e\"], [0.4444444444444444, \"#bd3786\"], [0.5555555555555556, \"#d8576b\"], [0.6666666666666666, \"#ed7953\"], [0.7777777777777778, \"#fb9f3a\"], [0.8888888888888888, \"#fdca26\"], [1.0, \"#f0f921\"]], \"type\": \"heatmap\"}], \"heatmapgl\": [{\"colorbar\": {\"outlinewidth\": 0, \"ticks\": \"\"}, \"colorscale\": [[0.0, \"#0d0887\"], [0.1111111111111111, \"#46039f\"], [0.2222222222222222, \"#7201a8\"], [0.3333333333333333, \"#9c179e\"], [0.4444444444444444, \"#bd3786\"], [0.5555555555555556, \"#d8576b\"], [0.6666666666666666, \"#ed7953\"], [0.7777777777777778, \"#fb9f3a\"], [0.8888888888888888, \"#fdca26\"], [1.0, \"#f0f921\"]], \"type\": \"heatmapgl\"}], \"histogram\": [{\"marker\": {\"colorbar\": {\"outlinewidth\": 0, \"ticks\": \"\"}}, \"type\": \"histogram\"}], \"histogram2d\": [{\"colorbar\": {\"outlinewidth\": 0, \"ticks\": \"\"}, \"colorscale\": [[0.0, \"#0d0887\"], [0.1111111111111111, \"#46039f\"], [0.2222222222222222, \"#7201a8\"], [0.3333333333333333, \"#9c179e\"], [0.4444444444444444, \"#bd3786\"], [0.5555555555555556, \"#d8576b\"], [0.6666666666666666, \"#ed7953\"], [0.7777777777777778, \"#fb9f3a\"], [0.8888888888888888, \"#fdca26\"], [1.0, \"#f0f921\"]], \"type\": \"histogram2d\"}], \"histogram2dcontour\": [{\"colorbar\": {\"outlinewidth\": 0, \"ticks\": \"\"}, \"colorscale\": [[0.0, \"#0d0887\"], [0.1111111111111111, \"#46039f\"], [0.2222222222222222, \"#7201a8\"], [0.3333333333333333, \"#9c179e\"], [0.4444444444444444, \"#bd3786\"], [0.5555555555555556, \"#d8576b\"], [0.6666666666666666, \"#ed7953\"], [0.7777777777777778, \"#fb9f3a\"], [0.8888888888888888, \"#fdca26\"], [1.0, \"#f0f921\"]], \"type\": \"histogram2dcontour\"}], \"mesh3d\": [{\"colorbar\": {\"outlinewidth\": 0, \"ticks\": \"\"}, \"type\": \"mesh3d\"}], \"parcoords\": [{\"line\": {\"colorbar\": {\"outlinewidth\": 0, \"ticks\": \"\"}}, \"type\": \"parcoords\"}], \"scatter\": [{\"marker\": {\"colorbar\": {\"outlinewidth\": 0, \"ticks\": \"\"}}, \"type\": \"scatter\"}], \"scatter3d\": [{\"line\": {\"colorbar\": {\"outlinewidth\": 0, \"ticks\": \"\"}}, \"marker\": {\"colorbar\": {\"outlinewidth\": 0, \"ticks\": \"\"}}, \"type\": \"scatter3d\"}], \"scattercarpet\": [{\"marker\": {\"colorbar\": {\"outlinewidth\": 0, \"ticks\": \"\"}}, \"type\": \"scattercarpet\"}], \"scattergeo\": [{\"marker\": {\"colorbar\": {\"outlinewidth\": 0, \"ticks\": \"\"}}, \"type\": \"scattergeo\"}], \"scattergl\": [{\"marker\": {\"colorbar\": {\"outlinewidth\": 0, \"ticks\": \"\"}}, \"type\": \"scattergl\"}], \"scattermapbox\": [{\"marker\": {\"colorbar\": {\"outlinewidth\": 0, \"ticks\": \"\"}}, \"type\": \"scattermapbox\"}], \"scatterpolar\": [{\"marker\": {\"colorbar\": {\"outlinewidth\": 0, \"ticks\": \"\"}}, \"type\": \"scatterpolar\"}], \"scatterpolargl\": [{\"marker\": {\"colorbar\": {\"outlinewidth\": 0, \"ticks\": \"\"}}, \"type\": \"scatterpolargl\"}], \"scatterternary\": [{\"marker\": {\"colorbar\": {\"outlinewidth\": 0, \"ticks\": \"\"}}, \"type\": \"scatterternary\"}], \"surface\": [{\"colorbar\": {\"outlinewidth\": 0, \"ticks\": \"\"}, \"colorscale\": [[0.0, \"#0d0887\"], [0.1111111111111111, \"#46039f\"], [0.2222222222222222, \"#7201a8\"], [0.3333333333333333, \"#9c179e\"], [0.4444444444444444, \"#bd3786\"], [0.5555555555555556, \"#d8576b\"], [0.6666666666666666, \"#ed7953\"], [0.7777777777777778, \"#fb9f3a\"], [0.8888888888888888, \"#fdca26\"], [1.0, \"#f0f921\"]], \"type\": \"surface\"}], \"table\": [{\"cells\": {\"fill\": {\"color\": \"#EBF0F8\"}, \"line\": {\"color\": \"white\"}}, \"header\": {\"fill\": {\"color\": \"#C8D4E3\"}, \"line\": {\"color\": \"white\"}}, \"type\": \"table\"}]}, \"layout\": {\"annotationdefaults\": {\"arrowcolor\": \"#2a3f5f\", \"arrowhead\": 0, \"arrowwidth\": 1}, \"colorscale\": {\"diverging\": [[0, \"#8e0152\"], [0.1, \"#c51b7d\"], [0.2, \"#de77ae\"], [0.3, \"#f1b6da\"], [0.4, \"#fde0ef\"], [0.5, \"#f7f7f7\"], [0.6, \"#e6f5d0\"], [0.7, \"#b8e186\"], [0.8, \"#7fbc41\"], [0.9, \"#4d9221\"], [1, \"#276419\"]], \"sequential\": [[0.0, \"#0d0887\"], [0.1111111111111111, \"#46039f\"], [0.2222222222222222, \"#7201a8\"], [0.3333333333333333, \"#9c179e\"], [0.4444444444444444, \"#bd3786\"], [0.5555555555555556, \"#d8576b\"], [0.6666666666666666, \"#ed7953\"], [0.7777777777777778, \"#fb9f3a\"], [0.8888888888888888, \"#fdca26\"], [1.0, \"#f0f921\"]], \"sequentialminus\": [[0.0, \"#0d0887\"], [0.1111111111111111, \"#46039f\"], [0.2222222222222222, \"#7201a8\"], [0.3333333333333333, \"#9c179e\"], [0.4444444444444444, \"#bd3786\"], [0.5555555555555556, \"#d8576b\"], [0.6666666666666666, \"#ed7953\"], [0.7777777777777778, \"#fb9f3a\"], [0.8888888888888888, \"#fdca26\"], [1.0, \"#f0f921\"]]}, \"colorway\": [\"#636efa\", \"#EF553B\", \"#00cc96\", \"#ab63fa\", \"#FFA15A\", \"#19d3f3\", \"#FF6692\", \"#B6E880\", \"#FF97FF\", \"#FECB52\"], \"font\": {\"color\": \"#2a3f5f\"}, \"geo\": {\"bgcolor\": \"white\", \"lakecolor\": \"white\", \"landcolor\": \"#E5ECF6\", \"showlakes\": true, \"showland\": true, \"subunitcolor\": \"white\"}, \"hoverlabel\": {\"align\": \"left\"}, \"hovermode\": \"closest\", \"mapbox\": {\"style\": \"light\"}, \"paper_bgcolor\": \"white\", \"plot_bgcolor\": \"#E5ECF6\", \"polar\": {\"angularaxis\": {\"gridcolor\": \"white\", \"linecolor\": \"white\", \"ticks\": \"\"}, \"bgcolor\": \"#E5ECF6\", \"radialaxis\": {\"gridcolor\": \"white\", \"linecolor\": \"white\", \"ticks\": \"\"}}, \"scene\": {\"xaxis\": {\"backgroundcolor\": \"#E5ECF6\", \"gridcolor\": \"white\", \"gridwidth\": 2, \"linecolor\": \"white\", \"showbackground\": true, \"ticks\": \"\", \"zerolinecolor\": \"white\"}, \"yaxis\": {\"backgroundcolor\": \"#E5ECF6\", \"gridcolor\": \"white\", \"gridwidth\": 2, \"linecolor\": \"white\", \"showbackground\": true, \"ticks\": \"\", \"zerolinecolor\": \"white\"}, \"zaxis\": {\"backgroundcolor\": \"#E5ECF6\", \"gridcolor\": \"white\", \"gridwidth\": 2, \"linecolor\": \"white\", \"showbackground\": true, \"ticks\": \"\", \"zerolinecolor\": \"white\"}}, \"shapedefaults\": {\"line\": {\"color\": \"#2a3f5f\"}}, \"ternary\": {\"aaxis\": {\"gridcolor\": \"white\", \"linecolor\": \"white\", \"ticks\": \"\"}, \"baxis\": {\"gridcolor\": \"white\", \"linecolor\": \"white\", \"ticks\": \"\"}, \"bgcolor\": \"#E5ECF6\", \"caxis\": {\"gridcolor\": \"white\", \"linecolor\": \"white\", \"ticks\": \"\"}}, \"title\": {\"x\": 0.05}, \"xaxis\": {\"automargin\": true, \"gridcolor\": \"white\", \"linecolor\": \"white\", \"ticks\": \"\", \"zerolinecolor\": \"white\", \"zerolinewidth\": 2}, \"yaxis\": {\"automargin\": true, \"gridcolor\": \"white\", \"linecolor\": \"white\", \"ticks\": \"\", \"zerolinecolor\": \"white\", \"zerolinewidth\": 2}}}},\n",
       "                        {\"responsive\": true}\n",
       "                    ).then(function(){\n",
       "                            \n",
       "var gd = document.getElementById('df25107a-9000-468c-a471-f8e2091e8e9d');\n",
       "var x = new MutationObserver(function (mutations, observer) {{\n",
       "        var display = window.getComputedStyle(gd).display;\n",
       "        if (!display || display === 'none') {{\n",
       "            console.log([gd, 'removed!']);\n",
       "            Plotly.purge(gd);\n",
       "            observer.disconnect();\n",
       "        }}\n",
       "}});\n",
       "\n",
       "// Listen for the removal of the full notebook cells\n",
       "var notebookContainer = gd.closest('#notebook-container');\n",
       "if (notebookContainer) {{\n",
       "    x.observe(notebookContainer, {childList: true});\n",
       "}}\n",
       "\n",
       "// Listen for the clearing of the current output cell\n",
       "var outputEl = gd.closest('.output');\n",
       "if (outputEl) {{\n",
       "    x.observe(outputEl, {childList: true});\n",
       "}}\n",
       "\n",
       "                        })\n",
       "                };\n",
       "                });\n",
       "            </script>\n",
       "        </div>"
      ]
     },
     "metadata": {},
     "output_type": "display_data"
    }
   ],
   "source": [
    "#plot the map\n",
    "iplot(map_actual)"
   ]
  },
  {
   "cell_type": "markdown",
   "metadata": {},
   "source": [
    "From the above map:\n",
    "\n",
    "1. The legend shows that there are states with 100% loans repaid and the least percentage is around 45%.\n",
    "2. This map shows the Nebraska having least number of Fully Paid loans at 45% and Maine having 100% loans that are Fully paid. And majority of the other states have between 80-90% of the loans that are fully paid. "
   ]
  },
  {
   "cell_type": "markdown",
   "metadata": {},
   "source": [
    "**Plot a map for Charged Off loans**"
   ]
  },
  {
   "cell_type": "code",
   "execution_count": 33,
   "metadata": {
    "colab": {},
    "colab_type": "code",
    "id": "TIBgq4t_AJEI"
   },
   "outputs": [],
   "source": [
    "#create a map dictionary\n",
    "map_data_co = dict(type = 'choropleth',\n",
    "            locations = loc_loan[\"addr_state\"],\n",
    "            locationmode = 'USA-states',\n",
    "            colorscale = 'Portland',\n",
    "            text = loc_loan[\"charged_off_text\"],\n",
    "            z = loc_loan[\"charged_off\"],\n",
    "            colorbar = dict(title = \"USA States\")\n",
    "           )"
   ]
  },
  {
   "cell_type": "code",
   "execution_count": 34,
   "metadata": {
    "colab": {},
    "colab_type": "code",
    "id": "rO7TnktlASL8"
   },
   "outputs": [],
   "source": [
    "#set the Figure parameters with data and USA map layout\n",
    "map_actual_co = go.Figure(data = [map_data_co], layout = map_layout)"
   ]
  },
  {
   "cell_type": "code",
   "execution_count": 35,
   "metadata": {
    "colab": {
     "base_uri": "https://localhost:8080/",
     "height": 542
    },
    "colab_type": "code",
    "id": "9wokXQXBATV8",
    "outputId": "93c3bdc4-1a35-436b-939b-ef3865443024"
   },
   "outputs": [
    {
     "data": {
      "application/vnd.plotly.v1+json": {
       "config": {
        "linkText": "Export to plot.ly",
        "plotlyServerURL": "https://plot.ly",
        "showLink": false
       },
       "data": [
        {
         "colorbar": {
          "title": {
           "text": "USA States"
          }
         },
         "colorscale": [
          [
           0,
           "rgb(12,51,131)"
          ],
          [
           0.25,
           "rgb(10,136,186)"
          ],
          [
           0.5,
           "rgb(242,211,56)"
          ],
          [
           0.75,
           "rgb(242,143,56)"
          ],
          [
           1,
           "rgb(217,30,30)"
          ]
         ],
         "locationmode": "USA-states",
         "locations": [
          "AK",
          "AL",
          "AR",
          "AZ",
          "CA",
          "CO",
          "CT",
          "DC",
          "DE",
          "FL",
          "GA",
          "HI",
          "IA",
          "ID",
          "IL",
          "IN",
          "KS",
          "KY",
          "LA",
          "MA",
          "MD",
          "ME",
          "MI",
          "MN",
          "MO",
          "MS",
          "MT",
          "NC",
          "NE",
          "NH",
          "NJ",
          "NM",
          "NV",
          "NY",
          "OH",
          "OK",
          "OR",
          "PA",
          "RI",
          "SC",
          "SD",
          "TN",
          "TX",
          "UT",
          "VA",
          "VT",
          "WA",
          "WI",
          "WV",
          "WY"
         ],
         "text": [
          "State:AK<br>Average Loan amount:12913.95$<br>Average Interest Rate: 12.86",
          "State:AL<br>Average Loan amount:11173.3$<br>Average Interest Rate: 11.96",
          "State:AR<br>Average Loan amount:10369.83$<br>Average Interest Rate: 11.75",
          "State:AZ<br>Average Loan amount:10865.17$<br>Average Interest Rate: 12.32",
          "State:CA<br>Average Loan amount:11275.51$<br>Average Interest Rate: 12.21",
          "State:CO<br>Average Loan amount:11190.99$<br>Average Interest Rate: 11.94",
          "State:CT<br>Average Loan amount:11312.15$<br>Average Interest Rate: 12.02",
          "State:DC<br>Average Loan amount:12329.58$<br>Average Interest Rate: 12.12",
          "State:DE<br>Average Loan amount:10181.8$<br>Average Interest Rate: 12.52",
          "State:FL<br>Average Loan amount:10596.09$<br>Average Interest Rate: 12.08",
          "State:GA<br>Average Loan amount:11180.39$<br>Average Interest Rate: 12.05",
          "State:HI<br>Average Loan amount:10817.27$<br>Average Interest Rate: 12.64",
          "State:IA<br>Average Loan amount:8345.83$<br>Average Interest Rate: 12.14",
          "State:ID<br>Average Loan amount:8038.89$<br>Average Interest Rate: 11.88",
          "State:IL<br>Average Loan amount:11380.12$<br>Average Interest Rate: 12.27",
          "State:IN<br>Average Loan amount:7582.89$<br>Average Interest Rate: 12.1",
          "State:KS<br>Average Loan amount:10584.85$<br>Average Interest Rate: 11.94",
          "State:KY<br>Average Loan amount:10810.75$<br>Average Interest Rate: 12.17",
          "State:LA<br>Average Loan amount:10380.59$<br>Average Interest Rate: 11.82",
          "State:MA<br>Average Loan amount:11227.25$<br>Average Interest Rate: 11.97",
          "State:MD<br>Average Loan amount:11355.1$<br>Average Interest Rate: 12.58",
          "State:ME<br>Average Loan amount:3066.67$<br>Average Interest Rate: 10.49",
          "State:MI<br>Average Loan amount:10967.26$<br>Average Interest Rate: 12.18",
          "State:MN<br>Average Loan amount:10384.92$<br>Average Interest Rate: 11.82",
          "State:MO<br>Average Loan amount:10413.27$<br>Average Interest Rate: 11.96",
          "State:MS<br>Average Loan amount:7325.0$<br>Average Interest Rate: 12.39",
          "State:MT<br>Average Loan amount:10496.09$<br>Average Interest Rate: 12.12",
          "State:NC<br>Average Loan amount:11271.26$<br>Average Interest Rate: 12.11",
          "State:NE<br>Average Loan amount:8086.36$<br>Average Interest Rate: 12.84",
          "State:NH<br>Average Loan amount:11615.69$<br>Average Interest Rate: 11.82",
          "State:NJ<br>Average Loan amount:11606.66$<br>Average Interest Rate: 12.37",
          "State:NM<br>Average Loan amount:10363.48$<br>Average Interest Rate: 11.84",
          "State:NV<br>Average Loan amount:10787.98$<br>Average Interest Rate: 12.63",
          "State:NY<br>Average Loan amount:11158.92$<br>Average Interest Rate: 12.2",
          "State:OH<br>Average Loan amount:10679.66$<br>Average Interest Rate: 12.22",
          "State:OK<br>Average Loan amount:11228.15$<br>Average Interest Rate: 12.04",
          "State:OR<br>Average Loan amount:10591.08$<br>Average Interest Rate: 12.02",
          "State:PA<br>Average Loan amount:10483.29$<br>Average Interest Rate: 11.91",
          "State:RI<br>Average Loan amount:9562.26$<br>Average Interest Rate: 12.03",
          "State:SC<br>Average Loan amount:10895.09$<br>Average Interest Rate: 11.94",
          "State:SD<br>Average Loan amount:9761.57$<br>Average Interest Rate: 11.54",
          "State:TN<br>Average Loan amount:7904.69$<br>Average Interest Rate: 11.9",
          "State:TX<br>Average Loan amount:11561.09$<br>Average Interest Rate: 12.18",
          "State:UT<br>Average Loan amount:11099.91$<br>Average Interest Rate: 12.17",
          "State:VA<br>Average Loan amount:11478.85$<br>Average Interest Rate: 12.27",
          "State:VT<br>Average Loan amount:9021.05$<br>Average Interest Rate: 11.3",
          "State:WA<br>Average Loan amount:10893.16$<br>Average Interest Rate: 12.32",
          "State:WI<br>Average Loan amount:11064.56$<br>Average Interest Rate: 12.17",
          "State:WV<br>Average Loan amount:10701.34$<br>Average Interest Rate: 11.87",
          "State:WY<br>Average Loan amount:11129.31$<br>Average Interest Rate: 12.62"
         ],
         "type": "choropleth",
         "z": [
          19.77,
          12.81,
          13.03,
          15.15,
          16.53,
          12.95,
          13.01,
          7.59,
          11.76,
          18.62,
          16.64,
          16.57,
          16.67,
          11.11,
          13.94,
          36.84,
          12.12,
          15.36,
          12.58,
          12.82,
          16.49,
          0,
          15.35,
          14.15,
          18.3,
          23.08,
          17.71,
          15.2,
          54.55,
          14.36,
          15.36,
          16.18,
          23.57,
          13.59,
          13.05,
          13.88,
          16.45,
          13.58,
          12.98,
          14.31,
          19.4,
          18.75,
          12.79,
          16.55,
          12.99,
          12.28,
          16.1,
          14.95,
          12.3,
          4.6
         ]
        }
       ],
       "layout": {
        "geo": {
         "scope": "usa"
        },
        "template": {
         "data": {
          "bar": [
           {
            "error_x": {
             "color": "#2a3f5f"
            },
            "error_y": {
             "color": "#2a3f5f"
            },
            "marker": {
             "line": {
              "color": "#E5ECF6",
              "width": 0.5
             }
            },
            "type": "bar"
           }
          ],
          "barpolar": [
           {
            "marker": {
             "line": {
              "color": "#E5ECF6",
              "width": 0.5
             }
            },
            "type": "barpolar"
           }
          ],
          "carpet": [
           {
            "aaxis": {
             "endlinecolor": "#2a3f5f",
             "gridcolor": "white",
             "linecolor": "white",
             "minorgridcolor": "white",
             "startlinecolor": "#2a3f5f"
            },
            "baxis": {
             "endlinecolor": "#2a3f5f",
             "gridcolor": "white",
             "linecolor": "white",
             "minorgridcolor": "white",
             "startlinecolor": "#2a3f5f"
            },
            "type": "carpet"
           }
          ],
          "choropleth": [
           {
            "colorbar": {
             "outlinewidth": 0,
             "ticks": ""
            },
            "type": "choropleth"
           }
          ],
          "contour": [
           {
            "colorbar": {
             "outlinewidth": 0,
             "ticks": ""
            },
            "colorscale": [
             [
              0,
              "#0d0887"
             ],
             [
              0.1111111111111111,
              "#46039f"
             ],
             [
              0.2222222222222222,
              "#7201a8"
             ],
             [
              0.3333333333333333,
              "#9c179e"
             ],
             [
              0.4444444444444444,
              "#bd3786"
             ],
             [
              0.5555555555555556,
              "#d8576b"
             ],
             [
              0.6666666666666666,
              "#ed7953"
             ],
             [
              0.7777777777777778,
              "#fb9f3a"
             ],
             [
              0.8888888888888888,
              "#fdca26"
             ],
             [
              1,
              "#f0f921"
             ]
            ],
            "type": "contour"
           }
          ],
          "contourcarpet": [
           {
            "colorbar": {
             "outlinewidth": 0,
             "ticks": ""
            },
            "type": "contourcarpet"
           }
          ],
          "heatmap": [
           {
            "colorbar": {
             "outlinewidth": 0,
             "ticks": ""
            },
            "colorscale": [
             [
              0,
              "#0d0887"
             ],
             [
              0.1111111111111111,
              "#46039f"
             ],
             [
              0.2222222222222222,
              "#7201a8"
             ],
             [
              0.3333333333333333,
              "#9c179e"
             ],
             [
              0.4444444444444444,
              "#bd3786"
             ],
             [
              0.5555555555555556,
              "#d8576b"
             ],
             [
              0.6666666666666666,
              "#ed7953"
             ],
             [
              0.7777777777777778,
              "#fb9f3a"
             ],
             [
              0.8888888888888888,
              "#fdca26"
             ],
             [
              1,
              "#f0f921"
             ]
            ],
            "type": "heatmap"
           }
          ],
          "heatmapgl": [
           {
            "colorbar": {
             "outlinewidth": 0,
             "ticks": ""
            },
            "colorscale": [
             [
              0,
              "#0d0887"
             ],
             [
              0.1111111111111111,
              "#46039f"
             ],
             [
              0.2222222222222222,
              "#7201a8"
             ],
             [
              0.3333333333333333,
              "#9c179e"
             ],
             [
              0.4444444444444444,
              "#bd3786"
             ],
             [
              0.5555555555555556,
              "#d8576b"
             ],
             [
              0.6666666666666666,
              "#ed7953"
             ],
             [
              0.7777777777777778,
              "#fb9f3a"
             ],
             [
              0.8888888888888888,
              "#fdca26"
             ],
             [
              1,
              "#f0f921"
             ]
            ],
            "type": "heatmapgl"
           }
          ],
          "histogram": [
           {
            "marker": {
             "colorbar": {
              "outlinewidth": 0,
              "ticks": ""
             }
            },
            "type": "histogram"
           }
          ],
          "histogram2d": [
           {
            "colorbar": {
             "outlinewidth": 0,
             "ticks": ""
            },
            "colorscale": [
             [
              0,
              "#0d0887"
             ],
             [
              0.1111111111111111,
              "#46039f"
             ],
             [
              0.2222222222222222,
              "#7201a8"
             ],
             [
              0.3333333333333333,
              "#9c179e"
             ],
             [
              0.4444444444444444,
              "#bd3786"
             ],
             [
              0.5555555555555556,
              "#d8576b"
             ],
             [
              0.6666666666666666,
              "#ed7953"
             ],
             [
              0.7777777777777778,
              "#fb9f3a"
             ],
             [
              0.8888888888888888,
              "#fdca26"
             ],
             [
              1,
              "#f0f921"
             ]
            ],
            "type": "histogram2d"
           }
          ],
          "histogram2dcontour": [
           {
            "colorbar": {
             "outlinewidth": 0,
             "ticks": ""
            },
            "colorscale": [
             [
              0,
              "#0d0887"
             ],
             [
              0.1111111111111111,
              "#46039f"
             ],
             [
              0.2222222222222222,
              "#7201a8"
             ],
             [
              0.3333333333333333,
              "#9c179e"
             ],
             [
              0.4444444444444444,
              "#bd3786"
             ],
             [
              0.5555555555555556,
              "#d8576b"
             ],
             [
              0.6666666666666666,
              "#ed7953"
             ],
             [
              0.7777777777777778,
              "#fb9f3a"
             ],
             [
              0.8888888888888888,
              "#fdca26"
             ],
             [
              1,
              "#f0f921"
             ]
            ],
            "type": "histogram2dcontour"
           }
          ],
          "mesh3d": [
           {
            "colorbar": {
             "outlinewidth": 0,
             "ticks": ""
            },
            "type": "mesh3d"
           }
          ],
          "parcoords": [
           {
            "line": {
             "colorbar": {
              "outlinewidth": 0,
              "ticks": ""
             }
            },
            "type": "parcoords"
           }
          ],
          "scatter": [
           {
            "marker": {
             "colorbar": {
              "outlinewidth": 0,
              "ticks": ""
             }
            },
            "type": "scatter"
           }
          ],
          "scatter3d": [
           {
            "line": {
             "colorbar": {
              "outlinewidth": 0,
              "ticks": ""
             }
            },
            "marker": {
             "colorbar": {
              "outlinewidth": 0,
              "ticks": ""
             }
            },
            "type": "scatter3d"
           }
          ],
          "scattercarpet": [
           {
            "marker": {
             "colorbar": {
              "outlinewidth": 0,
              "ticks": ""
             }
            },
            "type": "scattercarpet"
           }
          ],
          "scattergeo": [
           {
            "marker": {
             "colorbar": {
              "outlinewidth": 0,
              "ticks": ""
             }
            },
            "type": "scattergeo"
           }
          ],
          "scattergl": [
           {
            "marker": {
             "colorbar": {
              "outlinewidth": 0,
              "ticks": ""
             }
            },
            "type": "scattergl"
           }
          ],
          "scattermapbox": [
           {
            "marker": {
             "colorbar": {
              "outlinewidth": 0,
              "ticks": ""
             }
            },
            "type": "scattermapbox"
           }
          ],
          "scatterpolar": [
           {
            "marker": {
             "colorbar": {
              "outlinewidth": 0,
              "ticks": ""
             }
            },
            "type": "scatterpolar"
           }
          ],
          "scatterpolargl": [
           {
            "marker": {
             "colorbar": {
              "outlinewidth": 0,
              "ticks": ""
             }
            },
            "type": "scatterpolargl"
           }
          ],
          "scatterternary": [
           {
            "marker": {
             "colorbar": {
              "outlinewidth": 0,
              "ticks": ""
             }
            },
            "type": "scatterternary"
           }
          ],
          "surface": [
           {
            "colorbar": {
             "outlinewidth": 0,
             "ticks": ""
            },
            "colorscale": [
             [
              0,
              "#0d0887"
             ],
             [
              0.1111111111111111,
              "#46039f"
             ],
             [
              0.2222222222222222,
              "#7201a8"
             ],
             [
              0.3333333333333333,
              "#9c179e"
             ],
             [
              0.4444444444444444,
              "#bd3786"
             ],
             [
              0.5555555555555556,
              "#d8576b"
             ],
             [
              0.6666666666666666,
              "#ed7953"
             ],
             [
              0.7777777777777778,
              "#fb9f3a"
             ],
             [
              0.8888888888888888,
              "#fdca26"
             ],
             [
              1,
              "#f0f921"
             ]
            ],
            "type": "surface"
           }
          ],
          "table": [
           {
            "cells": {
             "fill": {
              "color": "#EBF0F8"
             },
             "line": {
              "color": "white"
             }
            },
            "header": {
             "fill": {
              "color": "#C8D4E3"
             },
             "line": {
              "color": "white"
             }
            },
            "type": "table"
           }
          ]
         },
         "layout": {
          "annotationdefaults": {
           "arrowcolor": "#2a3f5f",
           "arrowhead": 0,
           "arrowwidth": 1
          },
          "colorscale": {
           "diverging": [
            [
             0,
             "#8e0152"
            ],
            [
             0.1,
             "#c51b7d"
            ],
            [
             0.2,
             "#de77ae"
            ],
            [
             0.3,
             "#f1b6da"
            ],
            [
             0.4,
             "#fde0ef"
            ],
            [
             0.5,
             "#f7f7f7"
            ],
            [
             0.6,
             "#e6f5d0"
            ],
            [
             0.7,
             "#b8e186"
            ],
            [
             0.8,
             "#7fbc41"
            ],
            [
             0.9,
             "#4d9221"
            ],
            [
             1,
             "#276419"
            ]
           ],
           "sequential": [
            [
             0,
             "#0d0887"
            ],
            [
             0.1111111111111111,
             "#46039f"
            ],
            [
             0.2222222222222222,
             "#7201a8"
            ],
            [
             0.3333333333333333,
             "#9c179e"
            ],
            [
             0.4444444444444444,
             "#bd3786"
            ],
            [
             0.5555555555555556,
             "#d8576b"
            ],
            [
             0.6666666666666666,
             "#ed7953"
            ],
            [
             0.7777777777777778,
             "#fb9f3a"
            ],
            [
             0.8888888888888888,
             "#fdca26"
            ],
            [
             1,
             "#f0f921"
            ]
           ],
           "sequentialminus": [
            [
             0,
             "#0d0887"
            ],
            [
             0.1111111111111111,
             "#46039f"
            ],
            [
             0.2222222222222222,
             "#7201a8"
            ],
            [
             0.3333333333333333,
             "#9c179e"
            ],
            [
             0.4444444444444444,
             "#bd3786"
            ],
            [
             0.5555555555555556,
             "#d8576b"
            ],
            [
             0.6666666666666666,
             "#ed7953"
            ],
            [
             0.7777777777777778,
             "#fb9f3a"
            ],
            [
             0.8888888888888888,
             "#fdca26"
            ],
            [
             1,
             "#f0f921"
            ]
           ]
          },
          "colorway": [
           "#636efa",
           "#EF553B",
           "#00cc96",
           "#ab63fa",
           "#FFA15A",
           "#19d3f3",
           "#FF6692",
           "#B6E880",
           "#FF97FF",
           "#FECB52"
          ],
          "font": {
           "color": "#2a3f5f"
          },
          "geo": {
           "bgcolor": "white",
           "lakecolor": "white",
           "landcolor": "#E5ECF6",
           "showlakes": true,
           "showland": true,
           "subunitcolor": "white"
          },
          "hoverlabel": {
           "align": "left"
          },
          "hovermode": "closest",
          "mapbox": {
           "style": "light"
          },
          "paper_bgcolor": "white",
          "plot_bgcolor": "#E5ECF6",
          "polar": {
           "angularaxis": {
            "gridcolor": "white",
            "linecolor": "white",
            "ticks": ""
           },
           "bgcolor": "#E5ECF6",
           "radialaxis": {
            "gridcolor": "white",
            "linecolor": "white",
            "ticks": ""
           }
          },
          "scene": {
           "xaxis": {
            "backgroundcolor": "#E5ECF6",
            "gridcolor": "white",
            "gridwidth": 2,
            "linecolor": "white",
            "showbackground": true,
            "ticks": "",
            "zerolinecolor": "white"
           },
           "yaxis": {
            "backgroundcolor": "#E5ECF6",
            "gridcolor": "white",
            "gridwidth": 2,
            "linecolor": "white",
            "showbackground": true,
            "ticks": "",
            "zerolinecolor": "white"
           },
           "zaxis": {
            "backgroundcolor": "#E5ECF6",
            "gridcolor": "white",
            "gridwidth": 2,
            "linecolor": "white",
            "showbackground": true,
            "ticks": "",
            "zerolinecolor": "white"
           }
          },
          "shapedefaults": {
           "line": {
            "color": "#2a3f5f"
           }
          },
          "ternary": {
           "aaxis": {
            "gridcolor": "white",
            "linecolor": "white",
            "ticks": ""
           },
           "baxis": {
            "gridcolor": "white",
            "linecolor": "white",
            "ticks": ""
           },
           "bgcolor": "#E5ECF6",
           "caxis": {
            "gridcolor": "white",
            "linecolor": "white",
            "ticks": ""
           }
          },
          "title": {
           "x": 0.05
          },
          "xaxis": {
           "automargin": true,
           "gridcolor": "white",
           "linecolor": "white",
           "ticks": "",
           "zerolinecolor": "white",
           "zerolinewidth": 2
          },
          "yaxis": {
           "automargin": true,
           "gridcolor": "white",
           "linecolor": "white",
           "ticks": "",
           "zerolinecolor": "white",
           "zerolinewidth": 2
          }
         }
        }
       }
      },
      "text/html": [
       "<div>\n",
       "        \n",
       "        \n",
       "            <div id=\"c2b692d5-63cb-4d72-b974-9841db106d3d\" class=\"plotly-graph-div\" style=\"height:525px; width:100%;\"></div>\n",
       "            <script type=\"text/javascript\">\n",
       "                require([\"plotly\"], function(Plotly) {\n",
       "                    window.PLOTLYENV=window.PLOTLYENV || {};\n",
       "                    \n",
       "                if (document.getElementById(\"c2b692d5-63cb-4d72-b974-9841db106d3d\")) {\n",
       "                    Plotly.newPlot(\n",
       "                        'c2b692d5-63cb-4d72-b974-9841db106d3d',\n",
       "                        [{\"colorbar\": {\"title\": {\"text\": \"USA States\"}}, \"colorscale\": [[0.0, \"rgb(12,51,131)\"], [0.25, \"rgb(10,136,186)\"], [0.5, \"rgb(242,211,56)\"], [0.75, \"rgb(242,143,56)\"], [1.0, \"rgb(217,30,30)\"]], \"locationmode\": \"USA-states\", \"locations\": [\"AK\", \"AL\", \"AR\", \"AZ\", \"CA\", \"CO\", \"CT\", \"DC\", \"DE\", \"FL\", \"GA\", \"HI\", \"IA\", \"ID\", \"IL\", \"IN\", \"KS\", \"KY\", \"LA\", \"MA\", \"MD\", \"ME\", \"MI\", \"MN\", \"MO\", \"MS\", \"MT\", \"NC\", \"NE\", \"NH\", \"NJ\", \"NM\", \"NV\", \"NY\", \"OH\", \"OK\", \"OR\", \"PA\", \"RI\", \"SC\", \"SD\", \"TN\", \"TX\", \"UT\", \"VA\", \"VT\", \"WA\", \"WI\", \"WV\", \"WY\"], \"text\": [\"State:AK<br>Average Loan amount:12913.95$<br>Average Interest Rate: 12.86\", \"State:AL<br>Average Loan amount:11173.3$<br>Average Interest Rate: 11.96\", \"State:AR<br>Average Loan amount:10369.83$<br>Average Interest Rate: 11.75\", \"State:AZ<br>Average Loan amount:10865.17$<br>Average Interest Rate: 12.32\", \"State:CA<br>Average Loan amount:11275.51$<br>Average Interest Rate: 12.21\", \"State:CO<br>Average Loan amount:11190.99$<br>Average Interest Rate: 11.94\", \"State:CT<br>Average Loan amount:11312.15$<br>Average Interest Rate: 12.02\", \"State:DC<br>Average Loan amount:12329.58$<br>Average Interest Rate: 12.12\", \"State:DE<br>Average Loan amount:10181.8$<br>Average Interest Rate: 12.52\", \"State:FL<br>Average Loan amount:10596.09$<br>Average Interest Rate: 12.08\", \"State:GA<br>Average Loan amount:11180.39$<br>Average Interest Rate: 12.05\", \"State:HI<br>Average Loan amount:10817.27$<br>Average Interest Rate: 12.64\", \"State:IA<br>Average Loan amount:8345.83$<br>Average Interest Rate: 12.14\", \"State:ID<br>Average Loan amount:8038.89$<br>Average Interest Rate: 11.88\", \"State:IL<br>Average Loan amount:11380.12$<br>Average Interest Rate: 12.27\", \"State:IN<br>Average Loan amount:7582.89$<br>Average Interest Rate: 12.1\", \"State:KS<br>Average Loan amount:10584.85$<br>Average Interest Rate: 11.94\", \"State:KY<br>Average Loan amount:10810.75$<br>Average Interest Rate: 12.17\", \"State:LA<br>Average Loan amount:10380.59$<br>Average Interest Rate: 11.82\", \"State:MA<br>Average Loan amount:11227.25$<br>Average Interest Rate: 11.97\", \"State:MD<br>Average Loan amount:11355.1$<br>Average Interest Rate: 12.58\", \"State:ME<br>Average Loan amount:3066.67$<br>Average Interest Rate: 10.49\", \"State:MI<br>Average Loan amount:10967.26$<br>Average Interest Rate: 12.18\", \"State:MN<br>Average Loan amount:10384.92$<br>Average Interest Rate: 11.82\", \"State:MO<br>Average Loan amount:10413.27$<br>Average Interest Rate: 11.96\", \"State:MS<br>Average Loan amount:7325.0$<br>Average Interest Rate: 12.39\", \"State:MT<br>Average Loan amount:10496.09$<br>Average Interest Rate: 12.12\", \"State:NC<br>Average Loan amount:11271.26$<br>Average Interest Rate: 12.11\", \"State:NE<br>Average Loan amount:8086.36$<br>Average Interest Rate: 12.84\", \"State:NH<br>Average Loan amount:11615.69$<br>Average Interest Rate: 11.82\", \"State:NJ<br>Average Loan amount:11606.66$<br>Average Interest Rate: 12.37\", \"State:NM<br>Average Loan amount:10363.48$<br>Average Interest Rate: 11.84\", \"State:NV<br>Average Loan amount:10787.98$<br>Average Interest Rate: 12.63\", \"State:NY<br>Average Loan amount:11158.92$<br>Average Interest Rate: 12.2\", \"State:OH<br>Average Loan amount:10679.66$<br>Average Interest Rate: 12.22\", \"State:OK<br>Average Loan amount:11228.15$<br>Average Interest Rate: 12.04\", \"State:OR<br>Average Loan amount:10591.08$<br>Average Interest Rate: 12.02\", \"State:PA<br>Average Loan amount:10483.29$<br>Average Interest Rate: 11.91\", \"State:RI<br>Average Loan amount:9562.26$<br>Average Interest Rate: 12.03\", \"State:SC<br>Average Loan amount:10895.09$<br>Average Interest Rate: 11.94\", \"State:SD<br>Average Loan amount:9761.57$<br>Average Interest Rate: 11.54\", \"State:TN<br>Average Loan amount:7904.69$<br>Average Interest Rate: 11.9\", \"State:TX<br>Average Loan amount:11561.09$<br>Average Interest Rate: 12.18\", \"State:UT<br>Average Loan amount:11099.91$<br>Average Interest Rate: 12.17\", \"State:VA<br>Average Loan amount:11478.85$<br>Average Interest Rate: 12.27\", \"State:VT<br>Average Loan amount:9021.05$<br>Average Interest Rate: 11.3\", \"State:WA<br>Average Loan amount:10893.16$<br>Average Interest Rate: 12.32\", \"State:WI<br>Average Loan amount:11064.56$<br>Average Interest Rate: 12.17\", \"State:WV<br>Average Loan amount:10701.34$<br>Average Interest Rate: 11.87\", \"State:WY<br>Average Loan amount:11129.31$<br>Average Interest Rate: 12.62\"], \"type\": \"choropleth\", \"z\": [19.77, 12.81, 13.03, 15.15, 16.53, 12.95, 13.01, 7.59, 11.76, 18.62, 16.64, 16.57, 16.67, 11.11, 13.94, 36.84, 12.12, 15.36, 12.58, 12.82, 16.49, 0.0, 15.35, 14.15, 18.3, 23.08, 17.71, 15.2, 54.55, 14.36, 15.36, 16.18, 23.57, 13.59, 13.05, 13.88, 16.45, 13.58, 12.98, 14.31, 19.4, 18.75, 12.79, 16.55, 12.99, 12.28, 16.1, 14.95, 12.3, 4.6]}],\n",
       "                        {\"geo\": {\"scope\": \"usa\"}, \"template\": {\"data\": {\"bar\": [{\"error_x\": {\"color\": \"#2a3f5f\"}, \"error_y\": {\"color\": \"#2a3f5f\"}, \"marker\": {\"line\": {\"color\": \"#E5ECF6\", \"width\": 0.5}}, \"type\": \"bar\"}], \"barpolar\": [{\"marker\": {\"line\": {\"color\": \"#E5ECF6\", \"width\": 0.5}}, \"type\": \"barpolar\"}], \"carpet\": [{\"aaxis\": {\"endlinecolor\": \"#2a3f5f\", \"gridcolor\": \"white\", \"linecolor\": \"white\", \"minorgridcolor\": \"white\", \"startlinecolor\": \"#2a3f5f\"}, \"baxis\": {\"endlinecolor\": \"#2a3f5f\", \"gridcolor\": \"white\", \"linecolor\": \"white\", \"minorgridcolor\": \"white\", \"startlinecolor\": \"#2a3f5f\"}, \"type\": \"carpet\"}], \"choropleth\": [{\"colorbar\": {\"outlinewidth\": 0, \"ticks\": \"\"}, \"type\": \"choropleth\"}], \"contour\": [{\"colorbar\": {\"outlinewidth\": 0, \"ticks\": \"\"}, \"colorscale\": [[0.0, \"#0d0887\"], [0.1111111111111111, \"#46039f\"], [0.2222222222222222, \"#7201a8\"], [0.3333333333333333, \"#9c179e\"], [0.4444444444444444, \"#bd3786\"], [0.5555555555555556, \"#d8576b\"], [0.6666666666666666, \"#ed7953\"], [0.7777777777777778, \"#fb9f3a\"], [0.8888888888888888, \"#fdca26\"], [1.0, \"#f0f921\"]], \"type\": \"contour\"}], \"contourcarpet\": [{\"colorbar\": {\"outlinewidth\": 0, \"ticks\": \"\"}, \"type\": \"contourcarpet\"}], \"heatmap\": [{\"colorbar\": {\"outlinewidth\": 0, \"ticks\": \"\"}, \"colorscale\": [[0.0, \"#0d0887\"], [0.1111111111111111, \"#46039f\"], [0.2222222222222222, \"#7201a8\"], [0.3333333333333333, \"#9c179e\"], [0.4444444444444444, \"#bd3786\"], [0.5555555555555556, \"#d8576b\"], [0.6666666666666666, \"#ed7953\"], [0.7777777777777778, \"#fb9f3a\"], [0.8888888888888888, \"#fdca26\"], [1.0, \"#f0f921\"]], \"type\": \"heatmap\"}], \"heatmapgl\": [{\"colorbar\": {\"outlinewidth\": 0, \"ticks\": \"\"}, \"colorscale\": [[0.0, \"#0d0887\"], [0.1111111111111111, \"#46039f\"], [0.2222222222222222, \"#7201a8\"], [0.3333333333333333, \"#9c179e\"], [0.4444444444444444, \"#bd3786\"], [0.5555555555555556, \"#d8576b\"], [0.6666666666666666, \"#ed7953\"], [0.7777777777777778, \"#fb9f3a\"], [0.8888888888888888, \"#fdca26\"], [1.0, \"#f0f921\"]], \"type\": \"heatmapgl\"}], \"histogram\": [{\"marker\": {\"colorbar\": {\"outlinewidth\": 0, \"ticks\": \"\"}}, \"type\": \"histogram\"}], \"histogram2d\": [{\"colorbar\": {\"outlinewidth\": 0, \"ticks\": \"\"}, \"colorscale\": [[0.0, \"#0d0887\"], [0.1111111111111111, \"#46039f\"], [0.2222222222222222, \"#7201a8\"], [0.3333333333333333, \"#9c179e\"], [0.4444444444444444, \"#bd3786\"], [0.5555555555555556, \"#d8576b\"], [0.6666666666666666, \"#ed7953\"], [0.7777777777777778, \"#fb9f3a\"], [0.8888888888888888, \"#fdca26\"], [1.0, \"#f0f921\"]], \"type\": \"histogram2d\"}], \"histogram2dcontour\": [{\"colorbar\": {\"outlinewidth\": 0, \"ticks\": \"\"}, \"colorscale\": [[0.0, \"#0d0887\"], [0.1111111111111111, \"#46039f\"], [0.2222222222222222, \"#7201a8\"], [0.3333333333333333, \"#9c179e\"], [0.4444444444444444, \"#bd3786\"], [0.5555555555555556, \"#d8576b\"], [0.6666666666666666, \"#ed7953\"], [0.7777777777777778, \"#fb9f3a\"], [0.8888888888888888, \"#fdca26\"], [1.0, \"#f0f921\"]], \"type\": \"histogram2dcontour\"}], \"mesh3d\": [{\"colorbar\": {\"outlinewidth\": 0, \"ticks\": \"\"}, \"type\": \"mesh3d\"}], \"parcoords\": [{\"line\": {\"colorbar\": {\"outlinewidth\": 0, \"ticks\": \"\"}}, \"type\": \"parcoords\"}], \"scatter\": [{\"marker\": {\"colorbar\": {\"outlinewidth\": 0, \"ticks\": \"\"}}, \"type\": \"scatter\"}], \"scatter3d\": [{\"line\": {\"colorbar\": {\"outlinewidth\": 0, \"ticks\": \"\"}}, \"marker\": {\"colorbar\": {\"outlinewidth\": 0, \"ticks\": \"\"}}, \"type\": \"scatter3d\"}], \"scattercarpet\": [{\"marker\": {\"colorbar\": {\"outlinewidth\": 0, \"ticks\": \"\"}}, \"type\": \"scattercarpet\"}], \"scattergeo\": [{\"marker\": {\"colorbar\": {\"outlinewidth\": 0, \"ticks\": \"\"}}, \"type\": \"scattergeo\"}], \"scattergl\": [{\"marker\": {\"colorbar\": {\"outlinewidth\": 0, \"ticks\": \"\"}}, \"type\": \"scattergl\"}], \"scattermapbox\": [{\"marker\": {\"colorbar\": {\"outlinewidth\": 0, \"ticks\": \"\"}}, \"type\": \"scattermapbox\"}], \"scatterpolar\": [{\"marker\": {\"colorbar\": {\"outlinewidth\": 0, \"ticks\": \"\"}}, \"type\": \"scatterpolar\"}], \"scatterpolargl\": [{\"marker\": {\"colorbar\": {\"outlinewidth\": 0, \"ticks\": \"\"}}, \"type\": \"scatterpolargl\"}], \"scatterternary\": [{\"marker\": {\"colorbar\": {\"outlinewidth\": 0, \"ticks\": \"\"}}, \"type\": \"scatterternary\"}], \"surface\": [{\"colorbar\": {\"outlinewidth\": 0, \"ticks\": \"\"}, \"colorscale\": [[0.0, \"#0d0887\"], [0.1111111111111111, \"#46039f\"], [0.2222222222222222, \"#7201a8\"], [0.3333333333333333, \"#9c179e\"], [0.4444444444444444, \"#bd3786\"], [0.5555555555555556, \"#d8576b\"], [0.6666666666666666, \"#ed7953\"], [0.7777777777777778, \"#fb9f3a\"], [0.8888888888888888, \"#fdca26\"], [1.0, \"#f0f921\"]], \"type\": \"surface\"}], \"table\": [{\"cells\": {\"fill\": {\"color\": \"#EBF0F8\"}, \"line\": {\"color\": \"white\"}}, \"header\": {\"fill\": {\"color\": \"#C8D4E3\"}, \"line\": {\"color\": \"white\"}}, \"type\": \"table\"}]}, \"layout\": {\"annotationdefaults\": {\"arrowcolor\": \"#2a3f5f\", \"arrowhead\": 0, \"arrowwidth\": 1}, \"colorscale\": {\"diverging\": [[0, \"#8e0152\"], [0.1, \"#c51b7d\"], [0.2, \"#de77ae\"], [0.3, \"#f1b6da\"], [0.4, \"#fde0ef\"], [0.5, \"#f7f7f7\"], [0.6, \"#e6f5d0\"], [0.7, \"#b8e186\"], [0.8, \"#7fbc41\"], [0.9, \"#4d9221\"], [1, \"#276419\"]], \"sequential\": [[0.0, \"#0d0887\"], [0.1111111111111111, \"#46039f\"], [0.2222222222222222, \"#7201a8\"], [0.3333333333333333, \"#9c179e\"], [0.4444444444444444, \"#bd3786\"], [0.5555555555555556, \"#d8576b\"], [0.6666666666666666, \"#ed7953\"], [0.7777777777777778, \"#fb9f3a\"], [0.8888888888888888, \"#fdca26\"], [1.0, \"#f0f921\"]], \"sequentialminus\": [[0.0, \"#0d0887\"], [0.1111111111111111, \"#46039f\"], [0.2222222222222222, \"#7201a8\"], [0.3333333333333333, \"#9c179e\"], [0.4444444444444444, \"#bd3786\"], [0.5555555555555556, \"#d8576b\"], [0.6666666666666666, \"#ed7953\"], [0.7777777777777778, \"#fb9f3a\"], [0.8888888888888888, \"#fdca26\"], [1.0, \"#f0f921\"]]}, \"colorway\": [\"#636efa\", \"#EF553B\", \"#00cc96\", \"#ab63fa\", \"#FFA15A\", \"#19d3f3\", \"#FF6692\", \"#B6E880\", \"#FF97FF\", \"#FECB52\"], \"font\": {\"color\": \"#2a3f5f\"}, \"geo\": {\"bgcolor\": \"white\", \"lakecolor\": \"white\", \"landcolor\": \"#E5ECF6\", \"showlakes\": true, \"showland\": true, \"subunitcolor\": \"white\"}, \"hoverlabel\": {\"align\": \"left\"}, \"hovermode\": \"closest\", \"mapbox\": {\"style\": \"light\"}, \"paper_bgcolor\": \"white\", \"plot_bgcolor\": \"#E5ECF6\", \"polar\": {\"angularaxis\": {\"gridcolor\": \"white\", \"linecolor\": \"white\", \"ticks\": \"\"}, \"bgcolor\": \"#E5ECF6\", \"radialaxis\": {\"gridcolor\": \"white\", \"linecolor\": \"white\", \"ticks\": \"\"}}, \"scene\": {\"xaxis\": {\"backgroundcolor\": \"#E5ECF6\", \"gridcolor\": \"white\", \"gridwidth\": 2, \"linecolor\": \"white\", \"showbackground\": true, \"ticks\": \"\", \"zerolinecolor\": \"white\"}, \"yaxis\": {\"backgroundcolor\": \"#E5ECF6\", \"gridcolor\": \"white\", \"gridwidth\": 2, \"linecolor\": \"white\", \"showbackground\": true, \"ticks\": \"\", \"zerolinecolor\": \"white\"}, \"zaxis\": {\"backgroundcolor\": \"#E5ECF6\", \"gridcolor\": \"white\", \"gridwidth\": 2, \"linecolor\": \"white\", \"showbackground\": true, \"ticks\": \"\", \"zerolinecolor\": \"white\"}}, \"shapedefaults\": {\"line\": {\"color\": \"#2a3f5f\"}}, \"ternary\": {\"aaxis\": {\"gridcolor\": \"white\", \"linecolor\": \"white\", \"ticks\": \"\"}, \"baxis\": {\"gridcolor\": \"white\", \"linecolor\": \"white\", \"ticks\": \"\"}, \"bgcolor\": \"#E5ECF6\", \"caxis\": {\"gridcolor\": \"white\", \"linecolor\": \"white\", \"ticks\": \"\"}}, \"title\": {\"x\": 0.05}, \"xaxis\": {\"automargin\": true, \"gridcolor\": \"white\", \"linecolor\": \"white\", \"ticks\": \"\", \"zerolinecolor\": \"white\", \"zerolinewidth\": 2}, \"yaxis\": {\"automargin\": true, \"gridcolor\": \"white\", \"linecolor\": \"white\", \"ticks\": \"\", \"zerolinecolor\": \"white\", \"zerolinewidth\": 2}}}},\n",
       "                        {\"responsive\": true}\n",
       "                    ).then(function(){\n",
       "                            \n",
       "var gd = document.getElementById('c2b692d5-63cb-4d72-b974-9841db106d3d');\n",
       "var x = new MutationObserver(function (mutations, observer) {{\n",
       "        var display = window.getComputedStyle(gd).display;\n",
       "        if (!display || display === 'none') {{\n",
       "            console.log([gd, 'removed!']);\n",
       "            Plotly.purge(gd);\n",
       "            observer.disconnect();\n",
       "        }}\n",
       "}});\n",
       "\n",
       "// Listen for the removal of the full notebook cells\n",
       "var notebookContainer = gd.closest('#notebook-container');\n",
       "if (notebookContainer) {{\n",
       "    x.observe(notebookContainer, {childList: true});\n",
       "}}\n",
       "\n",
       "// Listen for the clearing of the current output cell\n",
       "var outputEl = gd.closest('.output');\n",
       "if (outputEl) {{\n",
       "    x.observe(outputEl, {childList: true});\n",
       "}}\n",
       "\n",
       "                        })\n",
       "                };\n",
       "                });\n",
       "            </script>\n",
       "        </div>"
      ]
     },
     "metadata": {},
     "output_type": "display_data"
    }
   ],
   "source": [
    "#plot the map\n",
    "iplot(map_actual_co)"
   ]
  },
  {
   "cell_type": "markdown",
   "metadata": {
    "colab": {},
    "colab_type": "code",
    "id": "H6_PXUN-AUlg"
   },
   "source": [
    "From the above map:\n",
    "\n",
    "1. The legend shows that there are states with highest of 50% loans charged off and the least percentage is 0.\n",
    "2. This map shows the Nebraska having highest number of Charged Off loans at 54% and Maine having 0% loans that are Charged Off. These states had the lowest and highest fully paid loans respectively. This shows Nebraska borrowers tend to charge off their loans and the lenders need to think before approving the loans.\n",
    "3. Majority of the other states have between 10-20% of the loans that are charged off. "
   ]
  },
  {
   "cell_type": "code",
   "execution_count": null,
   "metadata": {},
   "outputs": [],
   "source": []
  }
 ],
 "metadata": {
  "colab": {
   "collapsed_sections": [],
   "name": "Credit_lending_loan_EDA.ipynb",
   "provenance": []
  },
  "kernelspec": {
   "display_name": "Python 3",
   "language": "python",
   "name": "python3"
  },
  "language_info": {
   "codemirror_mode": {
    "name": "ipython",
    "version": 3
   },
   "file_extension": ".py",
   "mimetype": "text/x-python",
   "name": "python",
   "nbconvert_exporter": "python",
   "pygments_lexer": "ipython3",
   "version": "3.7.2"
  }
 },
 "nbformat": 4,
 "nbformat_minor": 1
}
